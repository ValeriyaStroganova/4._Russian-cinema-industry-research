{
 "cells": [
  {
   "cell_type": "markdown",
   "metadata": {
    "id": "sIfNaMOxgFyK"
   },
   "source": [
    "## Исследование данных о российском кинопрокате\n",
    "\n"
   ]
  },
  {
   "cell_type": "markdown",
   "metadata": {
    "id": "3bSlkCsbgFyL"
   },
   "source": [
    "### Шаг 1. Откройте файлы с данными и объедините их в один датафрейм. \n",
    "\n",
    "Объедините данные таким образом, чтобы все объекты из датасета `mkrf_movies` обязательно вошли в получившийся датафрейм. \n",
    "\n",
    "<div id=\"accordion\">\n",
    "    <div class=\"card\">\n",
    "        <div class=\"card-header\" id=\"headingThree\">\n",
    "            <button class=\"btn btn-link collapsed\" data-toggle=\"collapse\" data-target=\"#collapseHint_0\" aria-expanded=\"false\" aria-controls=\"collapseHint_0\">Подсказка</button>\n",
    "        </div>\n",
    "        <div id=\"collapseHint_0\" class=\"collapse\" aria-labelledby=\"headingThree\" data-parent=\"#accordion\">\n",
    "            <div class=\"card-body\">\n",
    "Обратите внимание на тип данных столбца, по которому будете соединять датафреймы. Тип данных этих столбцов должен быть одинаковым в обоих датафреймах.\n",
    "            </div>\n",
    "        </div>\n",
    "    </div>\n",
    "</div>"
   ]
  },
  {
   "cell_type": "markdown",
   "metadata": {},
   "source": [
    "**Импортируем библиотеки, необходимые для работы**"
   ]
  },
  {
   "cell_type": "code",
   "execution_count": 280,
   "metadata": {
    "id": "dw87FlzMgFyM"
   },
   "outputs": [],
   "source": [
    "import pandas as pd\n",
    "import matplotlib.pyplot as plt"
   ]
  },
  {
   "cell_type": "markdown",
   "metadata": {},
   "source": [
    "**Откроем файлы и сохраним в переменные mkrf_movies, mkrf_shows**"
   ]
  },
  {
   "cell_type": "code",
   "execution_count": 281,
   "metadata": {},
   "outputs": [],
   "source": [
    "mkrf_movies = pd.read_csv('/datasets/mkrf_movies.csv', sep = ',')"
   ]
  },
  {
   "cell_type": "code",
   "execution_count": 282,
   "metadata": {},
   "outputs": [],
   "source": [
    "mkrf_shows = pd.read_csv('/datasets/mkrf_shows.csv', sep = ',')"
   ]
  },
  {
   "cell_type": "markdown",
   "metadata": {},
   "source": [
    "**Общая информация и тип данных в датафрейме**"
   ]
  },
  {
   "cell_type": "code",
   "execution_count": 283,
   "metadata": {
    "scrolled": false
   },
   "outputs": [
    {
     "name": "stdout",
     "output_type": "stream",
     "text": [
      "<class 'pandas.core.frame.DataFrame'>\n",
      "RangeIndex: 7486 entries, 0 to 7485\n",
      "Data columns (total 15 columns):\n",
      " #   Column                 Non-Null Count  Dtype  \n",
      "---  ------                 --------------  -----  \n",
      " 0   title                  7486 non-null   object \n",
      " 1   puNumber               7486 non-null   object \n",
      " 2   show_start_date        7486 non-null   object \n",
      " 3   type                   7486 non-null   object \n",
      " 4   film_studio            7468 non-null   object \n",
      " 5   production_country     7484 non-null   object \n",
      " 6   director               7477 non-null   object \n",
      " 7   producer               6918 non-null   object \n",
      " 8   age_restriction        7486 non-null   object \n",
      " 9   refundable_support     332 non-null    float64\n",
      " 10  nonrefundable_support  332 non-null    float64\n",
      " 11  budget                 332 non-null    float64\n",
      " 12  financing_source       332 non-null    object \n",
      " 13  ratings                6519 non-null   object \n",
      " 14  genres                 6510 non-null   object \n",
      "dtypes: float64(3), object(12)\n",
      "memory usage: 877.4+ KB\n"
     ]
    }
   ],
   "source": [
    "mkrf_movies.info()"
   ]
  },
  {
   "cell_type": "code",
   "execution_count": 284,
   "metadata": {},
   "outputs": [
    {
     "name": "stdout",
     "output_type": "stream",
     "text": [
      "<class 'pandas.core.frame.DataFrame'>\n",
      "RangeIndex: 3158 entries, 0 to 3157\n",
      "Data columns (total 2 columns):\n",
      " #   Column      Non-Null Count  Dtype  \n",
      "---  ------      --------------  -----  \n",
      " 0   puNumber    3158 non-null   int64  \n",
      " 1   box_office  3158 non-null   float64\n",
      "dtypes: float64(1), int64(1)\n",
      "memory usage: 49.5 KB\n"
     ]
    }
   ],
   "source": [
    "mkrf_shows.info()"
   ]
  },
  {
   "cell_type": "markdown",
   "metadata": {},
   "source": [
    "**Вывод по методу.info():**<br>\n",
    "Предварительная проверка общей информации по двум датафреймам показывает, что по столбцу \"puNumber\" датафрейма \"mkrf_shows\", который будет использоваться для объединения датафреймов, различаются типы данных: в первом случае это object, во втором - int64. <br>\n"
   ]
  },
  {
   "cell_type": "markdown",
   "metadata": {},
   "source": [
    "**Изменим тип данных в первом датафрейме на int64.**"
   ]
  },
  {
   "cell_type": "code",
   "execution_count": 285,
   "metadata": {
    "scrolled": false
   },
   "outputs": [
    {
     "name": "stdout",
     "output_type": "stream",
     "text": [
      "Dtype change failed\n"
     ]
    }
   ],
   "source": [
    "try:\n",
    "    mkrf_movies['puNumber'] = mkrf_movies['puNumber'].astype('int')\n",
    "except:\n",
    "    print('Dtype change failed')"
   ]
  },
  {
   "cell_type": "markdown",
   "metadata": {},
   "source": [
    "Преобразование не удалось, т.к. в столбце есть данные, не соотвествующие необходимому типу. Найдем данные позиции в столбце."
   ]
  },
  {
   "cell_type": "code",
   "execution_count": 286,
   "metadata": {
    "scrolled": false
   },
   "outputs": [
    {
     "data": {
      "text/html": [
       "<div>\n",
       "<style scoped>\n",
       "    .dataframe tbody tr th:only-of-type {\n",
       "        vertical-align: middle;\n",
       "    }\n",
       "\n",
       "    .dataframe tbody tr th {\n",
       "        vertical-align: top;\n",
       "    }\n",
       "\n",
       "    .dataframe thead th {\n",
       "        text-align: right;\n",
       "    }\n",
       "</style>\n",
       "<table border=\"1\" class=\"dataframe\">\n",
       "  <thead>\n",
       "    <tr style=\"text-align: right;\">\n",
       "      <th></th>\n",
       "      <th>title</th>\n",
       "      <th>puNumber</th>\n",
       "      <th>show_start_date</th>\n",
       "      <th>type</th>\n",
       "      <th>film_studio</th>\n",
       "      <th>production_country</th>\n",
       "      <th>director</th>\n",
       "      <th>producer</th>\n",
       "      <th>age_restriction</th>\n",
       "      <th>refundable_support</th>\n",
       "      <th>nonrefundable_support</th>\n",
       "      <th>budget</th>\n",
       "      <th>financing_source</th>\n",
       "      <th>ratings</th>\n",
       "      <th>genres</th>\n",
       "    </tr>\n",
       "  </thead>\n",
       "  <tbody>\n",
       "    <tr>\n",
       "      <th>804</th>\n",
       "      <td>Паранормальный Якутск</td>\n",
       "      <td>111004112</td>\n",
       "      <td>2012-08-24T12:00:00.000Z</td>\n",
       "      <td>Художественный</td>\n",
       "      <td>ИП Тимофеев К.П.</td>\n",
       "      <td>Россия</td>\n",
       "      <td>К.Тимофеев</td>\n",
       "      <td>NaN</td>\n",
       "      <td>«16+» - для детей старше 16 лет</td>\n",
       "      <td>NaN</td>\n",
       "      <td>NaN</td>\n",
       "      <td>NaN</td>\n",
       "      <td>NaN</td>\n",
       "      <td>NaN</td>\n",
       "      <td>NaN</td>\n",
       "    </tr>\n",
       "    <tr>\n",
       "      <th>1797</th>\n",
       "      <td>Курбан-роман. (История с жертвой)</td>\n",
       "      <td>нет</td>\n",
       "      <td>2014-05-15T12:00:00.000Z</td>\n",
       "      <td>Художественный</td>\n",
       "      <td>ФОНД \"ИННОВАЦИЯ\"</td>\n",
       "      <td>Россия</td>\n",
       "      <td>С.Юзеев</td>\n",
       "      <td>М.Галицкая</td>\n",
       "      <td>«12+» - для детей старше 12 лет</td>\n",
       "      <td>NaN</td>\n",
       "      <td>NaN</td>\n",
       "      <td>NaN</td>\n",
       "      <td>NaN</td>\n",
       "      <td>NaN</td>\n",
       "      <td>NaN</td>\n",
       "    </tr>\n",
       "  </tbody>\n",
       "</table>\n",
       "</div>"
      ],
      "text/plain": [
       "                                  title    puNumber           show_start_date  \\\n",
       "804               Паранормальный Якутск   111004112  2012-08-24T12:00:00.000Z   \n",
       "1797  Курбан-роман. (История с жертвой)         нет  2014-05-15T12:00:00.000Z   \n",
       "\n",
       "                type       film_studio production_country    director  \\\n",
       "804   Художественный  ИП Тимофеев К.П.             Россия  К.Тимофеев   \n",
       "1797  Художественный  ФОНД \"ИННОВАЦИЯ\"             Россия     С.Юзеев   \n",
       "\n",
       "        producer                  age_restriction  refundable_support  \\\n",
       "804          NaN  «16+» - для детей старше 16 лет                 NaN   \n",
       "1797  М.Галицкая  «12+» - для детей старше 12 лет                 NaN   \n",
       "\n",
       "      nonrefundable_support  budget financing_source ratings genres  \n",
       "804                     NaN     NaN              NaN     NaN    NaN  \n",
       "1797                    NaN     NaN              NaN     NaN    NaN  "
      ]
     },
     "execution_count": 286,
     "metadata": {},
     "output_type": "execute_result"
    }
   ],
   "source": [
    "mkrf_movies[~mkrf_movies['puNumber'].str.isdigit()]"
   ]
  },
  {
   "cell_type": "markdown",
   "metadata": {},
   "source": [
    "Вероятно в строке 804 столбца puNumber допущены ненужные пробелы. Удалим их и заменим значение \"нет\" строки 1797 на \"0\"."
   ]
  },
  {
   "cell_type": "code",
   "execution_count": 287,
   "metadata": {},
   "outputs": [],
   "source": [
    "mkrf_movies.loc[804, 'puNumber'] = mkrf_movies.loc[804, 'puNumber'].strip()\n",
    "mkrf_movies.loc[1797, 'puNumber'] = '0'"
   ]
  },
  {
   "cell_type": "code",
   "execution_count": 288,
   "metadata": {
    "scrolled": false
   },
   "outputs": [],
   "source": [
    "try:\n",
    "    mkrf_movies['puNumber'] = mkrf_movies['puNumber'].astype('int')\n",
    "except:\n",
    "    print('Dtype change failed')"
   ]
  },
  {
   "cell_type": "markdown",
   "metadata": {},
   "source": [
    "**Вывод по смене типов данных:**<br>\n",
    "Смена типа данных в столбце puNumber прошла успешно. Можно объединить датафреймы в новый датафрейм mkrf_movies_final. <br>\n",
    "Слева должен отобразиться столбец box_office из датафрейма mkrf_shows."
   ]
  },
  {
   "cell_type": "markdown",
   "metadata": {},
   "source": [
    "**Объединим датафреймы**<br>"
   ]
  },
  {
   "cell_type": "code",
   "execution_count": 289,
   "metadata": {},
   "outputs": [],
   "source": [
    "mkrf_movies_final = mkrf_movies.merge(mkrf_shows, how='left')"
   ]
  },
  {
   "cell_type": "code",
   "execution_count": 290,
   "metadata": {
    "scrolled": true
   },
   "outputs": [
    {
     "name": "stdout",
     "output_type": "stream",
     "text": [
      "<class 'pandas.core.frame.DataFrame'>\n",
      "Int64Index: 7486 entries, 0 to 7485\n",
      "Data columns (total 16 columns):\n",
      " #   Column                 Non-Null Count  Dtype  \n",
      "---  ------                 --------------  -----  \n",
      " 0   title                  7486 non-null   object \n",
      " 1   puNumber               7486 non-null   int64  \n",
      " 2   show_start_date        7486 non-null   object \n",
      " 3   type                   7486 non-null   object \n",
      " 4   film_studio            7468 non-null   object \n",
      " 5   production_country     7484 non-null   object \n",
      " 6   director               7477 non-null   object \n",
      " 7   producer               6918 non-null   object \n",
      " 8   age_restriction        7486 non-null   object \n",
      " 9   refundable_support     332 non-null    float64\n",
      " 10  nonrefundable_support  332 non-null    float64\n",
      " 11  budget                 332 non-null    float64\n",
      " 12  financing_source       332 non-null    object \n",
      " 13  ratings                6519 non-null   object \n",
      " 14  genres                 6510 non-null   object \n",
      " 15  box_office             3158 non-null   float64\n",
      "dtypes: float64(4), int64(1), object(11)\n",
      "memory usage: 994.2+ KB\n"
     ]
    }
   ],
   "source": [
    "mkrf_movies_final.info()"
   ]
  },
  {
   "cell_type": "markdown",
   "metadata": {
    "id": "KLDGpPG0gFyM"
   },
   "source": [
    "### Шаг 2. Предобработка данных"
   ]
  },
  {
   "cell_type": "markdown",
   "metadata": {},
   "source": [
    "**Требуют исправления данные в следующих столбцах:** <br>\n",
    "* show_start_date - корректный тип данных datetime <br>\n",
    "* ratings - корректный тип данных float64"
   ]
  },
  {
   "cell_type": "markdown",
   "metadata": {
    "id": "ssWwKXsxgFyO"
   },
   "source": [
    "#### Шаг 2.1. Проверьте типы данных\n",
    "\n",
    "- Проверьте типы данных в датафрейме и преобразуйте их там, где это необходимо."
   ]
  },
  {
   "cell_type": "code",
   "execution_count": 291,
   "metadata": {
    "id": "kVGSplJOgFyO",
    "scrolled": true
   },
   "outputs": [
    {
     "data": {
      "text/html": [
       "<div>\n",
       "<style scoped>\n",
       "    .dataframe tbody tr th:only-of-type {\n",
       "        vertical-align: middle;\n",
       "    }\n",
       "\n",
       "    .dataframe tbody tr th {\n",
       "        vertical-align: top;\n",
       "    }\n",
       "\n",
       "    .dataframe thead th {\n",
       "        text-align: right;\n",
       "    }\n",
       "</style>\n",
       "<table border=\"1\" class=\"dataframe\">\n",
       "  <thead>\n",
       "    <tr style=\"text-align: right;\">\n",
       "      <th></th>\n",
       "      <th>title</th>\n",
       "      <th>puNumber</th>\n",
       "      <th>show_start_date</th>\n",
       "      <th>type</th>\n",
       "      <th>film_studio</th>\n",
       "      <th>production_country</th>\n",
       "      <th>director</th>\n",
       "      <th>producer</th>\n",
       "      <th>age_restriction</th>\n",
       "      <th>refundable_support</th>\n",
       "      <th>nonrefundable_support</th>\n",
       "      <th>budget</th>\n",
       "      <th>financing_source</th>\n",
       "      <th>ratings</th>\n",
       "      <th>genres</th>\n",
       "      <th>box_office</th>\n",
       "    </tr>\n",
       "  </thead>\n",
       "  <tbody>\n",
       "    <tr>\n",
       "      <th>0</th>\n",
       "      <td>Открытый простор</td>\n",
       "      <td>221048915</td>\n",
       "      <td>2015-11-27T12:00:00.000Z</td>\n",
       "      <td>Художественный</td>\n",
       "      <td>Тачстоун Пикчерз, Кобальт Пикчерз, Бикон Пикче...</td>\n",
       "      <td>США</td>\n",
       "      <td>Кевин Костнер</td>\n",
       "      <td>Дэвид Валдес, Кевин Костнер, Джейк Эбертс</td>\n",
       "      <td>«18+» - запрещено для детей</td>\n",
       "      <td>NaN</td>\n",
       "      <td>NaN</td>\n",
       "      <td>NaN</td>\n",
       "      <td>NaN</td>\n",
       "      <td>7.2</td>\n",
       "      <td>боевик,драма,мелодрама</td>\n",
       "      <td>NaN</td>\n",
       "    </tr>\n",
       "    <tr>\n",
       "      <th>1</th>\n",
       "      <td>Особо важное задание</td>\n",
       "      <td>111013716</td>\n",
       "      <td>2016-09-13T12:00:00.000Z</td>\n",
       "      <td>Художественный</td>\n",
       "      <td>Киностудия \"Мосфильм\"</td>\n",
       "      <td>СССР</td>\n",
       "      <td>Е.Матвеев</td>\n",
       "      <td>NaN</td>\n",
       "      <td>«6+» - для детей старше 6 лет</td>\n",
       "      <td>NaN</td>\n",
       "      <td>NaN</td>\n",
       "      <td>NaN</td>\n",
       "      <td>NaN</td>\n",
       "      <td>6.6</td>\n",
       "      <td>драма,военный</td>\n",
       "      <td>NaN</td>\n",
       "    </tr>\n",
       "    <tr>\n",
       "      <th>2</th>\n",
       "      <td>Особо опасен</td>\n",
       "      <td>221038416</td>\n",
       "      <td>2016-10-10T12:00:00.000Z</td>\n",
       "      <td>Художественный</td>\n",
       "      <td>Юниверсал Пикчерз, Кикстарт Продакшнз, Марк Пл...</td>\n",
       "      <td>США</td>\n",
       "      <td>Тимур Бекмамбетов</td>\n",
       "      <td>Джим Лемли, Джейсон Нетер, Марк Е.Платт, Яйн Смит</td>\n",
       "      <td>«18+» - запрещено для детей</td>\n",
       "      <td>NaN</td>\n",
       "      <td>NaN</td>\n",
       "      <td>NaN</td>\n",
       "      <td>NaN</td>\n",
       "      <td>6.8</td>\n",
       "      <td>фантастика,боевик,триллер</td>\n",
       "      <td>NaN</td>\n",
       "    </tr>\n",
       "    <tr>\n",
       "      <th>3</th>\n",
       "      <td>Особо опасен</td>\n",
       "      <td>221026916</td>\n",
       "      <td>2016-06-10T12:00:00.000Z</td>\n",
       "      <td>Художественный</td>\n",
       "      <td>Юниверсал Пикчерз, Кикстарт Продакшнз, Марк Пл...</td>\n",
       "      <td>США</td>\n",
       "      <td>Тимур Бекмамбетов</td>\n",
       "      <td>Джим Лемли, Джейсон Нетер, Марк Е.Платт, Яйн Смит</td>\n",
       "      <td>«18+» - запрещено для детей</td>\n",
       "      <td>NaN</td>\n",
       "      <td>NaN</td>\n",
       "      <td>NaN</td>\n",
       "      <td>NaN</td>\n",
       "      <td>6.8</td>\n",
       "      <td>фантастика,боевик,триллер</td>\n",
       "      <td>NaN</td>\n",
       "    </tr>\n",
       "    <tr>\n",
       "      <th>4</th>\n",
       "      <td>Особо опасен</td>\n",
       "      <td>221030815</td>\n",
       "      <td>2015-07-29T12:00:00.000Z</td>\n",
       "      <td>Художественный</td>\n",
       "      <td>Юниверсал Пикчерз, Кикстарт Продакшнз, Марк Пл...</td>\n",
       "      <td>США</td>\n",
       "      <td>Тимур Бекмамбетов</td>\n",
       "      <td>Джим Лемли, Джейсон Нетер, Марк Е.Платт, Яйн Смит</td>\n",
       "      <td>«18+» - запрещено для детей</td>\n",
       "      <td>NaN</td>\n",
       "      <td>NaN</td>\n",
       "      <td>NaN</td>\n",
       "      <td>NaN</td>\n",
       "      <td>6.8</td>\n",
       "      <td>фантастика,боевик,триллер</td>\n",
       "      <td>NaN</td>\n",
       "    </tr>\n",
       "  </tbody>\n",
       "</table>\n",
       "</div>"
      ],
      "text/plain": [
       "                  title   puNumber           show_start_date            type  \\\n",
       "0      Открытый простор  221048915  2015-11-27T12:00:00.000Z  Художественный   \n",
       "1  Особо важное задание  111013716  2016-09-13T12:00:00.000Z  Художественный   \n",
       "2          Особо опасен  221038416  2016-10-10T12:00:00.000Z  Художественный   \n",
       "3          Особо опасен  221026916  2016-06-10T12:00:00.000Z  Художественный   \n",
       "4          Особо опасен  221030815  2015-07-29T12:00:00.000Z  Художественный   \n",
       "\n",
       "                                         film_studio production_country  \\\n",
       "0  Тачстоун Пикчерз, Кобальт Пикчерз, Бикон Пикче...                США   \n",
       "1                              Киностудия \"Мосфильм\"               СССР   \n",
       "2  Юниверсал Пикчерз, Кикстарт Продакшнз, Марк Пл...                США   \n",
       "3  Юниверсал Пикчерз, Кикстарт Продакшнз, Марк Пл...                США   \n",
       "4  Юниверсал Пикчерз, Кикстарт Продакшнз, Марк Пл...                США   \n",
       "\n",
       "            director                                           producer  \\\n",
       "0      Кевин Костнер          Дэвид Валдес, Кевин Костнер, Джейк Эбертс   \n",
       "1          Е.Матвеев                                                NaN   \n",
       "2  Тимур Бекмамбетов  Джим Лемли, Джейсон Нетер, Марк Е.Платт, Яйн Смит   \n",
       "3  Тимур Бекмамбетов  Джим Лемли, Джейсон Нетер, Марк Е.Платт, Яйн Смит   \n",
       "4  Тимур Бекмамбетов  Джим Лемли, Джейсон Нетер, Марк Е.Платт, Яйн Смит   \n",
       "\n",
       "                 age_restriction  refundable_support  nonrefundable_support  \\\n",
       "0    «18+» - запрещено для детей                 NaN                    NaN   \n",
       "1  «6+» - для детей старше 6 лет                 NaN                    NaN   \n",
       "2    «18+» - запрещено для детей                 NaN                    NaN   \n",
       "3    «18+» - запрещено для детей                 NaN                    NaN   \n",
       "4    «18+» - запрещено для детей                 NaN                    NaN   \n",
       "\n",
       "   budget financing_source ratings                     genres  box_office  \n",
       "0     NaN              NaN     7.2     боевик,драма,мелодрама         NaN  \n",
       "1     NaN              NaN     6.6              драма,военный         NaN  \n",
       "2     NaN              NaN     6.8  фантастика,боевик,триллер         NaN  \n",
       "3     NaN              NaN     6.8  фантастика,боевик,триллер         NaN  \n",
       "4     NaN              NaN     6.8  фантастика,боевик,триллер         NaN  "
      ]
     },
     "execution_count": 291,
     "metadata": {},
     "output_type": "execute_result"
    }
   ],
   "source": [
    "mkrf_movies_final.head()"
   ]
  },
  {
   "cell_type": "markdown",
   "metadata": {},
   "source": [
    "**Исправим типы данных в необходимых стобцах:**"
   ]
  },
  {
   "cell_type": "code",
   "execution_count": 292,
   "metadata": {},
   "outputs": [],
   "source": [
    "mkrf_movies_final['show_start_date'] = pd.to_datetime(mkrf_movies_final['show_start_date'],\n",
    "                                                      format='%Y-%m-%dT%H:%M:%S')"
   ]
  },
  {
   "cell_type": "code",
   "execution_count": 293,
   "metadata": {
    "scrolled": true
   },
   "outputs": [
    {
     "data": {
      "text/html": [
       "<div>\n",
       "<style scoped>\n",
       "    .dataframe tbody tr th:only-of-type {\n",
       "        vertical-align: middle;\n",
       "    }\n",
       "\n",
       "    .dataframe tbody tr th {\n",
       "        vertical-align: top;\n",
       "    }\n",
       "\n",
       "    .dataframe thead th {\n",
       "        text-align: right;\n",
       "    }\n",
       "</style>\n",
       "<table border=\"1\" class=\"dataframe\">\n",
       "  <thead>\n",
       "    <tr style=\"text-align: right;\">\n",
       "      <th></th>\n",
       "      <th>title</th>\n",
       "      <th>puNumber</th>\n",
       "      <th>show_start_date</th>\n",
       "      <th>type</th>\n",
       "      <th>film_studio</th>\n",
       "      <th>production_country</th>\n",
       "      <th>director</th>\n",
       "      <th>producer</th>\n",
       "      <th>age_restriction</th>\n",
       "      <th>refundable_support</th>\n",
       "      <th>nonrefundable_support</th>\n",
       "      <th>budget</th>\n",
       "      <th>financing_source</th>\n",
       "      <th>ratings</th>\n",
       "      <th>genres</th>\n",
       "      <th>box_office</th>\n",
       "    </tr>\n",
       "  </thead>\n",
       "  <tbody>\n",
       "    <tr>\n",
       "      <th>0</th>\n",
       "      <td>Открытый простор</td>\n",
       "      <td>221048915</td>\n",
       "      <td>2015-11-27 12:00:00+00:00</td>\n",
       "      <td>Художественный</td>\n",
       "      <td>Тачстоун Пикчерз, Кобальт Пикчерз, Бикон Пикче...</td>\n",
       "      <td>США</td>\n",
       "      <td>Кевин Костнер</td>\n",
       "      <td>Дэвид Валдес, Кевин Костнер, Джейк Эбертс</td>\n",
       "      <td>«18+» - запрещено для детей</td>\n",
       "      <td>NaN</td>\n",
       "      <td>NaN</td>\n",
       "      <td>NaN</td>\n",
       "      <td>NaN</td>\n",
       "      <td>7.2</td>\n",
       "      <td>боевик,драма,мелодрама</td>\n",
       "      <td>NaN</td>\n",
       "    </tr>\n",
       "    <tr>\n",
       "      <th>1</th>\n",
       "      <td>Особо важное задание</td>\n",
       "      <td>111013716</td>\n",
       "      <td>2016-09-13 12:00:00+00:00</td>\n",
       "      <td>Художественный</td>\n",
       "      <td>Киностудия \"Мосфильм\"</td>\n",
       "      <td>СССР</td>\n",
       "      <td>Е.Матвеев</td>\n",
       "      <td>NaN</td>\n",
       "      <td>«6+» - для детей старше 6 лет</td>\n",
       "      <td>NaN</td>\n",
       "      <td>NaN</td>\n",
       "      <td>NaN</td>\n",
       "      <td>NaN</td>\n",
       "      <td>6.6</td>\n",
       "      <td>драма,военный</td>\n",
       "      <td>NaN</td>\n",
       "    </tr>\n",
       "    <tr>\n",
       "      <th>2</th>\n",
       "      <td>Особо опасен</td>\n",
       "      <td>221038416</td>\n",
       "      <td>2016-10-10 12:00:00+00:00</td>\n",
       "      <td>Художественный</td>\n",
       "      <td>Юниверсал Пикчерз, Кикстарт Продакшнз, Марк Пл...</td>\n",
       "      <td>США</td>\n",
       "      <td>Тимур Бекмамбетов</td>\n",
       "      <td>Джим Лемли, Джейсон Нетер, Марк Е.Платт, Яйн Смит</td>\n",
       "      <td>«18+» - запрещено для детей</td>\n",
       "      <td>NaN</td>\n",
       "      <td>NaN</td>\n",
       "      <td>NaN</td>\n",
       "      <td>NaN</td>\n",
       "      <td>6.8</td>\n",
       "      <td>фантастика,боевик,триллер</td>\n",
       "      <td>NaN</td>\n",
       "    </tr>\n",
       "  </tbody>\n",
       "</table>\n",
       "</div>"
      ],
      "text/plain": [
       "                  title   puNumber           show_start_date            type  \\\n",
       "0      Открытый простор  221048915 2015-11-27 12:00:00+00:00  Художественный   \n",
       "1  Особо важное задание  111013716 2016-09-13 12:00:00+00:00  Художественный   \n",
       "2          Особо опасен  221038416 2016-10-10 12:00:00+00:00  Художественный   \n",
       "\n",
       "                                         film_studio production_country  \\\n",
       "0  Тачстоун Пикчерз, Кобальт Пикчерз, Бикон Пикче...                США   \n",
       "1                              Киностудия \"Мосфильм\"               СССР   \n",
       "2  Юниверсал Пикчерз, Кикстарт Продакшнз, Марк Пл...                США   \n",
       "\n",
       "            director                                           producer  \\\n",
       "0      Кевин Костнер          Дэвид Валдес, Кевин Костнер, Джейк Эбертс   \n",
       "1          Е.Матвеев                                                NaN   \n",
       "2  Тимур Бекмамбетов  Джим Лемли, Джейсон Нетер, Марк Е.Платт, Яйн Смит   \n",
       "\n",
       "                 age_restriction  refundable_support  nonrefundable_support  \\\n",
       "0    «18+» - запрещено для детей                 NaN                    NaN   \n",
       "1  «6+» - для детей старше 6 лет                 NaN                    NaN   \n",
       "2    «18+» - запрещено для детей                 NaN                    NaN   \n",
       "\n",
       "   budget financing_source ratings                     genres  box_office  \n",
       "0     NaN              NaN     7.2     боевик,драма,мелодрама         NaN  \n",
       "1     NaN              NaN     6.6              драма,военный         NaN  \n",
       "2     NaN              NaN     6.8  фантастика,боевик,триллер         NaN  "
      ]
     },
     "execution_count": 293,
     "metadata": {},
     "output_type": "execute_result"
    }
   ],
   "source": [
    "mkrf_movies_final.head(3)"
   ]
  },
  {
   "cell_type": "markdown",
   "metadata": {},
   "source": [
    "**Изучим содержание столбца ratings**"
   ]
  },
  {
   "cell_type": "code",
   "execution_count": 294,
   "metadata": {
    "scrolled": true
   },
   "outputs": [
    {
     "data": {
      "text/plain": [
       "array(['7.2', '6.6', '6.8', '7.7', '8.3', '8.0', '7.8', '8.1', '7.1',\n",
       "       '6.0', '7.4', '5.8', '8.7', '6.3', '6.9', '5.0', '4.3', '7.3',\n",
       "       '7.0', '6.4', nan, '8.2', '7.5', '6.7', '7.9', '5.9', '6.2', '5.6',\n",
       "       '6.5', '2.4', '7.6', '6.1', '8.6', '8.5', '8.8', '5.5', '5.1',\n",
       "       '5.7', '5.4', '99%', '4.4', '4.5', '5.3', '4.1', '8.4', '2.6',\n",
       "       '3.8', '4.6', '4.8', '4.0', '3.0', '1.6', '4.2', '5.2', '4.7',\n",
       "       '4.9', '3.9', '2.7', '3.3', '2.9', '28%', '3.7', '1.4', '3.1',\n",
       "       '97%', '3.5', '3.2', '2.8', '1.5', '2.1', '2.5', '9.2', '3.4',\n",
       "       '1.1', '3.6', '83%', '64%', '91%', '94%', '62%', '79%', '90%',\n",
       "       '19%', '88%', '1.0', '89%', '1.3', '1.9', '1.8', '1.2', '1.7',\n",
       "       '9.0', '98%', '8.9', '9.1'], dtype=object)"
      ]
     },
     "execution_count": 294,
     "metadata": {},
     "output_type": "execute_result"
    }
   ],
   "source": [
    "mkrf_movies_final['ratings'].unique()"
   ]
  },
  {
   "cell_type": "markdown",
   "metadata": {},
   "source": [
    "Некоторые значения рейтинга записаны как %. Исходя из того, что рейтинг в основном оценивается по 10ти бальной шкале, разделим данные значения на 10 и изменим тип данных на float."
   ]
  },
  {
   "cell_type": "code",
   "execution_count": 295,
   "metadata": {},
   "outputs": [],
   "source": [
    "mkrf_movies_final['ratings'] = mkrf_movies_final['ratings'].str.replace('%', '').astype('float')"
   ]
  },
  {
   "cell_type": "code",
   "execution_count": 296,
   "metadata": {
    "scrolled": true
   },
   "outputs": [],
   "source": [
    "mkrf_movies_final.loc[mkrf_movies_final['ratings'] > 10, 'ratings'] = mkrf_movies_final.loc[mkrf_movies_final['ratings']\n",
    "                                                                                            > 10, 'ratings'] / 10"
   ]
  },
  {
   "cell_type": "code",
   "execution_count": 297,
   "metadata": {
    "scrolled": true
   },
   "outputs": [
    {
     "data": {
      "text/plain": [
       "array([7.2, 6.6, 6.8, 7.7, 8.3, 8. , 7.8, 8.1, 7.1, 6. , 7.4, 5.8, 8.7,\n",
       "       6.3, 6.9, 5. , 4.3, 7.3, 7. , 6.4, nan, 8.2, 7.5, 6.7, 7.9, 5.9,\n",
       "       6.2, 5.6, 6.5, 2.4, 7.6, 6.1, 8.6, 8.5, 8.8, 5.5, 5.1, 5.7, 5.4,\n",
       "       9.9, 4.4, 4.5, 5.3, 4.1, 8.4, 2.6, 3.8, 4.6, 4.8, 4. , 3. , 1.6,\n",
       "       4.2, 5.2, 4.7, 4.9, 3.9, 2.7, 3.3, 2.9, 2.8, 3.7, 1.4, 3.1, 9.7,\n",
       "       3.5, 3.2, 1.5, 2.1, 2.5, 9.2, 3.4, 1.1, 3.6, 9.1, 9.4, 9. , 1.9,\n",
       "       1. , 8.9, 1.3, 1.8, 1.2, 1.7, 9.8])"
      ]
     },
     "execution_count": 297,
     "metadata": {},
     "output_type": "execute_result"
    }
   ],
   "source": [
    "mkrf_movies_final['ratings'].unique()"
   ]
  },
  {
   "cell_type": "markdown",
   "metadata": {
    "id": "i0MOLbF-gFyP"
   },
   "source": [
    "#### Шаг 2.2. Изучите пропуски в датафрейме\n",
    "\n",
    "- Объясните, почему заполнили пропуски определённым образом или почему не стали этого делать."
   ]
  },
  {
   "cell_type": "markdown",
   "metadata": {},
   "source": [
    "**Выведем количество пропусков по столбцам**"
   ]
  },
  {
   "cell_type": "code",
   "execution_count": 298,
   "metadata": {
    "id": "8MJD_lkngFyP",
    "scrolled": false
   },
   "outputs": [
    {
     "data": {
      "text/plain": [
       "title                       0\n",
       "puNumber                    0\n",
       "show_start_date             0\n",
       "type                        0\n",
       "film_studio                18\n",
       "production_country          2\n",
       "director                    9\n",
       "producer                  568\n",
       "age_restriction             0\n",
       "refundable_support       7154\n",
       "nonrefundable_support    7154\n",
       "budget                   7154\n",
       "financing_source         7154\n",
       "ratings                   967\n",
       "genres                    976\n",
       "box_office               4328\n",
       "dtype: int64"
      ]
     },
     "execution_count": 298,
     "metadata": {},
     "output_type": "execute_result"
    }
   ],
   "source": [
    "mkrf_movies_final.isna().sum()"
   ]
  },
  {
   "cell_type": "markdown",
   "metadata": {},
   "source": [
    "**Выведем процент пропусков**"
   ]
  },
  {
   "cell_type": "code",
   "execution_count": 299,
   "metadata": {
    "scrolled": false
   },
   "outputs": [
    {
     "data": {
      "text/html": [
       "<style  type=\"text/css\" >\n",
       "#T_31d36_row0_col0,#T_31d36_row1_col0,#T_31d36_row2_col0,#T_31d36_row3_col0,#T_31d36_row4_col0,#T_31d36_row5_col0,#T_31d36_row6_col0,#T_31d36_row8_col0{\n",
       "            background-color:  #3b4cc0;\n",
       "            color:  #f1f1f1;\n",
       "        }#T_31d36_row7_col0{\n",
       "            background-color:  #536edd;\n",
       "            color:  #000000;\n",
       "        }#T_31d36_row9_col0,#T_31d36_row10_col0,#T_31d36_row11_col0,#T_31d36_row12_col0{\n",
       "            background-color:  #b40426;\n",
       "            color:  #f1f1f1;\n",
       "        }#T_31d36_row13_col0,#T_31d36_row14_col0{\n",
       "            background-color:  #6485ec;\n",
       "            color:  #000000;\n",
       "        }#T_31d36_row15_col0{\n",
       "            background-color:  #f2cab5;\n",
       "            color:  #000000;\n",
       "        }</style><table id=\"T_31d36_\" ><thead>    <tr>        <th class=\"blank level0\" ></th>        <th class=\"col_heading level0 col0\" >0</th>    </tr></thead><tbody>\n",
       "                <tr>\n",
       "                        <th id=\"T_31d36_level0_row0\" class=\"row_heading level0 row0\" >title</th>\n",
       "                        <td id=\"T_31d36_row0_col0\" class=\"data row0 col0\" >0.000000</td>\n",
       "            </tr>\n",
       "            <tr>\n",
       "                        <th id=\"T_31d36_level0_row1\" class=\"row_heading level0 row1\" >puNumber</th>\n",
       "                        <td id=\"T_31d36_row1_col0\" class=\"data row1 col0\" >0.000000</td>\n",
       "            </tr>\n",
       "            <tr>\n",
       "                        <th id=\"T_31d36_level0_row2\" class=\"row_heading level0 row2\" >show_start_date</th>\n",
       "                        <td id=\"T_31d36_row2_col0\" class=\"data row2 col0\" >0.000000</td>\n",
       "            </tr>\n",
       "            <tr>\n",
       "                        <th id=\"T_31d36_level0_row3\" class=\"row_heading level0 row3\" >type</th>\n",
       "                        <td id=\"T_31d36_row3_col0\" class=\"data row3 col0\" >0.000000</td>\n",
       "            </tr>\n",
       "            <tr>\n",
       "                        <th id=\"T_31d36_level0_row4\" class=\"row_heading level0 row4\" >film_studio</th>\n",
       "                        <td id=\"T_31d36_row4_col0\" class=\"data row4 col0\" >0.200000</td>\n",
       "            </tr>\n",
       "            <tr>\n",
       "                        <th id=\"T_31d36_level0_row5\" class=\"row_heading level0 row5\" >production_country</th>\n",
       "                        <td id=\"T_31d36_row5_col0\" class=\"data row5 col0\" >0.000000</td>\n",
       "            </tr>\n",
       "            <tr>\n",
       "                        <th id=\"T_31d36_level0_row6\" class=\"row_heading level0 row6\" >director</th>\n",
       "                        <td id=\"T_31d36_row6_col0\" class=\"data row6 col0\" >0.100000</td>\n",
       "            </tr>\n",
       "            <tr>\n",
       "                        <th id=\"T_31d36_level0_row7\" class=\"row_heading level0 row7\" >producer</th>\n",
       "                        <td id=\"T_31d36_row7_col0\" class=\"data row7 col0\" >7.600000</td>\n",
       "            </tr>\n",
       "            <tr>\n",
       "                        <th id=\"T_31d36_level0_row8\" class=\"row_heading level0 row8\" >age_restriction</th>\n",
       "                        <td id=\"T_31d36_row8_col0\" class=\"data row8 col0\" >0.000000</td>\n",
       "            </tr>\n",
       "            <tr>\n",
       "                        <th id=\"T_31d36_level0_row9\" class=\"row_heading level0 row9\" >refundable_support</th>\n",
       "                        <td id=\"T_31d36_row9_col0\" class=\"data row9 col0\" >95.600000</td>\n",
       "            </tr>\n",
       "            <tr>\n",
       "                        <th id=\"T_31d36_level0_row10\" class=\"row_heading level0 row10\" >nonrefundable_support</th>\n",
       "                        <td id=\"T_31d36_row10_col0\" class=\"data row10 col0\" >95.600000</td>\n",
       "            </tr>\n",
       "            <tr>\n",
       "                        <th id=\"T_31d36_level0_row11\" class=\"row_heading level0 row11\" >budget</th>\n",
       "                        <td id=\"T_31d36_row11_col0\" class=\"data row11 col0\" >95.600000</td>\n",
       "            </tr>\n",
       "            <tr>\n",
       "                        <th id=\"T_31d36_level0_row12\" class=\"row_heading level0 row12\" >financing_source</th>\n",
       "                        <td id=\"T_31d36_row12_col0\" class=\"data row12 col0\" >95.600000</td>\n",
       "            </tr>\n",
       "            <tr>\n",
       "                        <th id=\"T_31d36_level0_row13\" class=\"row_heading level0 row13\" >ratings</th>\n",
       "                        <td id=\"T_31d36_row13_col0\" class=\"data row13 col0\" >12.900000</td>\n",
       "            </tr>\n",
       "            <tr>\n",
       "                        <th id=\"T_31d36_level0_row14\" class=\"row_heading level0 row14\" >genres</th>\n",
       "                        <td id=\"T_31d36_row14_col0\" class=\"data row14 col0\" >13.000000</td>\n",
       "            </tr>\n",
       "            <tr>\n",
       "                        <th id=\"T_31d36_level0_row15\" class=\"row_heading level0 row15\" >box_office</th>\n",
       "                        <td id=\"T_31d36_row15_col0\" class=\"data row15 col0\" >57.800000</td>\n",
       "            </tr>\n",
       "    </tbody></table>"
      ],
      "text/plain": [
       "<pandas.io.formats.style.Styler at 0x7fa1a85b8910>"
      ]
     },
     "execution_count": 299,
     "metadata": {},
     "output_type": "execute_result"
    }
   ],
   "source": [
    "pd.DataFrame(round(mkrf_movies_final.isna().mean()*100,1)).style.background_gradient('coolwarm')"
   ]
  },
  {
   "cell_type": "markdown",
   "metadata": {},
   "source": [
    "Вывод:  \n",
    "96% всех пропусков приходится на фильмы с государственной поддержкой, также наблюдается 58% пропусков по данным о размерах сборов по фильму. <br>\n",
    "Учитывая объем пропусков, их удаление строк с данными пропусками может исказить результаты анализа."
   ]
  },
  {
   "cell_type": "markdown",
   "metadata": {},
   "source": [
    "**Для изучения текущих трендов заполним пропуски genres, financing_source.**"
   ]
  },
  {
   "cell_type": "code",
   "execution_count": 300,
   "metadata": {},
   "outputs": [
    {
     "data": {
      "text/plain": [
       "драма                        476\n",
       "комедия                      352\n",
       "мелодрама,комедия            222\n",
       "драма,мелодрама,комедия      189\n",
       "драма,мелодрама              183\n",
       "                            ... \n",
       "детектив,криминал,боевик       1\n",
       "детектив,боевик,история        1\n",
       "ужасы,фэнтези,приключения      1\n",
       "драма,семейный,комедия         1\n",
       "мелодрама,драма,фэнтези        1\n",
       "Name: genres, Length: 742, dtype: int64"
      ]
     },
     "execution_count": 300,
     "metadata": {},
     "output_type": "execute_result"
    }
   ],
   "source": [
    "mkrf_movies_final['genres'].value_counts()"
   ]
  },
  {
   "cell_type": "code",
   "execution_count": 301,
   "metadata": {},
   "outputs": [],
   "source": [
    "mkrf_movies_final['genres'] = mkrf_movies_final['genres'].fillna(value='')"
   ]
  },
  {
   "cell_type": "code",
   "execution_count": 302,
   "metadata": {},
   "outputs": [],
   "source": [
    "#mkrf_movies_final['ratings'] = mkrf_movies_final['ratings'].fillna(mkrf_movies_final['ratings'].median())"
   ]
  },
  {
   "cell_type": "code",
   "execution_count": 303,
   "metadata": {},
   "outputs": [],
   "source": [
    "mkrf_movies_final['financing_source'] = mkrf_movies_final['financing_source'].fillna(value='')"
   ]
  },
  {
   "cell_type": "code",
   "execution_count": 304,
   "metadata": {},
   "outputs": [
    {
     "data": {
      "text/plain": [
       "title                       0\n",
       "puNumber                    0\n",
       "show_start_date             0\n",
       "type                        0\n",
       "film_studio                18\n",
       "production_country          2\n",
       "director                    9\n",
       "producer                  568\n",
       "age_restriction             0\n",
       "refundable_support       7154\n",
       "nonrefundable_support    7154\n",
       "budget                   7154\n",
       "financing_source            0\n",
       "ratings                   967\n",
       "genres                      0\n",
       "box_office               4328\n",
       "dtype: int64"
      ]
     },
     "execution_count": 304,
     "metadata": {},
     "output_type": "execute_result"
    }
   ],
   "source": [
    "mkrf_movies_final.isna().sum()"
   ]
  },
  {
   "cell_type": "markdown",
   "metadata": {
    "id": "4c6k1t9ygFyQ"
   },
   "source": [
    "#### Шаг 2.3. Изучите дубликаты в датафрейме\n",
    "- Проверьте, есть ли в данных дубликаты. Опишите причины, которые могли повлиять на появление дублей."
   ]
  },
  {
   "cell_type": "code",
   "execution_count": 305,
   "metadata": {
    "id": "aKck8RIdgFyQ",
    "scrolled": true
   },
   "outputs": [
    {
     "data": {
      "text/html": [
       "<div>\n",
       "<style scoped>\n",
       "    .dataframe tbody tr th:only-of-type {\n",
       "        vertical-align: middle;\n",
       "    }\n",
       "\n",
       "    .dataframe tbody tr th {\n",
       "        vertical-align: top;\n",
       "    }\n",
       "\n",
       "    .dataframe thead th {\n",
       "        text-align: right;\n",
       "    }\n",
       "</style>\n",
       "<table border=\"1\" class=\"dataframe\">\n",
       "  <thead>\n",
       "    <tr style=\"text-align: right;\">\n",
       "      <th></th>\n",
       "      <th>title</th>\n",
       "      <th>puNumber</th>\n",
       "      <th>show_start_date</th>\n",
       "      <th>type</th>\n",
       "      <th>film_studio</th>\n",
       "      <th>production_country</th>\n",
       "      <th>director</th>\n",
       "      <th>producer</th>\n",
       "      <th>age_restriction</th>\n",
       "      <th>refundable_support</th>\n",
       "      <th>nonrefundable_support</th>\n",
       "      <th>budget</th>\n",
       "      <th>financing_source</th>\n",
       "      <th>ratings</th>\n",
       "      <th>genres</th>\n",
       "      <th>box_office</th>\n",
       "    </tr>\n",
       "  </thead>\n",
       "  <tbody>\n",
       "  </tbody>\n",
       "</table>\n",
       "</div>"
      ],
      "text/plain": [
       "Empty DataFrame\n",
       "Columns: [title, puNumber, show_start_date, type, film_studio, production_country, director, producer, age_restriction, refundable_support, nonrefundable_support, budget, financing_source, ratings, genres, box_office]\n",
       "Index: []"
      ]
     },
     "execution_count": 305,
     "metadata": {},
     "output_type": "execute_result"
    }
   ],
   "source": [
    "duplicate_Rows = mkrf_movies_final[mkrf_movies_final.duplicated()]\n",
    "duplicate_Rows"
   ]
  },
  {
   "cell_type": "markdown",
   "metadata": {},
   "source": [
    "Явных дубликатов не обнаружено."
   ]
  },
  {
   "cell_type": "code",
   "execution_count": 306,
   "metadata": {
    "scrolled": true
   },
   "outputs": [
    {
     "data": {
      "text/plain": [
       "title                    6772\n",
       "puNumber                 7484\n",
       "show_start_date          1965\n",
       "type                        8\n",
       "film_studio              5490\n",
       "production_country        950\n",
       "director                 4811\n",
       "producer                 5349\n",
       "age_restriction             5\n",
       "refundable_support         34\n",
       "nonrefundable_support      75\n",
       "budget                    290\n",
       "financing_source            4\n",
       "ratings                    84\n",
       "genres                    743\n",
       "box_office               2938\n",
       "dtype: int64"
      ]
     },
     "execution_count": 306,
     "metadata": {},
     "output_type": "execute_result"
    }
   ],
   "source": [
    "mkrf_movies_final.nunique()"
   ]
  },
  {
   "cell_type": "markdown",
   "metadata": {},
   "source": [
    "По условию, у одного фильма может быть несколько прокатных удостоверений, соответственно дубликаты в столбцах title и puNumber не являются аномальными, как и в остальных столбцах. Оставим данные без изменений."
   ]
  },
  {
   "cell_type": "markdown",
   "metadata": {
    "id": "52fOPrEBgFyQ"
   },
   "source": [
    "#### Шаг 2.4. Изучите категориальные значения\n",
    "\n",
    "- Посмотрите, какая общая проблема встречается почти во всех категориальных столбцах;\n",
    "- Исправьте проблемные значения в поле `type`.\n",
    "\n",
    "<div id=\"accordion\">\n",
    "    <div class=\"card\">\n",
    "        <div class=\"card-header\" id=\"headingThree\">\n",
    "            <button class=\"btn btn-link collapsed\" data-toggle=\"collapse\" data-target=\"#collapseHint_1\" aria-expanded=\"false\" aria-controls=\"collapseHint_1\">Подсказка</button>\n",
    "        </div>\n",
    "        <div id=\"collapseHint_1\" class=\"collapse\" aria-labelledby=\"headingThree\" data-parent=\"#accordion\">\n",
    "            <div class=\"card-body\">\n",
    "В поле <code>type</code> есть несколько значений, у которых появился пробел в начале строки. Самый простой способ их «починить» -- использовать метод <a href=\"https://pandas.pydata.org/docs/reference/api/pandas.Series.str.strip.html#pandas.Series.str.strip\">.str.strip</a>. Этот метод удаляет все пробелы, которые встречаются в начале и в конце строки. Применяют его таким образом:<br>\n",
    "<code>df['type'].str.strip()</code>\n",
    "            </div>\n",
    "        </div>\n",
    "    </div>\n",
    "</div>"
   ]
  },
  {
   "cell_type": "code",
   "execution_count": 307,
   "metadata": {
    "id": "PnXKIVdFgFyR",
    "scrolled": true
   },
   "outputs": [
    {
     "name": "stdout",
     "output_type": "stream",
     "text": [
      "Столбец type\n",
      "['Художественный' 'Анимационный' 'Прочие' 'Документальный'\n",
      " 'Научно-популярный' ' Художественный' ' Анимационный'\n",
      " 'Музыкально-развлекательный']\n",
      "Столбец production_country\n",
      "['США' 'СССР' 'Франция' 'СССР, Венгрия' 'Германия-Великобритания'\n",
      " 'Великобритания - Италия' 'Чехословакия' 'США - Франция - Турция'\n",
      " 'Новая Зеландия' 'Канада - Франция - Испания' 'США-Германия'\n",
      " 'США - Великобритания' 'Великобритания' 'США - Германия'\n",
      " 'Франция - Мексика - США' 'Россия, Казахстан, США' 'СССР, Швеция'\n",
      " 'СССР, Франция, Англия, Куба, ГДР' 'Германия'\n",
      " 'Великобритания-США-Германия-КНР' 'СССР, ЧССР, Западный Берлин, ПНР'\n",
      " 'СССР, Италия' 'Гонконг, КНР' 'США - Франция'\n",
      " 'США - Япония - Франция - Великобритания'\n",
      " 'Гонконг - Сингапур - Таиланд - Великобритания' 'США-Канада'\n",
      " 'Франция - Италия - Великобритания - США' 'Франция - США'\n",
      " 'Ирландия-Великобритания-Германия' 'Чехия' 'США-Австралия'\n",
      " 'СССР, Финляндия' 'США-Франция-Великобритания-Австрия' 'США - Бельгия'\n",
      " 'США - Ирландия - Великобритания' 'Великобритания - США'\n",
      " 'Люксембург - Нидерланды - Испания - Великобритания - США - Италия'\n",
      " 'Великобритания - Франция - США' 'Новая Зеландия - США'\n",
      " 'США - Великобритания - Чехия' 'Канада - Франция - Великобритания'\n",
      " 'Ирландия' 'Великобритания - Германия - США'\n",
      " 'США - Франция - Великобритания' 'Япония' 'СССР, Польша'\n",
      " 'Франция - Испания' 'Канада-Франция' 'Германия - Италия - США'\n",
      " 'Аргентина - Бразилия' 'Дания - Швейцария - Бельгия - Франция'\n",
      " 'США - Испания' 'Германия - США'\n",
      " 'Франция - Австрия - Германия - Италия - США' 'Австрия'\n",
      " 'США - Канада - Германия' 'США - Канада' 'СССР - Швейцария - Франция'\n",
      " 'Россия - Казахстан' 'Гонконг' 'Италия' 'США - ОАЭ' 'Россия'\n",
      " 'США - Франция - Испания - Великобритания' 'Великобритания - Франция'\n",
      " 'США-Италия-Испания-Аргентина' 'Франция-Великобритания' 'КНР - Гонконг'\n",
      " 'Франция - Италия - Швейцария' 'США - Новая Зеландия' 'Франция - Бельгия'\n",
      " 'КНР' 'Германия - Великобритания - Австрия'\n",
      " 'Великобритания - Израиль - Франция - Япония - США' 'Швеция' 'Испания'\n",
      " 'Дания' 'Франция - Бельгия - Люксембург' 'США - Индия - ОАЭ'\n",
      " 'Германия-Канада-Великобритания-Швейцария-Франция' 'Мексика - Чили'\n",
      " 'Аргентина' 'Бразилия' 'Чили' 'Австралия' 'Португалия - Франция'\n",
      " 'США - ЮАР' 'Исландия-Ирландия-Германия' 'США-Индонезия' 'Южная Корея'\n",
      " 'Мексика - Испания - Дания - США' 'Великобритания-США' 'Франция - Италия'\n",
      " 'США-Франция' 'США - Венгрия - Великобритания' 'Бельгия-Франция-Италия'\n",
      " 'Чехия - Германия' 'Германия - Франция' 'США-Нидерланды' 'Украина'\n",
      " 'Великобритания - Германия' 'Франция-Бельгия' 'США-Франция-Испания'\n",
      " 'Италия - Франция' 'Канада' 'Швеция-Франция-Дания'\n",
      " 'Германия-Франция-Польша' 'Франция-Великобритания - Германия'\n",
      " 'США - Бразилия - Франция - Австралия - Великобритания - Германия'\n",
      " 'Германия-Австрия' 'Германия-Италия- Шри-Ланка'\n",
      " 'Великобритания - Испания' 'США - Великобритания - Канада - Швеция'\n",
      " 'Босния и Герцеговина - Франция - Великобритания - Германия - Словения - Бельгия - Сербия'\n",
      " 'Великобритания - Франция - Италия - США' 'США-ОАЭ' 'Испания - Франция'\n",
      " 'США-Великобритания' 'США-ЮАР' 'Великобритания-Австралия - США'\n",
      " 'Норвегия - Швеция - Дания - Германия' 'Норвегия' 'Швейцария'\n",
      " 'Греция - Германия - Франция' 'Норвения' 'Южная Корея - США'\n",
      " 'Чили - Франция - США' 'Австрия - Германия - Франция' 'Швеция - Дания'\n",
      " 'Великобритания - Франция - Бельгия - Италия' 'Франция - Германия'\n",
      " 'Грузия - Франция - Люксембург'\n",
      " 'США - Франция - Великобритания - Бразилия ' 'США - КНР'\n",
      " 'Мексика - Франция' 'США - Германия - Гонконг - Сингапур'\n",
      " 'Финляндия - Австрия - Россия' 'Испания - Куба' 'Великобритания - ЮАР'\n",
      " 'Великобритания - Ирландия' 'Израиль'\n",
      " 'Бразилия - Германия - Порртугалия - Франция '\n",
      " 'Франция - Канада - Бельгия' 'Франция-Испания'\n",
      " 'Испания - Канада - Япония' 'Иран' 'Швеция-Куба'\n",
      " 'США-Великобритания-Ирландия' 'Гонконг - КНР' 'Нидерланды'\n",
      " 'Испания - Канада' 'Япония-Великобритания'\n",
      " 'Великобритания - Норвегия - Дания - Германия'\n",
      " 'Финляндия - Франция - Германия'\n",
      " 'Мексика - Франция - Нидерланды - Германия' 'США - Индия'\n",
      " 'США-Великобритания-Индия' 'США-Канада-Бельгия' 'Республика Узбекистан'\n",
      " 'Италия ' 'Турция'\n",
      " 'Сербия - Словения - Хорватия - Черногория - Македония' 'Киргизия'\n",
      " 'Германия - Нидерланды - Беларусь - Россия - Латвия' 'Индия'\n",
      " 'Нидерланды - Россия - Германия'\n",
      " 'Великобритания - Нидерланды - Франция - Хорватия' 'Канада - Южная Корея'\n",
      " 'Великобритания - Польша - КНР - Индия - Норвегия'\n",
      " 'Япония - Франция - США - Южная Корея - Турция'\n",
      " 'Мексика - Аргентина - Великобритания' 'Израиль - Франция'\n",
      " 'Польша - Португалия - Франция - Великобритания' 'Австралия - США'\n",
      " 'США - Великобритания ' 'Франция - Люксембург - Бельгия' 'Армения'\n",
      " 'Бельгия - Люксембург - Франция - Швейцария'\n",
      " 'США - Великобритания - Канада' 'Норвегия - Швеция' 'Канада - Франция'\n",
      " 'КНР - Гонконг - США' 'США - Сингапур - Малайзия - Индонезия'\n",
      " 'Германия - Россия' 'Япония - Канада'\n",
      " 'Финляндия - Дания - Германия - Ирландия'\n",
      " 'Франция - Люксембург - Германия - Бельгия - Швейцария - Великобритания '\n",
      " 'Канада - США' 'США-Италия-Испания' 'США-Испания'\n",
      " 'США - Швейцария - Франция' 'Испания - США - Колумбия' 'Канада-ЮАР'\n",
      " 'Франция - Россия' 'Германия - Финляндия - Австралия' 'Дания - Швеция'\n",
      " 'Бельгия' 'Германия - Франция - Австрия' 'Франция-Индия' 'ЮАР'\n",
      " 'Франция-Перу' 'Франция - Канада' 'Республика Беларусь'\n",
      " 'Великобритания - Австрия - Франция - США' 'Австрия-Германия-Франция'\n",
      " 'США-Россия' 'Германия-США' 'США - Южная Корея' 'Канада - КНР'\n",
      " 'Дания - Швеция - Италия - Франция - Германия'\n",
      " 'Франция-Италия-Испания-Венгрия' 'Франция - Германия - Бельгия'\n",
      " 'Франция-Великобритания-Чехия' 'Румыния - Франция - Бельгия'\n",
      " 'Болгария - Франция - Изриль'\n",
      " 'Израиль - Германия - Польша - Бельгия - Франция - Люксембург'\n",
      " 'Россия, Германия, Франция, Бельгия' 'Индонезия' 'Франция - Португалия'\n",
      " 'Великобритания - Пуэрто-Рико' 'СССР, ФРГ, Западный Берлин'\n",
      " 'Россия, Республика Беларусь' 'США, Великобритания' 'Франция - Австрия'\n",
      " 'Бельгия-Нидерланды' 'Великобритания - США - Индия'\n",
      " 'США - Великобритания - Австралия'\n",
      " 'Канада - Франция - США - ОАЭ - Великобритания'\n",
      " 'США - Австралия - Франция'\n",
      " 'Дания-Франция-Бельгия-Германия-Великобритания' 'Испания - Аргентина'\n",
      " 'Исландия - Финляндия' 'Россия-Польша-Голландия-Словакия'\n",
      " 'Дания - Германия - Швеция' 'Южная Корея - США - Канада' 'Таиланд'\n",
      " 'США-Мальта' 'США -Германия'\n",
      " 'Великобритания - Германия - Франция - Кипр - США' 'Мексика'\n",
      " 'США - Великобритания - Ирландия' 'США - Украина'\n",
      " 'США - Финляндия - Испания - Великобритания - Франция'\n",
      " 'Австралия-Великобритания'\n",
      " 'США - Канада - Афганистан - Бельгия - Франция'\n",
      " 'США - Великобритания - Германия - Новая Зеландия - Бельгия - Франция'\n",
      " 'Франция-Канада'\n",
      " 'Ирландия - Финляндия - Бельгия - Великобритания - США - Швейцария'\n",
      " 'Малайзия - США' 'Германия - Италия' 'США - Франция - Бельгия - Италия'\n",
      " 'Франция - Ирландия - Швеция' 'Азербайджан-Россия'\n",
      " 'Великобритания - Италия - Швейцария' 'США - Германия - Великобритания'\n",
      " 'Германия - Бельгия - США -Франция' 'США-Китай' 'Чили - Испания'\n",
      " 'Франция - Швейцария' 'Канада - Испания' 'США - Румыния - Великобритания'\n",
      " 'США - Япония' 'США - Россия - Франция' 'Франция-США' 'Парагвай'\n",
      " 'Германия - Канада' 'США - Канада - Великобритания' 'Финляндия - Канада'\n",
      " 'Уругвай-Мексика-Германия ' 'США - Чили'\n",
      " 'Германия - Аргентина - Нидерланды - Чили' 'США - Канада - Индонезия'\n",
      " 'Армения - Казахстан' 'Финляндия' 'Испания - Италия - Франция'\n",
      " 'Бельгия - Испания - Канада - Нидерланды'\n",
      " 'Великобритания - Франция - Швеция - Бельгия'\n",
      " 'Мексика - Эквадор - Канада - США - Франция - Малайзия - Италия - Аргентина - Германия - Индия  '\n",
      " 'Франция - Бенльгия' 'Индия - Великобритания'\n",
      " 'Япония - Великобритания - Франция' 'Испания - Уругвай - Аргентина'\n",
      " 'Франция - Италия - Бельгия - Люксембург'\n",
      " 'Франция - Украина - Грузия - Армения' 'Сербия - Германия - Венгрия'\n",
      " 'Франция-Польша' 'Франция ' 'Румыния-США' 'Россия-Азербайджан'\n",
      " 'США - Нидерланды - Бельгия - Венгрия - Греция - Канада'\n",
      " 'Германия - Франция - Люксембург' 'США - Россия'\n",
      " 'Великобритания - США - Франция' 'США - Австралия - Дания'\n",
      " 'Бельгия-Франция' 'США-Мексика'\n",
      " 'Норвегия - Азербайджан - Россия - Колумбия - Великобритания - Венгрия - Румыния - Франция - Грузия'\n",
      " 'СЩА' 'Бразилия - Испания' 'Россия, Франция, Латвия'\n",
      " 'Нидерланды - США - Германия - Канада - Франция - Ирландия - Великобритания'\n",
      " 'Уругвай - Колумбия' 'США - Испания - Болгария' 'Армения - Германия'\n",
      " 'США - Великобритания- Франция - Швеция' 'США - Мексика'\n",
      " 'Австралия-Турция-США' 'Швеция - Германия' 'Польша - Италия - Россия'\n",
      " 'Франция - Бразилия' 'США - Канада - КНР' 'СССР, Венгрия, ЧССР, ГДР'\n",
      " 'Бельгия - Германия - Люксембург' 'СССР  ' 'СССР ' ' СССР '\n",
      " 'США - Австралия' 'Бразилия - США' 'США - Великобритания - Канада - КНР'\n",
      " 'Франция - Чили'\n",
      " 'Франция - США - Великобритания - Колумбия - Бельгия - Россия'\n",
      " 'Дания - Великобритания - ЮАР' 'СССР   ' 'Россия-США-Канада-Люксембург'\n",
      " 'Россия - Республика Кипр' 'Германия - США - Швеция - Франция'\n",
      " 'Великобритания-Германия-Канада-ЮАР' ' СССР   ' 'СССР     '\n",
      " 'Ирландия, Канада'\n",
      " 'Япония - Великобритания - Швейцария - Ирландия - Дания - Франция - Польша - Австралия - Канада  '\n",
      " 'Великобритания, Канада' 'Бельгия - США' 'Великобритания - США - Россия'\n",
      " 'Россия-Украина' 'Германия - США - Великобритания - Израиль'\n",
      " 'Канада - Германия' 'США- Ю.Корея' 'Индия - Мексика'\n",
      " 'Великобритания - Франция - Республика Кипр - Швейцария - США - Сербия'\n",
      " 'Испания - Аргентина - Индия - США'\n",
      " 'Норвегия - Исландия - США - Великобритания '\n",
      " 'Турция - Германя - Франция' 'Германия - Великобритания'\n",
      " 'Австралия - Германия' 'Мексика - Испания'\n",
      " 'Великобритания - США - Германия - Бельгия' 'США - Чехия - Франция'\n",
      " 'Россия - Италия' 'Франция-Россия' 'Норвегия - Дания - Швеция'\n",
      " 'Франция - Швейцария - Германия' 'Грузия - Украина'\n",
      " 'Россия - Эстония - Финляндия - Беларусь' 'США - Франция - ЮАР'\n",
      " 'Великобритания - США - Швейцария' 'Канада-США'\n",
      " 'Мексика - Нидерланды - Германия - Франция' 'США - Испания - Франция'\n",
      " 'США - Великобритания - КНР' 'США-Франция-Канада'\n",
      " 'Япония, Великобритания, Австрия, Германия, Ю.Корея'\n",
      " 'Великобритания - Ирландия - США' 'Бельгия - Италия - Франция '\n",
      " 'Швейцария-Германия-ЮАР' 'Великобритания - США - Германия'\n",
      " 'Германия - Исландия' 'Испания - США' 'СССР    ' 'Хорватия'\n",
      " 'Финляндия - Исландия - Швеция' 'Канада - США - Германия - Франция'\n",
      " 'США - Великобритания - Испания' 'Ирландия-Великобритания'\n",
      " 'Аргентина - Испания' 'Австрия - Германия' ' СССР'\n",
      " 'Германия - Швейцария - Франция - Южная Корея - США'\n",
      " 'Украина - Нидерланды' 'Венгрия - Германия - Швеция'\n",
      " 'Германия - Франция -  Польша - Турция - Канада - Италия - Россия '\n",
      " 'СССР, Афганистан' 'СССР, Монголия' 'Россия-Кипр'\n",
      " 'Россия, Грузия, Испания'\n",
      " 'Великобритания - Нидерланды - Германия - Франция - Бельгия - Австрия '\n",
      " 'Испания - Великобритания - Франция' 'Дания - Норвегия - Великобритания'\n",
      " 'Бельгия - Франция - Люксембург'\n",
      " 'Италия - Франция - Швейцария - Великобритания'\n",
      " 'Франция - Бельгия - Великобритания - Испания - Германия - США'\n",
      " 'Швейцария - Израиль - Франция - Великобритания'\n",
      " 'Великобритания - США - Канада - Нидерланды - Франция' 'Россия, Италия'\n",
      " 'СССР, Албания' 'Россия, Украина, Республика Беларусь, Литва'\n",
      " 'Финляндия - Великобритания - Германия' 'Россия, Украина, Польша'\n",
      " 'Франция - Италия - Бельгия - КНР'\n",
      " 'Германия - Бельгия - Люксембург - Ирландия' 'КНР - Сингапур'\n",
      " 'Франция - Бельгия - Великобритания - США - Нидерланды - Канада'\n",
      " 'США - Россия - Польша - Германия - Пуэрто Рико'\n",
      " 'Франция - Бельгия - Канада' 'США ' 'Мексика - США'\n",
      " 'США - Гонконг - КНР ' 'Греция - Россия'\n",
      " 'Ирландия - Дания - Бельгия - Люксембург - Франция' 'Эстония - Россия'\n",
      " 'Великобритания - Исландия - Испания - Швейцария - США'\n",
      " 'Австралия - Великобритания - Бельгия - Индия'\n",
      " 'Швеция - Германия - Франция - Норвегия'\n",
      " 'Нидерланды - Бельгия - Германия - Ирландия'\n",
      " 'Нидерланды - Великобритания - Бельгия' 'США - Колумбия - Испания'\n",
      " 'Франция-Испания-Бельгия-Панама' 'США-Великобритания-Чехия-Румыния'\n",
      " 'Аргентина - Уругвай - Россия - Германия - Франция - Нидерланды'\n",
      " 'Швеция - Франция - Норвегия - Дания' 'Италия-Франция-Великобритания'\n",
      " 'Великобритания, Франция' 'Австралия, США' 'Венесуэла'\n",
      " 'Великобритания - США - Австралия - Ирландия - Германия - Куба - Канада'\n",
      " 'Южная Корея - КНР' 'Аргентина - Мексика - Бразилия - Франция - США'\n",
      " 'Швеция - США' 'Франция - Германия - Турция - Катар' 'Франция-Китай'\n",
      " 'Россия, Германия, Великобритания' 'Великобритания - Италия - Испания'\n",
      " 'Италия - Россия' 'Япония - КНР - Южная Корея' 'Россия, Германия'\n",
      " 'Россия-Ирландия' 'Македония - Франция - Великобритания'\n",
      " 'Франция - Бразилия - Италия' 'Россия-США' 'Армения-Россия'\n",
      " 'Россия, Румыния' 'Франция -  Бельгия' 'Грузия-Франция' 'ЮАР - США'\n",
      " 'Великобритания-США-Франция'\n",
      " 'Великобритания - США - Германия - Канада - Австралия' 'США-Ирландия'\n",
      " 'Россия, Республика Кипр' 'Германия - Люксембург - Франция'\n",
      " 'Россия-Франция' 'США - Нидерланды - Финляндия - Великобритания - Италия'\n",
      " 'Республика Кипр' 'Венгрия' 'Франция - США - Норвегия - Дания'\n",
      " 'Германия - Австрия - Ирландия' 'США - Финляндия' 'Италия-Великобритания'\n",
      " 'Россия, Испания' 'США - Великобритания - Болгария'\n",
      " 'Великобритания - Люксембург' 'Индия - США'\n",
      " 'США - Канада - Россия - Франция - Чили - Ирландия' 'Грузия-Россия'\n",
      " 'Дания - Австрия - Ирландия - Финляндия - Норвегия - Швеция - Нидерланды'\n",
      " 'США-КНР' 'Грузия' 'Австралия - Ирландия' 'Великобритания - Канада'\n",
      " 'Италия - Аргентина - Словения '\n",
      " 'Испания - Франция - Нидерланды - Германия - Бельгия - Великобритания - Канада'\n",
      " 'Франция - Чехия - Бельгия' 'Великобритания - Франция - Германия - США'\n",
      " 'Ирландия - Великобритания - Франция - США - Германия - Нидерланды'\n",
      " 'США - Канада - Япония - КНР' 'Италия-Франция'\n",
      " 'США - Великобритания - Исландия' 'Великобритания-Франция'\n",
      " 'Франция - Германия - Нидерланды' 'Иран '\n",
      " 'Франция - Германия - Швеция - США - Чехия - Словакия - Великобритания - Нидерланды'\n",
      " 'Франция - Канада - Н.Зеландия - США - Нидерланды - Германия - Швеция - Россия'\n",
      " 'Турция - США'\n",
      " 'Великобритания - США - Канада - Бельгия - Нидерланды - Австрия - Германия'\n",
      " 'Израиль - Франция - Германия - Палестина - США - Австрия - Великобритания'\n",
      " 'Аргентина - Франция - Испания' 'СССР, Россия'\n",
      " 'Великобритания - Франция - Италия - Индия - Дания - КНР - Бангладеш - Камбоджа - Гаити - Уганда'\n",
      " 'Италия - Франция - Швейцария' 'Ирландия - Великобритания - Канада'\n",
      " 'Перу' 'США - Норвегия' 'Испания-Канада' 'Китай-Гонконг'\n",
      " 'США - Германия - КНР' 'Великобритания - Новая Зеландия'\n",
      " 'Франция - Дания - Швеция - КНР'\n",
      " 'США - Великобритания - Германия - Бельгия - Дания'\n",
      " 'США - Франция - Канада - Германия - Австралия - Индия' nan\n",
      " 'СССР, Румыния, Франция' 'СССР, ГДР' 'Австралия-Ирландия' 'США - Китай'\n",
      " 'Великобритания - Франция - Австрия - Швеция' 'Россия, Таджикистан'\n",
      " 'Нидерланды - Бельгия - Болгария' 'Великобритания - Канада - США'\n",
      " 'Франция - Бельгия - Испания' 'Китай-Гонконг-США'\n",
      " 'Франция - Великобритания' 'США - Вьетнам' 'США - Германия - Франция'\n",
      " 'Германия - Франция - Бельгия' 'США - Италия'\n",
      " 'Германия - Дания - Испания - Швеция - Канада - Эстония - Франция'\n",
      " 'Княжество Андорра - Украина' 'Германия - Люксембург - Бельгия'\n",
      " 'Великобритания - Россия - Украина - США'\n",
      " 'Германия - Бельгия - Люксембург - Норвегия'\n",
      " 'США - Австралия - Новая Зеландия - Великобритания'\n",
      " 'США - Франция - Канада - Великобритания' 'Испания-Колумбия'\n",
      " 'Великобритания - Чехия - Франция' 'Россия, Украина' 'Исландия'\n",
      " 'Великобритания - Франция - Венгрия' 'Россия, Франция, Германия, Бельгия'\n",
      " 'Франция - Македония'\n",
      " 'Нидерланды - Франция - Германия - Бельгия - Швеция - Великобритания'\n",
      " 'Испания - США - Великобритания - Канада' 'Германия - Австрия'\n",
      " 'Республика Казахстан' 'Франция - Испания - Дания - Венгрия - Швейцария'\n",
      " 'Франция-КНР' 'США - Пуэрто-Рико - Франция ' 'Мексика - Тайвань - США'\n",
      " 'Великобритания - Испания - Непал - Индия - Венгрия - Гонконг - Германия - Дания - Бахрейн'\n",
      " 'Великобритания - Аргентина - США - Франция - Россия - Испания'\n",
      " 'КНР - США' 'Италия - США' 'Финляндия - Швеция - Германия'\n",
      " 'Канада- Испания' 'Франция - Бельгия - Чехия' 'Франция-Бельгия-Канада'\n",
      " 'Франция - Германия - США' 'США - Дания' 'Индия - КНР'\n",
      " 'Чехия-Великобритания-США' 'США-ФРГ-Россия'\n",
      " 'Ирландия-Нидерланды-Франция-США-Великобритания'\n",
      " 'Россия, Грузия, Хорватия, Испания' 'Финляндия - Швеция - Норвегия'\n",
      " 'Сербия - Великобритания - США'\n",
      " 'США - Великобритания - Франция - Гонконг' 'Швейцария - Франция'\n",
      " 'Швейцария - Великобритания' 'ОАЭ - США'\n",
      " 'США - Франция - Германия - Канада - Австралия ' 'Германия - Австралия'\n",
      " 'Иран, Франция' 'США - Великобритания - Новая Зеландия' 'США-Колумбия'\n",
      " 'США-Франция-Ирландия' 'Великобритания - Франция - Бельгия'\n",
      " 'США - Великобритания - Япония' 'США - Франция - Германия'\n",
      " 'Польша - Ирландия' 'Ирландия - Великобритания - Франция - США'\n",
      " 'США - Бельгия - Великобритания' 'СССР, ВНР'\n",
      " 'Испания - Франция - США - Великобритания - Бельгия'\n",
      " 'Франция - Дания - США' 'США - Гонконг' 'Бразилия - К;анада'\n",
      " 'Франция-Германия' 'США - Колумбия'\n",
      " 'США - Ирландия - Великобритания - Франция'\n",
      " 'Великобритания - США - Канада' 'Польша - Франция'\n",
      " 'Канада - США - Нидерланды - Великобритания - Аргентина'\n",
      " 'Великобритания - Дания' 'Франция - Бельгия - Япония' 'Россия,  Испания'\n",
      " 'Франция -Бельгия' 'США - Канада - Германия - Франция'\n",
      " 'США-Канада-Франция' 'Россия - Германия' 'Россия-Италия'\n",
      " 'Китай - Гонконг' 'Германия-Австрия-Франция-Италия' 'США-Япония'\n",
      " 'США - Германия - Канада' 'Испания-Мексика'\n",
      " 'США - Япония - Канада - Великобритания - Германия - Франция'\n",
      " 'США -Великобритания - Австралия' 'Россия-Украина-Германия'\n",
      " 'Израиль - Франция - Великобритания - Германия' 'Корея'\n",
      " 'Россия - Болгария' 'США-Индия' 'Германия-Канада-Франция-Бельгия'\n",
      " 'Германия-Кения' 'Франция - Монако' 'Франция-Испания-Швейцария'\n",
      " 'Австрия-Франция-Германия' 'Румыния' 'США-Великобритания-Франция'\n",
      " 'Канада-Великобритания' 'Канада-Бразилия-Япония'\n",
      " 'Германия - Дания - Норвегия' 'Дания - Германия' 'СССР - Италия'\n",
      " 'СССР - ГДР - Польша - Италия' 'США - Испания - Франция - Великобритания'\n",
      " 'Китай' 'Мексика-Аргентина'\n",
      " 'Германия - Великобритания - Италия - Испания'\n",
      " 'Франция-Германия-Великобритания' 'Россия - Германия - Швейцария'\n",
      " 'Франция-Австралия' 'Голландия' 'Швейцария-Франция' 'Россия-Белоруссия'\n",
      " 'Франция - Испания - Тайвань' 'США-Южная Корея-Новая Зеландия'\n",
      " 'Великобритания-Венгрия' 'Россия-Германия'\n",
      " 'Великобритания-Франция-Германия' 'Франция-Германия-Италия'\n",
      " 'Швеция-Финляндия-Франция-Норвегия' 'Франция-Италия' 'Германия-Израиль'\n",
      " 'Швеция - Германия - Дания - Норвегия' 'США-Бельгия'\n",
      " 'Франция-Гонконг-Ирландия' 'Эстония' 'Литва-Россия-Украина'\n",
      " 'Германия - Италия - Франция' 'Великобритания - Австрия - Германия'\n",
      " 'Бельгия - Франция' 'Россия-Казахстан' 'Испания - Мальта'\n",
      " 'Франция-Россия-Румыния-Италия-Бельгия' 'Россия - Польша'\n",
      " 'Испания - Мексика' 'США-Аргентина' 'Великобритания '\n",
      " 'Израиль-США-Франция' 'США - Новая Зеландия - Япония'\n",
      " 'Франция - Чехия - Великобритания' 'Россия-Польша'\n",
      " 'Германия-Франция-Великобритания' 'США-Германия-Канада'\n",
      " 'США-Гонконг-Китай' 'США - Великобритания - Германия'\n",
      " 'США-Канада-Австралия' 'Япония-США-Франция' 'Франция-Испания-Германия'\n",
      " 'США - Хорватия - Босния-Герцеговина'\n",
      " 'Великобритания - Чехия - Франция - Италия' 'США - Германия - Нидерланды'\n",
      " 'Германия - Франция - Канада'\n",
      " 'Франция-Грузия-Германия-Россия-Украина-Бельгия'\n",
      " 'Великобритания - Франция - Италия' 'Россия - США'\n",
      " 'Франция - Италия - Иран' 'Россия - Азербайджан' 'Греция' 'Дания - США'\n",
      " 'США-Великобритания-Новая Зеландия' 'США-Германия-Австралия'\n",
      " 'США-Канада-Италия' 'США - Япония - Германия' 'Австралия-США'\n",
      " 'Франция - Великобритания - Багамские острова - США'\n",
      " 'Швейцария - Люксембург' 'Швейцария - Австрия' 'Германия - Швейцария'\n",
      " 'Дания-Швеция-Франция-Германия' 'Польша' 'Швейцария-Австрия'\n",
      " 'Бразилия - Канада - США' 'Нидерланды - Россия' 'Португалия'\n",
      " 'Франция-Аргентина' 'Швеция-Франция' 'Франция-Украина'\n",
      " 'Германия-Украина-Нидерланды' 'Италия-Швейцария'\n",
      " 'США-Германия-Великобритания' 'Латвия - Россия'\n",
      " 'Германия-Франция-Великобритания-США' 'Канада - Италия'\n",
      " 'США - Объединенные Арабские Эмираты' 'США-Венгрия' 'Малайзия'\n",
      " 'Россия - Германия - Украина' 'США - Австралия - Мексика'\n",
      " 'Литва - Венгрия' 'Германия - Китай' 'Казахстан' 'Республика Корея'\n",
      " 'США - Германия - Франция - Великобритания - Канада '\n",
      " 'Бельгия - Германия - Люксембург - Франция' 'Франция - Греция'\n",
      " 'Италия - Канада' 'США - Великобритания - Франция' 'США-Италия-Греция'\n",
      " 'Германия - США - Великобритания - Ирландия'\n",
      " 'Великобритания - Франция - Германия' 'Германия - Нидерланды - ЮАР'\n",
      " 'США-Япония-Германия-Великобритания-Нидерланды'\n",
      " 'США-Япония-Германия-Великобритания' 'Германия - Франция - Польша'\n",
      " 'Таиланд-Великобритания-Франция-Германия-Испания-Нидерланды'\n",
      " 'Германия-Италия-Швейцария'\n",
      " 'Дания - Швеция - Великобритания - Франция - Германия - Нидерланды - Норвегия - Финляндия'\n",
      " 'Франция - Великобритания - Нидерланды - Люксембург'\n",
      " 'Нидерланды-Великобритания-Франция-Италия-Япония'\n",
      " 'Финляндия-Дания-Германия-Ирландия' 'Испания-Аргентина'\n",
      " 'Великобритания - Нидерланды - Франция - США' 'Канада - Мексика'\n",
      " 'США, Франция' 'Канада-Южная Корея-США'\n",
      " 'Великобритания - Франция - Бельгия - США' 'КНР - Канада - США'\n",
      " 'Италия - Франция - Германия' 'Швеция - Германия - Франция - Дания'\n",
      " 'Франция - США - Бельгия' 'Украина - Германия - Латвия - Эстония'\n",
      " 'Австрия - Люксембург' 'Великобритания - КНР' 'Монголия'\n",
      " 'Франция - Дания' 'Швеция - Дания - Финляндия'\n",
      " 'Сингапур - Великобритания - Индонезия - Канада - США'\n",
      " 'США - Германия - Япония' 'Таиланд - США' 'Франция - Нидерланды'\n",
      " 'Великобритания - Румыния' 'США - Мальта'\n",
      " 'Великобритания - Германия - Нидерланды - Дания'\n",
      " 'Франция - Германия - Литва - Нидерланды - Россия' 'США - ЮАР - Гонконг'\n",
      " 'Австралия - Колумбия' 'Великобритания - Польша'\n",
      " 'США - Великобритания - Швеция' 'Франция - Швеция - Дания - Норвегия'\n",
      " 'Болгария - США' 'СССР, ФРГ' 'Бельгия - Нидерланды - Франция'\n",
      " 'Финляндия - Германия' 'Болгария'\n",
      " 'Грузия - Россия - Украина - Хорватия - Германия' 'Франция - Люксембург'\n",
      " 'Франция - Германия - Австрия' 'Норвегия - США' 'Германия-Швеция'\n",
      " 'Франция - Германия - Италия' 'Франция-Германия-Австрия' 'КНР-США'\n",
      " 'Великобритания - Ирландия - США ' 'Дания - Латвия - Россия - США'\n",
      " 'Финляндия - Польша' 'Германия - Бельгия'\n",
      " 'Германия - США - Франция - Испания'\n",
      " 'Бельгия-Германия-Канада-Франция-США-Великобритания'\n",
      " 'Нидерланды - Бельгия - Люксембург' 'Канада-Германия'\n",
      " 'Люксембург - Бельгия - Франция' 'США-Великобритания-Австралия'\n",
      " 'Великобритания, Новая Зеландия' 'Бельгия, Великобритания, США'\n",
      " 'Великобритания, Австралия' 'Исландия, Бельгия'\n",
      " 'Испания - Швейцария - Великобритания - Германия - Новая Зеландия - Нидерланды - Канада'\n",
      " 'Франция, Бельгия' 'Великобритания, США' 'Киргизия-Россия'\n",
      " 'Германия, США' 'Великобритания, США, Испания'\n",
      " 'Италия - Швейцария - Германия' 'Россия, Армения' 'Франция, Германия'\n",
      " 'Китай, Канада, США' 'Германия, Австралия' 'КНР, США'\n",
      " 'США, Великобритания, Люксембург' 'Испания, Ирландия, Бельгия, Франция'\n",
      " 'Великобритания - Гонконг - Венгрия - США - Ирландия' 'США - Пуэрто Рико'\n",
      " 'Аргентина - Испания - Уругвай'\n",
      " 'Израиль - Германия - Франция - Швейцария'\n",
      " 'Великобритания - Мексика - США' 'Испания - Болгария - США'\n",
      " 'Россия-Словакия-Чехия'\n",
      " 'Швейцария - КНР - США - Россия - Республика Корея - Великобритания'\n",
      " 'Россия, Нидерланды, Финляндия'\n",
      " 'Испания - Бельгия - Франция - Португалия - Великобритания'\n",
      " 'Бразилия - Португалия - Франция' 'Швеция - Норвегия'\n",
      " 'Франция - Польша - Бельгия' 'CША' 'Китай, США'\n",
      " 'Италия, Франция, Германия' 'Германия - Австрия - Франция'\n",
      " 'Чехия - Словакия - Хорватия' 'Россия, Польша, Финляндия'\n",
      " 'Россия, Латвия, Чешская Республика'\n",
      " 'Франция - Великобритания - Камбоджа - США - КНР' 'Чехия - Испания - США'\n",
      " 'Германия - Люксембург - Дания' 'Великобритания - Испания - Германия'\n",
      " 'Дания - Исландия' 'Германия, Франция, Великобритания'\n",
      " 'Великобритания - Испания - Италия - Латвия - Франция - Эстония'\n",
      " 'Дания, Швеция, Великобритания, Франция, Германия, Норвегия, Финляндия, Нидерланды, Италия'\n",
      " 'Польша - Франция - Великобритания' 'Дания, Норвегия, Венгрия, Чехия'\n",
      " 'Дания - Франция - Германия - Швеция' 'Великобритания, Швеция, США'\n",
      " 'Канада, Франция, Италия, Швейцария, США' 'США, Индия'\n",
      " 'США - Великобритания - Германия - - Швеция - Канада' 'Италия, Франция'\n",
      " 'Республика Беларусь, Германия, США, Россия'\n",
      " 'Италия-Швейцария-Франция-Германия '\n",
      " 'Россия - Франция - Великобритания - Латвия' 'Россия-Беларусь'\n",
      " 'Франция - Испания - Румыния - США - Бельгия' 'Италия-США'\n",
      " 'Россия, Австрия' 'Ирландия - Великобритания - США'\n",
      " 'Швейцария, Великобритания, Франция, США, Ирландия'\n",
      " 'Мексика, Франция, Германия, Дания, Швеция' 'Нидерланды, Бельгия'\n",
      " 'Швеция, Норвегия, Финляндия, Франция' 'Испания, Франция, Италия'\n",
      " 'Испания-Франция-Греция-Индия-США-Россия-Великобритания'\n",
      " 'Великобритания - Япония - США' 'Дания, Канада, Норвегия, Австралия, США'\n",
      " 'Аргентина, Испания' 'Россия, Германия, Казахстан, Польша, Китай'\n",
      " 'Португалия, Франция, Польша, США' 'США - Канада - Аргентина' 'Ливан-США'\n",
      " 'Япония - США' 'США, Гонконг '\n",
      " 'Франция - Россия - Швейцария - Румыния - Венгрия' 'Аргентина-Испания'\n",
      " 'Россия, Сербия' 'США - Болгария - Мексика'\n",
      " 'США - Великобритания - Швейцария - Франция' 'Таиланд - КНР - США'\n",
      " 'Великобритания, Нидерланды, Польша, Швейцария, Франция' 'Ирландия - США'\n",
      " 'Германия - Франция - Великобритания - Польша - США'\n",
      " 'Великобритания-Франция-Италия' 'США - Австралия - Индия' 'Франция - КНР'\n",
      " 'Великобритания - Израиль' 'Великобритания - Норвегия - Кения - Хорватия'\n",
      " 'США - Бразилия - Великобритания - Канада' 'Германия, Бельгия'\n",
      " 'Австралия, Канада' 'США, Великобритания, Франция' 'Кения, Германия'\n",
      " 'Нидерланды, Бельгия, Люксембург' 'Колумбия' 'Латвия - Франция'\n",
      " 'Ирландия, Великобритания' 'Франция - Израиль - Германия'\n",
      " 'Швеция, Франция, Великобритания' 'Бельгия - Люксембург'\n",
      " 'Германия - Бельгия - Великобритания'\n",
      " 'Испания, Франция, Великобритания, Дания, Бельгия, Германия'\n",
      " 'Румыния, ЮАР, Иран, Франция, Канада, Великобритания' 'Германия, Франция'\n",
      " 'США, Япония' 'США, Великобритания, Ирландия, Люксембург'\n",
      " 'Республика Армения' 'США, Франция, Япония' 'Япония, США' 'Канада, США'\n",
      " 'Республика Кипр - Россия'\n",
      " 'Дания - Франция - Италия - Бельгия - Нидерланды' 'Россия - Грузия'\n",
      " 'Италия, Германия' 'Норвегия, Швеция, Дания' 'Республика Кипр, Россия'\n",
      " 'КНР, Индия, Гонконг, США' 'Израиль, Украина' 'США, Россия'\n",
      " 'США - КНР - Индия - Ю.Корея' 'США - Швеция' 'Франция, Канада'\n",
      " 'Россия-Китай' 'Канада, Великобритания' 'США, Германия'\n",
      " 'Канада, США, Каймановы острова'\n",
      " 'Бразилия, Уругвай, Дания, Норвегия, Чили, Швеция'\n",
      " 'Пуэрто-Рико, Великобритания, США' 'Уругвай - Аргентина - Испания'\n",
      " 'США - Великобритания - Италия - Израиль - Сербия - Индия'\n",
      " 'США - Канада - Франция - Индия' 'Великобритания - Россия - КНР'\n",
      " 'Франция, Новая Зеландия' 'Франция, Люксембург, Бельгия'\n",
      " 'Канада, США, Норвегия' 'Италия, Испания'\n",
      " 'Испания - Германия - Нидерланды' 'Бразилия - США - КНР '\n",
      " 'Великобритания, Германия, Дания, США' '2019'\n",
      " 'Италия - Фрация - Бразилия - Германия' 'Норвегия - Швеция - Россия'\n",
      " 'Великобритания, Япония, США' 'Сша, Канада' 'Бельгия, Канада'\n",
      " 'Великобритания - Австралия - США' 'США, Канада' 'КНР - США '\n",
      " 'Франция - Финляндия' 'Колумбия - США' 'Великобритания, Франция, Бельгия'\n",
      " 'Норвегия - Нидерланды' 'Великобритания, Канада, США'\n",
      " 'Япония, Великобритания' 'Италия - Бельгия - Франция'\n",
      " 'Россия, Бельгия, Финляндия' 'США, Украина' 'Франция, Норвегия'\n",
      " 'Великобритания, Южная Корея, Канада, США, Индия, Китай, Япония'\n",
      " 'Канада - Норвегия' 'Республика Кипр-Россия' 'Германия, Россия'\n",
      " 'Польша - Франция - Испания - Бразилия - Швеция'\n",
      " 'Австрия, Великобритания, Германия' 'Франция - Сенегал - Бельгия'\n",
      " 'Франция, Бельгия, Люксембург' 'Финляндия, Латвия' 'Пакистан'\n",
      " 'Германия, Франция, США' 'Германия - Великобритания - США'\n",
      " 'КНР - Франция' 'Дания, Норвегия, Швеция, Исландия'\n",
      " 'Республика Кипр, США, Россия' 'Новая Зеландия - КНР'\n",
      " 'Дания - Канада - Швеция - Франция - Германия - Великобритания - США']\n",
      "Столбец age_restriction\n",
      "['«18+» - запрещено для детей' '«6+» - для детей старше 6 лет'\n",
      " '«12+» - для детей старше 12 лет' '«16+» - для детей старше 16 лет'\n",
      " '«0+» - для любой зрительской аудитории']\n",
      "Столбец financing_source\n",
      "['' 'Министерство культуры' 'Фонд кино' 'Министерство культуры, Фонд кино']\n",
      "Столбец genres\n",
      "['боевик,драма,мелодрама' 'драма,военный' 'фантастика,боевик,триллер'\n",
      " 'драма' 'мелодрама,комедия' 'мюзикл,мелодрама,комедия' 'комедия,криминал'\n",
      " 'боевик,триллер,детектив' 'боевик,драма,приключения' 'драма,спорт'\n",
      " 'триллер,драма,мелодрама' 'комедия,мелодрама' 'драма,мелодрама,комедия'\n",
      " 'драма,мелодрама' 'драма,история' 'драма,мелодрама,семейный'\n",
      " 'комедия,мелодрама,криминал' 'комедия' 'боевик,драма,криминал'\n",
      " 'драма,комедия' 'ужасы,фантастика,комедия'\n",
      " 'мультфильм,короткометражка,мелодрама' 'драма,криминал'\n",
      " 'мультфильм,фантастика,фэнтези' 'триллер,драма,криминал'\n",
      " 'драма,мелодрама,биография' 'драма,комедия,военный'\n",
      " 'фантастика,драма,детектив' 'мюзикл,семейный' ''\n",
      " 'военный,приключения,драма' 'документальный,драма'\n",
      " 'драма,биография,история' 'боевик,триллер,драма' 'фэнтези,боевик'\n",
      " 'боевик,комедия,криминал' 'мюзикл,комедия,детский'\n",
      " 'комедия,мелодрама,драма' 'мультфильм,фэнтези,комедия' 'комедия,история'\n",
      " 'мелодрама' 'драма,биография,музыка' 'фэнтези,драма,мелодрама'\n",
      " 'триллер,военный' 'драма,мелодрама,военный' 'мюзикл,драма,мелодрама'\n",
      " 'мюзикл,комедия' 'мультфильм,приключения,семейный' 'ужасы,триллер'\n",
      " 'боевик,драма,военный' 'драма,боевик' 'мультфильм,драма,комедия'\n",
      " 'триллер,криминал' 'военный,биография,драма' 'комедия,семейный' 'военный'\n",
      " 'драма,семейный,биография' 'фэнтези,приключения,семейный'\n",
      " 'драма,криминал,биография' 'ужасы,триллер,детектив'\n",
      " 'боевик,история,драма' 'ужасы,триллер,драма' 'драма,криминал,спорт'\n",
      " 'документальный,короткометражка' 'триллер,драма'\n",
      " 'криминал,детектив,приключения' 'драма,комедия,криминал'\n",
      " 'драма,комедия,вестерн' 'драма,мелодрама,детектив' 'мелодрама,биография'\n",
      " 'фэнтези,мелодрама,драма' 'драма,мелодрама,история'\n",
      " 'комедия,приключения,история' 'приключения' 'драма,семейный'\n",
      " 'криминал,детектив' 'мультфильм,короткометражка,ужасы'\n",
      " 'фантастика,триллер,драма' 'фэнтези,мелодрама,комедия' 'драма,биография'\n",
      " 'комедия,криминал,история' 'триллер,драма,детектив'\n",
      " 'фантастика,комедия,приключения' 'фэнтези,семейный'\n",
      " 'ужасы,фантастика,боевик' 'мелодрама,криминал'\n",
      " 'комедия,приключения,мелодрама' 'боевик,триллер,приключения'\n",
      " 'боевик,приключения' 'боевик,триллер,криминал'\n",
      " 'документальный,военный,история' 'драма,музыка' 'боевик,драма'\n",
      " 'приключения,боевик' 'драма,военный,биография'\n",
      " 'триллер,драма,приключения' 'аниме,мультфильм,фэнтези'\n",
      " 'триллер,детектив,драма' 'боевик,триллер,мелодрама' 'боевик,история'\n",
      " 'приключения,история' 'драма,комедия,приключения'\n",
      " 'фэнтези,комедия,приключения' 'драма,вестерн' 'документальный,музыка'\n",
      " 'мелодрама,драма' 'триллер,криминал,детектив' 'ужасы'\n",
      " 'боевик,комедия,приключения' 'мультфильм,фэнтези,боевик'\n",
      " 'боевик,фэнтези,драма' 'фэнтези,драма' 'фэнтези,боевик,комедия'\n",
      " 'приключения,детский,комедия' 'документальный' 'боевик,триллер,комедия'\n",
      " 'мелодрама,комедия,криминал' 'драма,детектив' 'мюзикл,ужасы,триллер'\n",
      " 'детектив,триллер,ужасы' 'ужасы,фэнтези' 'ужасы,фэнтези,триллер'\n",
      " 'мультфильм,драма' 'ужасы,боевик,фантастика' 'боевик' 'фантастика,боевик'\n",
      " 'мелодрама,комедия,приключения' 'триллер,детектив'\n",
      " 'мюзикл,мелодрама,фэнтези' 'криминал' 'триллер,комедия,криминал'\n",
      " 'боевик,приключения,триллер' 'триллер,драма,военный'\n",
      " 'комедия,семейный,музыка' 'комедия,фантастика,мелодрама'\n",
      " 'фантастика,триллер,криминал' 'комедия,драма' 'боевик,военный'\n",
      " 'ужасы,фантастика,триллер' 'фантастика,драма,мелодрама'\n",
      " 'фэнтези,драма,детектив' 'боевик,триллер' 'боевик,драма,история'\n",
      " 'мультфильм,мюзикл,фэнтези' 'для взрослых,драма,мелодрама'\n",
      " 'мультфильм,боевик,детектив' 'фантастика,мелодрама,боевик'\n",
      " 'ужасы,фантастика,детектив' 'фантастика,боевик,приключения'\n",
      " 'мелодрама,комедия,спорт' 'комедия,боевик,приключения'\n",
      " 'документальный,приключения' 'мультфильм,короткометражка,детский'\n",
      " 'комедия,приключения' 'ужасы,драма' 'ужасы,фэнтези,боевик'\n",
      " 'мультфильм,фэнтези,детский' 'мюзикл,боевик,драма'\n",
      " 'семейный,комедия,драма' 'концерт,музыка' 'фэнтези,боевик,драма'\n",
      " 'драма,комедия,музыка' 'фантастика,фэнтези,боевик'\n",
      " 'фэнтези,комедия,семейный' 'фэнтези,драма,комедия'\n",
      " 'мультфильм,мюзикл,драма' 'триллер' 'боевик,криминал,триллер'\n",
      " 'мультфильм,приключения,драма' 'мелодрама,музыка'\n",
      " 'документальный,музыка,концерт' 'мультфильм,семейный'\n",
      " 'мультфильм,комедия,приключения' 'мультфильм,комедия,семейный'\n",
      " 'фантастика,драма' 'фэнтези,боевик,приключения' 'мультфильм,приключения'\n",
      " 'драма,военный,история' 'история' 'драма,приключения,военный'\n",
      " 'документальный,короткометражка,семейный' 'мелодрама,история,триллер'\n",
      " 'ужасы,детектив' 'мюзикл,комедия,приключения' 'драма,спорт,биография'\n",
      " 'фантастика,боевик,комедия' 'фантастика,приключения,детектив'\n",
      " 'короткометражка,драма,военный' 'драма,мультфильм' 'приключения,семейный'\n",
      " 'детектив' 'триллер,приключения' 'аниме,мультфильм,боевик'\n",
      " 'драма,комедия,биография' 'драма,комедия,спорт'\n",
      " 'боевик,мелодрама,комедия' 'семейный,комедия' 'фэнтези,боевик,триллер'\n",
      " 'документальный,фэнтези,семейный' 'фантастика,фэнтези,драма'\n",
      " 'ужасы,комедия,фэнтези' 'документальный,биография,музыка'\n",
      " 'фантастика,боевик,фэнтези' 'ужасы,боевик,триллер'\n",
      " 'комедия,криминал,семейный' 'приключения,драма' 'криминал,драма,триллер'\n",
      " 'драма,детектив,криминал' 'фэнтези,приключения,комедия' 'комедия,спорт'\n",
      " 'мюзикл,фэнтези,мелодрама' 'мультфильм,фэнтези,приключения'\n",
      " 'фантастика,фэнтези,приключения' 'фэнтези' 'фэнтези,приключения,боевик'\n",
      " 'фантастика,боевик,драма' 'криминал,драма' 'криминал,триллер,драма'\n",
      " 'драма,мелодрама,приключения' 'детский,комедия' 'фантастика,драма,боевик'\n",
      " 'мультфильм,семейный,фэнтези' 'концерт,музыка,документальный'\n",
      " 'ужасы,комедия,приключения' 'драма,мелодрама,криминал'\n",
      " 'ужасы,фантастика,фэнтези' 'боевик,комедия'\n",
      " 'мультфильм,фантастика,комедия' 'триллер,ужасы'\n",
      " 'мультфильм,мюзикл,комедия' 'мелодрама,фэнтези,триллер'\n",
      " 'детский,приключения,комедия' 'комедия,детектив'\n",
      " 'аниме,мультфильм,мелодрама' 'документальный,драма,семейный'\n",
      " 'документальный,биография,история' 'военный,боевик,драма' 'ужасы,комедия'\n",
      " 'комедия,приключения,семейный' 'приключения,биография,история'\n",
      " 'детский,приключения,семейный' 'спорт,драма,биография'\n",
      " 'аниме,мультфильм,ужасы' 'фантастика,боевик,криминал' 'мюзикл,драма'\n",
      " 'драма,криминал,детектив' 'аниме,мультфильм,драма'\n",
      " 'драма,триллер,приключения' 'триллер,криминал,драма'\n",
      " 'фэнтези,комедия,драма' 'мультфильм,комедия' 'драма,комедия,история'\n",
      " 'комедия,биография,история' 'мультфильм,фантастика,приключения'\n",
      " 'аниме,мультфильм,фантастика' 'мультфильм,фэнтези,семейный'\n",
      " 'мультфильм,боевик,комедия' 'комедия,криминал,спорт'\n",
      " 'документальный,мюзикл' 'мелодрама,комедия,музыка' 'биография'\n",
      " 'триллер,криминал,комедия' 'фантастика,драма,комедия'\n",
      " 'комедия,драма,мелодрама' 'фантастика,приключения,боевик'\n",
      " 'мультфильм,фэнтези,драма' 'триллер,комедия'\n",
      " 'драма,приключения,биография' 'фантастика,комедия'\n",
      " 'мелодрама,драма,комедия' 'боевик,криминал' 'драма,криминал,боевик'\n",
      " 'мультфильм,мюзикл,детский' 'драма,фэнтези' 'документальный,семейный'\n",
      " 'фэнтези,драма,приключения' 'ужасы,комедия,фантастика'\n",
      " 'драма,мелодрама,музыка' 'фэнтези,драма,семейный'\n",
      " 'триллер,мелодрама,драма' 'вестерн,боевик,драма'\n",
      " 'мультфильм,короткометражка,комедия' 'триллер,драма,история'\n",
      " 'ужасы,фантастика' 'ужасы,мелодрама,комедия' 'фэнтези,приключения'\n",
      " 'фантастика,триллер' 'ужасы,боевик,фэнтези' 'мультфильм,комедия,детский'\n",
      " 'триллер,драма,биография' 'мультфильм,ужасы,фэнтези'\n",
      " 'мультфильм,ужасы,фантастика' 'ужасы,боевик,комедия'\n",
      " 'драма,биография,спорт' 'мультфильм' 'мелодрама,комедия,драма'\n",
      " 'приключения,фантастика,семейный' 'комедия,криминал,детектив'\n",
      " 'ужасы,триллер,комедия' 'криминал,комедия,триллер'\n",
      " 'семейный,приключения,комедия' 'мультфильм,драма,приключения'\n",
      " 'ужасы,драма,детектив' 'драма,приключения,фэнтези'\n",
      " 'фантастика,мультфильм,драма' 'драма,триллер,детектив'\n",
      " 'драма,история,музыка' 'детский' 'триллер,боевик,криминал'\n",
      " 'драма,фантастика' 'комедия,драма,семейный' 'боевик,драма,комедия'\n",
      " 'комедия,ужасы' 'драма,фантастика,триллер' 'фантастика,драма,триллер'\n",
      " 'история,спорт,драма' 'документальный,биография' 'биография,история'\n",
      " 'спорт,драма' 'боевик,фэнтези' 'мультфильм,фэнтези'\n",
      " 'документальный,комедия,история' 'криминал,комедия,боевик'\n",
      " 'фэнтези,приключения,драма' 'музыка,концерт' 'триллер,драма,боевик'\n",
      " 'комедия,криминал,боевик' 'комедия,фантастика,боевик'\n",
      " 'вестерн,приключения,боевик' 'аниме,мультфильм,комедия'\n",
      " 'детектив,криминал,триллер' 'мультфильм,комедия,криминал'\n",
      " 'комедия,приключения,детектив' 'мелодрама,фантастика,драма'\n",
      " 'драма,комедия,семейный' 'приключения,фантастика'\n",
      " 'триллер,детектив,ужасы' 'комедия,приключения,фэнтези'\n",
      " 'фэнтези,триллер,драма' 'мелодрама,приключения,боевик'\n",
      " 'детектив,триллер,криминал' 'фэнтези,семейный,мелодрама' 'военный,драма'\n",
      " 'документальный,приключения,семейный' 'криминал,комедия,драма'\n",
      " 'комедия,фантастика' 'история,биография,драма' 'мелодрама,драма,музыка'\n",
      " 'боевик,мелодрама' 'комедия,криминал,триллер' 'детектив,триллер,боевик'\n",
      " 'комедия,боевик,криминал' 'комедия,вестерн' 'детский,мелодрама,семейный'\n",
      " 'короткометражка,мультфильм' 'комедия,фэнтези' 'фантастика,драма,ужасы'\n",
      " 'триллер,драма,ужасы' 'драма,фэнтези,история'\n",
      " 'комедия,драма,короткометражка' 'фэнтези,триллер,приключения' 'семейный'\n",
      " 'комедия,криминал,драма' 'комедия,фэнтези,ужасы'\n",
      " 'короткометражка,комедия,криминал' 'фантастика' 'триллер,ужасы,драма'\n",
      " 'мелодрама,драма,фэнтези' 'фантастика,приключения,драма'\n",
      " 'боевик,детектив' 'военный,драма,боевик' 'комедия,мелодрама,фэнтези'\n",
      " 'вестерн,криминал,триллер' 'драма,история,триллер'\n",
      " 'мультфильм,фантастика,боевик' 'детектив,драма,криминал'\n",
      " 'приключения,история,драма' 'мультфильм,семейный,детский'\n",
      " 'биография,драма,история' 'триллер,криминал,боевик' 'история,мелодрама'\n",
      " 'приключения,детский' 'музыка,приключения,концерт'\n",
      " 'военный,драма,комедия' 'фэнтези,боевик,военный'\n",
      " 'фантастика,детектив,боевик' 'мультфильм,фэнтези,история'\n",
      " 'биография,мелодрама,драма' 'документальный,биография,спорт'\n",
      " 'фантастика,комедия,детектив' 'музыка,концерт,документальный'\n",
      " 'триллер,боевик,приключения' 'триллер,драма,комедия' 'детектив,криминал'\n",
      " 'мультфильм,приключения,фэнтези' 'мелодрама,приключения' 'комедия,музыка'\n",
      " 'мелодрама,комедия,ужасы' 'драма,криминал,приключения'\n",
      " 'приключения,детектив,мелодрама' 'драма,криминал,фантастика'\n",
      " 'фэнтези,драма,биография' 'детектив,фантастика,криминал'\n",
      " 'триллер,драма,фантастика' 'ужасы,комедия,боевик' 'мелодрама,история'\n",
      " 'триллер,боевик' 'фильм-нуар,триллер,детектив'\n",
      " 'комедия,криминал,приключения' 'ужасы,триллер,мелодрама'\n",
      " 'военный,драма,история' 'драма,спорт,история'\n",
      " 'документальный,драма,история' 'триллер,мелодрама,детектив'\n",
      " 'детский,семейный' 'мюзикл,семейный,драма' 'биография,военный,драма'\n",
      " 'мультфильм,детский' 'боевик,криминал,драма' 'детектив,фэнтези,триллер'\n",
      " 'драма,боевик,приключения' 'драма,мелодрама,фэнтези'\n",
      " 'детектив,история,драма' 'фэнтези,боевик,ужасы' 'ужасы,фэнтези,мелодрама'\n",
      " 'ужасы,приключения' 'боевик,фантастика' 'ужасы,мелодрама,детектив'\n",
      " 'фантастика,триллер,приключения' 'боевик,приключения,история'\n",
      " 'приключения,боевик,триллер' 'детектив,ужасы,криминал' 'семейный,фэнтези'\n",
      " 'мюзикл,мелодрама' 'драма,военный,приключения'\n",
      " 'фантастика,драма,приключения' 'приключения,семейный,драма'\n",
      " 'история,драма,боевик' 'мультфильм,приключения,комедия'\n",
      " 'криминал,драма,комедия' 'ужасы,комедия,драма'\n",
      " 'комедия,семейный,приключения' 'мюзикл,фэнтези,драма'\n",
      " 'драма,вестерн,боевик' 'фантастика,триллер,детектив'\n",
      " 'драма,история,детектив' 'короткометражка,биография'\n",
      " 'мультфильм,приключения,фантастика' 'комедия,триллер'\n",
      " 'мультфильм,приключения,детектив' 'драма,триллер'\n",
      " 'ужасы,триллер,криминал' 'документальный,криминал,военный'\n",
      " 'ужасы,фэнтези,драма' 'фэнтези,комедия' 'ужасы,фэнтези,комедия'\n",
      " 'комедия,музыка,драма' 'мультфильм,приключения,военный'\n",
      " 'мюзикл,фэнтези,комедия' 'боевик,фантастика,приключения'\n",
      " 'триллер,ужасы,криминал' 'ужасы,фантастика,драма'\n",
      " 'фантастика,приключения,семейный' 'короткометражка,музыка'\n",
      " 'мелодрама,детектив,комедия' 'документальный,триллер,биография'\n",
      " 'боевик,фантастика,триллер' 'спорт,драма,комедия'\n",
      " 'фэнтези,мелодрама,приключения' 'триллер,детектив,криминал'\n",
      " 'короткометражка,мелодрама' 'мультфильм,семейный,спорт'\n",
      " 'комедия,фэнтези,мелодрама' 'драма,спорт,комедия'\n",
      " 'история,драма,мелодрама' 'драма,боевик,криминал' 'драма,комедия,триллер'\n",
      " 'аниме,мультфильм' 'документальный,ужасы' 'мультфильм,короткометражка'\n",
      " 'драма,история,военный' 'мультфильм,короткометражка,фэнтези'\n",
      " 'комедия,военный,музыка' 'биография,история,драма'\n",
      " 'ужасы,драма,мелодрама' 'драма,комедия,детектив'\n",
      " 'комедия,семейный,фантастика' 'мультфильм,семейный,комедия'\n",
      " 'история,детектив' 'приключения,мелодрама,детектив'\n",
      " 'мюзикл,комедия,мелодрама' 'драма,фантастика,ужасы'\n",
      " 'мультфильм,ужасы,комедия' 'для взрослых,драма,комедия'\n",
      " 'ужасы,комедия,музыка' 'комедия,история,драма'\n",
      " 'семейный,детектив,детский' 'короткометражка,драма'\n",
      " 'документальный,новости,драма' 'триллер,мелодрама' 'ужасы,драма,вестерн'\n",
      " 'мюзикл,фэнтези,семейный' 'вестерн,драма,триллер'\n",
      " 'приключения,вестерн,боевик' 'семейный,комедия,музыка'\n",
      " 'боевик,драма,вестерн' 'ужасы,драма,триллер' 'фантастика,мелодрама'\n",
      " 'комедия,криминал,биография' 'семейный,мультфильм,комедия'\n",
      " 'комедия,драма,криминал' 'фантастика,боевик,военный'\n",
      " 'приключения,биография,драма' 'приключения,триллер,биография'\n",
      " 'криминал,боевик,триллер' 'боевик,вестерн,приключения' 'история,драма'\n",
      " 'фантастика,фэнтези,комедия' 'мультфильм,детский,комедия'\n",
      " 'мелодрама,комедия,триллер' 'документальный,боевик,приключения'\n",
      " 'драма,приключения' 'мелодрама,военный,драма' 'триллер,фэнтези'\n",
      " 'драма,триллер,биография' 'фэнтези,боевик,семейный'\n",
      " 'фантастика,триллер,комедия' 'документальный,фэнтези'\n",
      " 'комедия,мультфильм,фантастика' 'криминал,биография,комедия'\n",
      " 'биография,спорт,драма' 'приключения,военный' 'мультфильм,семейный,драма'\n",
      " 'документальный,фэнтези,драма' 'комедия,боевик,фантастика'\n",
      " 'семейный,приключения,военный' 'триллер,ужасы,детектив' 'короткометражка'\n",
      " 'мелодрама,триллер,история' 'документальный,история'\n",
      " 'мультфильм,приключения,детский' 'драма,комедия,мультфильм'\n",
      " 'военный,детектив' 'семейный,приключения,документальный'\n",
      " 'детский,фэнтези' 'документальный,комедия' 'комедия,биография'\n",
      " 'криминал,комедия' 'спорт,мелодрама,криминал' 'фантастика,комедия,боевик'\n",
      " 'боевик,приключения,детектив' 'детектив,триллер,драма'\n",
      " 'документальный,фантастика' 'мелодрама,комедия,семейный'\n",
      " 'мультфильм,мелодрама,комедия' 'драма,спорт,семейный'\n",
      " 'фантастика,мелодрама,фэнтези' 'мюзикл,комедия,музыка'\n",
      " 'фантастика,триллер,мелодрама' 'приключения,комедия,фэнтези'\n",
      " 'фэнтези,боевик,детектив' 'фэнтези,боевик,мелодрама' 'комедия,военный'\n",
      " 'драма,спорт,боевик' 'мультфильм,боевик,триллер' 'мелодрама,семейный'\n",
      " 'фантастика,боевик,детектив' 'драма,приключения,история'\n",
      " 'документальный,драма,музыка' 'фантастика,триллер,боевик'\n",
      " 'фэнтези,боевик,вестерн' 'драма,комедия,мелодрама'\n",
      " 'ужасы,фэнтези,приключения' 'триллер,фэнтези,драма'\n",
      " 'мультфильм,мюзикл,мелодрама' 'ужасы,триллер,фантастика'\n",
      " 'триллер,мелодрама,комедия' 'ужасы,комедия,семейный'\n",
      " 'комедия,приключения,музыка' 'документальный,комедия,криминал'\n",
      " 'мелодрама,детектив' 'детский,приключения,фантастика'\n",
      " 'короткометражка,боевик,драма' 'боевик,комедия,семейный'\n",
      " 'фантастика,боевик,мелодрама' 'фэнтези,триллер,мелодрама'\n",
      " 'драма,детектив,история' 'боевик,криминал,детектив'\n",
      " 'мультфильм,фэнтези,мелодрама' 'мелодрама,драма,боевик'\n",
      " 'драма,вестерн,приключения' 'драма,приключения,мелодрама'\n",
      " 'фэнтези,боевик,криминал' 'фантастика,комедия,семейный'\n",
      " 'детский,фэнтези,приключения' 'ужасы,боевик'\n",
      " 'фантастика,мелодрама,комедия' 'семейный,спорт,боевик'\n",
      " 'триллер,биография,драма' 'ужасы,драма,комедия'\n",
      " 'мультфильм,фэнтези,триллер' 'мюзикл' 'боевик,спорт,драма'\n",
      " 'комедия,приключения,вестерн' 'документальный,ужасы,боевик'\n",
      " 'фантастика,боевик,семейный' 'военный,история' 'ужасы,боевик,криминал'\n",
      " 'детектив,триллер' 'драма,семейный,комедия' 'драма,детектив,приключения'\n",
      " 'драма,криминал,история' 'приключения,триллер' 'боевик,драма,биография'\n",
      " 'драма,приключения,триллер' 'комедия,фэнтези,приключения'\n",
      " 'фантастика,боевик,ужасы' 'драма,комедия,фантастика'\n",
      " 'детектив,криминал,драма' 'боевик,триллер,фэнтези'\n",
      " 'приключения,детектив,семейный' 'ужасы,комедия,криминал'\n",
      " 'мультфильм,биография,драма' 'история,боевик,фэнтези'\n",
      " 'детектив,криминал,боевик' 'приключения,фэнтези'\n",
      " 'комедия,приключения,спорт' 'драма,биография,мюзикл'\n",
      " 'комедия,семейный,фэнтези' 'детектив,драма,триллер'\n",
      " 'боевик,приключения,семейный' 'биография,спорт,комедия'\n",
      " 'фантастика,приключения,военный' 'документальный,драма,биография'\n",
      " 'детектив,приключения,драма' 'аниме,мультфильм,приключения'\n",
      " 'семейный,приключения' 'ужасы,фэнтези,детектив' 'семейный,документальный'\n",
      " 'драма,приключения,семейный' 'приключения,история,военный'\n",
      " 'фэнтези,мелодрама' 'фэнтези,триллер,детектив'\n",
      " 'документальный,спорт,биография' 'комедия,триллер,драма' 'драма,ужасы'\n",
      " 'биография,музыка,драма' 'фэнтези,ужасы' 'детектив,мелодрама,фэнтези'\n",
      " 'боевик,военный,история' 'биография,драма,криминал'\n",
      " 'триллер,мелодрама,криминал' 'семейный,мелодрама' 'биография,драма'\n",
      " 'военный,история,драма' 'фантастика,детектив,фэнтези'\n",
      " 'детектив,приключения,триллер' 'фантастика,приключения'\n",
      " 'мультфильм,короткометражка,мюзикл' 'мультфильм,детский,семейный'\n",
      " 'документальный,драма,комедия' 'комедия,приключения,криминал'\n",
      " 'документальный,семейный,музыка' 'мелодрама,музыка,драма'\n",
      " 'детектив,фантастика,триллер' 'драма,мелодрама,триллер'\n",
      " 'биография,драма,военный' 'приключения,фантастика,драма'\n",
      " 'детектив,фильм-нуар,комедия' 'документальный,спорт'\n",
      " 'триллер,фантастика,драма' 'биография,документальный'\n",
      " 'ужасы,фантастика,мелодрама' 'детектив,комедия'\n",
      " 'история,биография,военный' 'криминал,мелодрама' 'драма,криминал,вестерн'\n",
      " 'мелодрама,семейный,приключения' 'триллер,ужасы,мелодрама'\n",
      " 'фэнтези,драма,фильм-нуар' 'детектив,мелодрама' 'комедия,драма,биография'\n",
      " 'драма,военный,боевик' 'драма,комедия,ужасы' 'фантастика,драма,криминал'\n",
      " 'документальный,музыка,биография' 'мультфильм,боевик,приключения'\n",
      " 'короткометражка,фантастика' 'мультфильм,мелодрама,драма'\n",
      " 'боевик,военный,драма' 'фэнтези,семейный,приключения'\n",
      " 'детский,мультфильм,приключения' 'семейный,фэнтези,комедия'\n",
      " 'фэнтези,ужасы,триллер' 'ужасы,триллер,приключения'\n",
      " 'драма,боевик,история' 'фэнтези,комедия,детектив' 'история,приключения'\n",
      " 'аниме,мультфильм,короткометражка' 'драма,военный,триллер'\n",
      " 'биография,криминал,триллер' 'фантастика,фэнтези,детектив'\n",
      " 'вестерн,биография,драма' 'биография,музыка,мюзикл'\n",
      " 'драма,история,биография' 'приключения,драма,фантастика'\n",
      " 'комедия,фэнтези,криминал' 'биография,спорт,история'\n",
      " 'драма,криминал,семейный' 'детектив,боевик,история'\n",
      " 'ужасы,комедия,детектив' 'триллер,приключения,драма'\n",
      " 'фэнтези,комедия,криминал' 'триллер,криминал,приключения'\n",
      " 'комедия,детектив,приключения' 'фэнтези,драма,ужасы'\n",
      " 'ужасы,драма,военный' 'реальное ТВ' 'аниме,мультфильм,детектив'\n",
      " 'приключения,фэнтези,семейный' 'драма,биография,комедия'\n",
      " 'триллер,комедия,ужасы' 'музыка,мелодрама,фэнтези' 'мультфильм,история'\n",
      " 'мультфильм,комедия,фантастика' 'биография,криминал,драма'\n",
      " 'комедия,мелодрама,фантастика' 'криминал,боевик,комедия'\n",
      " 'история,криминал' 'детектив,комедия,драма' 'триллер,фантастика,боевик'\n",
      " 'криминал,боевик' 'комедия,драма,военный' 'драма,триллер,криминал'\n",
      " 'мультфильм,мелодрама,приключения' 'фантастика,фэнтези,триллер'\n",
      " 'короткометражка,драма,триллер' 'военный,боевик,история'\n",
      " 'боевик,драма,триллер' 'документальный,военный,драма'\n",
      " 'драма,криминал,фильм-нуар' 'мультфильм,детский,приключения'\n",
      " 'мелодрама,история,драма']\n"
     ]
    }
   ],
   "source": [
    "for i in ['type', 'production_country', 'age_restriction', 'financing_source', 'genres']:\n",
    "    print('Столбец', i)\n",
    "    print(mkrf_movies_final[i].unique())"
   ]
  },
  {
   "cell_type": "markdown",
   "metadata": {},
   "source": [
    "Вывод:  \n",
    "В почти всех столбцах с категорийными данными встречаются лишние пробелы, либо информация указана через запятую без пробелов. По столбцам production_country и genres несколько значений указаны в одной строке. При необходимости их можно упорядочить."
   ]
  },
  {
   "cell_type": "markdown",
   "metadata": {},
   "source": [
    "**Исправим проблемные значения в поле type**"
   ]
  },
  {
   "cell_type": "code",
   "execution_count": 308,
   "metadata": {},
   "outputs": [
    {
     "data": {
      "text/plain": [
       "array(['Художественный', 'Анимационный', 'Прочие', 'Документальный',\n",
       "       'Научно-популярный', 'Музыкально-развлекательный'], dtype=object)"
      ]
     },
     "execution_count": 308,
     "metadata": {},
     "output_type": "execute_result"
    }
   ],
   "source": [
    "mkrf_movies_final['type'] = mkrf_movies_final['type'].str.strip()\n",
    "mkrf_movies_final['type'].unique()"
   ]
  },
  {
   "cell_type": "markdown",
   "metadata": {
    "id": "XFSN5lrEgFyR"
   },
   "source": [
    "#### Шаг 2.5. Проверьте количественные значения\n",
    "\n",
    "- Проверьте, обнаружились ли в таких столбцах подозрительные данные. Как с такими данными лучше поступить?\n",
    "\n",
    "<div id=\"accordion\">\n",
    "    <div class=\"card\">\n",
    "        <div class=\"card-header\" id=\"headingThree\">\n",
    "            <button class=\"btn btn-link collapsed\" data-toggle=\"collapse\" data-target=\"#collapseHint_budget\" aria-expanded=\"false\" aria-controls=\"collapseHint_budget\">Подсказка</button>\n",
    "        </div>\n",
    "        <div id=\"collapseHint_budget\" class=\"collapse\" aria-labelledby=\"headingThree\" data-parent=\"#accordion\">\n",
    "            <div class=\"card-body\">\n",
    "Обратите внимание на описание столбца <code>budget</code>. Как этот столбец соотносится с двумя другими: <code>refundable_support</code> и <code>nonrefundable_support</code>?\n",
    "            </div>\n",
    "        </div>\n",
    "    </div>\n",
    "</div>"
   ]
  },
  {
   "cell_type": "markdown",
   "metadata": {
    "id": "YbzClBxagFyS"
   },
   "source": [
    "Столбец budget включает полный объем государственной поддержки, соответственно, данный столбец всегда должен быть заполенен при наличии значения хотя бы в одном из столбцов refundable_support или nonrefundable_support. Проверим данную гипотезу."
   ]
  },
  {
   "cell_type": "code",
   "execution_count": 309,
   "metadata": {
    "scrolled": true
   },
   "outputs": [
    {
     "data": {
      "text/html": [
       "<div>\n",
       "<style scoped>\n",
       "    .dataframe tbody tr th:only-of-type {\n",
       "        vertical-align: middle;\n",
       "    }\n",
       "\n",
       "    .dataframe tbody tr th {\n",
       "        vertical-align: top;\n",
       "    }\n",
       "\n",
       "    .dataframe thead th {\n",
       "        text-align: right;\n",
       "    }\n",
       "</style>\n",
       "<table border=\"1\" class=\"dataframe\">\n",
       "  <thead>\n",
       "    <tr style=\"text-align: right;\">\n",
       "      <th></th>\n",
       "      <th>title</th>\n",
       "      <th>puNumber</th>\n",
       "      <th>show_start_date</th>\n",
       "      <th>type</th>\n",
       "      <th>film_studio</th>\n",
       "      <th>production_country</th>\n",
       "      <th>director</th>\n",
       "      <th>producer</th>\n",
       "      <th>age_restriction</th>\n",
       "      <th>refundable_support</th>\n",
       "      <th>nonrefundable_support</th>\n",
       "      <th>budget</th>\n",
       "      <th>financing_source</th>\n",
       "      <th>ratings</th>\n",
       "      <th>genres</th>\n",
       "      <th>box_office</th>\n",
       "    </tr>\n",
       "  </thead>\n",
       "  <tbody>\n",
       "    <tr>\n",
       "      <th>2053</th>\n",
       "      <td>14+</td>\n",
       "      <td>111023614</td>\n",
       "      <td>2014-12-19 12:00:00+00:00</td>\n",
       "      <td>Художественный</td>\n",
       "      <td>ООО Киностудия  \"Сентябрь\"</td>\n",
       "      <td>Россия</td>\n",
       "      <td>А.Зайцев</td>\n",
       "      <td>О.Гранина, А.Зайцев</td>\n",
       "      <td>«16+» - для детей старше 16 лет</td>\n",
       "      <td>0.0</td>\n",
       "      <td>23000000.0</td>\n",
       "      <td>0.0</td>\n",
       "      <td>Министерство культуры, Фонд кино</td>\n",
       "      <td>6.6</td>\n",
       "      <td>мелодрама</td>\n",
       "      <td>1.023402e+07</td>\n",
       "    </tr>\n",
       "    <tr>\n",
       "      <th>2058</th>\n",
       "      <td>Дуxless 2</td>\n",
       "      <td>111000415</td>\n",
       "      <td>2015-01-26 12:00:00+00:00</td>\n",
       "      <td>Художественный</td>\n",
       "      <td>ООО \"Киностудия \"Слово\", ООО \"Арт Пикчерс Студия\"</td>\n",
       "      <td>Россия</td>\n",
       "      <td>Р.Прыгунов</td>\n",
       "      <td>П.Ануров, Ф.Бондарчук, Д.Рудовский</td>\n",
       "      <td>«16+» - для детей старше 16 лет</td>\n",
       "      <td>0.0</td>\n",
       "      <td>75000000.0</td>\n",
       "      <td>0.0</td>\n",
       "      <td>Фонд кино</td>\n",
       "      <td>6.6</td>\n",
       "      <td>драма</td>\n",
       "      <td>4.461635e+08</td>\n",
       "    </tr>\n",
       "    <tr>\n",
       "      <th>2472</th>\n",
       "      <td>Воин (2015)</td>\n",
       "      <td>111017315</td>\n",
       "      <td>2015-09-28 12:00:00+00:00</td>\n",
       "      <td>Художественный</td>\n",
       "      <td>ООО \"Форпост Продакшн\", ООО \"Арт Пикчерс Студия\"</td>\n",
       "      <td>Россия</td>\n",
       "      <td>А.Андрианов</td>\n",
       "      <td>ООО \"Арт Пикчерс Студия\"</td>\n",
       "      <td>«12+» - для детей старше 12 лет</td>\n",
       "      <td>10000000.0</td>\n",
       "      <td>70000000.0</td>\n",
       "      <td>0.0</td>\n",
       "      <td>Фонд кино</td>\n",
       "      <td>7.8</td>\n",
       "      <td>боевик,драма,криминал</td>\n",
       "      <td>1.965724e+08</td>\n",
       "    </tr>\n",
       "    <tr>\n",
       "      <th>2532</th>\n",
       "      <td>Бармен.</td>\n",
       "      <td>111009615</td>\n",
       "      <td>2015-05-26 12:00:00+00:00</td>\n",
       "      <td>Художественный</td>\n",
       "      <td>АО \"ВайТ Медиа\", ООО \"Арт Пикчерс Студия\"</td>\n",
       "      <td>Россия</td>\n",
       "      <td>Д.Штурманова</td>\n",
       "      <td>Т.Вайнштейн</td>\n",
       "      <td>«16+» - для детей старше 16 лет</td>\n",
       "      <td>20000000.0</td>\n",
       "      <td>0.0</td>\n",
       "      <td>0.0</td>\n",
       "      <td>Фонд кино</td>\n",
       "      <td>6.2</td>\n",
       "      <td>комедия,фэнтези</td>\n",
       "      <td>6.741897e+07</td>\n",
       "    </tr>\n",
       "    <tr>\n",
       "      <th>2615</th>\n",
       "      <td>Савва. Сердце воина</td>\n",
       "      <td>114001715</td>\n",
       "      <td>2015-07-21 12:00:00+00:00</td>\n",
       "      <td>Анимационный</td>\n",
       "      <td>ООО \"Глюкоза Продакшн\", ООО \"Арт Пикчерс Студия\"</td>\n",
       "      <td>Россия</td>\n",
       "      <td>М.Фадеев</td>\n",
       "      <td>А.Чистяков</td>\n",
       "      <td>«6+» - для детей старше 6 лет</td>\n",
       "      <td>60000000.0</td>\n",
       "      <td>100000000.0</td>\n",
       "      <td>0.0</td>\n",
       "      <td>Фонд кино</td>\n",
       "      <td>4.6</td>\n",
       "      <td>мультфильм,приключения,фэнтези</td>\n",
       "      <td>1.844876e+08</td>\n",
       "    </tr>\n",
       "    <tr>\n",
       "      <th>2684</th>\n",
       "      <td>Тряпичный союз</td>\n",
       "      <td>111010215</td>\n",
       "      <td>2015-06-08 12:00:00+00:00</td>\n",
       "      <td>Художественный</td>\n",
       "      <td>ООО \"Кинокомпания \"КОКТЕБЕЛЬ\"</td>\n",
       "      <td>Россия</td>\n",
       "      <td>М.Местецкий</td>\n",
       "      <td>Р.Борисевич, А.Кушаев</td>\n",
       "      <td>«18+» - запрещено для детей</td>\n",
       "      <td>0.0</td>\n",
       "      <td>59000000.0</td>\n",
       "      <td>0.0</td>\n",
       "      <td>Фонд кино</td>\n",
       "      <td>6.3</td>\n",
       "      <td>комедия,драма</td>\n",
       "      <td>1.957739e+06</td>\n",
       "    </tr>\n",
       "    <tr>\n",
       "      <th>2788</th>\n",
       "      <td>Срочно выйду замуж</td>\n",
       "      <td>111017115</td>\n",
       "      <td>2015-09-30 12:00:00+00:00</td>\n",
       "      <td>Художественный</td>\n",
       "      <td>АО \"ВайТ Медиа\", ООО \"Арт Пикчерс Студия\"</td>\n",
       "      <td>Россия</td>\n",
       "      <td>С Чекалов</td>\n",
       "      <td>Ф.Бондарчук, Т.Вайнштейн, Д.Рудовский</td>\n",
       "      <td>«16+» - для детей старше 16 лет</td>\n",
       "      <td>0.0</td>\n",
       "      <td>35000000.0</td>\n",
       "      <td>0.0</td>\n",
       "      <td>Фонд кино</td>\n",
       "      <td>5.1</td>\n",
       "      <td>комедия,мелодрама</td>\n",
       "      <td>7.293778e+07</td>\n",
       "    </tr>\n",
       "    <tr>\n",
       "      <th>2874</th>\n",
       "      <td>Помню - не помню!</td>\n",
       "      <td>111004916</td>\n",
       "      <td>2016-03-01 12:00:00+00:00</td>\n",
       "      <td>Художественный</td>\n",
       "      <td>ООО \"КиноФирма\"</td>\n",
       "      <td>Россия</td>\n",
       "      <td>В.Ровенский</td>\n",
       "      <td>ООО \"КиноФирма\"</td>\n",
       "      <td>«12+» - для детей старше 12 лет</td>\n",
       "      <td>0.0</td>\n",
       "      <td>6000000.0</td>\n",
       "      <td>0.0</td>\n",
       "      <td>Министерство культуры</td>\n",
       "      <td>4.3</td>\n",
       "      <td>комедия</td>\n",
       "      <td>1.536293e+07</td>\n",
       "    </tr>\n",
       "    <tr>\n",
       "      <th>3047</th>\n",
       "      <td>Любовь с ограничениями</td>\n",
       "      <td>111008216</td>\n",
       "      <td>2016-04-29 12:00:00+00:00</td>\n",
       "      <td>Художественный</td>\n",
       "      <td>АО \"ВайТ Медиа\", ООО \"Арт Пикчерс Студия\"</td>\n",
       "      <td>Россия</td>\n",
       "      <td>Д.Тюрин</td>\n",
       "      <td>Ф.Бондарчук, Т.Вайнштейн, Д.Рудовский</td>\n",
       "      <td>«16+» - для детей старше 16 лет</td>\n",
       "      <td>19000000.0</td>\n",
       "      <td>51000000.0</td>\n",
       "      <td>0.0</td>\n",
       "      <td>Фонд кино</td>\n",
       "      <td>6.3</td>\n",
       "      <td>комедия,мелодрама</td>\n",
       "      <td>7.029905e+07</td>\n",
       "    </tr>\n",
       "    <tr>\n",
       "      <th>3565</th>\n",
       "      <td>Притяжение (2016)</td>\n",
       "      <td>111018116</td>\n",
       "      <td>2016-12-16 12:00:00+00:00</td>\n",
       "      <td>Художественный</td>\n",
       "      <td>ООО \"Водород 2011\",  ООО \"Арт Пикчерс Студия\"</td>\n",
       "      <td>Россия</td>\n",
       "      <td>Ф.Бондарчук</td>\n",
       "      <td>ООО \"Арт Пикчерс Студия\"</td>\n",
       "      <td>«12+» - для детей старше 12 лет</td>\n",
       "      <td>0.0</td>\n",
       "      <td>250000000.0</td>\n",
       "      <td>0.0</td>\n",
       "      <td>Фонд кино</td>\n",
       "      <td>5.6</td>\n",
       "      <td>фантастика</td>\n",
       "      <td>1.038321e+09</td>\n",
       "    </tr>\n",
       "    <tr>\n",
       "      <th>3675</th>\n",
       "      <td>Чудо-юдо</td>\n",
       "      <td>114001817</td>\n",
       "      <td>2017-06-27 12:00:00+00:00</td>\n",
       "      <td>Анимационный</td>\n",
       "      <td>ООО \"КиноФирма\"</td>\n",
       "      <td>Россия</td>\n",
       "      <td>А.Лукичев</td>\n",
       "      <td>ООО \"КиноФирма\"</td>\n",
       "      <td>«6+» - для детей старше 6 лет</td>\n",
       "      <td>20000000.0</td>\n",
       "      <td>20000000.0</td>\n",
       "      <td>0.0</td>\n",
       "      <td>Фонд кино</td>\n",
       "      <td>5.2</td>\n",
       "      <td>мультфильм,фэнтези,семейный</td>\n",
       "      <td>5.510801e+07</td>\n",
       "    </tr>\n",
       "    <tr>\n",
       "      <th>3739</th>\n",
       "      <td>Мифы</td>\n",
       "      <td>111004317</td>\n",
       "      <td>2017-06-07 12:00:00+00:00</td>\n",
       "      <td>Художественный</td>\n",
       "      <td>ООО \"ХАЙПФИЛМ\", ООО \"Арт Пикчерс Студия\"</td>\n",
       "      <td>Россия</td>\n",
       "      <td>А.Молочников</td>\n",
       "      <td>Ф.Бондарчук, Д.Рудовский, И.Стюарт, М.Османн, ...</td>\n",
       "      <td>«16+» - для детей старше 16 лет</td>\n",
       "      <td>25000000.0</td>\n",
       "      <td>20000000.0</td>\n",
       "      <td>0.0</td>\n",
       "      <td>Фонд кино</td>\n",
       "      <td>4.8</td>\n",
       "      <td>комедия</td>\n",
       "      <td>5.045195e+07</td>\n",
       "    </tr>\n",
       "    <tr>\n",
       "      <th>5673</th>\n",
       "      <td>Селфи</td>\n",
       "      <td>111012117</td>\n",
       "      <td>2018-02-01 12:00:00+00:00</td>\n",
       "      <td>Художественный</td>\n",
       "      <td>ООО \"Киностудия \"Слово\", ООО \"Арт Пикчерс Студия\"</td>\n",
       "      <td>Россия</td>\n",
       "      <td>Н.Хомерики</td>\n",
       "      <td>П.Ануров, Ф.Бондарчук, Д.Рудовский</td>\n",
       "      <td>«16+» - для детей старше 16 лет</td>\n",
       "      <td>20000000.0</td>\n",
       "      <td>40000000.0</td>\n",
       "      <td>0.0</td>\n",
       "      <td>Фонд кино</td>\n",
       "      <td>5.8</td>\n",
       "      <td>триллер,драма</td>\n",
       "      <td>2.251964e+08</td>\n",
       "    </tr>\n",
       "    <tr>\n",
       "      <th>5806</th>\n",
       "      <td>Два хвоста</td>\n",
       "      <td>114001018</td>\n",
       "      <td>2018-05-31 12:00:00+00:00</td>\n",
       "      <td>Анимационный</td>\n",
       "      <td>ООО \"ЛИЦЕНЗИОННЫЕ БРЕНДЫ\"</td>\n",
       "      <td>Россия</td>\n",
       "      <td>В.Ровенский, Н.Лопато, В.Азеев</td>\n",
       "      <td>ООО \"ЛИЦЕНЗИОННЫЕ БРЕНДЫ\"</td>\n",
       "      <td>«6+» - для детей старше 6 лет</td>\n",
       "      <td>10000000.0</td>\n",
       "      <td>60000000.0</td>\n",
       "      <td>0.0</td>\n",
       "      <td>Фонд кино</td>\n",
       "      <td>5.0</td>\n",
       "      <td>мультфильм,детский</td>\n",
       "      <td>1.065143e+08</td>\n",
       "    </tr>\n",
       "    <tr>\n",
       "      <th>6008</th>\n",
       "      <td>Принцесса и дракон</td>\n",
       "      <td>114003018</td>\n",
       "      <td>2018-08-23 12:00:00+00:00</td>\n",
       "      <td>Анимационный</td>\n",
       "      <td>ООО \"ЛИЦЕНЗИОННЫЕ БРЕНДЫ\"</td>\n",
       "      <td>Россия</td>\n",
       "      <td>М.Нефедова</td>\n",
       "      <td>ООО \"ЛИЦЕНЗИОННЫЕ БРЕНДЫ\"</td>\n",
       "      <td>«6+» - для детей старше 6 лет</td>\n",
       "      <td>40000000.0</td>\n",
       "      <td>40000000.0</td>\n",
       "      <td>0.0</td>\n",
       "      <td>Фонд кино</td>\n",
       "      <td>5.2</td>\n",
       "      <td>мультфильм,фэнтези,детский</td>\n",
       "      <td>8.336633e+07</td>\n",
       "    </tr>\n",
       "    <tr>\n",
       "      <th>6323</th>\n",
       "      <td>Баба Яга</td>\n",
       "      <td>114006518</td>\n",
       "      <td>2018-11-08 12:00:00+00:00</td>\n",
       "      <td>Анимационный</td>\n",
       "      <td>ООО \"Арт Пикчерс Студия\"</td>\n",
       "      <td>Россия</td>\n",
       "      <td>В.Саков</td>\n",
       "      <td>ООО \"Арт Пикчерс Студия\", ООО \"КРИЭЙТИВ АНИМЭЙ...</td>\n",
       "      <td>«6+» - для детей старше 6 лет</td>\n",
       "      <td>0.0</td>\n",
       "      <td>138969465.0</td>\n",
       "      <td>0.0</td>\n",
       "      <td>Фонд кино</td>\n",
       "      <td>NaN</td>\n",
       "      <td></td>\n",
       "      <td>1.334699e+06</td>\n",
       "    </tr>\n",
       "    <tr>\n",
       "      <th>6823</th>\n",
       "      <td>Большое путешествие</td>\n",
       "      <td>114002419</td>\n",
       "      <td>2019-04-20 12:00:00+00:00</td>\n",
       "      <td>Анимационный</td>\n",
       "      <td>ООО \"ЛИЦЕНЗИОННЫЕ БРЕНДЫ\"</td>\n",
       "      <td>Россия</td>\n",
       "      <td>Н.Лопато, В.Ровенский</td>\n",
       "      <td>ООО \"ЛИЦЕНЗИОННЫЕ БРЕНДЫ\"</td>\n",
       "      <td>«6+» - для детей старше 6 лет</td>\n",
       "      <td>60000000.0</td>\n",
       "      <td>120000000.0</td>\n",
       "      <td>0.0</td>\n",
       "      <td>Фонд кино</td>\n",
       "      <td>6.2</td>\n",
       "      <td>мультфильм,комедия,приключения</td>\n",
       "      <td>1.476068e+08</td>\n",
       "    </tr>\n",
       "  </tbody>\n",
       "</table>\n",
       "</div>"
      ],
      "text/plain": [
       "                       title   puNumber           show_start_date  \\\n",
       "2053                     14+  111023614 2014-12-19 12:00:00+00:00   \n",
       "2058               Дуxless 2  111000415 2015-01-26 12:00:00+00:00   \n",
       "2472             Воин (2015)  111017315 2015-09-28 12:00:00+00:00   \n",
       "2532                 Бармен.  111009615 2015-05-26 12:00:00+00:00   \n",
       "2615     Савва. Сердце воина  114001715 2015-07-21 12:00:00+00:00   \n",
       "2684          Тряпичный союз  111010215 2015-06-08 12:00:00+00:00   \n",
       "2788      Срочно выйду замуж  111017115 2015-09-30 12:00:00+00:00   \n",
       "2874       Помню - не помню!  111004916 2016-03-01 12:00:00+00:00   \n",
       "3047  Любовь с ограничениями  111008216 2016-04-29 12:00:00+00:00   \n",
       "3565       Притяжение (2016)  111018116 2016-12-16 12:00:00+00:00   \n",
       "3675                Чудо-юдо  114001817 2017-06-27 12:00:00+00:00   \n",
       "3739                    Мифы  111004317 2017-06-07 12:00:00+00:00   \n",
       "5673                   Селфи  111012117 2018-02-01 12:00:00+00:00   \n",
       "5806              Два хвоста  114001018 2018-05-31 12:00:00+00:00   \n",
       "6008      Принцесса и дракон  114003018 2018-08-23 12:00:00+00:00   \n",
       "6323                Баба Яга  114006518 2018-11-08 12:00:00+00:00   \n",
       "6823     Большое путешествие  114002419 2019-04-20 12:00:00+00:00   \n",
       "\n",
       "                type                                        film_studio  \\\n",
       "2053  Художественный                         ООО Киностудия  \"Сентябрь\"   \n",
       "2058  Художественный  ООО \"Киностудия \"Слово\", ООО \"Арт Пикчерс Студия\"   \n",
       "2472  Художественный   ООО \"Форпост Продакшн\", ООО \"Арт Пикчерс Студия\"   \n",
       "2532  Художественный          АО \"ВайТ Медиа\", ООО \"Арт Пикчерс Студия\"   \n",
       "2615    Анимационный   ООО \"Глюкоза Продакшн\", ООО \"Арт Пикчерс Студия\"   \n",
       "2684  Художественный                      ООО \"Кинокомпания \"КОКТЕБЕЛЬ\"   \n",
       "2788  Художественный          АО \"ВайТ Медиа\", ООО \"Арт Пикчерс Студия\"   \n",
       "2874  Художественный                                    ООО \"КиноФирма\"   \n",
       "3047  Художественный          АО \"ВайТ Медиа\", ООО \"Арт Пикчерс Студия\"   \n",
       "3565  Художественный      ООО \"Водород 2011\",  ООО \"Арт Пикчерс Студия\"   \n",
       "3675    Анимационный                                    ООО \"КиноФирма\"   \n",
       "3739  Художественный           ООО \"ХАЙПФИЛМ\", ООО \"Арт Пикчерс Студия\"   \n",
       "5673  Художественный  ООО \"Киностудия \"Слово\", ООО \"Арт Пикчерс Студия\"   \n",
       "5806    Анимационный                          ООО \"ЛИЦЕНЗИОННЫЕ БРЕНДЫ\"   \n",
       "6008    Анимационный                          ООО \"ЛИЦЕНЗИОННЫЕ БРЕНДЫ\"   \n",
       "6323    Анимационный                           ООО \"Арт Пикчерс Студия\"   \n",
       "6823    Анимационный                          ООО \"ЛИЦЕНЗИОННЫЕ БРЕНДЫ\"   \n",
       "\n",
       "     production_country                        director  \\\n",
       "2053             Россия                        А.Зайцев   \n",
       "2058             Россия                      Р.Прыгунов   \n",
       "2472             Россия                     А.Андрианов   \n",
       "2532             Россия                    Д.Штурманова   \n",
       "2615             Россия                        М.Фадеев   \n",
       "2684             Россия                     М.Местецкий   \n",
       "2788             Россия                       С Чекалов   \n",
       "2874             Россия                     В.Ровенский   \n",
       "3047             Россия                         Д.Тюрин   \n",
       "3565             Россия                     Ф.Бондарчук   \n",
       "3675             Россия                       А.Лукичев   \n",
       "3739             Россия                    А.Молочников   \n",
       "5673             Россия                      Н.Хомерики   \n",
       "5806             Россия  В.Ровенский, Н.Лопато, В.Азеев   \n",
       "6008             Россия                      М.Нефедова   \n",
       "6323             Россия                         В.Саков   \n",
       "6823             Россия           Н.Лопато, В.Ровенский   \n",
       "\n",
       "                                               producer  \\\n",
       "2053                                О.Гранина, А.Зайцев   \n",
       "2058                 П.Ануров, Ф.Бондарчук, Д.Рудовский   \n",
       "2472                           ООО \"Арт Пикчерс Студия\"   \n",
       "2532                                        Т.Вайнштейн   \n",
       "2615                                         А.Чистяков   \n",
       "2684                              Р.Борисевич, А.Кушаев   \n",
       "2788              Ф.Бондарчук, Т.Вайнштейн, Д.Рудовский   \n",
       "2874                                    ООО \"КиноФирма\"   \n",
       "3047              Ф.Бондарчук, Т.Вайнштейн, Д.Рудовский   \n",
       "3565                           ООО \"Арт Пикчерс Студия\"   \n",
       "3675                                    ООО \"КиноФирма\"   \n",
       "3739  Ф.Бондарчук, Д.Рудовский, И.Стюарт, М.Османн, ...   \n",
       "5673                 П.Ануров, Ф.Бондарчук, Д.Рудовский   \n",
       "5806                          ООО \"ЛИЦЕНЗИОННЫЕ БРЕНДЫ\"   \n",
       "6008                          ООО \"ЛИЦЕНЗИОННЫЕ БРЕНДЫ\"   \n",
       "6323  ООО \"Арт Пикчерс Студия\", ООО \"КРИЭЙТИВ АНИМЭЙ...   \n",
       "6823                          ООО \"ЛИЦЕНЗИОННЫЕ БРЕНДЫ\"   \n",
       "\n",
       "                      age_restriction  refundable_support  \\\n",
       "2053  «16+» - для детей старше 16 лет                 0.0   \n",
       "2058  «16+» - для детей старше 16 лет                 0.0   \n",
       "2472  «12+» - для детей старше 12 лет          10000000.0   \n",
       "2532  «16+» - для детей старше 16 лет          20000000.0   \n",
       "2615    «6+» - для детей старше 6 лет          60000000.0   \n",
       "2684      «18+» - запрещено для детей                 0.0   \n",
       "2788  «16+» - для детей старше 16 лет                 0.0   \n",
       "2874  «12+» - для детей старше 12 лет                 0.0   \n",
       "3047  «16+» - для детей старше 16 лет          19000000.0   \n",
       "3565  «12+» - для детей старше 12 лет                 0.0   \n",
       "3675    «6+» - для детей старше 6 лет          20000000.0   \n",
       "3739  «16+» - для детей старше 16 лет          25000000.0   \n",
       "5673  «16+» - для детей старше 16 лет          20000000.0   \n",
       "5806    «6+» - для детей старше 6 лет          10000000.0   \n",
       "6008    «6+» - для детей старше 6 лет          40000000.0   \n",
       "6323    «6+» - для детей старше 6 лет                 0.0   \n",
       "6823    «6+» - для детей старше 6 лет          60000000.0   \n",
       "\n",
       "      nonrefundable_support  budget                  financing_source  \\\n",
       "2053             23000000.0     0.0  Министерство культуры, Фонд кино   \n",
       "2058             75000000.0     0.0                         Фонд кино   \n",
       "2472             70000000.0     0.0                         Фонд кино   \n",
       "2532                    0.0     0.0                         Фонд кино   \n",
       "2615            100000000.0     0.0                         Фонд кино   \n",
       "2684             59000000.0     0.0                         Фонд кино   \n",
       "2788             35000000.0     0.0                         Фонд кино   \n",
       "2874              6000000.0     0.0             Министерство культуры   \n",
       "3047             51000000.0     0.0                         Фонд кино   \n",
       "3565            250000000.0     0.0                         Фонд кино   \n",
       "3675             20000000.0     0.0                         Фонд кино   \n",
       "3739             20000000.0     0.0                         Фонд кино   \n",
       "5673             40000000.0     0.0                         Фонд кино   \n",
       "5806             60000000.0     0.0                         Фонд кино   \n",
       "6008             40000000.0     0.0                         Фонд кино   \n",
       "6323            138969465.0     0.0                         Фонд кино   \n",
       "6823            120000000.0     0.0                         Фонд кино   \n",
       "\n",
       "      ratings                          genres    box_office  \n",
       "2053      6.6                       мелодрама  1.023402e+07  \n",
       "2058      6.6                           драма  4.461635e+08  \n",
       "2472      7.8           боевик,драма,криминал  1.965724e+08  \n",
       "2532      6.2                 комедия,фэнтези  6.741897e+07  \n",
       "2615      4.6  мультфильм,приключения,фэнтези  1.844876e+08  \n",
       "2684      6.3                   комедия,драма  1.957739e+06  \n",
       "2788      5.1               комедия,мелодрама  7.293778e+07  \n",
       "2874      4.3                         комедия  1.536293e+07  \n",
       "3047      6.3               комедия,мелодрама  7.029905e+07  \n",
       "3565      5.6                      фантастика  1.038321e+09  \n",
       "3675      5.2     мультфильм,фэнтези,семейный  5.510801e+07  \n",
       "3739      4.8                         комедия  5.045195e+07  \n",
       "5673      5.8                   триллер,драма  2.251964e+08  \n",
       "5806      5.0              мультфильм,детский  1.065143e+08  \n",
       "6008      5.2      мультфильм,фэнтези,детский  8.336633e+07  \n",
       "6323      NaN                                  1.334699e+06  \n",
       "6823      6.2  мультфильм,комедия,приключения  1.476068e+08  "
      ]
     },
     "execution_count": 309,
     "metadata": {},
     "output_type": "execute_result"
    }
   ],
   "source": [
    "budget_check_up = mkrf_movies_final[mkrf_movies_final['budget'] < \n",
    "                                    (mkrf_movies_final['refundable_support'] + \n",
    "                                     mkrf_movies_final['nonrefundable_support'])]\n",
    "budget_check_up"
   ]
  },
  {
   "cell_type": "markdown",
   "metadata": {},
   "source": [
    "Есть аномальные пропуски в столбце с бюджетом по фильмам с государственной поддержкой, которые нужно заполнить.<br>\n",
    "Вычислим медианный % государственной поддержки в общем бюджете фильмов с поддержкой и заполним пропущенные значения по столбцу budget."
   ]
  },
  {
   "cell_type": "code",
   "execution_count": 310,
   "metadata": {
    "scrolled": true
   },
   "outputs": [
    {
     "name": "stdout",
     "output_type": "stream",
     "text": [
      "Медианная доля государственной поддержки в бюджете составляет 61.40376284219444\n"
     ]
    }
   ],
   "source": [
    "mkrf_movies_final['support_ratio'] = ((mkrf_movies_final['refundable_support'] +\n",
    "                                      mkrf_movies_final['nonrefundable_support']) / mkrf_movies_final['budget']) * 100\n",
    "support_ratio = mkrf_movies_final['support_ratio'].median()\n",
    "print('Медианная доля государственной поддержки в бюджете составляет', support_ratio)"
   ]
  },
  {
   "cell_type": "code",
   "execution_count": 311,
   "metadata": {
    "scrolled": true
   },
   "outputs": [
    {
     "data": {
      "text/html": [
       "<div>\n",
       "<style scoped>\n",
       "    .dataframe tbody tr th:only-of-type {\n",
       "        vertical-align: middle;\n",
       "    }\n",
       "\n",
       "    .dataframe tbody tr th {\n",
       "        vertical-align: top;\n",
       "    }\n",
       "\n",
       "    .dataframe thead th {\n",
       "        text-align: right;\n",
       "    }\n",
       "</style>\n",
       "<table border=\"1\" class=\"dataframe\">\n",
       "  <thead>\n",
       "    <tr style=\"text-align: right;\">\n",
       "      <th></th>\n",
       "      <th>title</th>\n",
       "      <th>puNumber</th>\n",
       "      <th>show_start_date</th>\n",
       "      <th>type</th>\n",
       "      <th>film_studio</th>\n",
       "      <th>production_country</th>\n",
       "      <th>director</th>\n",
       "      <th>producer</th>\n",
       "      <th>age_restriction</th>\n",
       "      <th>refundable_support</th>\n",
       "      <th>nonrefundable_support</th>\n",
       "      <th>budget</th>\n",
       "      <th>financing_source</th>\n",
       "      <th>ratings</th>\n",
       "      <th>genres</th>\n",
       "      <th>box_office</th>\n",
       "      <th>support_ratio</th>\n",
       "    </tr>\n",
       "  </thead>\n",
       "  <tbody>\n",
       "    <tr>\n",
       "      <th>2053</th>\n",
       "      <td>14+</td>\n",
       "      <td>111023614</td>\n",
       "      <td>2014-12-19 12:00:00+00:00</td>\n",
       "      <td>Художественный</td>\n",
       "      <td>ООО Киностудия  \"Сентябрь\"</td>\n",
       "      <td>Россия</td>\n",
       "      <td>А.Зайцев</td>\n",
       "      <td>О.Гранина, А.Зайцев</td>\n",
       "      <td>«16+» - для детей старше 16 лет</td>\n",
       "      <td>0.0</td>\n",
       "      <td>23000000.0</td>\n",
       "      <td>23000000.0</td>\n",
       "      <td>Министерство культуры, Фонд кино</td>\n",
       "      <td>6.6</td>\n",
       "      <td>мелодрама</td>\n",
       "      <td>1.023402e+07</td>\n",
       "      <td>inf</td>\n",
       "    </tr>\n",
       "    <tr>\n",
       "      <th>2058</th>\n",
       "      <td>Дуxless 2</td>\n",
       "      <td>111000415</td>\n",
       "      <td>2015-01-26 12:00:00+00:00</td>\n",
       "      <td>Художественный</td>\n",
       "      <td>ООО \"Киностудия \"Слово\", ООО \"Арт Пикчерс Студия\"</td>\n",
       "      <td>Россия</td>\n",
       "      <td>Р.Прыгунов</td>\n",
       "      <td>П.Ануров, Ф.Бондарчук, Д.Рудовский</td>\n",
       "      <td>«16+» - для детей старше 16 лет</td>\n",
       "      <td>0.0</td>\n",
       "      <td>75000000.0</td>\n",
       "      <td>75000000.0</td>\n",
       "      <td>Фонд кино</td>\n",
       "      <td>6.6</td>\n",
       "      <td>драма</td>\n",
       "      <td>4.461635e+08</td>\n",
       "      <td>inf</td>\n",
       "    </tr>\n",
       "    <tr>\n",
       "      <th>2472</th>\n",
       "      <td>Воин (2015)</td>\n",
       "      <td>111017315</td>\n",
       "      <td>2015-09-28 12:00:00+00:00</td>\n",
       "      <td>Художественный</td>\n",
       "      <td>ООО \"Форпост Продакшн\", ООО \"Арт Пикчерс Студия\"</td>\n",
       "      <td>Россия</td>\n",
       "      <td>А.Андрианов</td>\n",
       "      <td>ООО \"Арт Пикчерс Студия\"</td>\n",
       "      <td>«12+» - для детей старше 12 лет</td>\n",
       "      <td>10000000.0</td>\n",
       "      <td>70000000.0</td>\n",
       "      <td>80000000.0</td>\n",
       "      <td>Фонд кино</td>\n",
       "      <td>7.8</td>\n",
       "      <td>боевик,драма,криминал</td>\n",
       "      <td>1.965724e+08</td>\n",
       "      <td>inf</td>\n",
       "    </tr>\n",
       "    <tr>\n",
       "      <th>2532</th>\n",
       "      <td>Бармен.</td>\n",
       "      <td>111009615</td>\n",
       "      <td>2015-05-26 12:00:00+00:00</td>\n",
       "      <td>Художественный</td>\n",
       "      <td>АО \"ВайТ Медиа\", ООО \"Арт Пикчерс Студия\"</td>\n",
       "      <td>Россия</td>\n",
       "      <td>Д.Штурманова</td>\n",
       "      <td>Т.Вайнштейн</td>\n",
       "      <td>«16+» - для детей старше 16 лет</td>\n",
       "      <td>20000000.0</td>\n",
       "      <td>0.0</td>\n",
       "      <td>20000000.0</td>\n",
       "      <td>Фонд кино</td>\n",
       "      <td>6.2</td>\n",
       "      <td>комедия,фэнтези</td>\n",
       "      <td>6.741897e+07</td>\n",
       "      <td>inf</td>\n",
       "    </tr>\n",
       "    <tr>\n",
       "      <th>2615</th>\n",
       "      <td>Савва. Сердце воина</td>\n",
       "      <td>114001715</td>\n",
       "      <td>2015-07-21 12:00:00+00:00</td>\n",
       "      <td>Анимационный</td>\n",
       "      <td>ООО \"Глюкоза Продакшн\", ООО \"Арт Пикчерс Студия\"</td>\n",
       "      <td>Россия</td>\n",
       "      <td>М.Фадеев</td>\n",
       "      <td>А.Чистяков</td>\n",
       "      <td>«6+» - для детей старше 6 лет</td>\n",
       "      <td>60000000.0</td>\n",
       "      <td>100000000.0</td>\n",
       "      <td>160000000.0</td>\n",
       "      <td>Фонд кино</td>\n",
       "      <td>4.6</td>\n",
       "      <td>мультфильм,приключения,фэнтези</td>\n",
       "      <td>1.844876e+08</td>\n",
       "      <td>inf</td>\n",
       "    </tr>\n",
       "    <tr>\n",
       "      <th>2684</th>\n",
       "      <td>Тряпичный союз</td>\n",
       "      <td>111010215</td>\n",
       "      <td>2015-06-08 12:00:00+00:00</td>\n",
       "      <td>Художественный</td>\n",
       "      <td>ООО \"Кинокомпания \"КОКТЕБЕЛЬ\"</td>\n",
       "      <td>Россия</td>\n",
       "      <td>М.Местецкий</td>\n",
       "      <td>Р.Борисевич, А.Кушаев</td>\n",
       "      <td>«18+» - запрещено для детей</td>\n",
       "      <td>0.0</td>\n",
       "      <td>59000000.0</td>\n",
       "      <td>59000000.0</td>\n",
       "      <td>Фонд кино</td>\n",
       "      <td>6.3</td>\n",
       "      <td>комедия,драма</td>\n",
       "      <td>1.957739e+06</td>\n",
       "      <td>inf</td>\n",
       "    </tr>\n",
       "    <tr>\n",
       "      <th>2788</th>\n",
       "      <td>Срочно выйду замуж</td>\n",
       "      <td>111017115</td>\n",
       "      <td>2015-09-30 12:00:00+00:00</td>\n",
       "      <td>Художественный</td>\n",
       "      <td>АО \"ВайТ Медиа\", ООО \"Арт Пикчерс Студия\"</td>\n",
       "      <td>Россия</td>\n",
       "      <td>С Чекалов</td>\n",
       "      <td>Ф.Бондарчук, Т.Вайнштейн, Д.Рудовский</td>\n",
       "      <td>«16+» - для детей старше 16 лет</td>\n",
       "      <td>0.0</td>\n",
       "      <td>35000000.0</td>\n",
       "      <td>35000000.0</td>\n",
       "      <td>Фонд кино</td>\n",
       "      <td>5.1</td>\n",
       "      <td>комедия,мелодрама</td>\n",
       "      <td>7.293778e+07</td>\n",
       "      <td>inf</td>\n",
       "    </tr>\n",
       "    <tr>\n",
       "      <th>2874</th>\n",
       "      <td>Помню - не помню!</td>\n",
       "      <td>111004916</td>\n",
       "      <td>2016-03-01 12:00:00+00:00</td>\n",
       "      <td>Художественный</td>\n",
       "      <td>ООО \"КиноФирма\"</td>\n",
       "      <td>Россия</td>\n",
       "      <td>В.Ровенский</td>\n",
       "      <td>ООО \"КиноФирма\"</td>\n",
       "      <td>«12+» - для детей старше 12 лет</td>\n",
       "      <td>0.0</td>\n",
       "      <td>6000000.0</td>\n",
       "      <td>6000000.0</td>\n",
       "      <td>Министерство культуры</td>\n",
       "      <td>4.3</td>\n",
       "      <td>комедия</td>\n",
       "      <td>1.536293e+07</td>\n",
       "      <td>inf</td>\n",
       "    </tr>\n",
       "    <tr>\n",
       "      <th>3047</th>\n",
       "      <td>Любовь с ограничениями</td>\n",
       "      <td>111008216</td>\n",
       "      <td>2016-04-29 12:00:00+00:00</td>\n",
       "      <td>Художественный</td>\n",
       "      <td>АО \"ВайТ Медиа\", ООО \"Арт Пикчерс Студия\"</td>\n",
       "      <td>Россия</td>\n",
       "      <td>Д.Тюрин</td>\n",
       "      <td>Ф.Бондарчук, Т.Вайнштейн, Д.Рудовский</td>\n",
       "      <td>«16+» - для детей старше 16 лет</td>\n",
       "      <td>19000000.0</td>\n",
       "      <td>51000000.0</td>\n",
       "      <td>70000000.0</td>\n",
       "      <td>Фонд кино</td>\n",
       "      <td>6.3</td>\n",
       "      <td>комедия,мелодрама</td>\n",
       "      <td>7.029905e+07</td>\n",
       "      <td>inf</td>\n",
       "    </tr>\n",
       "    <tr>\n",
       "      <th>3565</th>\n",
       "      <td>Притяжение (2016)</td>\n",
       "      <td>111018116</td>\n",
       "      <td>2016-12-16 12:00:00+00:00</td>\n",
       "      <td>Художественный</td>\n",
       "      <td>ООО \"Водород 2011\",  ООО \"Арт Пикчерс Студия\"</td>\n",
       "      <td>Россия</td>\n",
       "      <td>Ф.Бондарчук</td>\n",
       "      <td>ООО \"Арт Пикчерс Студия\"</td>\n",
       "      <td>«12+» - для детей старше 12 лет</td>\n",
       "      <td>0.0</td>\n",
       "      <td>250000000.0</td>\n",
       "      <td>250000000.0</td>\n",
       "      <td>Фонд кино</td>\n",
       "      <td>5.6</td>\n",
       "      <td>фантастика</td>\n",
       "      <td>1.038321e+09</td>\n",
       "      <td>inf</td>\n",
       "    </tr>\n",
       "    <tr>\n",
       "      <th>3675</th>\n",
       "      <td>Чудо-юдо</td>\n",
       "      <td>114001817</td>\n",
       "      <td>2017-06-27 12:00:00+00:00</td>\n",
       "      <td>Анимационный</td>\n",
       "      <td>ООО \"КиноФирма\"</td>\n",
       "      <td>Россия</td>\n",
       "      <td>А.Лукичев</td>\n",
       "      <td>ООО \"КиноФирма\"</td>\n",
       "      <td>«6+» - для детей старше 6 лет</td>\n",
       "      <td>20000000.0</td>\n",
       "      <td>20000000.0</td>\n",
       "      <td>40000000.0</td>\n",
       "      <td>Фонд кино</td>\n",
       "      <td>5.2</td>\n",
       "      <td>мультфильм,фэнтези,семейный</td>\n",
       "      <td>5.510801e+07</td>\n",
       "      <td>inf</td>\n",
       "    </tr>\n",
       "    <tr>\n",
       "      <th>3739</th>\n",
       "      <td>Мифы</td>\n",
       "      <td>111004317</td>\n",
       "      <td>2017-06-07 12:00:00+00:00</td>\n",
       "      <td>Художественный</td>\n",
       "      <td>ООО \"ХАЙПФИЛМ\", ООО \"Арт Пикчерс Студия\"</td>\n",
       "      <td>Россия</td>\n",
       "      <td>А.Молочников</td>\n",
       "      <td>Ф.Бондарчук, Д.Рудовский, И.Стюарт, М.Османн, ...</td>\n",
       "      <td>«16+» - для детей старше 16 лет</td>\n",
       "      <td>25000000.0</td>\n",
       "      <td>20000000.0</td>\n",
       "      <td>45000000.0</td>\n",
       "      <td>Фонд кино</td>\n",
       "      <td>4.8</td>\n",
       "      <td>комедия</td>\n",
       "      <td>5.045195e+07</td>\n",
       "      <td>inf</td>\n",
       "    </tr>\n",
       "    <tr>\n",
       "      <th>5673</th>\n",
       "      <td>Селфи</td>\n",
       "      <td>111012117</td>\n",
       "      <td>2018-02-01 12:00:00+00:00</td>\n",
       "      <td>Художественный</td>\n",
       "      <td>ООО \"Киностудия \"Слово\", ООО \"Арт Пикчерс Студия\"</td>\n",
       "      <td>Россия</td>\n",
       "      <td>Н.Хомерики</td>\n",
       "      <td>П.Ануров, Ф.Бондарчук, Д.Рудовский</td>\n",
       "      <td>«16+» - для детей старше 16 лет</td>\n",
       "      <td>20000000.0</td>\n",
       "      <td>40000000.0</td>\n",
       "      <td>60000000.0</td>\n",
       "      <td>Фонд кино</td>\n",
       "      <td>5.8</td>\n",
       "      <td>триллер,драма</td>\n",
       "      <td>2.251964e+08</td>\n",
       "      <td>inf</td>\n",
       "    </tr>\n",
       "    <tr>\n",
       "      <th>5806</th>\n",
       "      <td>Два хвоста</td>\n",
       "      <td>114001018</td>\n",
       "      <td>2018-05-31 12:00:00+00:00</td>\n",
       "      <td>Анимационный</td>\n",
       "      <td>ООО \"ЛИЦЕНЗИОННЫЕ БРЕНДЫ\"</td>\n",
       "      <td>Россия</td>\n",
       "      <td>В.Ровенский, Н.Лопато, В.Азеев</td>\n",
       "      <td>ООО \"ЛИЦЕНЗИОННЫЕ БРЕНДЫ\"</td>\n",
       "      <td>«6+» - для детей старше 6 лет</td>\n",
       "      <td>10000000.0</td>\n",
       "      <td>60000000.0</td>\n",
       "      <td>70000000.0</td>\n",
       "      <td>Фонд кино</td>\n",
       "      <td>5.0</td>\n",
       "      <td>мультфильм,детский</td>\n",
       "      <td>1.065143e+08</td>\n",
       "      <td>inf</td>\n",
       "    </tr>\n",
       "    <tr>\n",
       "      <th>6008</th>\n",
       "      <td>Принцесса и дракон</td>\n",
       "      <td>114003018</td>\n",
       "      <td>2018-08-23 12:00:00+00:00</td>\n",
       "      <td>Анимационный</td>\n",
       "      <td>ООО \"ЛИЦЕНЗИОННЫЕ БРЕНДЫ\"</td>\n",
       "      <td>Россия</td>\n",
       "      <td>М.Нефедова</td>\n",
       "      <td>ООО \"ЛИЦЕНЗИОННЫЕ БРЕНДЫ\"</td>\n",
       "      <td>«6+» - для детей старше 6 лет</td>\n",
       "      <td>40000000.0</td>\n",
       "      <td>40000000.0</td>\n",
       "      <td>80000000.0</td>\n",
       "      <td>Фонд кино</td>\n",
       "      <td>5.2</td>\n",
       "      <td>мультфильм,фэнтези,детский</td>\n",
       "      <td>8.336633e+07</td>\n",
       "      <td>inf</td>\n",
       "    </tr>\n",
       "    <tr>\n",
       "      <th>6323</th>\n",
       "      <td>Баба Яга</td>\n",
       "      <td>114006518</td>\n",
       "      <td>2018-11-08 12:00:00+00:00</td>\n",
       "      <td>Анимационный</td>\n",
       "      <td>ООО \"Арт Пикчерс Студия\"</td>\n",
       "      <td>Россия</td>\n",
       "      <td>В.Саков</td>\n",
       "      <td>ООО \"Арт Пикчерс Студия\", ООО \"КРИЭЙТИВ АНИМЭЙ...</td>\n",
       "      <td>«6+» - для детей старше 6 лет</td>\n",
       "      <td>0.0</td>\n",
       "      <td>138969465.0</td>\n",
       "      <td>138969465.0</td>\n",
       "      <td>Фонд кино</td>\n",
       "      <td>NaN</td>\n",
       "      <td></td>\n",
       "      <td>1.334699e+06</td>\n",
       "      <td>inf</td>\n",
       "    </tr>\n",
       "    <tr>\n",
       "      <th>6823</th>\n",
       "      <td>Большое путешествие</td>\n",
       "      <td>114002419</td>\n",
       "      <td>2019-04-20 12:00:00+00:00</td>\n",
       "      <td>Анимационный</td>\n",
       "      <td>ООО \"ЛИЦЕНЗИОННЫЕ БРЕНДЫ\"</td>\n",
       "      <td>Россия</td>\n",
       "      <td>Н.Лопато, В.Ровенский</td>\n",
       "      <td>ООО \"ЛИЦЕНЗИОННЫЕ БРЕНДЫ\"</td>\n",
       "      <td>«6+» - для детей старше 6 лет</td>\n",
       "      <td>60000000.0</td>\n",
       "      <td>120000000.0</td>\n",
       "      <td>180000000.0</td>\n",
       "      <td>Фонд кино</td>\n",
       "      <td>6.2</td>\n",
       "      <td>мультфильм,комедия,приключения</td>\n",
       "      <td>1.476068e+08</td>\n",
       "      <td>inf</td>\n",
       "    </tr>\n",
       "  </tbody>\n",
       "</table>\n",
       "</div>"
      ],
      "text/plain": [
       "                       title   puNumber           show_start_date  \\\n",
       "2053                     14+  111023614 2014-12-19 12:00:00+00:00   \n",
       "2058               Дуxless 2  111000415 2015-01-26 12:00:00+00:00   \n",
       "2472             Воин (2015)  111017315 2015-09-28 12:00:00+00:00   \n",
       "2532                 Бармен.  111009615 2015-05-26 12:00:00+00:00   \n",
       "2615     Савва. Сердце воина  114001715 2015-07-21 12:00:00+00:00   \n",
       "2684          Тряпичный союз  111010215 2015-06-08 12:00:00+00:00   \n",
       "2788      Срочно выйду замуж  111017115 2015-09-30 12:00:00+00:00   \n",
       "2874       Помню - не помню!  111004916 2016-03-01 12:00:00+00:00   \n",
       "3047  Любовь с ограничениями  111008216 2016-04-29 12:00:00+00:00   \n",
       "3565       Притяжение (2016)  111018116 2016-12-16 12:00:00+00:00   \n",
       "3675                Чудо-юдо  114001817 2017-06-27 12:00:00+00:00   \n",
       "3739                    Мифы  111004317 2017-06-07 12:00:00+00:00   \n",
       "5673                   Селфи  111012117 2018-02-01 12:00:00+00:00   \n",
       "5806              Два хвоста  114001018 2018-05-31 12:00:00+00:00   \n",
       "6008      Принцесса и дракон  114003018 2018-08-23 12:00:00+00:00   \n",
       "6323                Баба Яга  114006518 2018-11-08 12:00:00+00:00   \n",
       "6823     Большое путешествие  114002419 2019-04-20 12:00:00+00:00   \n",
       "\n",
       "                type                                        film_studio  \\\n",
       "2053  Художественный                         ООО Киностудия  \"Сентябрь\"   \n",
       "2058  Художественный  ООО \"Киностудия \"Слово\", ООО \"Арт Пикчерс Студия\"   \n",
       "2472  Художественный   ООО \"Форпост Продакшн\", ООО \"Арт Пикчерс Студия\"   \n",
       "2532  Художественный          АО \"ВайТ Медиа\", ООО \"Арт Пикчерс Студия\"   \n",
       "2615    Анимационный   ООО \"Глюкоза Продакшн\", ООО \"Арт Пикчерс Студия\"   \n",
       "2684  Художественный                      ООО \"Кинокомпания \"КОКТЕБЕЛЬ\"   \n",
       "2788  Художественный          АО \"ВайТ Медиа\", ООО \"Арт Пикчерс Студия\"   \n",
       "2874  Художественный                                    ООО \"КиноФирма\"   \n",
       "3047  Художественный          АО \"ВайТ Медиа\", ООО \"Арт Пикчерс Студия\"   \n",
       "3565  Художественный      ООО \"Водород 2011\",  ООО \"Арт Пикчерс Студия\"   \n",
       "3675    Анимационный                                    ООО \"КиноФирма\"   \n",
       "3739  Художественный           ООО \"ХАЙПФИЛМ\", ООО \"Арт Пикчерс Студия\"   \n",
       "5673  Художественный  ООО \"Киностудия \"Слово\", ООО \"Арт Пикчерс Студия\"   \n",
       "5806    Анимационный                          ООО \"ЛИЦЕНЗИОННЫЕ БРЕНДЫ\"   \n",
       "6008    Анимационный                          ООО \"ЛИЦЕНЗИОННЫЕ БРЕНДЫ\"   \n",
       "6323    Анимационный                           ООО \"Арт Пикчерс Студия\"   \n",
       "6823    Анимационный                          ООО \"ЛИЦЕНЗИОННЫЕ БРЕНДЫ\"   \n",
       "\n",
       "     production_country                        director  \\\n",
       "2053             Россия                        А.Зайцев   \n",
       "2058             Россия                      Р.Прыгунов   \n",
       "2472             Россия                     А.Андрианов   \n",
       "2532             Россия                    Д.Штурманова   \n",
       "2615             Россия                        М.Фадеев   \n",
       "2684             Россия                     М.Местецкий   \n",
       "2788             Россия                       С Чекалов   \n",
       "2874             Россия                     В.Ровенский   \n",
       "3047             Россия                         Д.Тюрин   \n",
       "3565             Россия                     Ф.Бондарчук   \n",
       "3675             Россия                       А.Лукичев   \n",
       "3739             Россия                    А.Молочников   \n",
       "5673             Россия                      Н.Хомерики   \n",
       "5806             Россия  В.Ровенский, Н.Лопато, В.Азеев   \n",
       "6008             Россия                      М.Нефедова   \n",
       "6323             Россия                         В.Саков   \n",
       "6823             Россия           Н.Лопато, В.Ровенский   \n",
       "\n",
       "                                               producer  \\\n",
       "2053                                О.Гранина, А.Зайцев   \n",
       "2058                 П.Ануров, Ф.Бондарчук, Д.Рудовский   \n",
       "2472                           ООО \"Арт Пикчерс Студия\"   \n",
       "2532                                        Т.Вайнштейн   \n",
       "2615                                         А.Чистяков   \n",
       "2684                              Р.Борисевич, А.Кушаев   \n",
       "2788              Ф.Бондарчук, Т.Вайнштейн, Д.Рудовский   \n",
       "2874                                    ООО \"КиноФирма\"   \n",
       "3047              Ф.Бондарчук, Т.Вайнштейн, Д.Рудовский   \n",
       "3565                           ООО \"Арт Пикчерс Студия\"   \n",
       "3675                                    ООО \"КиноФирма\"   \n",
       "3739  Ф.Бондарчук, Д.Рудовский, И.Стюарт, М.Османн, ...   \n",
       "5673                 П.Ануров, Ф.Бондарчук, Д.Рудовский   \n",
       "5806                          ООО \"ЛИЦЕНЗИОННЫЕ БРЕНДЫ\"   \n",
       "6008                          ООО \"ЛИЦЕНЗИОННЫЕ БРЕНДЫ\"   \n",
       "6323  ООО \"Арт Пикчерс Студия\", ООО \"КРИЭЙТИВ АНИМЭЙ...   \n",
       "6823                          ООО \"ЛИЦЕНЗИОННЫЕ БРЕНДЫ\"   \n",
       "\n",
       "                      age_restriction  refundable_support  \\\n",
       "2053  «16+» - для детей старше 16 лет                 0.0   \n",
       "2058  «16+» - для детей старше 16 лет                 0.0   \n",
       "2472  «12+» - для детей старше 12 лет          10000000.0   \n",
       "2532  «16+» - для детей старше 16 лет          20000000.0   \n",
       "2615    «6+» - для детей старше 6 лет          60000000.0   \n",
       "2684      «18+» - запрещено для детей                 0.0   \n",
       "2788  «16+» - для детей старше 16 лет                 0.0   \n",
       "2874  «12+» - для детей старше 12 лет                 0.0   \n",
       "3047  «16+» - для детей старше 16 лет          19000000.0   \n",
       "3565  «12+» - для детей старше 12 лет                 0.0   \n",
       "3675    «6+» - для детей старше 6 лет          20000000.0   \n",
       "3739  «16+» - для детей старше 16 лет          25000000.0   \n",
       "5673  «16+» - для детей старше 16 лет          20000000.0   \n",
       "5806    «6+» - для детей старше 6 лет          10000000.0   \n",
       "6008    «6+» - для детей старше 6 лет          40000000.0   \n",
       "6323    «6+» - для детей старше 6 лет                 0.0   \n",
       "6823    «6+» - для детей старше 6 лет          60000000.0   \n",
       "\n",
       "      nonrefundable_support       budget                  financing_source  \\\n",
       "2053             23000000.0   23000000.0  Министерство культуры, Фонд кино   \n",
       "2058             75000000.0   75000000.0                         Фонд кино   \n",
       "2472             70000000.0   80000000.0                         Фонд кино   \n",
       "2532                    0.0   20000000.0                         Фонд кино   \n",
       "2615            100000000.0  160000000.0                         Фонд кино   \n",
       "2684             59000000.0   59000000.0                         Фонд кино   \n",
       "2788             35000000.0   35000000.0                         Фонд кино   \n",
       "2874              6000000.0    6000000.0             Министерство культуры   \n",
       "3047             51000000.0   70000000.0                         Фонд кино   \n",
       "3565            250000000.0  250000000.0                         Фонд кино   \n",
       "3675             20000000.0   40000000.0                         Фонд кино   \n",
       "3739             20000000.0   45000000.0                         Фонд кино   \n",
       "5673             40000000.0   60000000.0                         Фонд кино   \n",
       "5806             60000000.0   70000000.0                         Фонд кино   \n",
       "6008             40000000.0   80000000.0                         Фонд кино   \n",
       "6323            138969465.0  138969465.0                         Фонд кино   \n",
       "6823            120000000.0  180000000.0                         Фонд кино   \n",
       "\n",
       "      ratings                          genres    box_office  support_ratio  \n",
       "2053      6.6                       мелодрама  1.023402e+07            inf  \n",
       "2058      6.6                           драма  4.461635e+08            inf  \n",
       "2472      7.8           боевик,драма,криминал  1.965724e+08            inf  \n",
       "2532      6.2                 комедия,фэнтези  6.741897e+07            inf  \n",
       "2615      4.6  мультфильм,приключения,фэнтези  1.844876e+08            inf  \n",
       "2684      6.3                   комедия,драма  1.957739e+06            inf  \n",
       "2788      5.1               комедия,мелодрама  7.293778e+07            inf  \n",
       "2874      4.3                         комедия  1.536293e+07            inf  \n",
       "3047      6.3               комедия,мелодрама  7.029905e+07            inf  \n",
       "3565      5.6                      фантастика  1.038321e+09            inf  \n",
       "3675      5.2     мультфильм,фэнтези,семейный  5.510801e+07            inf  \n",
       "3739      4.8                         комедия  5.045195e+07            inf  \n",
       "5673      5.8                   триллер,драма  2.251964e+08            inf  \n",
       "5806      5.0              мультфильм,детский  1.065143e+08            inf  \n",
       "6008      5.2      мультфильм,фэнтези,детский  8.336633e+07            inf  \n",
       "6323      NaN                                  1.334699e+06            inf  \n",
       "6823      6.2  мультфильм,комедия,приключения  1.476068e+08            inf  "
      ]
     },
     "execution_count": 311,
     "metadata": {},
     "output_type": "execute_result"
    }
   ],
   "source": [
    "mkrf_movies_final.loc[budget_check_up.index, 'budget'] = mkrf_movies_final.loc[budget_check_up.index, 'refundable_support']+mkrf_movies_final.loc[budget_check_up.index,'nonrefundable_support']\n",
    "mkrf_movies_final.loc[budget_check_up.index]"
   ]
  },
  {
   "cell_type": "markdown",
   "metadata": {
    "id": "Eu6oWp2CgFyS"
   },
   "source": [
    "#### Шаг 2.6. Добавьте новые столбцы\n",
    "\n",
    "\n",
    "\n"
   ]
  },
  {
   "cell_type": "markdown",
   "metadata": {
    "id": "7GgW-UpAgFyS"
   },
   "source": [
    "- Создайте столбец с информацией о годе проката. Выделите год из даты премьеры фильма."
   ]
  },
  {
   "cell_type": "code",
   "execution_count": 312,
   "metadata": {
    "id": "I-yd1DkWgFyT"
   },
   "outputs": [],
   "source": [
    "mkrf_movies_final['year_of_publication'] = mkrf_movies_final['show_start_date'].dt.year"
   ]
  },
  {
   "cell_type": "code",
   "execution_count": 313,
   "metadata": {},
   "outputs": [
    {
     "data": {
      "text/html": [
       "<div>\n",
       "<style scoped>\n",
       "    .dataframe tbody tr th:only-of-type {\n",
       "        vertical-align: middle;\n",
       "    }\n",
       "\n",
       "    .dataframe tbody tr th {\n",
       "        vertical-align: top;\n",
       "    }\n",
       "\n",
       "    .dataframe thead th {\n",
       "        text-align: right;\n",
       "    }\n",
       "</style>\n",
       "<table border=\"1\" class=\"dataframe\">\n",
       "  <thead>\n",
       "    <tr style=\"text-align: right;\">\n",
       "      <th></th>\n",
       "      <th>title</th>\n",
       "      <th>puNumber</th>\n",
       "      <th>show_start_date</th>\n",
       "      <th>type</th>\n",
       "      <th>film_studio</th>\n",
       "      <th>production_country</th>\n",
       "      <th>director</th>\n",
       "      <th>producer</th>\n",
       "      <th>age_restriction</th>\n",
       "      <th>refundable_support</th>\n",
       "      <th>nonrefundable_support</th>\n",
       "      <th>budget</th>\n",
       "      <th>financing_source</th>\n",
       "      <th>ratings</th>\n",
       "      <th>genres</th>\n",
       "      <th>box_office</th>\n",
       "      <th>support_ratio</th>\n",
       "      <th>year_of_publication</th>\n",
       "    </tr>\n",
       "  </thead>\n",
       "  <tbody>\n",
       "    <tr>\n",
       "      <th>0</th>\n",
       "      <td>Открытый простор</td>\n",
       "      <td>221048915</td>\n",
       "      <td>2015-11-27 12:00:00+00:00</td>\n",
       "      <td>Художественный</td>\n",
       "      <td>Тачстоун Пикчерз, Кобальт Пикчерз, Бикон Пикче...</td>\n",
       "      <td>США</td>\n",
       "      <td>Кевин Костнер</td>\n",
       "      <td>Дэвид Валдес, Кевин Костнер, Джейк Эбертс</td>\n",
       "      <td>«18+» - запрещено для детей</td>\n",
       "      <td>NaN</td>\n",
       "      <td>NaN</td>\n",
       "      <td>NaN</td>\n",
       "      <td></td>\n",
       "      <td>7.2</td>\n",
       "      <td>боевик,драма,мелодрама</td>\n",
       "      <td>NaN</td>\n",
       "      <td>NaN</td>\n",
       "      <td>2015</td>\n",
       "    </tr>\n",
       "    <tr>\n",
       "      <th>1</th>\n",
       "      <td>Особо важное задание</td>\n",
       "      <td>111013716</td>\n",
       "      <td>2016-09-13 12:00:00+00:00</td>\n",
       "      <td>Художественный</td>\n",
       "      <td>Киностудия \"Мосфильм\"</td>\n",
       "      <td>СССР</td>\n",
       "      <td>Е.Матвеев</td>\n",
       "      <td>NaN</td>\n",
       "      <td>«6+» - для детей старше 6 лет</td>\n",
       "      <td>NaN</td>\n",
       "      <td>NaN</td>\n",
       "      <td>NaN</td>\n",
       "      <td></td>\n",
       "      <td>6.6</td>\n",
       "      <td>драма,военный</td>\n",
       "      <td>NaN</td>\n",
       "      <td>NaN</td>\n",
       "      <td>2016</td>\n",
       "    </tr>\n",
       "    <tr>\n",
       "      <th>2</th>\n",
       "      <td>Особо опасен</td>\n",
       "      <td>221038416</td>\n",
       "      <td>2016-10-10 12:00:00+00:00</td>\n",
       "      <td>Художественный</td>\n",
       "      <td>Юниверсал Пикчерз, Кикстарт Продакшнз, Марк Пл...</td>\n",
       "      <td>США</td>\n",
       "      <td>Тимур Бекмамбетов</td>\n",
       "      <td>Джим Лемли, Джейсон Нетер, Марк Е.Платт, Яйн Смит</td>\n",
       "      <td>«18+» - запрещено для детей</td>\n",
       "      <td>NaN</td>\n",
       "      <td>NaN</td>\n",
       "      <td>NaN</td>\n",
       "      <td></td>\n",
       "      <td>6.8</td>\n",
       "      <td>фантастика,боевик,триллер</td>\n",
       "      <td>NaN</td>\n",
       "      <td>NaN</td>\n",
       "      <td>2016</td>\n",
       "    </tr>\n",
       "    <tr>\n",
       "      <th>3</th>\n",
       "      <td>Особо опасен</td>\n",
       "      <td>221026916</td>\n",
       "      <td>2016-06-10 12:00:00+00:00</td>\n",
       "      <td>Художественный</td>\n",
       "      <td>Юниверсал Пикчерз, Кикстарт Продакшнз, Марк Пл...</td>\n",
       "      <td>США</td>\n",
       "      <td>Тимур Бекмамбетов</td>\n",
       "      <td>Джим Лемли, Джейсон Нетер, Марк Е.Платт, Яйн Смит</td>\n",
       "      <td>«18+» - запрещено для детей</td>\n",
       "      <td>NaN</td>\n",
       "      <td>NaN</td>\n",
       "      <td>NaN</td>\n",
       "      <td></td>\n",
       "      <td>6.8</td>\n",
       "      <td>фантастика,боевик,триллер</td>\n",
       "      <td>NaN</td>\n",
       "      <td>NaN</td>\n",
       "      <td>2016</td>\n",
       "    </tr>\n",
       "    <tr>\n",
       "      <th>4</th>\n",
       "      <td>Особо опасен</td>\n",
       "      <td>221030815</td>\n",
       "      <td>2015-07-29 12:00:00+00:00</td>\n",
       "      <td>Художественный</td>\n",
       "      <td>Юниверсал Пикчерз, Кикстарт Продакшнз, Марк Пл...</td>\n",
       "      <td>США</td>\n",
       "      <td>Тимур Бекмамбетов</td>\n",
       "      <td>Джим Лемли, Джейсон Нетер, Марк Е.Платт, Яйн Смит</td>\n",
       "      <td>«18+» - запрещено для детей</td>\n",
       "      <td>NaN</td>\n",
       "      <td>NaN</td>\n",
       "      <td>NaN</td>\n",
       "      <td></td>\n",
       "      <td>6.8</td>\n",
       "      <td>фантастика,боевик,триллер</td>\n",
       "      <td>NaN</td>\n",
       "      <td>NaN</td>\n",
       "      <td>2015</td>\n",
       "    </tr>\n",
       "  </tbody>\n",
       "</table>\n",
       "</div>"
      ],
      "text/plain": [
       "                  title   puNumber           show_start_date            type  \\\n",
       "0      Открытый простор  221048915 2015-11-27 12:00:00+00:00  Художественный   \n",
       "1  Особо важное задание  111013716 2016-09-13 12:00:00+00:00  Художественный   \n",
       "2          Особо опасен  221038416 2016-10-10 12:00:00+00:00  Художественный   \n",
       "3          Особо опасен  221026916 2016-06-10 12:00:00+00:00  Художественный   \n",
       "4          Особо опасен  221030815 2015-07-29 12:00:00+00:00  Художественный   \n",
       "\n",
       "                                         film_studio production_country  \\\n",
       "0  Тачстоун Пикчерз, Кобальт Пикчерз, Бикон Пикче...                США   \n",
       "1                              Киностудия \"Мосфильм\"               СССР   \n",
       "2  Юниверсал Пикчерз, Кикстарт Продакшнз, Марк Пл...                США   \n",
       "3  Юниверсал Пикчерз, Кикстарт Продакшнз, Марк Пл...                США   \n",
       "4  Юниверсал Пикчерз, Кикстарт Продакшнз, Марк Пл...                США   \n",
       "\n",
       "            director                                           producer  \\\n",
       "0      Кевин Костнер          Дэвид Валдес, Кевин Костнер, Джейк Эбертс   \n",
       "1          Е.Матвеев                                                NaN   \n",
       "2  Тимур Бекмамбетов  Джим Лемли, Джейсон Нетер, Марк Е.Платт, Яйн Смит   \n",
       "3  Тимур Бекмамбетов  Джим Лемли, Джейсон Нетер, Марк Е.Платт, Яйн Смит   \n",
       "4  Тимур Бекмамбетов  Джим Лемли, Джейсон Нетер, Марк Е.Платт, Яйн Смит   \n",
       "\n",
       "                 age_restriction  refundable_support  nonrefundable_support  \\\n",
       "0    «18+» - запрещено для детей                 NaN                    NaN   \n",
       "1  «6+» - для детей старше 6 лет                 NaN                    NaN   \n",
       "2    «18+» - запрещено для детей                 NaN                    NaN   \n",
       "3    «18+» - запрещено для детей                 NaN                    NaN   \n",
       "4    «18+» - запрещено для детей                 NaN                    NaN   \n",
       "\n",
       "   budget financing_source  ratings                     genres  box_office  \\\n",
       "0     NaN                       7.2     боевик,драма,мелодрама         NaN   \n",
       "1     NaN                       6.6              драма,военный         NaN   \n",
       "2     NaN                       6.8  фантастика,боевик,триллер         NaN   \n",
       "3     NaN                       6.8  фантастика,боевик,триллер         NaN   \n",
       "4     NaN                       6.8  фантастика,боевик,триллер         NaN   \n",
       "\n",
       "   support_ratio  year_of_publication  \n",
       "0            NaN                 2015  \n",
       "1            NaN                 2016  \n",
       "2            NaN                 2016  \n",
       "3            NaN                 2016  \n",
       "4            NaN                 2015  "
      ]
     },
     "execution_count": 313,
     "metadata": {},
     "output_type": "execute_result"
    }
   ],
   "source": [
    "mkrf_movies_final.head(5)"
   ]
  },
  {
   "cell_type": "markdown",
   "metadata": {
    "id": "nFTDLDYOgFyT"
   },
   "source": [
    "- Создайте два столбца: с именем и фамилией главного режиссёра и основным жанром фильма. В столбцы войдут первые значения из списка режиссёров и жанров соответственно.\n",
    "\n",
    "<div id=\"accordion\">\n",
    "    <div class=\"card\">\n",
    "        <div class=\"card-header\" id=\"headingThree\">\n",
    "            <button class=\"btn btn-link collapsed\" data-toggle=\"collapse\" data-target=\"#collapseHint_2\" aria-expanded=\"false\" aria-controls=\"collapseHint_2\">Подсказка</button>\n",
    "        </div>\n",
    "        <div id=\"collapseHint_2\" class=\"collapse\" aria-labelledby=\"headingThree\" data-parent=\"#accordion\">\n",
    "            <div class=\"card-body\">\n",
    "Чтобы создать такие столбцы, лучше всего использовать собственную функцию. Эту функцию можно применить к двум столбцам сразу. \n",
    "            </div>\n",
    "        </div>\n",
    "    </div>\n",
    "</div>"
   ]
  },
  {
   "cell_type": "code",
   "execution_count": 314,
   "metadata": {
    "id": "LSbRZKbMgFyU"
   },
   "outputs": [],
   "source": [
    "def add_column(mkrf_movies_final, columns):\n",
    "    for column in columns:\n",
    "        mkrf_movies_final[f'main_{column}'] = mkrf_movies_final[column].dropna().apply(lambda x: x.split(',')[0])\n",
    "    return mkrf_movies_final"
   ]
  },
  {
   "cell_type": "code",
   "execution_count": 315,
   "metadata": {},
   "outputs": [],
   "source": [
    "mkrf_movies_final = add_column(mkrf_movies_final, ['director', 'genres'])"
   ]
  },
  {
   "cell_type": "code",
   "execution_count": 316,
   "metadata": {},
   "outputs": [
    {
     "data": {
      "text/html": [
       "<div>\n",
       "<style scoped>\n",
       "    .dataframe tbody tr th:only-of-type {\n",
       "        vertical-align: middle;\n",
       "    }\n",
       "\n",
       "    .dataframe tbody tr th {\n",
       "        vertical-align: top;\n",
       "    }\n",
       "\n",
       "    .dataframe thead th {\n",
       "        text-align: right;\n",
       "    }\n",
       "</style>\n",
       "<table border=\"1\" class=\"dataframe\">\n",
       "  <thead>\n",
       "    <tr style=\"text-align: right;\">\n",
       "      <th></th>\n",
       "      <th>title</th>\n",
       "      <th>puNumber</th>\n",
       "      <th>show_start_date</th>\n",
       "      <th>type</th>\n",
       "      <th>film_studio</th>\n",
       "      <th>production_country</th>\n",
       "      <th>director</th>\n",
       "      <th>producer</th>\n",
       "      <th>age_restriction</th>\n",
       "      <th>refundable_support</th>\n",
       "      <th>nonrefundable_support</th>\n",
       "      <th>budget</th>\n",
       "      <th>financing_source</th>\n",
       "      <th>ratings</th>\n",
       "      <th>genres</th>\n",
       "      <th>box_office</th>\n",
       "      <th>support_ratio</th>\n",
       "      <th>year_of_publication</th>\n",
       "      <th>main_director</th>\n",
       "      <th>main_genres</th>\n",
       "    </tr>\n",
       "  </thead>\n",
       "  <tbody>\n",
       "    <tr>\n",
       "      <th>0</th>\n",
       "      <td>Открытый простор</td>\n",
       "      <td>221048915</td>\n",
       "      <td>2015-11-27 12:00:00+00:00</td>\n",
       "      <td>Художественный</td>\n",
       "      <td>Тачстоун Пикчерз, Кобальт Пикчерз, Бикон Пикче...</td>\n",
       "      <td>США</td>\n",
       "      <td>Кевин Костнер</td>\n",
       "      <td>Дэвид Валдес, Кевин Костнер, Джейк Эбертс</td>\n",
       "      <td>«18+» - запрещено для детей</td>\n",
       "      <td>NaN</td>\n",
       "      <td>NaN</td>\n",
       "      <td>NaN</td>\n",
       "      <td></td>\n",
       "      <td>7.2</td>\n",
       "      <td>боевик,драма,мелодрама</td>\n",
       "      <td>NaN</td>\n",
       "      <td>NaN</td>\n",
       "      <td>2015</td>\n",
       "      <td>Кевин Костнер</td>\n",
       "      <td>боевик</td>\n",
       "    </tr>\n",
       "    <tr>\n",
       "      <th>1</th>\n",
       "      <td>Особо важное задание</td>\n",
       "      <td>111013716</td>\n",
       "      <td>2016-09-13 12:00:00+00:00</td>\n",
       "      <td>Художественный</td>\n",
       "      <td>Киностудия \"Мосфильм\"</td>\n",
       "      <td>СССР</td>\n",
       "      <td>Е.Матвеев</td>\n",
       "      <td>NaN</td>\n",
       "      <td>«6+» - для детей старше 6 лет</td>\n",
       "      <td>NaN</td>\n",
       "      <td>NaN</td>\n",
       "      <td>NaN</td>\n",
       "      <td></td>\n",
       "      <td>6.6</td>\n",
       "      <td>драма,военный</td>\n",
       "      <td>NaN</td>\n",
       "      <td>NaN</td>\n",
       "      <td>2016</td>\n",
       "      <td>Е.Матвеев</td>\n",
       "      <td>драма</td>\n",
       "    </tr>\n",
       "    <tr>\n",
       "      <th>2</th>\n",
       "      <td>Особо опасен</td>\n",
       "      <td>221038416</td>\n",
       "      <td>2016-10-10 12:00:00+00:00</td>\n",
       "      <td>Художественный</td>\n",
       "      <td>Юниверсал Пикчерз, Кикстарт Продакшнз, Марк Пл...</td>\n",
       "      <td>США</td>\n",
       "      <td>Тимур Бекмамбетов</td>\n",
       "      <td>Джим Лемли, Джейсон Нетер, Марк Е.Платт, Яйн Смит</td>\n",
       "      <td>«18+» - запрещено для детей</td>\n",
       "      <td>NaN</td>\n",
       "      <td>NaN</td>\n",
       "      <td>NaN</td>\n",
       "      <td></td>\n",
       "      <td>6.8</td>\n",
       "      <td>фантастика,боевик,триллер</td>\n",
       "      <td>NaN</td>\n",
       "      <td>NaN</td>\n",
       "      <td>2016</td>\n",
       "      <td>Тимур Бекмамбетов</td>\n",
       "      <td>фантастика</td>\n",
       "    </tr>\n",
       "    <tr>\n",
       "      <th>3</th>\n",
       "      <td>Особо опасен</td>\n",
       "      <td>221026916</td>\n",
       "      <td>2016-06-10 12:00:00+00:00</td>\n",
       "      <td>Художественный</td>\n",
       "      <td>Юниверсал Пикчерз, Кикстарт Продакшнз, Марк Пл...</td>\n",
       "      <td>США</td>\n",
       "      <td>Тимур Бекмамбетов</td>\n",
       "      <td>Джим Лемли, Джейсон Нетер, Марк Е.Платт, Яйн Смит</td>\n",
       "      <td>«18+» - запрещено для детей</td>\n",
       "      <td>NaN</td>\n",
       "      <td>NaN</td>\n",
       "      <td>NaN</td>\n",
       "      <td></td>\n",
       "      <td>6.8</td>\n",
       "      <td>фантастика,боевик,триллер</td>\n",
       "      <td>NaN</td>\n",
       "      <td>NaN</td>\n",
       "      <td>2016</td>\n",
       "      <td>Тимур Бекмамбетов</td>\n",
       "      <td>фантастика</td>\n",
       "    </tr>\n",
       "    <tr>\n",
       "      <th>4</th>\n",
       "      <td>Особо опасен</td>\n",
       "      <td>221030815</td>\n",
       "      <td>2015-07-29 12:00:00+00:00</td>\n",
       "      <td>Художественный</td>\n",
       "      <td>Юниверсал Пикчерз, Кикстарт Продакшнз, Марк Пл...</td>\n",
       "      <td>США</td>\n",
       "      <td>Тимур Бекмамбетов</td>\n",
       "      <td>Джим Лемли, Джейсон Нетер, Марк Е.Платт, Яйн Смит</td>\n",
       "      <td>«18+» - запрещено для детей</td>\n",
       "      <td>NaN</td>\n",
       "      <td>NaN</td>\n",
       "      <td>NaN</td>\n",
       "      <td></td>\n",
       "      <td>6.8</td>\n",
       "      <td>фантастика,боевик,триллер</td>\n",
       "      <td>NaN</td>\n",
       "      <td>NaN</td>\n",
       "      <td>2015</td>\n",
       "      <td>Тимур Бекмамбетов</td>\n",
       "      <td>фантастика</td>\n",
       "    </tr>\n",
       "  </tbody>\n",
       "</table>\n",
       "</div>"
      ],
      "text/plain": [
       "                  title   puNumber           show_start_date            type  \\\n",
       "0      Открытый простор  221048915 2015-11-27 12:00:00+00:00  Художественный   \n",
       "1  Особо важное задание  111013716 2016-09-13 12:00:00+00:00  Художественный   \n",
       "2          Особо опасен  221038416 2016-10-10 12:00:00+00:00  Художественный   \n",
       "3          Особо опасен  221026916 2016-06-10 12:00:00+00:00  Художественный   \n",
       "4          Особо опасен  221030815 2015-07-29 12:00:00+00:00  Художественный   \n",
       "\n",
       "                                         film_studio production_country  \\\n",
       "0  Тачстоун Пикчерз, Кобальт Пикчерз, Бикон Пикче...                США   \n",
       "1                              Киностудия \"Мосфильм\"               СССР   \n",
       "2  Юниверсал Пикчерз, Кикстарт Продакшнз, Марк Пл...                США   \n",
       "3  Юниверсал Пикчерз, Кикстарт Продакшнз, Марк Пл...                США   \n",
       "4  Юниверсал Пикчерз, Кикстарт Продакшнз, Марк Пл...                США   \n",
       "\n",
       "            director                                           producer  \\\n",
       "0      Кевин Костнер          Дэвид Валдес, Кевин Костнер, Джейк Эбертс   \n",
       "1          Е.Матвеев                                                NaN   \n",
       "2  Тимур Бекмамбетов  Джим Лемли, Джейсон Нетер, Марк Е.Платт, Яйн Смит   \n",
       "3  Тимур Бекмамбетов  Джим Лемли, Джейсон Нетер, Марк Е.Платт, Яйн Смит   \n",
       "4  Тимур Бекмамбетов  Джим Лемли, Джейсон Нетер, Марк Е.Платт, Яйн Смит   \n",
       "\n",
       "                 age_restriction  refundable_support  nonrefundable_support  \\\n",
       "0    «18+» - запрещено для детей                 NaN                    NaN   \n",
       "1  «6+» - для детей старше 6 лет                 NaN                    NaN   \n",
       "2    «18+» - запрещено для детей                 NaN                    NaN   \n",
       "3    «18+» - запрещено для детей                 NaN                    NaN   \n",
       "4    «18+» - запрещено для детей                 NaN                    NaN   \n",
       "\n",
       "   budget financing_source  ratings                     genres  box_office  \\\n",
       "0     NaN                       7.2     боевик,драма,мелодрама         NaN   \n",
       "1     NaN                       6.6              драма,военный         NaN   \n",
       "2     NaN                       6.8  фантастика,боевик,триллер         NaN   \n",
       "3     NaN                       6.8  фантастика,боевик,триллер         NaN   \n",
       "4     NaN                       6.8  фантастика,боевик,триллер         NaN   \n",
       "\n",
       "   support_ratio  year_of_publication      main_director main_genres  \n",
       "0            NaN                 2015      Кевин Костнер      боевик  \n",
       "1            NaN                 2016          Е.Матвеев       драма  \n",
       "2            NaN                 2016  Тимур Бекмамбетов  фантастика  \n",
       "3            NaN                 2016  Тимур Бекмамбетов  фантастика  \n",
       "4            NaN                 2015  Тимур Бекмамбетов  фантастика  "
      ]
     },
     "execution_count": 316,
     "metadata": {},
     "output_type": "execute_result"
    }
   ],
   "source": [
    "mkrf_movies_final.head(5)"
   ]
  },
  {
   "cell_type": "markdown",
   "metadata": {
    "id": "1FsCXHwdgFyU"
   },
   "source": [
    "- Посчитайте, какую долю от общего бюджета фильма составляет государственная поддержка."
   ]
  },
  {
   "cell_type": "markdown",
   "metadata": {
    "id": "LV6qFuZLgFyV"
   },
   "source": [
    "См. выше, п.2.5"
   ]
  },
  {
   "cell_type": "markdown",
   "metadata": {
    "id": "6t4EukPLgFyV"
   },
   "source": [
    "### Шаг 3. Проведите исследовательский анализ данных\n"
   ]
  },
  {
   "cell_type": "markdown",
   "metadata": {
    "id": "vAH8WCzugFyV"
   },
   "source": [
    "- Посмотрите, сколько фильмов выходило в прокат каждый год. Обратите внимание, что данные о прокате в кинотеатрах известны не для всех фильмов. Посчитайте, какую долю составляют фильмы с указанной информацией о прокате в кинотеатрах."
   ]
  },
  {
   "cell_type": "markdown",
   "metadata": {},
   "source": [
    "**Создадим сводную таблицу по количеству фильмов в прокате по годам**"
   ]
  },
  {
   "cell_type": "code",
   "execution_count": 317,
   "metadata": {
    "scrolled": false
   },
   "outputs": [],
   "source": [
    "mkrf_movies_final_pivot = mkrf_movies_final.loc[mkrf_movies_final['box_office'] != '0']\n",
    "mkrf_movies_final_pivot = mkrf_movies_final_pivot.pivot_table(index = 'year_of_publication',\n",
    "                                                              values = 'box_office',\n",
    "                                                              aggfunc=['count', 'sum', 'mean', 'median'])"
   ]
  },
  {
   "cell_type": "code",
   "execution_count": 318,
   "metadata": {
    "scrolled": true
   },
   "outputs": [
    {
     "data": {
      "image/png": "[encoded data removed]",
      "text/plain": [
       "<Figure size 432x288 with 1 Axes>"
      ]
     },
     "metadata": {
      "needs_background": "light"
     },
     "output_type": "display_data"
    }
   ],
   "source": [
    "(\n",
    "    mkrf_movies_final_pivot\n",
    "    .plot(title='Динамика количества фильмов в прокате по годам', kind='bar', y = 'count')\n",
    ")\n",
    "plt.show()"
   ]
  },
  {
   "cell_type": "markdown",
   "metadata": {},
   "source": [
    "Максимальное количество фильмов находилось в прокате в 2016 и 2019 годах."
   ]
  },
  {
   "cell_type": "markdown",
   "metadata": {},
   "source": [
    "**Посчитаем долю фильмов с указанной информацией о прокате в кинотеатрах.**"
   ]
  },
  {
   "cell_type": "code",
   "execution_count": 319,
   "metadata": {},
   "outputs": [
    {
     "name": "stdout",
     "output_type": "stream",
     "text": [
      "Доля фильмов с указанием информации о сборах: 42.19\n"
     ]
    }
   ],
   "source": [
    "print(f'Доля фильмов с указанием информации о сборах: {mkrf_movies_final.box_office.notna().mean()*100:.2f}')"
   ]
  },
  {
   "cell_type": "markdown",
   "metadata": {
    "id": "BEOdcIrIgFyW"
   },
   "source": [
    "- Изучите, как менялась динамика проката по годам. В каком году сумма сборов была минимальной? А максимальной?"
   ]
  },
  {
   "cell_type": "code",
   "execution_count": 320,
   "metadata": {
    "id": "tfEhofYvgFyX",
    "scrolled": true
   },
   "outputs": [
    {
     "data": {
      "image/png": "[encoded data removed]",
      "text/plain": [
       "<Figure size 432x288 with 1 Axes>"
      ]
     },
     "metadata": {
      "needs_background": "light"
     },
     "output_type": "display_data"
    }
   ],
   "source": [
    "mkrf_movies_final_pivot.plot(title='Динамика сборов проката по годам', kind='line', y='sum');"
   ]
  },
  {
   "cell_type": "markdown",
   "metadata": {},
   "source": [
    "Вывод:  \n",
    "На протяжении девяти лет наблюдается положительная динамика роста сборов. Минимальное значение находится на уровне 2010-2012 годов, максимальное - в 2018м."
   ]
  },
  {
   "cell_type": "markdown",
   "metadata": {
    "id": "G-7qS-N-gFyY"
   },
   "source": [
    "- С помощью сводной таблицы посчитайте среднюю и медианную сумму сборов для каждого года."
   ]
  },
  {
   "cell_type": "code",
   "execution_count": 321,
   "metadata": {
    "id": "jmp-rgg9gFyY",
    "scrolled": true
   },
   "outputs": [
    {
     "data": {
      "image/png": "[encoded data removed]",
      "text/plain": [
       "<Figure size 432x288 with 1 Axes>"
      ]
     },
     "metadata": {
      "needs_background": "light"
     },
     "output_type": "display_data"
    }
   ],
   "source": [
    "mkrf_movies_final_pivot.plot(title='Динамика среднего и медианного сумма сборов по годам',\n",
    "                             kind='line',\n",
    "                             y=['median', 'mean']);"
   ]
  },
  {
   "cell_type": "markdown",
   "metadata": {},
   "source": [
    "Вывод:  \n",
    "В среднем наибольшее количество сборов пришлось на 2017й год. Медианное значение также растет к 2017 году, затем снижается."
   ]
  },
  {
   "cell_type": "markdown",
   "metadata": {
    "id": "Ok89WFwJgFyZ"
   },
   "source": [
    "- Определите, влияет ли возрастное ограничение аудитории («6+», «12+», «16+», «18+» и т. д.) на сборы фильма в прокате в период с 2015 по 2019 год? Фильмы с каким возрастным ограничением собрали больше всего денег в прокате? Меняется ли картина в зависимости от года? Если да, предположите, с чем это может быть связано."
   ]
  },
  {
   "cell_type": "code",
   "execution_count": 322,
   "metadata": {
    "id": "jsSbEqfjgFya",
    "scrolled": false
   },
   "outputs": [
    {
     "name": "stdout",
     "output_type": "stream",
     "text": [
      "\n"
     ]
    },
    {
     "data": {
      "image/png": "[encoded data removed]",
      "text/plain": [
       "<Figure size 864x360 with 1 Axes>"
      ]
     },
     "metadata": {
      "needs_background": "light"
     },
     "output_type": "display_data"
    }
   ],
   "source": [
    "mkrf_movies_final[mkrf_movies_final['box_office'].notna()] \\\n",
    "    .pivot_table(index='year_of_publication',\n",
    "                columns='age_restriction',\n",
    "                values='box_office',\n",
    "                aggfunc='sum') \\\n",
    "    .plot(title='Динамика сборов по возрастным категориям', kind='line', figsize = (12, 5), xlim=[2015, 2019])\n",
    "print()"
   ]
  },
  {
   "cell_type": "markdown",
   "metadata": {},
   "source": [
    "Вывод:  \n",
    "График показывает, что наибольшая доля кассовых сборов приходится на категорию \"16+\". Посещение кинотеатра является относительно недорогим развленчением, поэтому популярно среди студентов, у которых также имеется в среднем больше свободного времени на досуг, чем у более старших категорий.<br>\n",
    "Категория фильмов \"0+\" не приносит дохода кинотеатрам, т.к. семьи с маленькими детьми предпочитаю смотреть фильмы дома.<br>\n",
    "В 2017 году наблюдает падение уровня сборов по категории \"12+\". Возмодно это связано с демограмической ситуацией в стране в 2005 году (на сайте https://www.fedstat.ru/ наблюдается падение численности населения в этот период). <br>"
   ]
  },
  {
   "cell_type": "markdown",
   "metadata": {
    "id": "l_Kg6Ku4gFya"
   },
   "source": [
    "### Шаг 4. Исследуйте фильмы, которые получили государственную поддержку\n",
    "\n",
    "На этом этапе нет конкретных инструкций и заданий — поищите интересные закономерности в данных. Посмотрите, сколько выделяют средств на поддержку кино. Проверьте, хорошо ли окупаются такие фильмы, какой у них рейтинг."
   ]
  },
  {
   "cell_type": "markdown",
   "metadata": {},
   "source": [
    "**Добавим в таблицу столбец total_support - общая сумма государственной поддержки**"
   ]
  },
  {
   "cell_type": "code",
   "execution_count": 323,
   "metadata": {},
   "outputs": [],
   "source": [
    "mkrf_movies_final['total_support'] = mkrf_movies_final['refundable_support'] + mkrf_movies_final['nonrefundable_support']"
   ]
  },
  {
   "cell_type": "markdown",
   "metadata": {},
   "source": [
    "**Выделим в отдельную таблицу фильмы с поддержкой**"
   ]
  },
  {
   "cell_type": "code",
   "execution_count": 324,
   "metadata": {},
   "outputs": [],
   "source": [
    "mkrf_movies_final['profitability'] = mkrf_movies_final['box_office'] / mkrf_movies_final['total_support'] - 1"
   ]
  },
  {
   "cell_type": "markdown",
   "metadata": {},
   "source": [
    "**Отметим отдельно рентабельные и нерентабельные фильмы**"
   ]
  },
  {
   "cell_type": "code",
   "execution_count": 325,
   "metadata": {},
   "outputs": [],
   "source": [
    "mkrf_movies_final['good_profitability'] = mkrf_movies_final['profitability'] > 0\n",
    "mkrf_movies_final['bad_profitability'] = ~mkrf_movies_final['good_profitability']"
   ]
  },
  {
   "cell_type": "markdown",
   "metadata": {},
   "source": [
    "**Выделим в отдельную таблицу фильмы с поддержкой**"
   ]
  },
  {
   "cell_type": "code",
   "execution_count": 326,
   "metadata": {},
   "outputs": [],
   "source": [
    "movies_supported = mkrf_movies_final[mkrf_movies_final['refundable_support'].notna() | mkrf_movies_final['nonrefundable_support'].notna()]\n",
    "pd.set_option('max_columns', None)"
   ]
  },
  {
   "cell_type": "markdown",
   "metadata": {},
   "source": [
    "**Изучим самые популярные жанры**"
   ]
  },
  {
   "cell_type": "code",
   "execution_count": 327,
   "metadata": {
    "scrolled": true
   },
   "outputs": [
    {
     "data": {
      "image/png": "[encoded data removed]",
      "text/plain": [
       "<Figure size 432x288 with 1 Axes>"
      ]
     },
     "metadata": {
      "needs_background": "light"
     },
     "output_type": "display_data"
    }
   ],
   "source": [
    "movies_supported[['main_genres', 'ratings']].groupby('main_genres') \\\n",
    "                                        .agg('mean') \\\n",
    "                                        .sort_values(by='ratings', ascending=False) \\\n",
    "                                        .plot(title='Жанровая полулярность фильмов с гос.поддержкой', kind='barh');"
   ]
  },
  {
   "cell_type": "markdown",
   "metadata": {},
   "source": [
    "Вывод:  \n",
    "Наиболее популярными фильмами с гос.поддержкой являются фильмы жанра криминальный, детский, спорт. Наименее популярны ужасы."
   ]
  },
  {
   "cell_type": "markdown",
   "metadata": {},
   "source": [
    "**Изучим направленность государственной поддержки фильмов**"
   ]
  },
  {
   "cell_type": "code",
   "execution_count": 328,
   "metadata": {
    "scrolled": true
   },
   "outputs": [
    {
     "data": {
      "image/png": "[encoded data removed]",
      "text/plain": [
       "<Figure size 432x288 with 1 Axes>"
      ]
     },
     "metadata": {
      "needs_background": "light"
     },
     "output_type": "display_data"
    }
   ],
   "source": [
    "movies_supported['main_genres'].value_counts().plot(title='Направление гос.поддержки', kind='barh');"
   ]
  },
  {
   "cell_type": "markdown",
   "metadata": {},
   "source": [
    "Вывод:  \n",
    "Государство стремится поддерживать фильмы жанра драма, комедия и мультфильмы. В противоречие с рейтингами популярности, на криминал и спорт отводится наименьшее количество гос.помощи."
   ]
  },
  {
   "cell_type": "markdown",
   "metadata": {},
   "source": [
    "**Изучим рентабельность фильмов с гос.поддержкой**"
   ]
  },
  {
   "cell_type": "code",
   "execution_count": 329,
   "metadata": {
    "scrolled": true
   },
   "outputs": [
    {
     "data": {
      "image/png": "[encoded data removed]",
      "text/plain": [
       "<Figure size 432x288 with 1 Axes>"
      ]
     },
     "metadata": {
      "needs_background": "light"
     },
     "output_type": "display_data"
    }
   ],
   "source": [
    "movies_supported.groupby('main_genres') \\\n",
    "            .agg({'title': 'count',\n",
    "                  'good_profitability': 'sum',\n",
    "                  'bad_profitability': lambda x: 0 - x.sum()}) \\\n",
    "            .sort_values(by='title',\n",
    "                         ascending=False) \\\n",
    "            .plot(title='Обзор рентабельности фильмов',\n",
    "                  kind='bar',\n",
    "                  stacked=True,\n",
    "                  y=['good_profitability', 'bad_profitability']);"
   ]
  },
  {
   "cell_type": "markdown",
   "metadata": {},
   "source": [
    "Вывод:  \n",
    "График показывает, что несмотря на значительный объем гос.поддержки драмм, их прокат не окупается.<br>\n",
    "Процент окупившихся комедий приблизительно равен проценту провалившихся в прокате фильмов данного жанра. <br>\n",
    "Мультфильмы окупаются на приблизительно на 2/3.<br>\n",
    "Стоит обратить внимание, что по мелодраммам и мюзилам вложения оказались абсолютно нерентабельными."
   ]
  },
  {
   "cell_type": "markdown",
   "metadata": {
    "id": "V2gYwMcPgFyd"
   },
   "source": [
    "### Шаг 5. Напишите общий вывод"
   ]
  },
  {
   "cell_type": "markdown",
   "metadata": {
    "id": "AYRg3dzXgFye"
   },
   "source": [
    "**Краткий обзор проведённой работы**    \n",
    "На основании данных о рынке российского проката проанализировали текущие тренды среди интересов зрителей, а также рассмотрели отдельно вопрос рентабельности фильмов с государственной поддержкой.\n",
    "  \n",
    "**Главные выводы**  \n",
    "1. Анализ данных показал, что источник относится недостаточно скурупулезно к их сбору.<br>\n",
    "2. В датафреме было много пропусков, нет четкого алгоритма формирования данных, о чем свидетельствуют лишние пробелы, разные форматы написания жанра, рейтинга и имени режиссера также усложняют процесс анализа.<br>\n",
    "3. На результаты анализа также могли существенно повлиять пропуски данных по размеру сборов по фильмам.<br>\n",
    "4. Тенденции развития киноиндустрии показали, что количество фильмов, выпущенных в прокат к 2019му году растет, но сборы при этом за аналогичный период времени падают. Очевидно, повлияла ситация с пандемией в России. <br> \n",
    "5. Обзор аудитории по категории фильма показал, что большую часть зрителей составляют студенты, дети после 12ти. Соответственно, закономерно то, что фильмы жанра \"драма\" интересны данной категории зрителей не так сильно, как комедии, мультфильмы, приключения, боевики. Как показывает график, драмы не окупаются.\n",
    "6. Анализ окупаемости фильмов показал, что у органов распределения бюджета на финансирование киноиндустрии и непосредственно зрителей наблюдается частично противоположная направленность интересов. Об этом свидетествуют различия в пиковых показателях окупаемости и рейтингов. <br>\n",
    "**Рекомендации**\n",
    "1. Зрители голосуют рейтингами и сборами, соотвественно, если существует цель повысить рентабельность фильмов с гос. поддерржкой, следует уделить особое внимание улучшению сбора данных в этой области.   \n",
    "2. Возможно, стоит также пересмотреть структуру гос.финансирования в киноиндустрии, направив средства на более популярные жанры фильмов."
   ]
  },
  {
   "cell_type": "code",
   "execution_count": null,
   "metadata": {},
   "outputs": [],
   "source": []
  }
 ],
 "metadata": {
  "ExecuteTimeLog": [
   {
    "duration": 537,
    "start_time": "2021-07-07T10:12:08.634Z"
   },
   {
    "duration": 206,
    "start_time": "2021-07-07T10:12:30.191Z"
   },
   {
    "duration": 227,
    "start_time": "2021-07-07T10:12:33.078Z"
   },
   {
    "duration": 153,
    "start_time": "2021-07-07T10:13:42.146Z"
   },
   {
    "duration": 233,
    "start_time": "2021-07-07T10:30:09.252Z"
   },
   {
    "duration": 19,
    "start_time": "2021-07-07T10:30:15.577Z"
   },
   {
    "duration": 18,
    "start_time": "2021-07-07T10:30:57.348Z"
   },
   {
    "duration": 19,
    "start_time": "2021-07-07T10:31:17.452Z"
   },
   {
    "duration": 21,
    "start_time": "2021-07-07T10:31:32.227Z"
   },
   {
    "duration": 27,
    "start_time": "2021-07-07T10:32:06.588Z"
   },
   {
    "duration": 23,
    "start_time": "2021-07-07T10:32:43.645Z"
   },
   {
    "duration": 24,
    "start_time": "2021-07-07T10:33:06.948Z"
   },
   {
    "duration": 7,
    "start_time": "2021-07-07T10:33:28.558Z"
   },
   {
    "duration": 23,
    "start_time": "2021-07-07T10:33:43.761Z"
   },
   {
    "duration": 28,
    "start_time": "2021-07-07T10:34:13.466Z"
   },
   {
    "duration": 23,
    "start_time": "2021-07-07T10:35:56.187Z"
   },
   {
    "duration": 6,
    "start_time": "2021-07-07T10:36:48.182Z"
   },
   {
    "duration": 14,
    "start_time": "2021-07-07T10:37:49.641Z"
   },
   {
    "duration": 6,
    "start_time": "2021-07-07T10:38:06.694Z"
   },
   {
    "duration": 6,
    "start_time": "2021-07-07T10:38:13.493Z"
   },
   {
    "duration": 19,
    "start_time": "2021-07-07T10:38:44.056Z"
   },
   {
    "duration": 186,
    "start_time": "2021-07-07T10:48:35.618Z"
   },
   {
    "duration": 24,
    "start_time": "2021-07-07T10:48:51.498Z"
   },
   {
    "duration": 20,
    "start_time": "2021-07-07T10:48:59.415Z"
   },
   {
    "duration": 20,
    "start_time": "2021-07-07T10:53:02.195Z"
   },
   {
    "duration": 188,
    "start_time": "2021-07-07T10:54:40.486Z"
   },
   {
    "duration": 115,
    "start_time": "2021-07-07T10:54:52.552Z"
   },
   {
    "duration": 214,
    "start_time": "2021-07-07T10:54:56.354Z"
   },
   {
    "duration": 47,
    "start_time": "2021-07-07T10:54:58.282Z"
   },
   {
    "duration": 217,
    "start_time": "2021-07-07T10:59:16.075Z"
   },
   {
    "duration": 51,
    "start_time": "2021-07-07T10:59:16.243Z"
   },
   {
    "duration": 578,
    "start_time": "2021-07-07T10:59:18.774Z"
   },
   {
    "duration": 161,
    "start_time": "2021-07-07T10:59:21.238Z"
   },
   {
    "duration": 59,
    "start_time": "2021-07-07T10:59:21.453Z"
   },
   {
    "duration": 3,
    "start_time": "2021-07-07T11:02:10.786Z"
   },
   {
    "duration": 13,
    "start_time": "2021-07-07T11:07:07.722Z"
   },
   {
    "duration": 26,
    "start_time": "2021-07-07T11:07:17.958Z"
   },
   {
    "duration": 22,
    "start_time": "2021-07-07T11:08:17.939Z"
   },
   {
    "duration": 212,
    "start_time": "2021-07-07T11:08:19.665Z"
   },
   {
    "duration": 21,
    "start_time": "2021-07-07T11:08:29.945Z"
   },
   {
    "duration": 31,
    "start_time": "2021-07-07T11:08:38.899Z"
   },
   {
    "duration": 23,
    "start_time": "2021-07-07T11:08:54.527Z"
   },
   {
    "duration": 8,
    "start_time": "2021-07-07T11:18:55.974Z"
   },
   {
    "duration": 7,
    "start_time": "2021-07-07T11:19:03.639Z"
   },
   {
    "duration": 7,
    "start_time": "2021-07-07T11:19:06.444Z"
   },
   {
    "duration": 578,
    "start_time": "2021-07-07T12:09:59.576Z"
   },
   {
    "duration": 195,
    "start_time": "2021-07-07T12:10:00.156Z"
   },
   {
    "duration": 115,
    "start_time": "2021-07-07T12:10:00.353Z"
   },
   {
    "duration": 3,
    "start_time": "2021-07-07T12:10:00.470Z"
   },
   {
    "duration": 32,
    "start_time": "2021-07-07T12:10:00.474Z"
   },
   {
    "duration": 23,
    "start_time": "2021-07-07T12:10:00.508Z"
   },
   {
    "duration": 19,
    "start_time": "2021-07-07T12:10:00.533Z"
   },
   {
    "duration": 44,
    "start_time": "2021-07-07T12:10:00.553Z"
   },
   {
    "duration": 7,
    "start_time": "2021-07-07T12:10:00.600Z"
   },
   {
    "duration": 7,
    "start_time": "2021-07-07T12:19:45.761Z"
   },
   {
    "duration": 21,
    "start_time": "2021-07-07T12:21:35.482Z"
   },
   {
    "duration": 21,
    "start_time": "2021-07-07T12:29:23.569Z"
   },
   {
    "duration": 525,
    "start_time": "2021-07-07T12:29:44.542Z"
   },
   {
    "duration": 214,
    "start_time": "2021-07-07T12:29:45.069Z"
   },
   {
    "duration": 92,
    "start_time": "2021-07-07T12:29:45.285Z"
   },
   {
    "duration": 3,
    "start_time": "2021-07-07T12:29:45.379Z"
   },
   {
    "duration": 28,
    "start_time": "2021-07-07T12:29:45.384Z"
   },
   {
    "duration": 23,
    "start_time": "2021-07-07T12:29:45.413Z"
   },
   {
    "duration": 21,
    "start_time": "2021-07-07T12:29:45.437Z"
   },
   {
    "duration": 41,
    "start_time": "2021-07-07T12:29:45.460Z"
   },
   {
    "duration": 7,
    "start_time": "2021-07-07T12:29:45.502Z"
   },
   {
    "duration": 20,
    "start_time": "2021-07-07T12:29:45.511Z"
   },
   {
    "duration": 12,
    "start_time": "2021-07-07T12:34:02.800Z"
   },
   {
    "duration": 7,
    "start_time": "2021-07-07T12:35:10.479Z"
   },
   {
    "duration": 8,
    "start_time": "2021-07-07T12:35:22.440Z"
   },
   {
    "duration": 6,
    "start_time": "2021-07-07T12:35:35.649Z"
   },
   {
    "duration": 6,
    "start_time": "2021-07-07T12:35:43.107Z"
   },
   {
    "duration": 22,
    "start_time": "2021-07-07T12:38:03.029Z"
   },
   {
    "duration": 10,
    "start_time": "2021-07-07T12:38:06.592Z"
   },
   {
    "duration": 563,
    "start_time": "2021-07-07T12:38:46.493Z"
   },
   {
    "duration": 265,
    "start_time": "2021-07-07T12:38:47.058Z"
   },
   {
    "duration": 94,
    "start_time": "2021-07-07T12:38:47.325Z"
   },
   {
    "duration": 3,
    "start_time": "2021-07-07T12:38:47.422Z"
   },
   {
    "duration": 30,
    "start_time": "2021-07-07T12:38:47.427Z"
   },
   {
    "duration": 16,
    "start_time": "2021-07-07T12:38:53.305Z"
   },
   {
    "duration": 10,
    "start_time": "2021-07-07T12:38:53.499Z"
   },
   {
    "duration": 8,
    "start_time": "2021-07-07T12:39:48.161Z"
   },
   {
    "duration": 27,
    "start_time": "2021-07-07T12:41:17.629Z"
   },
   {
    "duration": 17,
    "start_time": "2021-07-07T12:41:17.867Z"
   },
   {
    "duration": 21,
    "start_time": "2021-07-07T12:41:19.310Z"
   },
   {
    "duration": 7,
    "start_time": "2021-07-07T12:41:19.544Z"
   },
   {
    "duration": 20,
    "start_time": "2021-07-07T12:41:20.504Z"
   },
   {
    "duration": 554,
    "start_time": "2021-07-07T12:56:23.696Z"
   },
   {
    "duration": 200,
    "start_time": "2021-07-07T12:56:25.234Z"
   },
   {
    "duration": 119,
    "start_time": "2021-07-07T12:56:25.480Z"
   },
   {
    "duration": 4,
    "start_time": "2021-07-07T12:56:25.762Z"
   },
   {
    "duration": 26,
    "start_time": "2021-07-07T12:56:27.172Z"
   },
   {
    "duration": 12,
    "start_time": "2021-07-07T12:56:29.051Z"
   },
   {
    "duration": 10,
    "start_time": "2021-07-07T12:56:29.291Z"
   },
   {
    "duration": 8,
    "start_time": "2021-07-07T12:56:29.623Z"
   },
   {
    "duration": 28,
    "start_time": "2021-07-07T12:56:32.137Z"
   },
   {
    "duration": 19,
    "start_time": "2021-07-07T12:56:39.785Z"
   },
   {
    "duration": 20,
    "start_time": "2021-07-07T12:56:44.297Z"
   },
   {
    "duration": 7,
    "start_time": "2021-07-07T12:56:45.392Z"
   },
   {
    "duration": 23,
    "start_time": "2021-07-07T12:56:46.615Z"
   },
   {
    "duration": 4,
    "start_time": "2021-07-07T12:57:06.625Z"
   },
   {
    "duration": 32,
    "start_time": "2021-07-07T12:57:36.690Z"
   },
   {
    "duration": 18,
    "start_time": "2021-07-07T12:58:00.149Z"
   },
   {
    "duration": 15,
    "start_time": "2021-07-07T12:59:16.793Z"
   },
   {
    "duration": 7,
    "start_time": "2021-07-07T13:19:22.624Z"
   },
   {
    "duration": 6,
    "start_time": "2021-07-07T14:17:33.527Z"
   },
   {
    "duration": 9,
    "start_time": "2021-07-07T14:17:48.409Z"
   },
   {
    "duration": 8,
    "start_time": "2021-07-07T14:20:13.060Z"
   },
   {
    "duration": 8,
    "start_time": "2021-07-07T14:20:37.957Z"
   },
   {
    "duration": 8,
    "start_time": "2021-07-07T14:20:47.470Z"
   },
   {
    "duration": 9,
    "start_time": "2021-07-07T14:20:54.503Z"
   },
   {
    "duration": 10,
    "start_time": "2021-07-07T14:28:57.763Z"
   },
   {
    "duration": 3,
    "start_time": "2021-07-07T14:30:23.377Z"
   },
   {
    "duration": 3,
    "start_time": "2021-07-07T14:30:36.489Z"
   },
   {
    "duration": 103,
    "start_time": "2021-07-07T14:30:52.351Z"
   },
   {
    "duration": 8,
    "start_time": "2021-07-07T14:30:54.763Z"
   },
   {
    "duration": 8,
    "start_time": "2021-07-07T14:31:29.301Z"
   },
   {
    "duration": 13,
    "start_time": "2021-07-07T14:31:44.516Z"
   },
   {
    "duration": 7,
    "start_time": "2021-07-07T14:33:10.972Z"
   },
   {
    "duration": 11,
    "start_time": "2021-07-07T14:33:27.780Z"
   },
   {
    "duration": 8,
    "start_time": "2021-07-07T14:34:44.588Z"
   },
   {
    "duration": 57,
    "start_time": "2021-07-07T14:35:59.042Z"
   },
   {
    "duration": 3,
    "start_time": "2021-07-07T14:36:28.168Z"
   },
   {
    "duration": 5,
    "start_time": "2021-07-07T14:36:46.254Z"
   },
   {
    "duration": 4,
    "start_time": "2021-07-07T14:36:52.714Z"
   },
   {
    "duration": 3,
    "start_time": "2021-07-07T14:36:56.612Z"
   },
   {
    "duration": 4,
    "start_time": "2021-07-07T14:36:57.049Z"
   },
   {
    "duration": 3,
    "start_time": "2021-07-07T14:39:21.214Z"
   },
   {
    "duration": 7,
    "start_time": "2021-07-07T14:39:52.406Z"
   },
   {
    "duration": 11,
    "start_time": "2021-07-07T14:39:58.576Z"
   },
   {
    "duration": 9,
    "start_time": "2021-07-07T14:40:26.301Z"
   },
   {
    "duration": 10,
    "start_time": "2021-07-07T14:40:31.704Z"
   },
   {
    "duration": 11,
    "start_time": "2021-07-07T14:40:36.249Z"
   },
   {
    "duration": 10,
    "start_time": "2021-07-07T14:40:39.783Z"
   },
   {
    "duration": 9,
    "start_time": "2021-07-07T14:40:48.558Z"
   },
   {
    "duration": 10,
    "start_time": "2021-07-07T14:40:57.143Z"
   },
   {
    "duration": 9,
    "start_time": "2021-07-07T14:41:06.074Z"
   },
   {
    "duration": 4324,
    "start_time": "2021-07-07T14:41:22.004Z"
   },
   {
    "duration": 11,
    "start_time": "2021-07-07T14:41:33.392Z"
   },
   {
    "duration": 9,
    "start_time": "2021-07-07T14:41:39.288Z"
   },
   {
    "duration": 569,
    "start_time": "2021-07-07T14:42:14.387Z"
   },
   {
    "duration": 197,
    "start_time": "2021-07-07T14:42:14.959Z"
   },
   {
    "duration": 84,
    "start_time": "2021-07-07T14:42:16.052Z"
   },
   {
    "duration": 4,
    "start_time": "2021-07-07T14:42:16.900Z"
   },
   {
    "duration": 27,
    "start_time": "2021-07-07T14:42:19.898Z"
   },
   {
    "duration": 12,
    "start_time": "2021-07-07T14:42:21.577Z"
   },
   {
    "duration": 9,
    "start_time": "2021-07-07T14:42:21.813Z"
   },
   {
    "duration": 9,
    "start_time": "2021-07-07T14:42:22.569Z"
   },
   {
    "duration": 29,
    "start_time": "2021-07-07T14:42:25.837Z"
   },
   {
    "duration": 20,
    "start_time": "2021-07-07T14:42:27.003Z"
   },
   {
    "duration": 21,
    "start_time": "2021-07-07T14:42:28.767Z"
   },
   {
    "duration": 7,
    "start_time": "2021-07-07T14:42:29.838Z"
   },
   {
    "duration": 4,
    "start_time": "2021-07-07T14:43:25.493Z"
   },
   {
    "duration": 7,
    "start_time": "2021-07-07T14:43:26.573Z"
   },
   {
    "duration": 10,
    "start_time": "2021-07-07T14:43:31.639Z"
   },
   {
    "duration": 9,
    "start_time": "2021-07-07T14:43:32.046Z"
   },
   {
    "duration": 10,
    "start_time": "2021-07-07T14:43:33.301Z"
   },
   {
    "duration": 12,
    "start_time": "2021-07-07T14:43:33.658Z"
   },
   {
    "duration": 8,
    "start_time": "2021-07-07T14:43:34.552Z"
   },
   {
    "duration": 9,
    "start_time": "2021-07-07T14:43:35.058Z"
   },
   {
    "duration": 12,
    "start_time": "2021-07-07T14:43:35.914Z"
   },
   {
    "duration": 17,
    "start_time": "2021-07-07T14:45:34.368Z"
   },
   {
    "duration": 512,
    "start_time": "2021-07-07T14:51:58.236Z"
   },
   {
    "duration": 223,
    "start_time": "2021-07-07T14:51:58.750Z"
   },
   {
    "duration": 93,
    "start_time": "2021-07-07T14:51:58.977Z"
   },
   {
    "duration": 4,
    "start_time": "2021-07-07T14:51:59.071Z"
   },
   {
    "duration": 37,
    "start_time": "2021-07-07T14:51:59.077Z"
   },
   {
    "duration": 18,
    "start_time": "2021-07-07T14:51:59.116Z"
   },
   {
    "duration": 10,
    "start_time": "2021-07-07T14:51:59.137Z"
   },
   {
    "duration": 8,
    "start_time": "2021-07-07T14:51:59.149Z"
   },
   {
    "duration": 54,
    "start_time": "2021-07-07T14:51:59.158Z"
   },
   {
    "duration": 18,
    "start_time": "2021-07-07T14:51:59.213Z"
   },
   {
    "duration": 22,
    "start_time": "2021-07-07T14:51:59.232Z"
   },
   {
    "duration": 36,
    "start_time": "2021-07-07T14:51:59.255Z"
   },
   {
    "duration": 7,
    "start_time": "2021-07-07T14:51:59.293Z"
   },
   {
    "duration": 10,
    "start_time": "2021-07-07T14:51:59.302Z"
   },
   {
    "duration": 9,
    "start_time": "2021-07-07T14:51:59.313Z"
   },
   {
    "duration": 11,
    "start_time": "2021-07-07T14:51:59.324Z"
   },
   {
    "duration": 8,
    "start_time": "2021-07-07T14:51:59.337Z"
   },
   {
    "duration": 46,
    "start_time": "2021-07-07T14:51:59.347Z"
   },
   {
    "duration": 22,
    "start_time": "2021-07-07T14:51:59.395Z"
   },
   {
    "duration": 24,
    "start_time": "2021-07-07T14:57:32.911Z"
   },
   {
    "duration": 7,
    "start_time": "2021-07-07T14:58:22.070Z"
   },
   {
    "duration": 4,
    "start_time": "2021-07-07T14:59:11.239Z"
   },
   {
    "duration": 25,
    "start_time": "2021-07-07T15:07:22.208Z"
   },
   {
    "duration": 16,
    "start_time": "2021-07-07T15:08:25.560Z"
   },
   {
    "duration": 15,
    "start_time": "2021-07-07T15:08:40.647Z"
   },
   {
    "duration": 14,
    "start_time": "2021-07-07T15:08:46.669Z"
   },
   {
    "duration": 533,
    "start_time": "2021-07-07T15:18:07.440Z"
   },
   {
    "duration": 173,
    "start_time": "2021-07-07T15:18:07.974Z"
   },
   {
    "duration": 84,
    "start_time": "2021-07-07T15:18:08.149Z"
   },
   {
    "duration": 3,
    "start_time": "2021-07-07T15:18:08.235Z"
   },
   {
    "duration": 30,
    "start_time": "2021-07-07T15:18:08.240Z"
   },
   {
    "duration": 22,
    "start_time": "2021-07-07T15:18:08.272Z"
   },
   {
    "duration": 11,
    "start_time": "2021-07-07T15:18:08.295Z"
   },
   {
    "duration": 11,
    "start_time": "2021-07-07T15:18:08.309Z"
   },
   {
    "duration": 40,
    "start_time": "2021-07-07T15:18:08.322Z"
   },
   {
    "duration": 42,
    "start_time": "2021-07-07T15:18:08.364Z"
   },
   {
    "duration": 22,
    "start_time": "2021-07-07T15:18:08.408Z"
   },
   {
    "duration": 5,
    "start_time": "2021-07-07T15:18:08.432Z"
   },
   {
    "duration": 13,
    "start_time": "2021-07-07T15:18:08.439Z"
   },
   {
    "duration": 9,
    "start_time": "2021-07-07T15:18:08.454Z"
   },
   {
    "duration": 32,
    "start_time": "2021-07-07T15:18:08.465Z"
   },
   {
    "duration": 10,
    "start_time": "2021-07-07T15:18:08.501Z"
   },
   {
    "duration": 7,
    "start_time": "2021-07-07T15:18:08.513Z"
   },
   {
    "duration": 11,
    "start_time": "2021-07-07T15:18:08.521Z"
   },
   {
    "duration": 17,
    "start_time": "2021-07-07T15:18:08.534Z"
   },
   {
    "duration": 44,
    "start_time": "2021-07-07T15:18:08.553Z"
   },
   {
    "duration": 22,
    "start_time": "2021-07-07T15:18:08.599Z"
   },
   {
    "duration": 61,
    "start_time": "2021-07-07T15:18:08.622Z"
   },
   {
    "duration": 7,
    "start_time": "2021-07-07T15:18:39.457Z"
   },
   {
    "duration": 5,
    "start_time": "2021-07-07T16:05:17.020Z"
   },
   {
    "duration": 5,
    "start_time": "2021-07-07T16:51:28.794Z"
   },
   {
    "duration": 546,
    "start_time": "2021-07-07T16:52:26.306Z"
   },
   {
    "duration": 203,
    "start_time": "2021-07-07T16:52:27.523Z"
   },
   {
    "duration": 85,
    "start_time": "2021-07-07T16:52:27.736Z"
   },
   {
    "duration": 4,
    "start_time": "2021-07-07T16:52:27.899Z"
   },
   {
    "duration": 25,
    "start_time": "2021-07-07T16:52:28.674Z"
   },
   {
    "duration": 8,
    "start_time": "2021-07-07T16:52:32.956Z"
   },
   {
    "duration": 18,
    "start_time": "2021-07-07T16:52:35.616Z"
   },
   {
    "duration": 6,
    "start_time": "2021-07-07T16:52:36.913Z"
   },
   {
    "duration": 11,
    "start_time": "2021-07-07T16:52:40.258Z"
   },
   {
    "duration": 10,
    "start_time": "2021-07-07T16:52:46.251Z"
   },
   {
    "duration": 8,
    "start_time": "2021-07-07T16:52:47.182Z"
   },
   {
    "duration": 27,
    "start_time": "2021-07-07T16:53:20.391Z"
   },
   {
    "duration": 20,
    "start_time": "2021-07-07T16:53:22.022Z"
   },
   {
    "duration": 23,
    "start_time": "2021-07-07T16:53:23.690Z"
   },
   {
    "duration": 8,
    "start_time": "2021-07-07T16:53:24.261Z"
   },
   {
    "duration": 4,
    "start_time": "2021-07-07T16:53:38.733Z"
   },
   {
    "duration": 7,
    "start_time": "2021-07-07T16:53:40.445Z"
   },
   {
    "duration": 11,
    "start_time": "2021-07-07T16:53:41.348Z"
   },
   {
    "duration": 13,
    "start_time": "2021-07-07T16:53:45.250Z"
   },
   {
    "duration": 12,
    "start_time": "2021-07-07T16:53:45.467Z"
   },
   {
    "duration": 4,
    "start_time": "2021-07-07T16:55:32.704Z"
   },
   {
    "duration": 12,
    "start_time": "2021-07-07T16:55:49.012Z"
   },
   {
    "duration": 18,
    "start_time": "2021-07-07T16:55:49.547Z"
   },
   {
    "duration": 611,
    "start_time": "2021-07-07T16:58:35.156Z"
   },
   {
    "duration": 200,
    "start_time": "2021-07-07T16:58:35.770Z"
   },
   {
    "duration": 86,
    "start_time": "2021-07-07T16:58:35.972Z"
   },
   {
    "duration": 3,
    "start_time": "2021-07-07T16:58:36.060Z"
   },
   {
    "duration": 27,
    "start_time": "2021-07-07T16:58:36.065Z"
   },
   {
    "duration": 8,
    "start_time": "2021-07-07T16:58:36.094Z"
   },
   {
    "duration": 17,
    "start_time": "2021-07-07T16:58:36.103Z"
   },
   {
    "duration": 5,
    "start_time": "2021-07-07T16:58:36.123Z"
   },
   {
    "duration": 11,
    "start_time": "2021-07-07T16:58:36.130Z"
   },
   {
    "duration": 7,
    "start_time": "2021-07-07T16:58:36.143Z"
   },
   {
    "duration": 37,
    "start_time": "2021-07-07T16:58:36.152Z"
   },
   {
    "duration": 27,
    "start_time": "2021-07-07T16:58:36.191Z"
   },
   {
    "duration": 19,
    "start_time": "2021-07-07T16:58:36.219Z"
   },
   {
    "duration": 49,
    "start_time": "2021-07-07T16:58:36.240Z"
   },
   {
    "duration": 6,
    "start_time": "2021-07-07T16:58:36.291Z"
   },
   {
    "duration": 3,
    "start_time": "2021-07-07T16:58:36.299Z"
   },
   {
    "duration": 13,
    "start_time": "2021-07-07T16:58:36.304Z"
   },
   {
    "duration": 10,
    "start_time": "2021-07-07T16:58:36.319Z"
   },
   {
    "duration": 10,
    "start_time": "2021-07-07T16:58:36.331Z"
   },
   {
    "duration": 44,
    "start_time": "2021-07-07T16:58:36.343Z"
   },
   {
    "duration": 4,
    "start_time": "2021-07-07T16:58:36.388Z"
   },
   {
    "duration": 13,
    "start_time": "2021-07-07T16:58:36.394Z"
   },
   {
    "duration": 16,
    "start_time": "2021-07-07T16:58:36.410Z"
   },
   {
    "duration": 8,
    "start_time": "2021-07-07T17:02:31.629Z"
   },
   {
    "duration": 8,
    "start_time": "2021-07-07T17:02:34.308Z"
   },
   {
    "duration": 6,
    "start_time": "2021-07-07T17:05:13.483Z"
   },
   {
    "duration": 17,
    "start_time": "2021-07-07T17:05:20.606Z"
   },
   {
    "duration": 7,
    "start_time": "2021-07-07T17:05:34.638Z"
   },
   {
    "duration": 3,
    "start_time": "2021-07-07T17:06:31.883Z"
   },
   {
    "duration": 570,
    "start_time": "2021-07-07T17:06:37.165Z"
   },
   {
    "duration": 174,
    "start_time": "2021-07-07T17:06:37.737Z"
   },
   {
    "duration": 47,
    "start_time": "2021-07-07T17:06:37.913Z"
   },
   {
    "duration": 3,
    "start_time": "2021-07-07T17:06:37.962Z"
   },
   {
    "duration": 27,
    "start_time": "2021-07-07T17:06:37.967Z"
   },
   {
    "duration": 7,
    "start_time": "2021-07-07T17:06:37.996Z"
   },
   {
    "duration": 16,
    "start_time": "2021-07-07T17:06:38.005Z"
   },
   {
    "duration": 6,
    "start_time": "2021-07-07T17:06:38.024Z"
   },
   {
    "duration": 12,
    "start_time": "2021-07-07T17:06:38.031Z"
   },
   {
    "duration": 41,
    "start_time": "2021-07-07T17:06:38.045Z"
   },
   {
    "duration": 8,
    "start_time": "2021-07-07T17:06:38.088Z"
   },
   {
    "duration": 26,
    "start_time": "2021-07-07T17:06:38.098Z"
   },
   {
    "duration": 17,
    "start_time": "2021-07-07T17:06:38.126Z"
   },
   {
    "duration": 43,
    "start_time": "2021-07-07T17:06:38.144Z"
   },
   {
    "duration": 6,
    "start_time": "2021-07-07T17:06:38.188Z"
   },
   {
    "duration": 5,
    "start_time": "2021-07-07T17:06:38.195Z"
   },
   {
    "duration": 9,
    "start_time": "2021-07-07T17:06:38.201Z"
   },
   {
    "duration": 12,
    "start_time": "2021-07-07T17:06:38.212Z"
   },
   {
    "duration": 11,
    "start_time": "2021-07-07T17:06:38.226Z"
   },
   {
    "duration": 47,
    "start_time": "2021-07-07T17:06:38.239Z"
   },
   {
    "duration": 4,
    "start_time": "2021-07-07T17:06:38.288Z"
   },
   {
    "duration": 13,
    "start_time": "2021-07-07T17:06:38.293Z"
   },
   {
    "duration": 5,
    "start_time": "2021-07-07T17:06:38.309Z"
   },
   {
    "duration": 18,
    "start_time": "2021-07-07T17:06:38.325Z"
   },
   {
    "duration": 20,
    "start_time": "2021-07-07T17:07:02.805Z"
   },
   {
    "duration": 19,
    "start_time": "2021-07-07T17:07:08.527Z"
   },
   {
    "duration": 19,
    "start_time": "2021-07-07T17:07:12.758Z"
   },
   {
    "duration": 22,
    "start_time": "2021-07-07T17:07:17.497Z"
   },
   {
    "duration": 19,
    "start_time": "2021-07-07T17:07:19.645Z"
   },
   {
    "duration": 10,
    "start_time": "2021-07-07T17:07:34.239Z"
   },
   {
    "duration": 17,
    "start_time": "2021-07-07T17:07:54.144Z"
   },
   {
    "duration": 14,
    "start_time": "2021-07-07T17:08:14.357Z"
   },
   {
    "duration": 616,
    "start_time": "2021-07-07T17:08:45.254Z"
   },
   {
    "duration": 178,
    "start_time": "2021-07-07T17:08:45.872Z"
   },
   {
    "duration": 60,
    "start_time": "2021-07-07T17:08:46.054Z"
   },
   {
    "duration": 3,
    "start_time": "2021-07-07T17:08:46.116Z"
   },
   {
    "duration": 26,
    "start_time": "2021-07-07T17:08:46.121Z"
   },
   {
    "duration": 7,
    "start_time": "2021-07-07T17:08:46.149Z"
   },
   {
    "duration": 17,
    "start_time": "2021-07-07T17:08:46.158Z"
   },
   {
    "duration": 14,
    "start_time": "2021-07-07T17:08:46.176Z"
   },
   {
    "duration": 17,
    "start_time": "2021-07-07T17:08:46.193Z"
   },
   {
    "duration": 9,
    "start_time": "2021-07-07T17:08:46.211Z"
   },
   {
    "duration": 21,
    "start_time": "2021-07-07T17:08:46.221Z"
   },
   {
    "duration": 49,
    "start_time": "2021-07-07T17:08:46.244Z"
   },
   {
    "duration": 24,
    "start_time": "2021-07-07T17:08:46.295Z"
   },
   {
    "duration": 22,
    "start_time": "2021-07-07T17:08:46.321Z"
   },
   {
    "duration": 6,
    "start_time": "2021-07-07T17:08:46.345Z"
   },
   {
    "duration": 5,
    "start_time": "2021-07-07T17:08:46.353Z"
   },
   {
    "duration": 13,
    "start_time": "2021-07-07T17:08:46.386Z"
   },
   {
    "duration": 12,
    "start_time": "2021-07-07T17:08:46.402Z"
   },
   {
    "duration": 10,
    "start_time": "2021-07-07T17:08:46.415Z"
   },
   {
    "duration": 7,
    "start_time": "2021-07-07T17:08:46.427Z"
   },
   {
    "duration": 8,
    "start_time": "2021-07-07T17:08:46.435Z"
   },
   {
    "duration": 68,
    "start_time": "2021-07-07T17:08:46.446Z"
   },
   {
    "duration": 13,
    "start_time": "2021-07-07T17:08:46.516Z"
   },
   {
    "duration": 78,
    "start_time": "2021-07-07T17:08:46.530Z"
   },
   {
    "duration": 40,
    "start_time": "2021-07-07T17:09:08.185Z"
   },
   {
    "duration": 16,
    "start_time": "2021-07-07T17:09:19.324Z"
   },
   {
    "duration": 21,
    "start_time": "2021-07-07T17:09:23.290Z"
   },
   {
    "duration": 13,
    "start_time": "2021-07-07T17:09:54.812Z"
   },
   {
    "duration": 13,
    "start_time": "2021-07-07T17:10:02.039Z"
   },
   {
    "duration": 10,
    "start_time": "2021-07-07T17:10:29.632Z"
   },
   {
    "duration": 13,
    "start_time": "2021-07-07T17:10:52.372Z"
   },
   {
    "duration": 13,
    "start_time": "2021-07-07T17:11:17.270Z"
   },
   {
    "duration": 13,
    "start_time": "2021-07-07T17:14:59.284Z"
   },
   {
    "duration": 547,
    "start_time": "2021-07-07T17:18:52.403Z"
   },
   {
    "duration": 163,
    "start_time": "2021-07-07T17:18:52.952Z"
   },
   {
    "duration": 44,
    "start_time": "2021-07-07T17:18:53.117Z"
   },
   {
    "duration": 3,
    "start_time": "2021-07-07T17:18:53.162Z"
   },
   {
    "duration": 26,
    "start_time": "2021-07-07T17:18:53.167Z"
   },
   {
    "duration": 6,
    "start_time": "2021-07-07T17:18:53.195Z"
   },
   {
    "duration": 15,
    "start_time": "2021-07-07T17:18:53.203Z"
   },
   {
    "duration": 5,
    "start_time": "2021-07-07T17:18:53.220Z"
   },
   {
    "duration": 11,
    "start_time": "2021-07-07T17:18:53.228Z"
   },
   {
    "duration": 9,
    "start_time": "2021-07-07T17:18:53.241Z"
   },
   {
    "duration": 41,
    "start_time": "2021-07-07T17:18:53.252Z"
   },
   {
    "duration": 33,
    "start_time": "2021-07-07T17:18:53.295Z"
   },
   {
    "duration": 19,
    "start_time": "2021-07-07T17:18:53.330Z"
   },
   {
    "duration": 49,
    "start_time": "2021-07-07T17:18:53.350Z"
   },
   {
    "duration": 5,
    "start_time": "2021-07-07T17:18:53.401Z"
   },
   {
    "duration": 5,
    "start_time": "2021-07-07T17:18:53.408Z"
   },
   {
    "duration": 11,
    "start_time": "2021-07-07T17:18:53.414Z"
   },
   {
    "duration": 9,
    "start_time": "2021-07-07T17:18:53.427Z"
   },
   {
    "duration": 10,
    "start_time": "2021-07-07T17:18:53.437Z"
   },
   {
    "duration": 39,
    "start_time": "2021-07-07T17:18:53.448Z"
   },
   {
    "duration": 26,
    "start_time": "2021-07-07T17:18:55.799Z"
   },
   {
    "duration": 598,
    "start_time": "2021-07-07T17:20:17.862Z"
   },
   {
    "duration": 161,
    "start_time": "2021-07-07T17:20:18.462Z"
   },
   {
    "duration": 45,
    "start_time": "2021-07-07T17:20:18.626Z"
   },
   {
    "duration": 4,
    "start_time": "2021-07-07T17:20:18.673Z"
   },
   {
    "duration": 38,
    "start_time": "2021-07-07T17:20:26.877Z"
   },
   {
    "duration": 7,
    "start_time": "2021-07-07T17:20:37.405Z"
   },
   {
    "duration": 19,
    "start_time": "2021-07-07T17:20:51.534Z"
   },
   {
    "duration": 5,
    "start_time": "2021-07-07T17:20:57.228Z"
   },
   {
    "duration": 7,
    "start_time": "2021-07-07T17:21:08.235Z"
   },
   {
    "duration": 19,
    "start_time": "2021-07-07T17:21:42.158Z"
   },
   {
    "duration": 14,
    "start_time": "2021-07-07T17:21:50.225Z"
   },
   {
    "duration": 22,
    "start_time": "2021-07-07T17:22:54.104Z"
   },
   {
    "duration": 5,
    "start_time": "2021-07-07T17:22:56.371Z"
   },
   {
    "duration": 14,
    "start_time": "2021-07-07T17:22:58.316Z"
   },
   {
    "duration": 5,
    "start_time": "2021-07-07T17:22:58.493Z"
   },
   {
    "duration": 35,
    "start_time": "2021-07-07T17:22:59.666Z"
   },
   {
    "duration": 6,
    "start_time": "2021-07-07T17:23:02.410Z"
   },
   {
    "duration": 611,
    "start_time": "2021-07-07T17:24:59.664Z"
   },
   {
    "duration": 178,
    "start_time": "2021-07-07T17:25:01.945Z"
   },
   {
    "duration": 47,
    "start_time": "2021-07-07T17:25:02.125Z"
   },
   {
    "duration": 2,
    "start_time": "2021-07-07T17:25:07.903Z"
   },
   {
    "duration": 254,
    "start_time": "2021-07-07T17:25:08.232Z"
   },
   {
    "duration": 182,
    "start_time": "2021-07-07T17:25:08.671Z"
   },
   {
    "duration": 6,
    "start_time": "2021-07-07T17:25:13.104Z"
   },
   {
    "duration": 36,
    "start_time": "2021-07-07T17:25:13.662Z"
   },
   {
    "duration": 7,
    "start_time": "2021-07-07T17:25:14.528Z"
   },
   {
    "duration": 24,
    "start_time": "2021-07-07T17:25:27.982Z"
   },
   {
    "duration": 3,
    "start_time": "2021-07-07T17:25:48.982Z"
   },
   {
    "duration": 165,
    "start_time": "2021-07-07T17:25:48.987Z"
   },
   {
    "duration": 50,
    "start_time": "2021-07-07T17:25:49.154Z"
   },
   {
    "duration": 4,
    "start_time": "2021-07-07T17:25:49.206Z"
   },
   {
    "duration": 26,
    "start_time": "2021-07-07T17:25:49.212Z"
   },
   {
    "duration": 7,
    "start_time": "2021-07-07T17:25:49.240Z"
   },
   {
    "duration": 16,
    "start_time": "2021-07-07T17:25:49.249Z"
   },
   {
    "duration": 22,
    "start_time": "2021-07-07T17:25:49.266Z"
   },
   {
    "duration": 16,
    "start_time": "2021-07-07T17:25:49.291Z"
   },
   {
    "duration": 9,
    "start_time": "2021-07-07T17:25:49.309Z"
   },
   {
    "duration": 7,
    "start_time": "2021-07-07T17:25:49.319Z"
   },
   {
    "duration": 28,
    "start_time": "2021-07-07T17:25:49.328Z"
   },
   {
    "duration": 44,
    "start_time": "2021-07-07T17:25:49.357Z"
   },
   {
    "duration": 22,
    "start_time": "2021-07-07T17:25:49.403Z"
   },
   {
    "duration": 7,
    "start_time": "2021-07-07T17:25:49.427Z"
   },
   {
    "duration": 3,
    "start_time": "2021-07-07T17:25:49.436Z"
   },
   {
    "duration": 44,
    "start_time": "2021-07-07T17:25:49.441Z"
   },
   {
    "duration": 12,
    "start_time": "2021-07-07T17:25:49.488Z"
   },
   {
    "duration": 13,
    "start_time": "2021-07-07T17:25:49.502Z"
   },
   {
    "duration": 10,
    "start_time": "2021-07-07T17:25:49.516Z"
   },
   {
    "duration": 62,
    "start_time": "2021-07-07T17:25:49.527Z"
   },
   {
    "duration": 26,
    "start_time": "2021-07-07T17:26:51.809Z"
   },
   {
    "duration": 26,
    "start_time": "2021-07-07T17:26:55.759Z"
   },
   {
    "duration": 26,
    "start_time": "2021-07-07T17:27:04.501Z"
   },
   {
    "duration": 25,
    "start_time": "2021-07-07T17:28:24.859Z"
   },
   {
    "duration": 21,
    "start_time": "2021-07-07T17:28:55.250Z"
   },
   {
    "duration": 21,
    "start_time": "2021-07-07T17:28:58.885Z"
   },
   {
    "duration": 7,
    "start_time": "2021-07-07T17:45:40.972Z"
   },
   {
    "duration": 13,
    "start_time": "2021-07-07T17:45:42.529Z"
   },
   {
    "duration": 27,
    "start_time": "2021-07-07T17:45:51.026Z"
   },
   {
    "duration": 518,
    "start_time": "2021-07-07T17:46:15.532Z"
   },
   {
    "duration": 235,
    "start_time": "2021-07-07T17:46:16.053Z"
   },
   {
    "duration": 80,
    "start_time": "2021-07-07T17:46:16.292Z"
   },
   {
    "duration": 5,
    "start_time": "2021-07-07T17:46:16.373Z"
   },
   {
    "duration": 26,
    "start_time": "2021-07-07T17:46:16.380Z"
   },
   {
    "duration": 7,
    "start_time": "2021-07-07T17:46:16.408Z"
   },
   {
    "duration": 16,
    "start_time": "2021-07-07T17:46:16.418Z"
   },
   {
    "duration": 5,
    "start_time": "2021-07-07T17:46:16.436Z"
   },
   {
    "duration": 13,
    "start_time": "2021-07-07T17:46:16.442Z"
   },
   {
    "duration": 35,
    "start_time": "2021-07-07T17:46:16.456Z"
   },
   {
    "duration": 8,
    "start_time": "2021-07-07T17:46:16.493Z"
   },
   {
    "duration": 28,
    "start_time": "2021-07-07T17:46:16.502Z"
   },
   {
    "duration": 17,
    "start_time": "2021-07-07T17:46:16.532Z"
   },
   {
    "duration": 44,
    "start_time": "2021-07-07T17:46:16.551Z"
   },
   {
    "duration": 6,
    "start_time": "2021-07-07T17:46:16.597Z"
   },
   {
    "duration": 4,
    "start_time": "2021-07-07T17:46:16.605Z"
   },
   {
    "duration": 9,
    "start_time": "2021-07-07T17:46:16.610Z"
   },
   {
    "duration": 9,
    "start_time": "2021-07-07T17:46:16.621Z"
   },
   {
    "duration": 10,
    "start_time": "2021-07-07T17:46:16.632Z"
   },
   {
    "duration": 43,
    "start_time": "2021-07-07T17:46:16.644Z"
   },
   {
    "duration": 26,
    "start_time": "2021-07-07T17:46:16.689Z"
   },
   {
    "duration": 19,
    "start_time": "2021-07-07T17:46:16.718Z"
   },
   {
    "duration": 8,
    "start_time": "2021-07-07T17:46:16.738Z"
   },
   {
    "duration": 43,
    "start_time": "2021-07-07T17:46:16.747Z"
   },
   {
    "duration": 19,
    "start_time": "2021-07-07T17:46:16.791Z"
   },
   {
    "duration": 9,
    "start_time": "2021-07-07T17:46:16.812Z"
   },
   {
    "duration": 60,
    "start_time": "2021-07-07T17:46:16.822Z"
   },
   {
    "duration": -8,
    "start_time": "2021-07-07T17:46:16.892Z"
   },
   {
    "duration": 12,
    "start_time": "2021-07-07T17:48:47.707Z"
   },
   {
    "duration": 553,
    "start_time": "2021-07-07T18:10:09.350Z"
   },
   {
    "duration": 230,
    "start_time": "2021-07-07T18:10:09.905Z"
   },
   {
    "duration": 97,
    "start_time": "2021-07-07T18:10:10.137Z"
   },
   {
    "duration": 5,
    "start_time": "2021-07-07T18:10:10.236Z"
   },
   {
    "duration": 29,
    "start_time": "2021-07-07T18:10:10.242Z"
   },
   {
    "duration": 7,
    "start_time": "2021-07-07T18:10:10.272Z"
   },
   {
    "duration": 15,
    "start_time": "2021-07-07T18:10:10.281Z"
   },
   {
    "duration": 4,
    "start_time": "2021-07-07T18:10:10.299Z"
   },
   {
    "duration": 14,
    "start_time": "2021-07-07T18:10:10.305Z"
   },
   {
    "duration": 8,
    "start_time": "2021-07-07T18:10:10.321Z"
   },
   {
    "duration": 8,
    "start_time": "2021-07-07T18:10:10.331Z"
   },
   {
    "duration": 56,
    "start_time": "2021-07-07T18:10:10.341Z"
   },
   {
    "duration": 19,
    "start_time": "2021-07-07T18:10:10.399Z"
   },
   {
    "duration": 23,
    "start_time": "2021-07-07T18:10:10.419Z"
   },
   {
    "duration": 6,
    "start_time": "2021-07-07T18:10:10.444Z"
   },
   {
    "duration": 9,
    "start_time": "2021-07-07T18:10:10.451Z"
   },
   {
    "duration": 30,
    "start_time": "2021-07-07T18:10:10.462Z"
   },
   {
    "duration": 9,
    "start_time": "2021-07-07T18:10:10.494Z"
   },
   {
    "duration": 14,
    "start_time": "2021-07-07T18:10:10.505Z"
   },
   {
    "duration": 7,
    "start_time": "2021-07-07T18:10:10.521Z"
   },
   {
    "duration": 26,
    "start_time": "2021-07-07T18:10:10.530Z"
   },
   {
    "duration": 44,
    "start_time": "2021-07-07T18:10:10.558Z"
   },
   {
    "duration": 7,
    "start_time": "2021-07-07T18:10:10.605Z"
   },
   {
    "duration": 11,
    "start_time": "2021-07-07T18:10:10.614Z"
   },
   {
    "duration": 19,
    "start_time": "2021-07-07T18:10:10.626Z"
   },
   {
    "duration": 44,
    "start_time": "2021-07-07T18:10:10.646Z"
   },
   {
    "duration": 516,
    "start_time": "2021-07-07T18:14:00.826Z"
   },
   {
    "duration": 230,
    "start_time": "2021-07-07T18:14:01.344Z"
   },
   {
    "duration": 105,
    "start_time": "2021-07-07T18:14:01.576Z"
   },
   {
    "duration": 5,
    "start_time": "2021-07-07T18:14:01.683Z"
   },
   {
    "duration": 46,
    "start_time": "2021-07-07T18:14:01.690Z"
   },
   {
    "duration": 7,
    "start_time": "2021-07-07T18:14:01.738Z"
   },
   {
    "duration": 20,
    "start_time": "2021-07-07T18:14:01.747Z"
   },
   {
    "duration": 16,
    "start_time": "2021-07-07T18:14:01.769Z"
   },
   {
    "duration": 14,
    "start_time": "2021-07-07T18:14:01.787Z"
   },
   {
    "duration": 15,
    "start_time": "2021-07-07T18:14:01.803Z"
   },
   {
    "duration": 12,
    "start_time": "2021-07-07T18:14:01.820Z"
   },
   {
    "duration": 35,
    "start_time": "2021-07-07T18:14:01.833Z"
   },
   {
    "duration": 31,
    "start_time": "2021-07-07T18:14:01.869Z"
   },
   {
    "duration": 37,
    "start_time": "2021-07-07T18:14:01.902Z"
   },
   {
    "duration": 8,
    "start_time": "2021-07-07T18:14:01.942Z"
   },
   {
    "duration": 16,
    "start_time": "2021-07-07T18:14:01.952Z"
   },
   {
    "duration": 13,
    "start_time": "2021-07-07T18:14:01.970Z"
   },
   {
    "duration": 32,
    "start_time": "2021-07-07T18:14:01.985Z"
   },
   {
    "duration": 11,
    "start_time": "2021-07-07T18:14:02.019Z"
   },
   {
    "duration": 22,
    "start_time": "2021-07-07T18:14:02.031Z"
   },
   {
    "duration": 27,
    "start_time": "2021-07-07T18:14:02.055Z"
   },
   {
    "duration": 18,
    "start_time": "2021-07-07T18:14:02.084Z"
   },
   {
    "duration": 18,
    "start_time": "2021-07-07T18:14:02.106Z"
   },
   {
    "duration": 11,
    "start_time": "2021-07-07T18:14:02.126Z"
   },
   {
    "duration": 21,
    "start_time": "2021-07-07T18:14:02.138Z"
   },
   {
    "duration": 32,
    "start_time": "2021-07-07T18:14:02.161Z"
   },
   {
    "duration": 28,
    "start_time": "2021-07-07T18:14:44.295Z"
   },
   {
    "duration": 6,
    "start_time": "2021-07-07T18:15:05.834Z"
   },
   {
    "duration": 511,
    "start_time": "2021-07-07T18:15:41.541Z"
   },
   {
    "duration": 183,
    "start_time": "2021-07-07T18:15:42.054Z"
   },
   {
    "duration": 50,
    "start_time": "2021-07-07T18:15:42.239Z"
   },
   {
    "duration": 5,
    "start_time": "2021-07-07T18:15:42.291Z"
   },
   {
    "duration": 48,
    "start_time": "2021-07-07T18:15:42.297Z"
   },
   {
    "duration": 8,
    "start_time": "2021-07-07T18:15:42.346Z"
   },
   {
    "duration": 17,
    "start_time": "2021-07-07T18:15:42.356Z"
   },
   {
    "duration": 15,
    "start_time": "2021-07-07T18:15:42.375Z"
   },
   {
    "duration": 12,
    "start_time": "2021-07-07T18:15:42.392Z"
   },
   {
    "duration": 7,
    "start_time": "2021-07-07T18:15:42.406Z"
   },
   {
    "duration": 7,
    "start_time": "2021-07-07T18:15:42.415Z"
   },
   {
    "duration": 29,
    "start_time": "2021-07-07T18:15:42.423Z"
   },
   {
    "duration": 43,
    "start_time": "2021-07-07T18:15:42.453Z"
   },
   {
    "duration": 18,
    "start_time": "2021-07-07T18:15:42.497Z"
   },
   {
    "duration": 6,
    "start_time": "2021-07-07T18:15:42.516Z"
   },
   {
    "duration": 3,
    "start_time": "2021-07-07T18:15:42.523Z"
   },
   {
    "duration": 18,
    "start_time": "2021-07-07T18:15:42.528Z"
   },
   {
    "duration": 10,
    "start_time": "2021-07-07T18:15:42.547Z"
   },
   {
    "duration": 36,
    "start_time": "2021-07-07T18:15:42.559Z"
   },
   {
    "duration": 8,
    "start_time": "2021-07-07T18:15:42.597Z"
   },
   {
    "duration": 28,
    "start_time": "2021-07-07T18:15:42.606Z"
   },
   {
    "duration": 52,
    "start_time": "2021-07-07T18:15:42.635Z"
   },
   {
    "duration": 7,
    "start_time": "2021-07-07T18:15:42.690Z"
   },
   {
    "duration": 10,
    "start_time": "2021-07-07T18:15:42.699Z"
   },
   {
    "duration": 19,
    "start_time": "2021-07-07T18:15:42.711Z"
   },
   {
    "duration": 9,
    "start_time": "2021-07-07T18:15:42.732Z"
   },
   {
    "duration": 5,
    "start_time": "2021-07-07T18:15:42.743Z"
   },
   {
    "duration": 1450,
    "start_time": "2021-07-07T18:15:51.984Z"
   },
   {
    "duration": 161,
    "start_time": "2021-07-07T18:15:53.435Z"
   },
   {
    "duration": 124,
    "start_time": "2021-07-07T18:15:53.598Z"
   },
   {
    "duration": 5,
    "start_time": "2021-07-07T18:15:53.724Z"
   },
   {
    "duration": 34,
    "start_time": "2021-07-07T18:15:53.730Z"
   },
   {
    "duration": 7,
    "start_time": "2021-07-07T18:15:53.765Z"
   },
   {
    "duration": 15,
    "start_time": "2021-07-07T18:15:53.773Z"
   },
   {
    "duration": 5,
    "start_time": "2021-07-07T18:15:53.791Z"
   },
   {
    "duration": 19,
    "start_time": "2021-07-07T18:15:53.798Z"
   },
   {
    "duration": 9,
    "start_time": "2021-07-07T18:15:53.818Z"
   },
   {
    "duration": 19,
    "start_time": "2021-07-07T18:15:53.828Z"
   },
   {
    "duration": 27,
    "start_time": "2021-07-07T18:15:53.848Z"
   },
   {
    "duration": 16,
    "start_time": "2021-07-07T18:15:53.884Z"
   },
   {
    "duration": 29,
    "start_time": "2021-07-07T18:15:53.901Z"
   },
   {
    "duration": 5,
    "start_time": "2021-07-07T18:15:53.932Z"
   },
   {
    "duration": 15,
    "start_time": "2021-07-07T18:15:53.939Z"
   },
   {
    "duration": 13,
    "start_time": "2021-07-07T18:15:53.956Z"
   },
   {
    "duration": 20,
    "start_time": "2021-07-07T18:15:53.971Z"
   },
   {
    "duration": 14,
    "start_time": "2021-07-07T18:15:53.992Z"
   },
   {
    "duration": 9,
    "start_time": "2021-07-07T18:15:54.009Z"
   },
   {
    "duration": 28,
    "start_time": "2021-07-07T18:15:54.020Z"
   },
   {
    "duration": 50,
    "start_time": "2021-07-07T18:15:54.051Z"
   },
   {
    "duration": 8,
    "start_time": "2021-07-07T18:15:54.105Z"
   },
   {
    "duration": 11,
    "start_time": "2021-07-07T18:15:54.115Z"
   },
   {
    "duration": 20,
    "start_time": "2021-07-07T18:15:54.128Z"
   },
   {
    "duration": 13,
    "start_time": "2021-07-07T18:15:54.184Z"
   },
   {
    "duration": 7,
    "start_time": "2021-07-07T18:15:54.199Z"
   },
   {
    "duration": 7,
    "start_time": "2021-07-07T18:17:08.042Z"
   },
   {
    "duration": 8,
    "start_time": "2021-07-07T18:17:21.008Z"
   },
   {
    "duration": 7,
    "start_time": "2021-07-07T18:17:29.003Z"
   },
   {
    "duration": 8,
    "start_time": "2021-07-07T18:17:32.492Z"
   },
   {
    "duration": 9,
    "start_time": "2021-07-07T18:17:41.758Z"
   },
   {
    "duration": 255,
    "start_time": "2021-07-07T18:20:20.897Z"
   },
   {
    "duration": 173,
    "start_time": "2021-07-07T18:20:26.636Z"
   },
   {
    "duration": 7,
    "start_time": "2021-07-07T18:21:47.164Z"
   },
   {
    "duration": 254,
    "start_time": "2021-07-07T18:23:08.703Z"
   },
   {
    "duration": 21,
    "start_time": "2021-07-07T18:23:22.506Z"
   },
   {
    "duration": 315,
    "start_time": "2021-07-07T18:25:54.801Z"
   },
   {
    "duration": 34,
    "start_time": "2021-07-07T18:26:51.817Z"
   },
   {
    "duration": 327,
    "start_time": "2021-07-07T18:26:56.147Z"
   },
   {
    "duration": 342,
    "start_time": "2021-07-07T18:27:15.887Z"
   },
   {
    "duration": 302,
    "start_time": "2021-07-07T18:28:18.569Z"
   },
   {
    "duration": 226,
    "start_time": "2021-07-07T18:29:20.879Z"
   },
   {
    "duration": 207,
    "start_time": "2021-07-07T18:29:58.114Z"
   },
   {
    "duration": 140,
    "start_time": "2021-07-07T18:32:04.372Z"
   },
   {
    "duration": 158,
    "start_time": "2021-07-07T18:32:32.508Z"
   },
   {
    "duration": 145,
    "start_time": "2021-07-07T18:32:41.365Z"
   },
   {
    "duration": 132,
    "start_time": "2021-07-07T18:32:45.199Z"
   },
   {
    "duration": 11,
    "start_time": "2021-07-07T18:35:24.679Z"
   },
   {
    "duration": 268,
    "start_time": "2021-07-07T18:36:16.145Z"
   },
   {
    "duration": 227,
    "start_time": "2021-07-07T18:37:04.918Z"
   },
   {
    "duration": 3,
    "start_time": "2021-07-07T18:37:33.012Z"
   },
   {
    "duration": 671,
    "start_time": "2021-07-07T18:37:38.295Z"
   },
   {
    "duration": 54,
    "start_time": "2021-07-07T18:37:53.406Z"
   },
   {
    "duration": 631,
    "start_time": "2021-07-07T18:37:56.463Z"
   },
   {
    "duration": 19,
    "start_time": "2021-07-07T18:39:40.535Z"
   },
   {
    "duration": 20,
    "start_time": "2021-07-07T18:40:12.236Z"
   },
   {
    "duration": 633,
    "start_time": "2021-07-07T18:42:00.398Z"
   },
   {
    "duration": 218,
    "start_time": "2021-07-07T18:42:01.033Z"
   },
   {
    "duration": 49,
    "start_time": "2021-07-07T18:42:01.253Z"
   },
   {
    "duration": 5,
    "start_time": "2021-07-07T18:42:01.303Z"
   },
   {
    "duration": 27,
    "start_time": "2021-07-07T18:42:01.310Z"
   },
   {
    "duration": 8,
    "start_time": "2021-07-07T18:42:01.339Z"
   },
   {
    "duration": 20,
    "start_time": "2021-07-07T18:42:01.348Z"
   },
   {
    "duration": 6,
    "start_time": "2021-07-07T18:42:01.386Z"
   },
   {
    "duration": 16,
    "start_time": "2021-07-07T18:42:01.394Z"
   },
   {
    "duration": 9,
    "start_time": "2021-07-07T18:42:01.411Z"
   },
   {
    "duration": 11,
    "start_time": "2021-07-07T18:42:01.421Z"
   },
   {
    "duration": 31,
    "start_time": "2021-07-07T18:42:01.434Z"
   },
   {
    "duration": 18,
    "start_time": "2021-07-07T18:42:01.485Z"
   },
   {
    "duration": 23,
    "start_time": "2021-07-07T18:42:01.505Z"
   },
   {
    "duration": 6,
    "start_time": "2021-07-07T18:42:01.530Z"
   },
   {
    "duration": 10,
    "start_time": "2021-07-07T18:42:01.538Z"
   },
   {
    "duration": 13,
    "start_time": "2021-07-07T18:42:01.550Z"
   },
   {
    "duration": 24,
    "start_time": "2021-07-07T18:42:01.564Z"
   },
   {
    "duration": 20,
    "start_time": "2021-07-07T18:42:01.590Z"
   },
   {
    "duration": 8,
    "start_time": "2021-07-07T18:42:01.611Z"
   },
   {
    "duration": 31,
    "start_time": "2021-07-07T18:42:01.620Z"
   },
   {
    "duration": 39,
    "start_time": "2021-07-07T18:42:01.653Z"
   },
   {
    "duration": 8,
    "start_time": "2021-07-07T18:42:01.696Z"
   },
   {
    "duration": 13,
    "start_time": "2021-07-07T18:42:01.705Z"
   },
   {
    "duration": 20,
    "start_time": "2021-07-07T18:42:01.720Z"
   },
   {
    "duration": 12,
    "start_time": "2021-07-07T18:42:01.741Z"
   },
   {
    "duration": 35,
    "start_time": "2021-07-07T18:42:01.755Z"
   },
   {
    "duration": 14,
    "start_time": "2021-07-07T18:42:01.792Z"
   },
   {
    "duration": 188,
    "start_time": "2021-07-07T18:42:01.808Z"
   },
   {
    "duration": 19,
    "start_time": "2021-07-07T18:42:01.998Z"
   },
   {
    "duration": 175,
    "start_time": "2021-07-07T18:42:02.019Z"
   },
   {
    "duration": 134,
    "start_time": "2021-07-07T18:42:02.196Z"
   },
   {
    "duration": 10,
    "start_time": "2021-07-07T18:42:02.331Z"
   },
   {
    "duration": 19,
    "start_time": "2021-07-07T18:42:02.343Z"
   },
   {
    "duration": 628,
    "start_time": "2021-07-07T18:46:30.701Z"
   },
   {
    "duration": 183,
    "start_time": "2021-07-07T18:46:31.331Z"
   },
   {
    "duration": 48,
    "start_time": "2021-07-07T18:46:31.516Z"
   },
   {
    "duration": 5,
    "start_time": "2021-07-07T18:46:31.566Z"
   },
   {
    "duration": 28,
    "start_time": "2021-07-07T18:46:31.572Z"
   },
   {
    "duration": 8,
    "start_time": "2021-07-07T18:46:31.602Z"
   },
   {
    "duration": 19,
    "start_time": "2021-07-07T18:46:31.611Z"
   },
   {
    "duration": 6,
    "start_time": "2021-07-07T18:46:31.633Z"
   },
   {
    "duration": 17,
    "start_time": "2021-07-07T18:46:31.642Z"
   },
   {
    "duration": 10,
    "start_time": "2021-07-07T18:46:31.684Z"
   },
   {
    "duration": 9,
    "start_time": "2021-07-07T18:46:31.695Z"
   },
   {
    "duration": 28,
    "start_time": "2021-07-07T18:46:31.705Z"
   },
   {
    "duration": 18,
    "start_time": "2021-07-07T18:46:31.735Z"
   },
   {
    "duration": 48,
    "start_time": "2021-07-07T18:46:31.755Z"
   },
   {
    "duration": 6,
    "start_time": "2021-07-07T18:46:31.804Z"
   },
   {
    "duration": 4,
    "start_time": "2021-07-07T18:46:31.812Z"
   },
   {
    "duration": 9,
    "start_time": "2021-07-07T18:46:31.817Z"
   },
   {
    "duration": 10,
    "start_time": "2021-07-07T18:46:31.827Z"
   },
   {
    "duration": 12,
    "start_time": "2021-07-07T18:46:31.838Z"
   },
   {
    "duration": 39,
    "start_time": "2021-07-07T18:46:31.851Z"
   },
   {
    "duration": 24,
    "start_time": "2021-07-07T18:46:31.892Z"
   },
   {
    "duration": 15,
    "start_time": "2021-07-07T18:46:31.918Z"
   },
   {
    "duration": 7,
    "start_time": "2021-07-07T18:46:31.936Z"
   },
   {
    "duration": 8,
    "start_time": "2021-07-07T18:46:31.944Z"
   },
   {
    "duration": 19,
    "start_time": "2021-07-07T18:46:31.984Z"
   },
   {
    "duration": 10,
    "start_time": "2021-07-07T18:46:32.004Z"
   },
   {
    "duration": 5,
    "start_time": "2021-07-07T18:46:32.016Z"
   },
   {
    "duration": 9,
    "start_time": "2021-07-07T18:46:32.023Z"
   },
   {
    "duration": 199,
    "start_time": "2021-07-07T18:46:32.033Z"
   },
   {
    "duration": 19,
    "start_time": "2021-07-07T18:46:32.234Z"
   },
   {
    "duration": 159,
    "start_time": "2021-07-07T18:46:32.255Z"
   },
   {
    "duration": 134,
    "start_time": "2021-07-07T18:46:32.416Z"
   },
   {
    "duration": 10,
    "start_time": "2021-07-07T18:46:32.552Z"
   },
   {
    "duration": 34,
    "start_time": "2021-07-07T18:46:32.563Z"
   },
   {
    "duration": 1039,
    "start_time": "2021-07-08T08:41:09.419Z"
   },
   {
    "duration": 333,
    "start_time": "2021-07-08T08:41:10.459Z"
   },
   {
    "duration": 173,
    "start_time": "2021-07-08T08:41:10.794Z"
   },
   {
    "duration": 5,
    "start_time": "2021-07-08T08:41:10.968Z"
   },
   {
    "duration": 25,
    "start_time": "2021-07-08T08:41:10.975Z"
   },
   {
    "duration": 9,
    "start_time": "2021-07-08T08:41:11.002Z"
   },
   {
    "duration": 18,
    "start_time": "2021-07-08T08:41:11.013Z"
   },
   {
    "duration": 6,
    "start_time": "2021-07-08T08:41:11.033Z"
   },
   {
    "duration": 44,
    "start_time": "2021-07-08T08:41:11.042Z"
   },
   {
    "duration": 10,
    "start_time": "2021-07-08T08:41:11.088Z"
   },
   {
    "duration": 9,
    "start_time": "2021-07-08T08:41:11.100Z"
   },
   {
    "duration": 27,
    "start_time": "2021-07-08T08:41:11.111Z"
   },
   {
    "duration": 46,
    "start_time": "2021-07-08T08:41:11.140Z"
   },
   {
    "duration": 17,
    "start_time": "2021-07-08T08:41:11.187Z"
   },
   {
    "duration": 6,
    "start_time": "2021-07-08T08:41:11.206Z"
   },
   {
    "duration": 5,
    "start_time": "2021-07-08T08:41:11.213Z"
   },
   {
    "duration": 10,
    "start_time": "2021-07-08T08:41:11.219Z"
   },
   {
    "duration": 9,
    "start_time": "2021-07-08T08:41:11.230Z"
   },
   {
    "duration": 45,
    "start_time": "2021-07-08T08:41:11.241Z"
   },
   {
    "duration": 7,
    "start_time": "2021-07-08T08:41:11.287Z"
   },
   {
    "duration": 24,
    "start_time": "2021-07-08T08:41:11.296Z"
   },
   {
    "duration": 16,
    "start_time": "2021-07-08T08:41:11.322Z"
   },
   {
    "duration": 7,
    "start_time": "2021-07-08T08:41:11.341Z"
   },
   {
    "duration": 41,
    "start_time": "2021-07-08T08:41:11.349Z"
   },
   {
    "duration": 17,
    "start_time": "2021-07-08T08:41:11.391Z"
   },
   {
    "duration": 9,
    "start_time": "2021-07-08T08:41:11.410Z"
   },
   {
    "duration": 5,
    "start_time": "2021-07-08T08:41:11.421Z"
   },
   {
    "duration": 6,
    "start_time": "2021-07-08T08:41:11.428Z"
   },
   {
    "duration": 198,
    "start_time": "2021-07-08T08:41:11.435Z"
   },
   {
    "duration": 18,
    "start_time": "2021-07-08T08:41:11.635Z"
   },
   {
    "duration": 155,
    "start_time": "2021-07-08T08:41:11.655Z"
   },
   {
    "duration": 138,
    "start_time": "2021-07-08T08:41:11.811Z"
   },
   {
    "duration": 10,
    "start_time": "2021-07-08T08:41:11.950Z"
   },
   {
    "duration": 29,
    "start_time": "2021-07-08T08:41:11.961Z"
   },
   {
    "duration": 171,
    "start_time": "2021-07-08T08:47:44.522Z"
   },
   {
    "duration": 124,
    "start_time": "2021-07-08T08:47:46.872Z"
   },
   {
    "duration": 191,
    "start_time": "2021-07-08T08:47:58.148Z"
   },
   {
    "duration": 191,
    "start_time": "2021-07-08T08:48:07.412Z"
   },
   {
    "duration": 261,
    "start_time": "2021-07-08T08:48:10.385Z"
   },
   {
    "duration": 255,
    "start_time": "2021-07-08T08:48:14.494Z"
   },
   {
    "duration": 219,
    "start_time": "2021-07-08T08:48:22.752Z"
   },
   {
    "duration": 173,
    "start_time": "2021-07-08T08:49:06.395Z"
   },
   {
    "duration": 180,
    "start_time": "2021-07-08T08:49:21.011Z"
   },
   {
    "duration": 6,
    "start_time": "2021-07-08T08:50:31.697Z"
   },
   {
    "duration": 10,
    "start_time": "2021-07-08T08:50:47.394Z"
   },
   {
    "duration": 11,
    "start_time": "2021-07-08T08:53:49.332Z"
   },
   {
    "duration": 171,
    "start_time": "2021-07-08T08:54:28.408Z"
   },
   {
    "duration": 636,
    "start_time": "2021-07-08T09:02:48.385Z"
   },
   {
    "duration": 227,
    "start_time": "2021-07-08T09:02:49.023Z"
   },
   {
    "duration": 104,
    "start_time": "2021-07-08T09:02:49.252Z"
   },
   {
    "duration": 5,
    "start_time": "2021-07-08T09:02:49.358Z"
   },
   {
    "duration": 27,
    "start_time": "2021-07-08T09:02:49.365Z"
   },
   {
    "duration": 8,
    "start_time": "2021-07-08T09:02:49.394Z"
   },
   {
    "duration": 18,
    "start_time": "2021-07-08T09:02:49.404Z"
   },
   {
    "duration": 6,
    "start_time": "2021-07-08T09:02:49.424Z"
   },
   {
    "duration": 11,
    "start_time": "2021-07-08T09:02:49.433Z"
   },
   {
    "duration": 13,
    "start_time": "2021-07-08T09:02:49.485Z"
   },
   {
    "duration": 9,
    "start_time": "2021-07-08T09:02:49.500Z"
   },
   {
    "duration": 38,
    "start_time": "2021-07-08T09:02:49.511Z"
   },
   {
    "duration": 42,
    "start_time": "2021-07-08T09:02:49.551Z"
   },
   {
    "duration": 21,
    "start_time": "2021-07-08T09:02:49.594Z"
   },
   {
    "duration": 6,
    "start_time": "2021-07-08T09:02:49.616Z"
   },
   {
    "duration": 3,
    "start_time": "2021-07-08T09:02:49.623Z"
   },
   {
    "duration": 9,
    "start_time": "2021-07-08T09:02:49.628Z"
   },
   {
    "duration": 52,
    "start_time": "2021-07-08T09:02:49.638Z"
   },
   {
    "duration": 11,
    "start_time": "2021-07-08T09:02:49.692Z"
   },
   {
    "duration": 8,
    "start_time": "2021-07-08T09:02:49.704Z"
   },
   {
    "duration": 27,
    "start_time": "2021-07-08T09:02:49.713Z"
   },
   {
    "duration": 59,
    "start_time": "2021-07-08T09:02:49.741Z"
   },
   {
    "duration": 8,
    "start_time": "2021-07-08T09:02:49.803Z"
   },
   {
    "duration": 14,
    "start_time": "2021-07-08T09:02:49.813Z"
   },
   {
    "duration": 20,
    "start_time": "2021-07-08T09:02:49.829Z"
   },
   {
    "duration": 44,
    "start_time": "2021-07-08T09:02:49.851Z"
   },
   {
    "duration": 14,
    "start_time": "2021-07-08T09:02:49.896Z"
   },
   {
    "duration": 221,
    "start_time": "2021-07-08T09:02:49.912Z"
   },
   {
    "duration": 6,
    "start_time": "2021-07-08T09:02:50.134Z"
   },
   {
    "duration": 206,
    "start_time": "2021-07-08T09:02:50.142Z"
   },
   {
    "duration": 19,
    "start_time": "2021-07-08T09:02:50.350Z"
   },
   {
    "duration": 21,
    "start_time": "2021-07-08T09:02:50.370Z"
   },
   {
    "duration": 20,
    "start_time": "2021-07-08T09:02:50.393Z"
   },
   {
    "duration": 5,
    "start_time": "2021-07-08T09:02:50.414Z"
   },
   {
    "duration": 5,
    "start_time": "2021-07-08T09:03:34.173Z"
   },
   {
    "duration": 6,
    "start_time": "2021-07-08T09:04:49.062Z"
   },
   {
    "duration": 9,
    "start_time": "2021-07-08T09:04:50.118Z"
   },
   {
    "duration": 14,
    "start_time": "2021-07-08T09:04:58.512Z"
   },
   {
    "duration": 9,
    "start_time": "2021-07-08T09:05:10.988Z"
   },
   {
    "duration": 11,
    "start_time": "2021-07-08T09:05:11.743Z"
   },
   {
    "duration": 7,
    "start_time": "2021-07-08T09:05:25.677Z"
   },
   {
    "duration": 13,
    "start_time": "2021-07-08T09:05:47.189Z"
   },
   {
    "duration": 13,
    "start_time": "2021-07-08T09:05:54.755Z"
   },
   {
    "duration": 4,
    "start_time": "2021-07-08T09:06:29.189Z"
   },
   {
    "duration": 244,
    "start_time": "2021-07-08T09:06:29.195Z"
   },
   {
    "duration": 91,
    "start_time": "2021-07-08T09:06:29.441Z"
   },
   {
    "duration": 4,
    "start_time": "2021-07-08T09:06:29.534Z"
   },
   {
    "duration": 28,
    "start_time": "2021-07-08T09:06:29.540Z"
   },
   {
    "duration": 6,
    "start_time": "2021-07-08T09:06:29.570Z"
   },
   {
    "duration": 18,
    "start_time": "2021-07-08T09:06:29.578Z"
   },
   {
    "duration": 5,
    "start_time": "2021-07-08T09:06:29.597Z"
   },
   {
    "duration": 13,
    "start_time": "2021-07-08T09:06:29.605Z"
   },
   {
    "duration": 8,
    "start_time": "2021-07-08T09:06:29.620Z"
   },
   {
    "duration": 7,
    "start_time": "2021-07-08T09:06:29.630Z"
   },
   {
    "duration": 63,
    "start_time": "2021-07-08T09:06:29.639Z"
   },
   {
    "duration": 17,
    "start_time": "2021-07-08T09:06:29.704Z"
   },
   {
    "duration": 20,
    "start_time": "2021-07-08T09:06:29.723Z"
   },
   {
    "duration": 6,
    "start_time": "2021-07-08T09:06:29.745Z"
   },
   {
    "duration": 3,
    "start_time": "2021-07-08T09:06:29.752Z"
   },
   {
    "duration": 7,
    "start_time": "2021-07-08T09:06:29.785Z"
   },
   {
    "duration": 11,
    "start_time": "2021-07-08T09:06:29.794Z"
   },
   {
    "duration": 15,
    "start_time": "2021-07-08T09:06:29.807Z"
   },
   {
    "duration": 8,
    "start_time": "2021-07-08T09:06:29.823Z"
   },
   {
    "duration": 70,
    "start_time": "2021-07-08T09:06:29.832Z"
   },
   {
    "duration": 17,
    "start_time": "2021-07-08T09:06:29.903Z"
   },
   {
    "duration": 9,
    "start_time": "2021-07-08T09:06:29.921Z"
   },
   {
    "duration": 9,
    "start_time": "2021-07-08T09:06:29.932Z"
   },
   {
    "duration": 57,
    "start_time": "2021-07-08T09:06:29.942Z"
   },
   {
    "duration": 11,
    "start_time": "2021-07-08T09:06:30.001Z"
   },
   {
    "duration": 19,
    "start_time": "2021-07-08T09:06:30.016Z"
   },
   {
    "duration": 217,
    "start_time": "2021-07-08T09:06:30.037Z"
   },
   {
    "duration": 6,
    "start_time": "2021-07-08T09:06:30.255Z"
   },
   {
    "duration": 205,
    "start_time": "2021-07-08T09:06:30.263Z"
   },
   {
    "duration": 27,
    "start_time": "2021-07-08T09:06:30.470Z"
   },
   {
    "duration": 11,
    "start_time": "2021-07-08T09:06:30.500Z"
   },
   {
    "duration": 31,
    "start_time": "2021-07-08T09:06:30.513Z"
   },
   {
    "duration": 18,
    "start_time": "2021-07-08T09:06:30.546Z"
   },
   {
    "duration": 11,
    "start_time": "2021-07-08T09:06:30.566Z"
   },
   {
    "duration": 19,
    "start_time": "2021-07-08T09:06:30.579Z"
   },
   {
    "duration": 20,
    "start_time": "2021-07-08T09:06:49.466Z"
   },
   {
    "duration": 9,
    "start_time": "2021-07-08T09:06:51.994Z"
   },
   {
    "duration": 20,
    "start_time": "2021-07-08T09:06:52.273Z"
   },
   {
    "duration": 246,
    "start_time": "2021-07-08T09:10:21.272Z"
   },
   {
    "duration": 84,
    "start_time": "2021-07-08T09:10:21.436Z"
   },
   {
    "duration": 7,
    "start_time": "2021-07-08T09:10:37.608Z"
   },
   {
    "duration": 189,
    "start_time": "2021-07-08T09:10:38.573Z"
   },
   {
    "duration": 185,
    "start_time": "2021-07-08T09:10:53.181Z"
   },
   {
    "duration": 11,
    "start_time": "2021-07-08T09:10:59.549Z"
   },
   {
    "duration": 42,
    "start_time": "2021-07-08T09:10:59.709Z"
   },
   {
    "duration": 12,
    "start_time": "2021-07-08T09:11:02.857Z"
   },
   {
    "duration": 28,
    "start_time": "2021-07-08T09:11:10.062Z"
   },
   {
    "duration": 249,
    "start_time": "2021-07-08T09:11:37.388Z"
   },
   {
    "duration": 232,
    "start_time": "2021-07-08T09:11:49.485Z"
   },
   {
    "duration": 453,
    "start_time": "2021-07-08T09:12:01.546Z"
   },
   {
    "duration": 440,
    "start_time": "2021-07-08T09:12:12.347Z"
   },
   {
    "duration": 213,
    "start_time": "2021-07-08T09:13:32.196Z"
   },
   {
    "duration": 172,
    "start_time": "2021-07-08T09:14:07.400Z"
   },
   {
    "duration": 185,
    "start_time": "2021-07-08T09:14:14.905Z"
   },
   {
    "duration": 209,
    "start_time": "2021-07-08T09:14:40.109Z"
   },
   {
    "duration": 201,
    "start_time": "2021-07-08T09:14:54.506Z"
   },
   {
    "duration": 622,
    "start_time": "2021-07-08T09:18:14.497Z"
   },
   {
    "duration": 220,
    "start_time": "2021-07-08T09:18:15.121Z"
   },
   {
    "duration": 79,
    "start_time": "2021-07-08T09:18:15.343Z"
   },
   {
    "duration": 4,
    "start_time": "2021-07-08T09:18:15.425Z"
   },
   {
    "duration": 24,
    "start_time": "2021-07-08T09:18:15.431Z"
   },
   {
    "duration": 8,
    "start_time": "2021-07-08T09:18:15.457Z"
   },
   {
    "duration": 16,
    "start_time": "2021-07-08T09:18:15.466Z"
   },
   {
    "duration": 5,
    "start_time": "2021-07-08T09:18:15.484Z"
   },
   {
    "duration": 10,
    "start_time": "2021-07-08T09:18:15.493Z"
   },
   {
    "duration": 8,
    "start_time": "2021-07-08T09:18:15.504Z"
   },
   {
    "duration": 7,
    "start_time": "2021-07-08T09:18:15.513Z"
   },
   {
    "duration": 26,
    "start_time": "2021-07-08T09:18:15.522Z"
   },
   {
    "duration": 49,
    "start_time": "2021-07-08T09:18:15.550Z"
   },
   {
    "duration": 21,
    "start_time": "2021-07-08T09:18:15.601Z"
   },
   {
    "duration": 8,
    "start_time": "2021-07-08T09:18:15.624Z"
   },
   {
    "duration": 3,
    "start_time": "2021-07-08T09:18:15.634Z"
   },
   {
    "duration": 8,
    "start_time": "2021-07-08T09:18:15.639Z"
   },
   {
    "duration": 45,
    "start_time": "2021-07-08T09:18:15.649Z"
   },
   {
    "duration": 13,
    "start_time": "2021-07-08T09:18:15.696Z"
   },
   {
    "duration": 10,
    "start_time": "2021-07-08T09:18:15.711Z"
   },
   {
    "duration": 64,
    "start_time": "2021-07-08T09:18:15.722Z"
   },
   {
    "duration": 19,
    "start_time": "2021-07-08T09:18:15.788Z"
   },
   {
    "duration": 9,
    "start_time": "2021-07-08T09:18:15.809Z"
   },
   {
    "duration": 9,
    "start_time": "2021-07-08T09:18:15.820Z"
   },
   {
    "duration": 18,
    "start_time": "2021-07-08T09:18:15.831Z"
   },
   {
    "duration": 43,
    "start_time": "2021-07-08T09:18:15.851Z"
   },
   {
    "duration": 12,
    "start_time": "2021-07-08T09:18:15.897Z"
   },
   {
    "duration": 219,
    "start_time": "2021-07-08T09:18:15.911Z"
   },
   {
    "duration": 8,
    "start_time": "2021-07-08T09:18:16.132Z"
   },
   {
    "duration": 199,
    "start_time": "2021-07-08T09:18:16.141Z"
   },
   {
    "duration": 18,
    "start_time": "2021-07-08T09:18:16.341Z"
   },
   {
    "duration": 24,
    "start_time": "2021-07-08T09:18:16.361Z"
   },
   {
    "duration": 24,
    "start_time": "2021-07-08T09:18:16.387Z"
   },
   {
    "duration": 211,
    "start_time": "2021-07-08T09:18:16.413Z"
   },
   {
    "duration": 18,
    "start_time": "2021-07-08T09:18:16.626Z"
   },
   {
    "duration": 596,
    "start_time": "2021-07-08T10:06:33.623Z"
   },
   {
    "duration": 181,
    "start_time": "2021-07-08T10:06:34.221Z"
   },
   {
    "duration": 176,
    "start_time": "2021-07-08T10:06:34.635Z"
   },
   {
    "duration": 239,
    "start_time": "2021-07-08T10:06:55.572Z"
   },
   {
    "duration": 6,
    "start_time": "2021-07-08T10:06:57.687Z"
   },
   {
    "duration": 4,
    "start_time": "2021-07-08T10:07:03.956Z"
   },
   {
    "duration": 4,
    "start_time": "2021-07-08T10:07:10.376Z"
   },
   {
    "duration": 4,
    "start_time": "2021-07-08T10:17:19.889Z"
   },
   {
    "duration": 3,
    "start_time": "2021-07-08T10:19:19.407Z"
   },
   {
    "duration": 197,
    "start_time": "2021-07-08T10:19:19.412Z"
   },
   {
    "duration": 127,
    "start_time": "2021-07-08T10:19:19.611Z"
   },
   {
    "duration": 4,
    "start_time": "2021-07-08T10:19:19.740Z"
   },
   {
    "duration": 27,
    "start_time": "2021-07-08T10:19:19.746Z"
   },
   {
    "duration": 7,
    "start_time": "2021-07-08T10:19:19.775Z"
   },
   {
    "duration": 30,
    "start_time": "2021-07-08T10:19:19.784Z"
   },
   {
    "duration": 7,
    "start_time": "2021-07-08T10:19:19.817Z"
   },
   {
    "duration": 26,
    "start_time": "2021-07-08T10:19:19.826Z"
   },
   {
    "duration": 18,
    "start_time": "2021-07-08T10:19:19.854Z"
   },
   {
    "duration": 14,
    "start_time": "2021-07-08T10:19:19.874Z"
   },
   {
    "duration": 48,
    "start_time": "2021-07-08T10:19:19.890Z"
   },
   {
    "duration": 17,
    "start_time": "2021-07-08T10:19:19.940Z"
   },
   {
    "duration": 38,
    "start_time": "2021-07-08T10:19:19.959Z"
   },
   {
    "duration": 8,
    "start_time": "2021-07-08T10:19:19.999Z"
   },
   {
    "duration": 15,
    "start_time": "2021-07-08T10:19:20.009Z"
   },
   {
    "duration": 22,
    "start_time": "2021-07-08T10:19:20.026Z"
   },
   {
    "duration": 10,
    "start_time": "2021-07-08T10:19:20.050Z"
   },
   {
    "duration": 10,
    "start_time": "2021-07-08T10:19:20.062Z"
   },
   {
    "duration": 20,
    "start_time": "2021-07-08T10:19:20.073Z"
   },
   {
    "duration": 29,
    "start_time": "2021-07-08T10:19:20.095Z"
   },
   {
    "duration": 17,
    "start_time": "2021-07-08T10:19:20.126Z"
   },
   {
    "duration": 40,
    "start_time": "2021-07-08T10:19:20.146Z"
   },
   {
    "duration": 15,
    "start_time": "2021-07-08T10:19:20.189Z"
   },
   {
    "duration": 19,
    "start_time": "2021-07-08T10:19:20.206Z"
   },
   {
    "duration": 10,
    "start_time": "2021-07-08T10:19:20.226Z"
   },
   {
    "duration": 11,
    "start_time": "2021-07-08T10:19:20.238Z"
   },
   {
    "duration": 297,
    "start_time": "2021-07-08T10:19:20.250Z"
   },
   {
    "duration": 6,
    "start_time": "2021-07-08T10:19:20.549Z"
   },
   {
    "duration": 191,
    "start_time": "2021-07-08T10:19:20.557Z"
   },
   {
    "duration": 19,
    "start_time": "2021-07-08T10:19:20.750Z"
   },
   {
    "duration": 20,
    "start_time": "2021-07-08T10:19:20.771Z"
   },
   {
    "duration": 15,
    "start_time": "2021-07-08T10:19:20.793Z"
   },
   {
    "duration": 222,
    "start_time": "2021-07-08T10:19:20.809Z"
   },
   {
    "duration": 20,
    "start_time": "2021-07-08T10:19:21.033Z"
   },
   {
    "duration": 27,
    "start_time": "2021-07-08T10:45:04.055Z"
   },
   {
    "duration": 8,
    "start_time": "2021-07-08T10:45:08.478Z"
   },
   {
    "duration": 8,
    "start_time": "2021-07-08T10:45:31.982Z"
   },
   {
    "duration": 10,
    "start_time": "2021-07-08T10:46:01.221Z"
   },
   {
    "duration": 17,
    "start_time": "2021-07-08T10:46:40.011Z"
   },
   {
    "duration": 193,
    "start_time": "2021-07-08T10:48:19.471Z"
   },
   {
    "duration": 225,
    "start_time": "2021-07-08T10:49:26.480Z"
   },
   {
    "duration": 204,
    "start_time": "2021-07-08T10:49:59.992Z"
   },
   {
    "duration": 435,
    "start_time": "2021-07-08T10:50:06.779Z"
   },
   {
    "duration": 199,
    "start_time": "2021-07-08T10:50:14.891Z"
   },
   {
    "duration": 204,
    "start_time": "2021-07-08T10:50:18.501Z"
   },
   {
    "duration": 244,
    "start_time": "2021-07-08T10:50:23.359Z"
   },
   {
    "duration": 192,
    "start_time": "2021-07-08T10:50:29.135Z"
   },
   {
    "duration": 218,
    "start_time": "2021-07-08T10:50:33.092Z"
   },
   {
    "duration": 207,
    "start_time": "2021-07-08T10:52:45.381Z"
   },
   {
    "duration": 5,
    "start_time": "2021-07-08T10:53:34.641Z"
   },
   {
    "duration": 196,
    "start_time": "2021-07-08T10:53:41.478Z"
   },
   {
    "duration": 43,
    "start_time": "2021-07-08T10:53:50.335Z"
   },
   {
    "duration": 32,
    "start_time": "2021-07-08T10:53:55.294Z"
   },
   {
    "duration": 55,
    "start_time": "2021-07-08T10:54:09.675Z"
   },
   {
    "duration": 16,
    "start_time": "2021-07-08T10:54:12.260Z"
   },
   {
    "duration": 15,
    "start_time": "2021-07-08T10:54:49.150Z"
   },
   {
    "duration": 20,
    "start_time": "2021-07-08T10:56:07.596Z"
   },
   {
    "duration": 16,
    "start_time": "2021-07-08T10:58:26.276Z"
   },
   {
    "duration": 22,
    "start_time": "2021-07-08T10:59:00.486Z"
   },
   {
    "duration": 18,
    "start_time": "2021-07-08T11:02:09.653Z"
   },
   {
    "duration": 10,
    "start_time": "2021-07-08T11:03:44.331Z"
   },
   {
    "duration": 10,
    "start_time": "2021-07-08T11:03:54.055Z"
   },
   {
    "duration": 12,
    "start_time": "2021-07-08T11:04:41.967Z"
   },
   {
    "duration": 24,
    "start_time": "2021-07-08T11:07:30.732Z"
   },
   {
    "duration": 6,
    "start_time": "2021-07-08T11:07:37.364Z"
   },
   {
    "duration": 16,
    "start_time": "2021-07-08T11:08:01.819Z"
   },
   {
    "duration": 17,
    "start_time": "2021-07-08T11:09:47.488Z"
   },
   {
    "duration": 246,
    "start_time": "2021-07-08T11:10:00.830Z"
   },
   {
    "duration": 18,
    "start_time": "2021-07-08T11:13:55.195Z"
   },
   {
    "duration": 204,
    "start_time": "2021-07-08T11:14:04.951Z"
   },
   {
    "duration": 19,
    "start_time": "2021-07-08T11:15:10.613Z"
   },
   {
    "duration": 680,
    "start_time": "2021-07-08T11:16:25.793Z"
   },
   {
    "duration": 451,
    "start_time": "2021-07-08T11:16:40.313Z"
   },
   {
    "duration": 469,
    "start_time": "2021-07-08T11:17:21.286Z"
   },
   {
    "duration": 20,
    "start_time": "2021-07-08T11:19:12.554Z"
   },
   {
    "duration": 35,
    "start_time": "2021-07-08T11:20:05.484Z"
   },
   {
    "duration": 53,
    "start_time": "2021-07-08T11:21:40.050Z"
   },
   {
    "duration": 13,
    "start_time": "2021-07-08T11:22:26.059Z"
   },
   {
    "duration": 19,
    "start_time": "2021-07-08T11:22:47.419Z"
   },
   {
    "duration": 25,
    "start_time": "2021-07-08T11:23:19.958Z"
   },
   {
    "duration": 29,
    "start_time": "2021-07-08T11:23:25.415Z"
   },
   {
    "duration": 10,
    "start_time": "2021-07-08T11:24:45.138Z"
   },
   {
    "duration": 19,
    "start_time": "2021-07-08T11:24:54.498Z"
   },
   {
    "duration": 12,
    "start_time": "2021-07-08T11:25:32.225Z"
   },
   {
    "duration": 19,
    "start_time": "2021-07-08T11:25:37.092Z"
   },
   {
    "duration": 17,
    "start_time": "2021-07-08T11:25:58.116Z"
   },
   {
    "duration": 15,
    "start_time": "2021-07-08T11:26:02.258Z"
   },
   {
    "duration": 8,
    "start_time": "2021-07-08T11:26:59.682Z"
   },
   {
    "duration": 184,
    "start_time": "2021-07-08T11:27:21.894Z"
   },
   {
    "duration": 8,
    "start_time": "2021-07-08T11:27:23.824Z"
   },
   {
    "duration": 202,
    "start_time": "2021-07-08T11:27:23.962Z"
   },
   {
    "duration": 360,
    "start_time": "2021-07-08T11:28:33.215Z"
   },
   {
    "duration": 231,
    "start_time": "2021-07-08T11:32:05.542Z"
   },
   {
    "duration": 607,
    "start_time": "2021-07-08T11:36:27.854Z"
   },
   {
    "duration": 241,
    "start_time": "2021-07-08T11:36:28.463Z"
   },
   {
    "duration": 67,
    "start_time": "2021-07-08T11:36:28.709Z"
   },
   {
    "duration": 5,
    "start_time": "2021-07-08T11:36:28.778Z"
   },
   {
    "duration": 32,
    "start_time": "2021-07-08T11:36:28.784Z"
   },
   {
    "duration": 11,
    "start_time": "2021-07-08T11:36:28.819Z"
   },
   {
    "duration": 20,
    "start_time": "2021-07-08T11:36:28.834Z"
   },
   {
    "duration": 36,
    "start_time": "2021-07-08T11:36:28.857Z"
   },
   {
    "duration": 16,
    "start_time": "2021-07-08T11:36:28.895Z"
   },
   {
    "duration": 14,
    "start_time": "2021-07-08T11:36:28.913Z"
   },
   {
    "duration": 9,
    "start_time": "2021-07-08T11:36:28.930Z"
   },
   {
    "duration": 55,
    "start_time": "2021-07-08T11:36:28.941Z"
   },
   {
    "duration": 27,
    "start_time": "2021-07-08T11:36:28.999Z"
   },
   {
    "duration": 30,
    "start_time": "2021-07-08T11:36:29.028Z"
   },
   {
    "duration": 31,
    "start_time": "2021-07-08T11:36:29.060Z"
   },
   {
    "duration": 3,
    "start_time": "2021-07-08T11:36:29.093Z"
   },
   {
    "duration": 12,
    "start_time": "2021-07-08T11:36:29.099Z"
   },
   {
    "duration": 11,
    "start_time": "2021-07-08T11:36:29.112Z"
   },
   {
    "duration": 12,
    "start_time": "2021-07-08T11:36:29.125Z"
   },
   {
    "duration": 9,
    "start_time": "2021-07-08T11:36:29.139Z"
   },
   {
    "duration": 31,
    "start_time": "2021-07-08T11:36:29.191Z"
   },
   {
    "duration": 17,
    "start_time": "2021-07-08T11:36:29.226Z"
   },
   {
    "duration": 7,
    "start_time": "2021-07-08T11:36:29.245Z"
   },
   {
    "duration": 10,
    "start_time": "2021-07-08T11:36:29.254Z"
   },
   {
    "duration": 30,
    "start_time": "2021-07-08T11:36:29.292Z"
   },
   {
    "duration": 11,
    "start_time": "2021-07-08T11:36:29.324Z"
   },
   {
    "duration": 11,
    "start_time": "2021-07-08T11:36:29.337Z"
   },
   {
    "duration": 230,
    "start_time": "2021-07-08T11:36:29.349Z"
   },
   {
    "duration": 13,
    "start_time": "2021-07-08T11:36:29.588Z"
   },
   {
    "duration": 205,
    "start_time": "2021-07-08T11:36:29.603Z"
   },
   {
    "duration": 20,
    "start_time": "2021-07-08T11:36:29.810Z"
   },
   {
    "duration": 9,
    "start_time": "2021-07-08T11:36:29.832Z"
   },
   {
    "duration": 16,
    "start_time": "2021-07-08T11:36:29.843Z"
   },
   {
    "duration": 283,
    "start_time": "2021-07-08T11:36:29.861Z"
   },
   {
    "duration": 50,
    "start_time": "2021-07-08T11:36:30.146Z"
   },
   {
    "duration": 14,
    "start_time": "2021-07-08T11:36:30.198Z"
   },
   {
    "duration": 11,
    "start_time": "2021-07-08T11:36:30.214Z"
   },
   {
    "duration": 245,
    "start_time": "2021-07-08T11:36:30.227Z"
   },
   {
    "duration": 439,
    "start_time": "2021-07-08T11:36:30.474Z"
   },
   {
    "duration": 210,
    "start_time": "2021-07-08T11:36:30.915Z"
   },
   {
    "duration": 15,
    "start_time": "2021-07-08T11:36:31.127Z"
   },
   {
    "duration": 17,
    "start_time": "2021-07-08T11:38:20.451Z"
   },
   {
    "duration": 642,
    "start_time": "2021-07-08T11:46:17.881Z"
   },
   {
    "duration": 210,
    "start_time": "2021-07-08T11:46:18.525Z"
   },
   {
    "duration": 104,
    "start_time": "2021-07-08T11:46:18.741Z"
   },
   {
    "duration": 8,
    "start_time": "2021-07-08T11:46:18.847Z"
   },
   {
    "duration": 25,
    "start_time": "2021-07-08T11:46:18.857Z"
   },
   {
    "duration": 14,
    "start_time": "2021-07-08T11:46:18.884Z"
   },
   {
    "duration": 22,
    "start_time": "2021-07-08T11:46:18.900Z"
   },
   {
    "duration": 5,
    "start_time": "2021-07-08T11:46:18.924Z"
   },
   {
    "duration": 13,
    "start_time": "2021-07-08T11:46:18.931Z"
   },
   {
    "duration": 45,
    "start_time": "2021-07-08T11:46:18.946Z"
   },
   {
    "duration": 12,
    "start_time": "2021-07-08T11:46:18.993Z"
   },
   {
    "duration": 38,
    "start_time": "2021-07-08T11:46:19.006Z"
   },
   {
    "duration": 50,
    "start_time": "2021-07-08T11:46:19.046Z"
   },
   {
    "duration": 29,
    "start_time": "2021-07-08T11:46:19.099Z"
   },
   {
    "duration": 7,
    "start_time": "2021-07-08T11:46:19.130Z"
   },
   {
    "duration": 3,
    "start_time": "2021-07-08T11:46:19.139Z"
   },
   {
    "duration": 11,
    "start_time": "2021-07-08T11:46:19.144Z"
   },
   {
    "duration": 40,
    "start_time": "2021-07-08T11:46:19.157Z"
   },
   {
    "duration": 15,
    "start_time": "2021-07-08T11:46:19.199Z"
   },
   {
    "duration": 10,
    "start_time": "2021-07-08T11:46:19.217Z"
   },
   {
    "duration": 68,
    "start_time": "2021-07-08T11:46:19.230Z"
   },
   {
    "duration": 17,
    "start_time": "2021-07-08T11:46:19.301Z"
   },
   {
    "duration": 7,
    "start_time": "2021-07-08T11:46:19.321Z"
   },
   {
    "duration": 11,
    "start_time": "2021-07-08T11:46:19.330Z"
   },
   {
    "duration": 59,
    "start_time": "2021-07-08T11:46:19.343Z"
   },
   {
    "duration": 17,
    "start_time": "2021-07-08T11:46:19.405Z"
   },
   {
    "duration": 16,
    "start_time": "2021-07-08T11:46:19.424Z"
   },
   {
    "duration": 252,
    "start_time": "2021-07-08T11:46:19.443Z"
   },
   {
    "duration": 9,
    "start_time": "2021-07-08T11:46:19.697Z"
   },
   {
    "duration": 224,
    "start_time": "2021-07-08T11:46:19.708Z"
   },
   {
    "duration": 21,
    "start_time": "2021-07-08T11:46:19.934Z"
   },
   {
    "duration": 9,
    "start_time": "2021-07-08T11:46:19.956Z"
   },
   {
    "duration": 32,
    "start_time": "2021-07-08T11:46:19.967Z"
   },
   {
    "duration": 288,
    "start_time": "2021-07-08T11:46:20.004Z"
   },
   {
    "duration": 23,
    "start_time": "2021-07-08T11:46:20.300Z"
   },
   {
    "duration": 11,
    "start_time": "2021-07-08T11:46:20.325Z"
   },
   {
    "duration": 11,
    "start_time": "2021-07-08T11:46:20.339Z"
   },
   {
    "duration": 259,
    "start_time": "2021-07-08T11:46:20.352Z"
   },
   {
    "duration": 438,
    "start_time": "2021-07-08T11:46:20.613Z"
   },
   {
    "duration": 207,
    "start_time": "2021-07-08T11:46:21.054Z"
   },
   {
    "duration": 27,
    "start_time": "2021-07-08T11:46:21.262Z"
   },
   {
    "duration": 19,
    "start_time": "2021-07-08T11:46:21.291Z"
   },
   {
    "duration": 820,
    "start_time": "2021-07-08T11:49:01.655Z"
   },
   {
    "duration": 372,
    "start_time": "2021-07-08T11:49:02.478Z"
   },
   {
    "duration": 98,
    "start_time": "2021-07-08T11:49:02.853Z"
   },
   {
    "duration": 6,
    "start_time": "2021-07-08T11:49:02.953Z"
   },
   {
    "duration": 39,
    "start_time": "2021-07-08T11:49:02.960Z"
   },
   {
    "duration": 9,
    "start_time": "2021-07-08T11:49:03.003Z"
   },
   {
    "duration": 23,
    "start_time": "2021-07-08T11:49:03.014Z"
   },
   {
    "duration": 6,
    "start_time": "2021-07-08T11:49:03.041Z"
   },
   {
    "duration": 20,
    "start_time": "2021-07-08T11:49:03.049Z"
   },
   {
    "duration": 18,
    "start_time": "2021-07-08T11:49:03.084Z"
   },
   {
    "duration": 14,
    "start_time": "2021-07-08T11:49:03.104Z"
   },
   {
    "duration": 39,
    "start_time": "2021-07-08T11:49:03.119Z"
   },
   {
    "duration": 38,
    "start_time": "2021-07-08T11:49:03.160Z"
   },
   {
    "duration": 26,
    "start_time": "2021-07-08T11:49:03.200Z"
   },
   {
    "duration": 7,
    "start_time": "2021-07-08T11:49:03.227Z"
   },
   {
    "duration": 4,
    "start_time": "2021-07-08T11:49:03.236Z"
   },
   {
    "duration": 15,
    "start_time": "2021-07-08T11:49:03.243Z"
   },
   {
    "duration": 21,
    "start_time": "2021-07-08T11:49:03.285Z"
   },
   {
    "duration": 17,
    "start_time": "2021-07-08T11:49:03.309Z"
   },
   {
    "duration": 10,
    "start_time": "2021-07-08T11:49:03.328Z"
   },
   {
    "duration": 65,
    "start_time": "2021-07-08T11:49:03.340Z"
   },
   {
    "duration": 18,
    "start_time": "2021-07-08T11:49:03.407Z"
   },
   {
    "duration": 8,
    "start_time": "2021-07-08T11:49:03.428Z"
   },
   {
    "duration": 15,
    "start_time": "2021-07-08T11:49:03.438Z"
   },
   {
    "duration": 40,
    "start_time": "2021-07-08T11:49:03.455Z"
   },
   {
    "duration": 12,
    "start_time": "2021-07-08T11:49:03.497Z"
   },
   {
    "duration": 29,
    "start_time": "2021-07-08T11:49:03.511Z"
   },
   {
    "duration": 285,
    "start_time": "2021-07-08T11:49:03.542Z"
   },
   {
    "duration": 8,
    "start_time": "2021-07-08T11:49:03.829Z"
   },
   {
    "duration": 227,
    "start_time": "2021-07-08T11:49:03.838Z"
   },
   {
    "duration": 40,
    "start_time": "2021-07-08T11:49:04.066Z"
   },
   {
    "duration": 10,
    "start_time": "2021-07-08T11:49:04.108Z"
   },
   {
    "duration": 26,
    "start_time": "2021-07-08T11:49:04.121Z"
   },
   {
    "duration": 290,
    "start_time": "2021-07-08T11:49:04.149Z"
   },
   {
    "duration": 26,
    "start_time": "2021-07-08T11:49:04.441Z"
   },
   {
    "duration": 31,
    "start_time": "2021-07-08T11:49:04.470Z"
   },
   {
    "duration": 14,
    "start_time": "2021-07-08T11:49:04.503Z"
   },
   {
    "duration": 259,
    "start_time": "2021-07-08T11:49:04.521Z"
   },
   {
    "duration": 480,
    "start_time": "2021-07-08T11:49:04.782Z"
   },
   {
    "duration": 225,
    "start_time": "2021-07-08T11:49:05.264Z"
   },
   {
    "duration": 22,
    "start_time": "2021-07-08T11:49:05.491Z"
   },
   {
    "duration": 24,
    "start_time": "2021-07-08T11:49:05.515Z"
   },
   {
    "duration": 634,
    "start_time": "2021-07-08T11:52:24.960Z"
   },
   {
    "duration": 199,
    "start_time": "2021-07-08T11:52:25.599Z"
   },
   {
    "duration": 106,
    "start_time": "2021-07-08T11:52:25.803Z"
   },
   {
    "duration": 7,
    "start_time": "2021-07-08T11:52:25.911Z"
   },
   {
    "duration": 29,
    "start_time": "2021-07-08T11:52:25.920Z"
   },
   {
    "duration": 7,
    "start_time": "2021-07-08T11:52:25.951Z"
   },
   {
    "duration": 26,
    "start_time": "2021-07-08T11:52:25.961Z"
   },
   {
    "duration": 11,
    "start_time": "2021-07-08T11:52:25.990Z"
   },
   {
    "duration": 29,
    "start_time": "2021-07-08T11:52:26.005Z"
   },
   {
    "duration": 9,
    "start_time": "2021-07-08T11:52:26.036Z"
   },
   {
    "duration": 8,
    "start_time": "2021-07-08T11:52:26.047Z"
   },
   {
    "duration": 63,
    "start_time": "2021-07-08T11:52:26.057Z"
   },
   {
    "duration": 17,
    "start_time": "2021-07-08T11:52:26.122Z"
   },
   {
    "duration": 43,
    "start_time": "2021-07-08T11:52:26.142Z"
   },
   {
    "duration": 17,
    "start_time": "2021-07-08T11:52:26.187Z"
   },
   {
    "duration": 5,
    "start_time": "2021-07-08T11:52:26.206Z"
   },
   {
    "duration": 12,
    "start_time": "2021-07-08T11:52:26.212Z"
   },
   {
    "duration": 11,
    "start_time": "2021-07-08T11:52:26.226Z"
   },
   {
    "duration": 12,
    "start_time": "2021-07-08T11:52:26.238Z"
   },
   {
    "duration": 38,
    "start_time": "2021-07-08T11:52:26.252Z"
   },
   {
    "duration": 40,
    "start_time": "2021-07-08T11:52:26.292Z"
   },
   {
    "duration": 17,
    "start_time": "2021-07-08T11:52:26.336Z"
   },
   {
    "duration": 39,
    "start_time": "2021-07-08T11:52:26.355Z"
   },
   {
    "duration": 11,
    "start_time": "2021-07-08T11:52:26.395Z"
   },
   {
    "duration": 23,
    "start_time": "2021-07-08T11:52:26.408Z"
   },
   {
    "duration": 12,
    "start_time": "2021-07-08T11:52:26.432Z"
   },
   {
    "duration": 41,
    "start_time": "2021-07-08T11:52:26.446Z"
   },
   {
    "duration": 215,
    "start_time": "2021-07-08T11:52:26.493Z"
   },
   {
    "duration": 8,
    "start_time": "2021-07-08T11:52:26.710Z"
   },
   {
    "duration": 228,
    "start_time": "2021-07-08T11:52:26.720Z"
   },
   {
    "duration": 18,
    "start_time": "2021-07-08T11:52:26.950Z"
   },
   {
    "duration": 35,
    "start_time": "2021-07-08T11:52:26.969Z"
   },
   {
    "duration": 23,
    "start_time": "2021-07-08T11:52:27.006Z"
   },
   {
    "duration": 258,
    "start_time": "2021-07-08T11:52:27.030Z"
   },
   {
    "duration": 24,
    "start_time": "2021-07-08T11:52:27.290Z"
   },
   {
    "duration": 12,
    "start_time": "2021-07-08T11:52:27.316Z"
   },
   {
    "duration": 10,
    "start_time": "2021-07-08T11:52:27.329Z"
   },
   {
    "duration": 298,
    "start_time": "2021-07-08T11:52:27.341Z"
   },
   {
    "duration": 436,
    "start_time": "2021-07-08T11:52:27.641Z"
   },
   {
    "duration": 216,
    "start_time": "2021-07-08T11:52:28.079Z"
   },
   {
    "duration": 20,
    "start_time": "2021-07-08T11:52:28.297Z"
   },
   {
    "duration": 17,
    "start_time": "2021-07-08T11:52:28.319Z"
   },
   {
    "duration": 819,
    "start_time": "2023-02-07T13:15:21.597Z"
   },
   {
    "duration": 272,
    "start_time": "2023-02-07T13:20:39.237Z"
   },
   {
    "duration": 81,
    "start_time": "2023-02-07T13:21:27.663Z"
   },
   {
    "duration": 17,
    "start_time": "2023-02-07T13:22:35.844Z"
   },
   {
    "duration": 10,
    "start_time": "2023-02-07T13:22:57.436Z"
   },
   {
    "duration": 101,
    "start_time": "2023-02-07T13:55:40.852Z"
   },
   {
    "duration": 33,
    "start_time": "2023-02-07T13:55:41.582Z"
   },
   {
    "duration": 14,
    "start_time": "2023-02-07T13:55:42.190Z"
   },
   {
    "duration": 10,
    "start_time": "2023-02-07T13:55:45.533Z"
   },
   {
    "duration": 245,
    "start_time": "2023-02-07T14:16:46.673Z"
   },
   {
    "duration": 2,
    "start_time": "2023-02-07T14:18:44.150Z"
   },
   {
    "duration": 74,
    "start_time": "2023-02-07T14:18:44.760Z"
   },
   {
    "duration": 34,
    "start_time": "2023-02-07T14:18:45.263Z"
   },
   {
    "duration": 15,
    "start_time": "2023-02-07T14:18:46.056Z"
   },
   {
    "duration": 10,
    "start_time": "2023-02-07T14:18:48.431Z"
   },
   {
    "duration": 197,
    "start_time": "2023-02-07T14:26:21.301Z"
   },
   {
    "duration": 192,
    "start_time": "2023-02-07T14:26:26.203Z"
   },
   {
    "duration": 10,
    "start_time": "2023-02-07T14:29:43.114Z"
   },
   {
    "duration": 3,
    "start_time": "2023-02-07T14:30:08.164Z"
   },
   {
    "duration": 2,
    "start_time": "2023-02-07T14:30:11.979Z"
   },
   {
    "duration": 84,
    "start_time": "2023-02-07T14:30:11.983Z"
   },
   {
    "duration": 35,
    "start_time": "2023-02-07T14:30:12.069Z"
   },
   {
    "duration": 14,
    "start_time": "2023-02-07T14:30:12.106Z"
   },
   {
    "duration": 10,
    "start_time": "2023-02-07T14:30:12.122Z"
   },
   {
    "duration": 10,
    "start_time": "2023-02-07T14:30:12.133Z"
   },
   {
    "duration": 353,
    "start_time": "2023-02-07T14:35:04.862Z"
   },
   {
    "duration": 7,
    "start_time": "2023-02-07T14:36:07.081Z"
   },
   {
    "duration": 6,
    "start_time": "2023-02-07T14:36:12.905Z"
   },
   {
    "duration": 5,
    "start_time": "2023-02-07T14:36:51.702Z"
   },
   {
    "duration": 8,
    "start_time": "2023-02-07T14:38:29.522Z"
   },
   {
    "duration": 185,
    "start_time": "2023-02-07T14:42:12.675Z"
   },
   {
    "duration": 1046,
    "start_time": "2023-02-08T14:13:48.105Z"
   },
   {
    "duration": 271,
    "start_time": "2023-02-08T14:13:49.153Z"
   },
   {
    "duration": 123,
    "start_time": "2023-02-08T14:13:49.426Z"
   },
   {
    "duration": 20,
    "start_time": "2023-02-08T14:13:49.553Z"
   },
   {
    "duration": 11,
    "start_time": "2023-02-08T14:13:49.575Z"
   },
   {
    "duration": 699,
    "start_time": "2023-02-08T14:13:49.588Z"
   },
   {
    "duration": 10,
    "start_time": "2023-02-08T14:19:33.059Z"
   },
   {
    "duration": 9,
    "start_time": "2023-02-08T14:19:48.725Z"
   },
   {
    "duration": 36,
    "start_time": "2023-02-08T14:22:38.309Z"
   },
   {
    "duration": 2536,
    "start_time": "2023-02-08T14:31:43.258Z"
   },
   {
    "duration": 121,
    "start_time": "2023-02-08T14:32:02.676Z"
   },
   {
    "duration": 13,
    "start_time": "2023-02-08T14:32:11.552Z"
   },
   {
    "duration": 765,
    "start_time": "2023-02-09T13:11:37.664Z"
   },
   {
    "duration": 565,
    "start_time": "2023-02-09T13:11:38.431Z"
   },
   {
    "duration": 54,
    "start_time": "2023-02-09T13:11:38.998Z"
   },
   {
    "duration": 18,
    "start_time": "2023-02-09T13:11:39.055Z"
   },
   {
    "duration": 10,
    "start_time": "2023-02-09T13:11:39.074Z"
   },
   {
    "duration": 280,
    "start_time": "2023-02-09T13:11:39.085Z"
   },
   {
    "duration": 0,
    "start_time": "2023-02-09T13:11:39.366Z"
   },
   {
    "duration": 0,
    "start_time": "2023-02-09T13:11:39.368Z"
   },
   {
    "duration": 22,
    "start_time": "2023-02-09T13:12:25.023Z"
   },
   {
    "duration": 46,
    "start_time": "2023-02-09T13:17:51.352Z"
   },
   {
    "duration": 52,
    "start_time": "2023-02-09T13:18:00.704Z"
   },
   {
    "duration": 4,
    "start_time": "2023-02-09T13:20:03.586Z"
   },
   {
    "duration": 4,
    "start_time": "2023-02-09T13:23:26.408Z"
   },
   {
    "duration": 16,
    "start_time": "2023-02-09T13:23:30.260Z"
   },
   {
    "duration": 6,
    "start_time": "2023-02-09T13:40:26.057Z"
   },
   {
    "duration": 4,
    "start_time": "2023-02-09T13:40:34.894Z"
   },
   {
    "duration": 3,
    "start_time": "2023-02-09T13:40:37.488Z"
   },
   {
    "duration": 14,
    "start_time": "2023-02-09T13:41:09.416Z"
   },
   {
    "duration": 15,
    "start_time": "2023-02-09T13:56:39.924Z"
   },
   {
    "duration": 14,
    "start_time": "2023-02-09T13:57:50.770Z"
   },
   {
    "duration": 4,
    "start_time": "2023-02-09T13:58:24.654Z"
   },
   {
    "duration": 16,
    "start_time": "2023-02-09T13:58:28.172Z"
   },
   {
    "duration": 12,
    "start_time": "2023-02-09T13:58:38.977Z"
   },
   {
    "duration": 4,
    "start_time": "2023-02-09T13:58:49.248Z"
   },
   {
    "duration": 89,
    "start_time": "2023-02-09T13:58:49.254Z"
   },
   {
    "duration": 39,
    "start_time": "2023-02-09T13:58:49.345Z"
   },
   {
    "duration": 15,
    "start_time": "2023-02-09T13:58:49.386Z"
   },
   {
    "duration": 12,
    "start_time": "2023-02-09T13:58:49.402Z"
   },
   {
    "duration": 9,
    "start_time": "2023-02-09T13:58:49.415Z"
   },
   {
    "duration": 25,
    "start_time": "2023-02-09T13:58:49.425Z"
   },
   {
    "duration": 10,
    "start_time": "2023-02-09T13:58:49.452Z"
   },
   {
    "duration": 10,
    "start_time": "2023-02-09T13:58:49.464Z"
   },
   {
    "duration": 6,
    "start_time": "2023-02-09T13:58:49.475Z"
   },
   {
    "duration": 16,
    "start_time": "2023-02-09T13:58:49.482Z"
   },
   {
    "duration": 5,
    "start_time": "2023-02-09T13:59:26.058Z"
   },
   {
    "duration": 14,
    "start_time": "2023-02-09T13:59:29.755Z"
   },
   {
    "duration": 12,
    "start_time": "2023-02-09T14:00:50.069Z"
   },
   {
    "duration": 12,
    "start_time": "2023-02-09T14:00:55.882Z"
   },
   {
    "duration": 16,
    "start_time": "2023-02-09T14:01:08.658Z"
   },
   {
    "duration": 4,
    "start_time": "2023-02-09T14:02:36.134Z"
   },
   {
    "duration": 12,
    "start_time": "2023-02-09T14:02:38.399Z"
   },
   {
    "duration": 14,
    "start_time": "2023-02-09T14:24:21.649Z"
   },
   {
    "duration": 17,
    "start_time": "2023-02-09T14:25:42.354Z"
   },
   {
    "duration": 7,
    "start_time": "2023-02-09T14:29:19.468Z"
   },
   {
    "duration": 4,
    "start_time": "2023-02-09T14:30:58.204Z"
   },
   {
    "duration": 4,
    "start_time": "2023-02-09T14:34:47.961Z"
   },
   {
    "duration": 11,
    "start_time": "2023-02-09T14:34:49.471Z"
   },
   {
    "duration": 13,
    "start_time": "2023-02-09T14:34:50.394Z"
   },
   {
    "duration": 15,
    "start_time": "2023-02-09T14:34:54.617Z"
   },
   {
    "duration": 6,
    "start_time": "2023-02-09T14:34:56.233Z"
   },
   {
    "duration": 3,
    "start_time": "2023-02-09T14:34:59.506Z"
   },
   {
    "duration": 2,
    "start_time": "2023-02-09T14:36:50.112Z"
   },
   {
    "duration": 79,
    "start_time": "2023-02-09T14:36:50.116Z"
   },
   {
    "duration": 282,
    "start_time": "2023-02-09T14:36:50.198Z"
   },
   {
    "duration": 15,
    "start_time": "2023-02-09T14:36:50.483Z"
   },
   {
    "duration": 11,
    "start_time": "2023-02-09T14:36:50.500Z"
   },
   {
    "duration": 5,
    "start_time": "2023-02-09T14:36:50.513Z"
   },
   {
    "duration": 20,
    "start_time": "2023-02-09T14:36:50.519Z"
   },
   {
    "duration": 9,
    "start_time": "2023-02-09T14:36:50.541Z"
   },
   {
    "duration": 8,
    "start_time": "2023-02-09T14:36:50.552Z"
   },
   {
    "duration": 16,
    "start_time": "2023-02-09T14:36:50.562Z"
   },
   {
    "duration": 15,
    "start_time": "2023-02-09T14:36:50.581Z"
   },
   {
    "duration": 18,
    "start_time": "2023-02-09T14:36:50.598Z"
   },
   {
    "duration": 8,
    "start_time": "2023-02-09T14:36:50.637Z"
   },
   {
    "duration": 42,
    "start_time": "2023-02-09T14:36:50.646Z"
   },
   {
    "duration": 4,
    "start_time": "2023-02-09T14:37:04.707Z"
   },
   {
    "duration": 22,
    "start_time": "2023-02-09T14:37:17.076Z"
   },
   {
    "duration": 14,
    "start_time": "2023-02-09T14:38:38.053Z"
   },
   {
    "duration": 26,
    "start_time": "2023-02-09T14:41:30.671Z"
   },
   {
    "duration": 45,
    "start_time": "2023-02-09T14:43:17.306Z"
   },
   {
    "duration": 4,
    "start_time": "2023-02-09T14:43:25.041Z"
   },
   {
    "duration": 7,
    "start_time": "2023-02-09T14:48:58.550Z"
   },
   {
    "duration": 3,
    "start_time": "2023-02-09T14:49:03.954Z"
   },
   {
    "duration": 1004,
    "start_time": "2023-02-10T07:40:57.592Z"
   },
   {
    "duration": 336,
    "start_time": "2023-02-10T07:40:58.599Z"
   },
   {
    "duration": 57,
    "start_time": "2023-02-10T07:40:58.937Z"
   },
   {
    "duration": 22,
    "start_time": "2023-02-10T07:40:58.997Z"
   },
   {
    "duration": 22,
    "start_time": "2023-02-10T07:40:59.021Z"
   },
   {
    "duration": 4,
    "start_time": "2023-02-10T07:40:59.045Z"
   },
   {
    "duration": 32,
    "start_time": "2023-02-10T07:40:59.050Z"
   },
   {
    "duration": 5,
    "start_time": "2023-02-10T07:40:59.084Z"
   },
   {
    "duration": 14,
    "start_time": "2023-02-10T07:40:59.092Z"
   },
   {
    "duration": 29,
    "start_time": "2023-02-10T07:40:59.109Z"
   },
   {
    "duration": 28,
    "start_time": "2023-02-10T07:40:59.143Z"
   },
   {
    "duration": 53,
    "start_time": "2023-02-10T07:40:59.174Z"
   },
   {
    "duration": 11,
    "start_time": "2023-02-10T07:40:59.230Z"
   },
   {
    "duration": 29,
    "start_time": "2023-02-10T07:40:59.244Z"
   },
   {
    "duration": 22,
    "start_time": "2023-02-10T07:40:59.278Z"
   },
   {
    "duration": 9,
    "start_time": "2023-02-10T07:41:40.050Z"
   },
   {
    "duration": 7,
    "start_time": "2023-02-10T07:49:13.756Z"
   },
   {
    "duration": 6,
    "start_time": "2023-02-10T07:50:24.053Z"
   },
   {
    "duration": 4,
    "start_time": "2023-02-10T07:51:05.452Z"
   },
   {
    "duration": 7,
    "start_time": "2023-02-10T07:51:15.035Z"
   },
   {
    "duration": 20,
    "start_time": "2023-02-10T07:52:05.329Z"
   },
   {
    "duration": 7,
    "start_time": "2023-02-10T07:52:06.161Z"
   },
   {
    "duration": 6,
    "start_time": "2023-02-10T07:56:44.540Z"
   },
   {
    "duration": 6,
    "start_time": "2023-02-10T07:56:45.537Z"
   },
   {
    "duration": 6,
    "start_time": "2023-02-10T07:56:52.174Z"
   },
   {
    "duration": 4,
    "start_time": "2023-02-10T07:56:53.964Z"
   },
   {
    "duration": 6,
    "start_time": "2023-02-10T07:56:54.957Z"
   },
   {
    "duration": 3,
    "start_time": "2023-02-10T07:57:00.701Z"
   },
   {
    "duration": 163,
    "start_time": "2023-02-10T07:57:00.707Z"
   },
   {
    "duration": 39,
    "start_time": "2023-02-10T07:57:00.872Z"
   },
   {
    "duration": 23,
    "start_time": "2023-02-10T07:57:00.913Z"
   },
   {
    "duration": 57,
    "start_time": "2023-02-10T07:57:00.942Z"
   },
   {
    "duration": 14,
    "start_time": "2023-02-10T07:57:01.001Z"
   },
   {
    "duration": 77,
    "start_time": "2023-02-10T07:57:01.017Z"
   },
   {
    "duration": 21,
    "start_time": "2023-02-10T07:57:01.096Z"
   },
   {
    "duration": 54,
    "start_time": "2023-02-10T07:57:01.119Z"
   },
   {
    "duration": 45,
    "start_time": "2023-02-10T07:57:01.175Z"
   },
   {
    "duration": 63,
    "start_time": "2023-02-10T07:57:01.222Z"
   },
   {
    "duration": 60,
    "start_time": "2023-02-10T07:57:01.287Z"
   },
   {
    "duration": 32,
    "start_time": "2023-02-10T07:57:01.349Z"
   },
   {
    "duration": 24,
    "start_time": "2023-02-10T07:57:01.384Z"
   },
   {
    "duration": 17,
    "start_time": "2023-02-10T07:57:01.410Z"
   },
   {
    "duration": 34,
    "start_time": "2023-02-10T07:57:01.433Z"
   },
   {
    "duration": 31,
    "start_time": "2023-02-10T07:57:01.469Z"
   },
   {
    "duration": 5,
    "start_time": "2023-02-10T07:57:10.066Z"
   },
   {
    "duration": 10,
    "start_time": "2023-02-10T07:57:12.204Z"
   },
   {
    "duration": 7,
    "start_time": "2023-02-10T07:58:42.587Z"
   },
   {
    "duration": 19,
    "start_time": "2023-02-10T07:58:44.799Z"
   },
   {
    "duration": 10,
    "start_time": "2023-02-10T07:58:46.831Z"
   },
   {
    "duration": 6,
    "start_time": "2023-02-10T08:00:17.916Z"
   },
   {
    "duration": 7,
    "start_time": "2023-02-10T08:00:23.159Z"
   },
   {
    "duration": 7,
    "start_time": "2023-02-10T08:00:24.099Z"
   },
   {
    "duration": 17,
    "start_time": "2023-02-10T08:13:53.279Z"
   },
   {
    "duration": 5,
    "start_time": "2023-02-10T08:13:55.247Z"
   },
   {
    "duration": 10,
    "start_time": "2023-02-10T08:30:28.746Z"
   },
   {
    "duration": 4,
    "start_time": "2023-02-10T08:30:29.895Z"
   },
   {
    "duration": 7,
    "start_time": "2023-02-10T08:32:58.721Z"
   },
   {
    "duration": 5,
    "start_time": "2023-02-10T08:32:59.542Z"
   },
   {
    "duration": 106,
    "start_time": "2023-02-10T08:33:20.645Z"
   },
   {
    "duration": 12,
    "start_time": "2023-02-10T08:33:24.287Z"
   },
   {
    "duration": 5,
    "start_time": "2023-02-10T08:33:28.567Z"
   },
   {
    "duration": 11,
    "start_time": "2023-02-10T08:33:29.879Z"
   },
   {
    "duration": 3,
    "start_time": "2023-02-10T08:33:35.298Z"
   },
   {
    "duration": 94,
    "start_time": "2023-02-10T08:33:35.303Z"
   },
   {
    "duration": 32,
    "start_time": "2023-02-10T08:33:35.399Z"
   },
   {
    "duration": 15,
    "start_time": "2023-02-10T08:33:35.433Z"
   },
   {
    "duration": 10,
    "start_time": "2023-02-10T08:33:35.449Z"
   },
   {
    "duration": 6,
    "start_time": "2023-02-10T08:33:35.461Z"
   },
   {
    "duration": 18,
    "start_time": "2023-02-10T08:33:35.468Z"
   },
   {
    "duration": 18,
    "start_time": "2023-02-10T08:33:35.487Z"
   },
   {
    "duration": 21,
    "start_time": "2023-02-10T08:33:35.507Z"
   },
   {
    "duration": 12,
    "start_time": "2023-02-10T08:33:35.530Z"
   },
   {
    "duration": 20,
    "start_time": "2023-02-10T08:33:35.544Z"
   },
   {
    "duration": 25,
    "start_time": "2023-02-10T08:33:35.567Z"
   },
   {
    "duration": 14,
    "start_time": "2023-02-10T08:33:35.594Z"
   },
   {
    "duration": 34,
    "start_time": "2023-02-10T08:33:35.609Z"
   },
   {
    "duration": 7,
    "start_time": "2023-02-10T08:33:35.644Z"
   },
   {
    "duration": 9,
    "start_time": "2023-02-10T08:33:35.653Z"
   },
   {
    "duration": 6,
    "start_time": "2023-02-10T08:33:35.663Z"
   },
   {
    "duration": 11,
    "start_time": "2023-02-10T08:34:06.885Z"
   },
   {
    "duration": 12,
    "start_time": "2023-02-10T08:34:19.836Z"
   },
   {
    "duration": 6,
    "start_time": "2023-02-10T08:34:24.013Z"
   },
   {
    "duration": 3,
    "start_time": "2023-02-10T08:34:35.056Z"
   },
   {
    "duration": 92,
    "start_time": "2023-02-10T08:34:35.061Z"
   },
   {
    "duration": 32,
    "start_time": "2023-02-10T08:34:35.155Z"
   },
   {
    "duration": 13,
    "start_time": "2023-02-10T08:34:35.190Z"
   },
   {
    "duration": 11,
    "start_time": "2023-02-10T08:34:35.205Z"
   },
   {
    "duration": 6,
    "start_time": "2023-02-10T08:34:35.218Z"
   },
   {
    "duration": 23,
    "start_time": "2023-02-10T08:34:35.226Z"
   },
   {
    "duration": 14,
    "start_time": "2023-02-10T08:34:35.251Z"
   },
   {
    "duration": 38,
    "start_time": "2023-02-10T08:34:35.267Z"
   },
   {
    "duration": 24,
    "start_time": "2023-02-10T08:34:35.308Z"
   },
   {
    "duration": 28,
    "start_time": "2023-02-10T08:34:35.334Z"
   },
   {
    "duration": 44,
    "start_time": "2023-02-10T08:34:35.364Z"
   },
   {
    "duration": 24,
    "start_time": "2023-02-10T08:34:35.410Z"
   },
   {
    "duration": 26,
    "start_time": "2023-02-10T08:34:35.436Z"
   },
   {
    "duration": 20,
    "start_time": "2023-02-10T08:34:35.466Z"
   },
   {
    "duration": 11,
    "start_time": "2023-02-10T08:34:35.488Z"
   },
   {
    "duration": 8,
    "start_time": "2023-02-10T08:34:35.501Z"
   },
   {
    "duration": 24,
    "start_time": "2023-02-10T08:44:46.321Z"
   },
   {
    "duration": 46,
    "start_time": "2023-02-10T08:44:54.839Z"
   },
   {
    "duration": 19,
    "start_time": "2023-02-10T08:49:15.195Z"
   },
   {
    "duration": 7,
    "start_time": "2023-02-10T08:50:01.321Z"
   },
   {
    "duration": 5,
    "start_time": "2023-02-10T08:50:16.008Z"
   },
   {
    "duration": 18,
    "start_time": "2023-02-10T08:51:38.461Z"
   },
   {
    "duration": 5,
    "start_time": "2023-02-10T08:51:49.948Z"
   },
   {
    "duration": 7,
    "start_time": "2023-02-10T08:51:57.308Z"
   },
   {
    "duration": 12,
    "start_time": "2023-02-10T08:56:00.075Z"
   },
   {
    "duration": 13,
    "start_time": "2023-02-10T08:56:09.635Z"
   },
   {
    "duration": 2,
    "start_time": "2023-02-10T08:56:24.199Z"
   },
   {
    "duration": 168,
    "start_time": "2023-02-10T08:56:24.203Z"
   },
   {
    "duration": 15,
    "start_time": "2023-02-10T08:56:24.373Z"
   },
   {
    "duration": 16,
    "start_time": "2023-02-10T08:56:24.390Z"
   },
   {
    "duration": 15,
    "start_time": "2023-02-10T08:56:24.408Z"
   },
   {
    "duration": 15,
    "start_time": "2023-02-10T08:56:24.425Z"
   },
   {
    "duration": 25,
    "start_time": "2023-02-10T08:56:24.442Z"
   },
   {
    "duration": 6,
    "start_time": "2023-02-10T08:56:24.469Z"
   },
   {
    "duration": 10,
    "start_time": "2023-02-10T08:56:24.476Z"
   },
   {
    "duration": 20,
    "start_time": "2023-02-10T08:56:24.488Z"
   },
   {
    "duration": 13,
    "start_time": "2023-02-10T08:56:24.511Z"
   },
   {
    "duration": 24,
    "start_time": "2023-02-10T08:56:24.525Z"
   },
   {
    "duration": 13,
    "start_time": "2023-02-10T08:56:24.550Z"
   },
   {
    "duration": 16,
    "start_time": "2023-02-10T08:56:24.564Z"
   },
   {
    "duration": 7,
    "start_time": "2023-02-10T08:56:24.582Z"
   },
   {
    "duration": 13,
    "start_time": "2023-02-10T08:56:24.590Z"
   },
   {
    "duration": 4,
    "start_time": "2023-02-10T08:56:24.604Z"
   },
   {
    "duration": 19,
    "start_time": "2023-02-10T08:56:24.609Z"
   },
   {
    "duration": 203,
    "start_time": "2023-02-10T08:58:31.572Z"
   },
   {
    "duration": 3,
    "start_time": "2023-02-10T08:58:56.996Z"
   },
   {
    "duration": 4,
    "start_time": "2023-02-10T08:58:58.156Z"
   },
   {
    "duration": 6,
    "start_time": "2023-02-10T09:03:51.632Z"
   },
   {
    "duration": 5,
    "start_time": "2023-02-10T09:03:53.864Z"
   },
   {
    "duration": 12,
    "start_time": "2023-02-10T09:04:20.415Z"
   },
   {
    "duration": 5,
    "start_time": "2023-02-10T09:04:29.422Z"
   },
   {
    "duration": 3,
    "start_time": "2023-02-10T09:04:32.865Z"
   },
   {
    "duration": 126,
    "start_time": "2023-02-10T09:04:32.872Z"
   },
   {
    "duration": 33,
    "start_time": "2023-02-10T09:04:33.000Z"
   },
   {
    "duration": 14,
    "start_time": "2023-02-10T09:04:33.034Z"
   },
   {
    "duration": 22,
    "start_time": "2023-02-10T09:04:33.049Z"
   },
   {
    "duration": 4,
    "start_time": "2023-02-10T09:04:33.073Z"
   },
   {
    "duration": 31,
    "start_time": "2023-02-10T09:04:33.078Z"
   },
   {
    "duration": 5,
    "start_time": "2023-02-10T09:04:33.111Z"
   },
   {
    "duration": 10,
    "start_time": "2023-02-10T09:04:33.117Z"
   },
   {
    "duration": 31,
    "start_time": "2023-02-10T09:04:33.129Z"
   },
   {
    "duration": 15,
    "start_time": "2023-02-10T09:04:33.161Z"
   },
   {
    "duration": 29,
    "start_time": "2023-02-10T09:04:33.178Z"
   },
   {
    "duration": 9,
    "start_time": "2023-02-10T09:04:33.208Z"
   },
   {
    "duration": 16,
    "start_time": "2023-02-10T09:04:33.218Z"
   },
   {
    "duration": 6,
    "start_time": "2023-02-10T09:04:33.237Z"
   },
   {
    "duration": 14,
    "start_time": "2023-02-10T09:04:33.244Z"
   },
   {
    "duration": 17,
    "start_time": "2023-02-10T09:04:33.259Z"
   },
   {
    "duration": 9,
    "start_time": "2023-02-10T09:04:33.278Z"
   },
   {
    "duration": 8,
    "start_time": "2023-02-10T09:05:07.556Z"
   },
   {
    "duration": 8,
    "start_time": "2023-02-10T09:05:15.125Z"
   },
   {
    "duration": 206,
    "start_time": "2023-02-10T09:10:38.086Z"
   },
   {
    "duration": 169,
    "start_time": "2023-02-10T09:10:59.133Z"
   },
   {
    "duration": 7,
    "start_time": "2023-02-10T09:11:01.669Z"
   },
   {
    "duration": 9,
    "start_time": "2023-02-10T09:11:03.445Z"
   },
   {
    "duration": 6,
    "start_time": "2023-02-10T09:20:49.052Z"
   },
   {
    "duration": 12,
    "start_time": "2023-02-10T09:21:22.570Z"
   },
   {
    "duration": 11,
    "start_time": "2023-02-10T09:21:40.193Z"
   },
   {
    "duration": 3,
    "start_time": "2023-02-10T09:21:44.047Z"
   },
   {
    "duration": 111,
    "start_time": "2023-02-10T09:21:44.053Z"
   },
   {
    "duration": 37,
    "start_time": "2023-02-10T09:21:44.166Z"
   },
   {
    "duration": 20,
    "start_time": "2023-02-10T09:21:44.205Z"
   },
   {
    "duration": 12,
    "start_time": "2023-02-10T09:21:44.228Z"
   },
   {
    "duration": 4,
    "start_time": "2023-02-10T09:21:44.242Z"
   },
   {
    "duration": 22,
    "start_time": "2023-02-10T09:21:44.249Z"
   },
   {
    "duration": 18,
    "start_time": "2023-02-10T09:21:44.272Z"
   },
   {
    "duration": 7,
    "start_time": "2023-02-10T09:21:44.292Z"
   },
   {
    "duration": 32,
    "start_time": "2023-02-10T09:21:44.301Z"
   },
   {
    "duration": 15,
    "start_time": "2023-02-10T09:21:44.334Z"
   },
   {
    "duration": 32,
    "start_time": "2023-02-10T09:21:44.351Z"
   },
   {
    "duration": 9,
    "start_time": "2023-02-10T09:21:44.386Z"
   },
   {
    "duration": 38,
    "start_time": "2023-02-10T09:21:44.397Z"
   },
   {
    "duration": 9,
    "start_time": "2023-02-10T09:21:44.437Z"
   },
   {
    "duration": 20,
    "start_time": "2023-02-10T09:21:44.448Z"
   },
   {
    "duration": 15,
    "start_time": "2023-02-10T09:21:44.471Z"
   },
   {
    "duration": 9,
    "start_time": "2023-02-10T09:21:44.489Z"
   },
   {
    "duration": 9,
    "start_time": "2023-02-10T09:22:25.847Z"
   },
   {
    "duration": 8,
    "start_time": "2023-02-10T09:22:48.183Z"
   },
   {
    "duration": 13,
    "start_time": "2023-02-10T09:22:59.174Z"
   },
   {
    "duration": 11,
    "start_time": "2023-02-10T11:05:54.620Z"
   },
   {
    "duration": 3,
    "start_time": "2023-02-10T11:05:59.089Z"
   },
   {
    "duration": 352,
    "start_time": "2023-02-10T11:05:59.094Z"
   },
   {
    "duration": 47,
    "start_time": "2023-02-10T11:05:59.449Z"
   },
   {
    "duration": 15,
    "start_time": "2023-02-10T11:05:59.498Z"
   },
   {
    "duration": 9,
    "start_time": "2023-02-10T11:05:59.515Z"
   },
   {
    "duration": 38,
    "start_time": "2023-02-10T11:05:59.526Z"
   },
   {
    "duration": 23,
    "start_time": "2023-02-10T11:05:59.566Z"
   },
   {
    "duration": 6,
    "start_time": "2023-02-10T11:05:59.592Z"
   },
   {
    "duration": 11,
    "start_time": "2023-02-10T11:05:59.601Z"
   },
   {
    "duration": 17,
    "start_time": "2023-02-10T11:05:59.614Z"
   },
   {
    "duration": 28,
    "start_time": "2023-02-10T11:05:59.634Z"
   },
   {
    "duration": 24,
    "start_time": "2023-02-10T11:05:59.664Z"
   },
   {
    "duration": 10,
    "start_time": "2023-02-10T11:05:59.690Z"
   },
   {
    "duration": 48,
    "start_time": "2023-02-10T11:05:59.702Z"
   },
   {
    "duration": 13,
    "start_time": "2023-02-10T11:05:59.754Z"
   },
   {
    "duration": 10,
    "start_time": "2023-02-10T11:05:59.769Z"
   },
   {
    "duration": 9,
    "start_time": "2023-02-10T11:05:59.780Z"
   },
   {
    "duration": 8,
    "start_time": "2023-02-10T11:05:59.791Z"
   },
   {
    "duration": 6,
    "start_time": "2023-02-10T11:37:10.914Z"
   },
   {
    "duration": 5,
    "start_time": "2023-02-10T11:37:55.922Z"
   },
   {
    "duration": 7,
    "start_time": "2023-02-10T11:38:19.879Z"
   },
   {
    "duration": 6,
    "start_time": "2023-02-10T11:38:47.257Z"
   },
   {
    "duration": 7,
    "start_time": "2023-02-10T11:40:06.083Z"
   },
   {
    "duration": 6,
    "start_time": "2023-02-10T11:40:10.922Z"
   },
   {
    "duration": 2,
    "start_time": "2023-02-10T11:40:38.853Z"
   },
   {
    "duration": 80,
    "start_time": "2023-02-10T11:40:38.857Z"
   },
   {
    "duration": 32,
    "start_time": "2023-02-10T11:40:38.939Z"
   },
   {
    "duration": 15,
    "start_time": "2023-02-10T11:40:38.972Z"
   },
   {
    "duration": 15,
    "start_time": "2023-02-10T11:40:38.988Z"
   },
   {
    "duration": 5,
    "start_time": "2023-02-10T11:40:39.005Z"
   },
   {
    "duration": 19,
    "start_time": "2023-02-10T11:40:39.012Z"
   },
   {
    "duration": 5,
    "start_time": "2023-02-10T11:40:39.032Z"
   },
   {
    "duration": 7,
    "start_time": "2023-02-10T11:40:39.038Z"
   },
   {
    "duration": 14,
    "start_time": "2023-02-10T11:40:39.047Z"
   },
   {
    "duration": 14,
    "start_time": "2023-02-10T11:40:39.063Z"
   },
   {
    "duration": 48,
    "start_time": "2023-02-10T11:40:39.079Z"
   },
   {
    "duration": 8,
    "start_time": "2023-02-10T11:40:39.128Z"
   },
   {
    "duration": 18,
    "start_time": "2023-02-10T11:40:39.138Z"
   },
   {
    "duration": 5,
    "start_time": "2023-02-10T11:40:39.158Z"
   },
   {
    "duration": 11,
    "start_time": "2023-02-10T11:40:39.164Z"
   },
   {
    "duration": 23,
    "start_time": "2023-02-10T11:40:39.177Z"
   },
   {
    "duration": 8,
    "start_time": "2023-02-10T11:40:39.202Z"
   },
   {
    "duration": 7,
    "start_time": "2023-02-10T11:46:40.721Z"
   },
   {
    "duration": 11,
    "start_time": "2023-02-10T11:46:47.543Z"
   },
   {
    "duration": 10,
    "start_time": "2023-02-10T12:29:55.808Z"
   },
   {
    "duration": 3,
    "start_time": "2023-02-10T12:30:15.005Z"
   },
   {
    "duration": 110,
    "start_time": "2023-02-10T12:30:15.013Z"
   },
   {
    "duration": 31,
    "start_time": "2023-02-10T12:30:15.125Z"
   },
   {
    "duration": 18,
    "start_time": "2023-02-10T12:30:15.158Z"
   },
   {
    "duration": 12,
    "start_time": "2023-02-10T12:30:15.178Z"
   },
   {
    "duration": 10,
    "start_time": "2023-02-10T12:30:15.192Z"
   },
   {
    "duration": 18,
    "start_time": "2023-02-10T12:30:15.204Z"
   },
   {
    "duration": 11,
    "start_time": "2023-02-10T12:30:15.224Z"
   },
   {
    "duration": 11,
    "start_time": "2023-02-10T12:30:15.237Z"
   },
   {
    "duration": 16,
    "start_time": "2023-02-10T12:30:15.250Z"
   },
   {
    "duration": 16,
    "start_time": "2023-02-10T12:30:15.267Z"
   },
   {
    "duration": 27,
    "start_time": "2023-02-10T12:30:15.285Z"
   },
   {
    "duration": 19,
    "start_time": "2023-02-10T12:30:15.314Z"
   },
   {
    "duration": 22,
    "start_time": "2023-02-10T12:30:15.334Z"
   },
   {
    "duration": 7,
    "start_time": "2023-02-10T12:30:15.358Z"
   },
   {
    "duration": 9,
    "start_time": "2023-02-10T12:30:15.367Z"
   },
   {
    "duration": 14,
    "start_time": "2023-02-10T12:30:15.378Z"
   },
   {
    "duration": 10,
    "start_time": "2023-02-10T12:30:15.394Z"
   },
   {
    "duration": 32,
    "start_time": "2023-02-10T12:30:15.405Z"
   },
   {
    "duration": 8,
    "start_time": "2023-02-10T12:30:15.439Z"
   },
   {
    "duration": 1221,
    "start_time": "2023-02-10T12:30:43.094Z"
   },
   {
    "duration": 1028,
    "start_time": "2023-02-10T12:30:52.469Z"
   },
   {
    "duration": 532,
    "start_time": "2023-02-10T12:32:19.385Z"
   },
   {
    "duration": 675,
    "start_time": "2023-02-10T12:58:24.834Z"
   },
   {
    "duration": 3,
    "start_time": "2023-02-10T12:58:28.190Z"
   },
   {
    "duration": 127,
    "start_time": "2023-02-10T12:58:28.196Z"
   },
   {
    "duration": 36,
    "start_time": "2023-02-10T12:58:28.325Z"
   },
   {
    "duration": 21,
    "start_time": "2023-02-10T12:58:28.364Z"
   },
   {
    "duration": 17,
    "start_time": "2023-02-10T12:58:28.388Z"
   },
   {
    "duration": 13,
    "start_time": "2023-02-10T12:58:28.407Z"
   },
   {
    "duration": 35,
    "start_time": "2023-02-10T12:58:28.423Z"
   },
   {
    "duration": 12,
    "start_time": "2023-02-10T12:58:28.460Z"
   },
   {
    "duration": 12,
    "start_time": "2023-02-10T12:58:28.475Z"
   },
   {
    "duration": 29,
    "start_time": "2023-02-10T12:58:28.490Z"
   },
   {
    "duration": 26,
    "start_time": "2023-02-10T12:58:28.526Z"
   },
   {
    "duration": 38,
    "start_time": "2023-02-10T12:58:28.554Z"
   },
   {
    "duration": 39,
    "start_time": "2023-02-10T12:58:28.595Z"
   },
   {
    "duration": 84,
    "start_time": "2023-02-10T12:58:28.635Z"
   },
   {
    "duration": 9,
    "start_time": "2023-02-10T12:58:28.721Z"
   },
   {
    "duration": 26,
    "start_time": "2023-02-10T12:58:28.732Z"
   },
   {
    "duration": 9,
    "start_time": "2023-02-10T12:58:28.761Z"
   },
   {
    "duration": 9,
    "start_time": "2023-02-10T12:58:28.773Z"
   },
   {
    "duration": 20,
    "start_time": "2023-02-10T12:58:28.784Z"
   },
   {
    "duration": 34,
    "start_time": "2023-02-10T12:58:28.806Z"
   },
   {
    "duration": 59,
    "start_time": "2023-02-10T12:59:51.016Z"
   },
   {
    "duration": 3,
    "start_time": "2023-02-10T13:10:37.572Z"
   },
   {
    "duration": 100,
    "start_time": "2023-02-10T13:10:37.577Z"
   },
   {
    "duration": 36,
    "start_time": "2023-02-10T13:10:37.679Z"
   },
   {
    "duration": 16,
    "start_time": "2023-02-10T13:10:37.717Z"
   },
   {
    "duration": 27,
    "start_time": "2023-02-10T13:10:37.736Z"
   },
   {
    "duration": 17,
    "start_time": "2023-02-10T13:10:37.765Z"
   },
   {
    "duration": 39,
    "start_time": "2023-02-10T13:10:37.784Z"
   },
   {
    "duration": 35,
    "start_time": "2023-02-10T13:10:37.825Z"
   },
   {
    "duration": 11,
    "start_time": "2023-02-10T13:10:37.862Z"
   },
   {
    "duration": 31,
    "start_time": "2023-02-10T13:10:37.874Z"
   },
   {
    "duration": 24,
    "start_time": "2023-02-10T13:10:37.908Z"
   },
   {
    "duration": 39,
    "start_time": "2023-02-10T13:10:37.934Z"
   },
   {
    "duration": 13,
    "start_time": "2023-02-10T13:10:37.974Z"
   },
   {
    "duration": 26,
    "start_time": "2023-02-10T13:10:37.989Z"
   },
   {
    "duration": 42,
    "start_time": "2023-02-10T13:10:38.016Z"
   },
   {
    "duration": 18,
    "start_time": "2023-02-10T13:10:38.059Z"
   },
   {
    "duration": 10,
    "start_time": "2023-02-10T13:10:38.078Z"
   },
   {
    "duration": 9,
    "start_time": "2023-02-10T13:10:38.089Z"
   },
   {
    "duration": 13,
    "start_time": "2023-02-10T13:10:38.099Z"
   },
   {
    "duration": 15,
    "start_time": "2023-02-10T13:10:38.114Z"
   },
   {
    "duration": 1935,
    "start_time": "2023-02-10T13:12:00.660Z"
   },
   {
    "duration": 1984,
    "start_time": "2023-02-10T13:12:08.793Z"
   },
   {
    "duration": 17,
    "start_time": "2023-02-10T13:12:59.718Z"
   },
   {
    "duration": 10,
    "start_time": "2023-02-10T13:45:09.801Z"
   },
   {
    "duration": 6,
    "start_time": "2023-02-10T13:45:19.417Z"
   },
   {
    "duration": 6,
    "start_time": "2023-02-10T13:47:13.474Z"
   },
   {
    "duration": 3,
    "start_time": "2023-02-10T13:49:13.395Z"
   },
   {
    "duration": 135,
    "start_time": "2023-02-10T13:49:13.400Z"
   },
   {
    "duration": 49,
    "start_time": "2023-02-10T13:49:13.537Z"
   },
   {
    "duration": 20,
    "start_time": "2023-02-10T13:49:13.589Z"
   },
   {
    "duration": 12,
    "start_time": "2023-02-10T13:49:13.612Z"
   },
   {
    "duration": 41,
    "start_time": "2023-02-10T13:49:13.626Z"
   },
   {
    "duration": 20,
    "start_time": "2023-02-10T13:49:13.670Z"
   },
   {
    "duration": 7,
    "start_time": "2023-02-10T13:49:13.692Z"
   },
   {
    "duration": 9,
    "start_time": "2023-02-10T13:49:13.701Z"
   },
   {
    "duration": 17,
    "start_time": "2023-02-10T13:49:13.712Z"
   },
   {
    "duration": 42,
    "start_time": "2023-02-10T13:49:13.732Z"
   },
   {
    "duration": 29,
    "start_time": "2023-02-10T13:49:13.775Z"
   },
   {
    "duration": 13,
    "start_time": "2023-02-10T13:49:13.806Z"
   },
   {
    "duration": 59,
    "start_time": "2023-02-10T13:49:13.821Z"
   },
   {
    "duration": 12,
    "start_time": "2023-02-10T13:49:13.882Z"
   },
   {
    "duration": 17,
    "start_time": "2023-02-10T13:49:13.896Z"
   },
   {
    "duration": 7,
    "start_time": "2023-02-10T13:49:13.915Z"
   },
   {
    "duration": 44,
    "start_time": "2023-02-10T13:49:13.924Z"
   },
   {
    "duration": 16,
    "start_time": "2023-02-10T13:49:13.970Z"
   },
   {
    "duration": 22,
    "start_time": "2023-02-10T13:49:13.988Z"
   },
   {
    "duration": 3,
    "start_time": "2023-02-10T13:49:14.012Z"
   },
   {
    "duration": 44,
    "start_time": "2023-02-10T13:49:14.017Z"
   },
   {
    "duration": 7,
    "start_time": "2023-02-10T13:49:14.063Z"
   },
   {
    "duration": 10,
    "start_time": "2023-02-10T13:49:36.632Z"
   },
   {
    "duration": 6,
    "start_time": "2023-02-10T13:50:07.549Z"
   },
   {
    "duration": 13,
    "start_time": "2023-02-10T13:50:21.626Z"
   },
   {
    "duration": 10,
    "start_time": "2023-02-10T13:51:07.961Z"
   },
   {
    "duration": 795,
    "start_time": "2023-02-12T11:24:48.681Z"
   },
   {
    "duration": 619,
    "start_time": "2023-02-12T11:24:49.478Z"
   },
   {
    "duration": 65,
    "start_time": "2023-02-12T11:24:50.099Z"
   },
   {
    "duration": 18,
    "start_time": "2023-02-12T11:24:50.166Z"
   },
   {
    "duration": 12,
    "start_time": "2023-02-12T11:24:50.186Z"
   },
   {
    "duration": 28,
    "start_time": "2023-02-12T11:24:50.200Z"
   },
   {
    "duration": 72,
    "start_time": "2023-02-12T11:24:50.232Z"
   },
   {
    "duration": 47,
    "start_time": "2023-02-12T11:24:50.306Z"
   },
   {
    "duration": 21,
    "start_time": "2023-02-12T11:24:50.355Z"
   },
   {
    "duration": 21,
    "start_time": "2023-02-12T11:24:50.381Z"
   },
   {
    "duration": 40,
    "start_time": "2023-02-12T11:24:50.404Z"
   },
   {
    "duration": 59,
    "start_time": "2023-02-12T11:24:50.449Z"
   },
   {
    "duration": 48,
    "start_time": "2023-02-12T11:24:50.511Z"
   },
   {
    "duration": 23,
    "start_time": "2023-02-12T11:24:50.561Z"
   },
   {
    "duration": 9,
    "start_time": "2023-02-12T11:24:50.587Z"
   },
   {
    "duration": 16,
    "start_time": "2023-02-12T11:24:50.598Z"
   },
   {
    "duration": 18,
    "start_time": "2023-02-12T11:24:50.616Z"
   },
   {
    "duration": 27,
    "start_time": "2023-02-12T11:24:50.637Z"
   },
   {
    "duration": 22,
    "start_time": "2023-02-12T11:24:50.666Z"
   },
   {
    "duration": 81,
    "start_time": "2023-02-12T11:24:50.690Z"
   },
   {
    "duration": 10,
    "start_time": "2023-02-12T11:24:50.773Z"
   },
   {
    "duration": 12,
    "start_time": "2023-02-12T11:24:50.786Z"
   },
   {
    "duration": 9,
    "start_time": "2023-02-12T11:24:50.800Z"
   },
   {
    "duration": 33,
    "start_time": "2023-02-12T11:24:50.810Z"
   },
   {
    "duration": 5,
    "start_time": "2023-02-12T11:25:38.655Z"
   },
   {
    "duration": 7,
    "start_time": "2023-02-12T11:25:39.144Z"
   },
   {
    "duration": 7,
    "start_time": "2023-02-12T11:25:39.501Z"
   },
   {
    "duration": 14,
    "start_time": "2023-02-12T11:25:58.651Z"
   },
   {
    "duration": 4,
    "start_time": "2023-02-12T11:29:32.571Z"
   },
   {
    "duration": 19,
    "start_time": "2023-02-12T11:29:33.445Z"
   },
   {
    "duration": 5,
    "start_time": "2023-02-12T11:30:13.124Z"
   },
   {
    "duration": 5,
    "start_time": "2023-02-12T11:30:35.372Z"
   },
   {
    "duration": 5,
    "start_time": "2023-02-12T11:30:54.583Z"
   },
   {
    "duration": 4,
    "start_time": "2023-02-12T11:31:17.313Z"
   },
   {
    "duration": 13,
    "start_time": "2023-02-12T11:31:18.958Z"
   },
   {
    "duration": 6,
    "start_time": "2023-02-12T11:33:09.117Z"
   },
   {
    "duration": 4,
    "start_time": "2023-02-12T11:33:43.296Z"
   },
   {
    "duration": 11,
    "start_time": "2023-02-12T11:33:45.254Z"
   },
   {
    "duration": 33,
    "start_time": "2023-02-12T11:37:50.147Z"
   },
   {
    "duration": 26,
    "start_time": "2023-02-12T11:38:01.831Z"
   },
   {
    "duration": 29,
    "start_time": "2023-02-12T11:43:10.542Z"
   },
   {
    "duration": 20,
    "start_time": "2023-02-12T11:43:47.853Z"
   },
   {
    "duration": 70,
    "start_time": "2023-02-12T11:44:00.952Z"
   },
   {
    "duration": 25,
    "start_time": "2023-02-12T11:44:08.948Z"
   },
   {
    "duration": 7,
    "start_time": "2023-02-12T11:58:29.996Z"
   },
   {
    "duration": 17,
    "start_time": "2023-02-12T12:03:08.161Z"
   },
   {
    "duration": 40,
    "start_time": "2023-02-12T12:04:54.399Z"
   },
   {
    "duration": 17,
    "start_time": "2023-02-12T12:07:34.644Z"
   },
   {
    "duration": 17,
    "start_time": "2023-02-12T12:08:39.639Z"
   },
   {
    "duration": 45,
    "start_time": "2023-02-12T12:08:59.901Z"
   },
   {
    "duration": 40,
    "start_time": "2023-02-12T12:09:04.673Z"
   },
   {
    "duration": 18,
    "start_time": "2023-02-12T12:09:12.453Z"
   },
   {
    "duration": 23,
    "start_time": "2023-02-12T12:10:18.241Z"
   },
   {
    "duration": 19,
    "start_time": "2023-02-12T12:10:50.820Z"
   },
   {
    "duration": 14,
    "start_time": "2023-02-12T12:11:55.934Z"
   },
   {
    "duration": 13,
    "start_time": "2023-02-12T12:12:07.782Z"
   },
   {
    "duration": 8,
    "start_time": "2023-02-12T12:26:25.114Z"
   },
   {
    "duration": 8,
    "start_time": "2023-02-12T12:26:40.695Z"
   },
   {
    "duration": 7,
    "start_time": "2023-02-12T12:26:54.246Z"
   },
   {
    "duration": 7,
    "start_time": "2023-02-12T12:27:33.758Z"
   },
   {
    "duration": 12,
    "start_time": "2023-02-12T12:38:08.760Z"
   },
   {
    "duration": 9,
    "start_time": "2023-02-12T12:58:46.672Z"
   },
   {
    "duration": 29,
    "start_time": "2023-02-12T12:59:09.378Z"
   },
   {
    "duration": 2,
    "start_time": "2023-02-12T13:01:17.661Z"
   },
   {
    "duration": 90,
    "start_time": "2023-02-12T13:01:17.665Z"
   },
   {
    "duration": 35,
    "start_time": "2023-02-12T13:01:17.757Z"
   },
   {
    "duration": 16,
    "start_time": "2023-02-12T13:01:17.794Z"
   },
   {
    "duration": 11,
    "start_time": "2023-02-12T13:01:17.812Z"
   },
   {
    "duration": 5,
    "start_time": "2023-02-12T13:01:17.824Z"
   },
   {
    "duration": 16,
    "start_time": "2023-02-12T13:01:17.831Z"
   },
   {
    "duration": 4,
    "start_time": "2023-02-12T13:01:17.849Z"
   },
   {
    "duration": 7,
    "start_time": "2023-02-12T13:01:17.854Z"
   },
   {
    "duration": 23,
    "start_time": "2023-02-12T13:01:17.863Z"
   },
   {
    "duration": 16,
    "start_time": "2023-02-12T13:01:17.887Z"
   },
   {
    "duration": 41,
    "start_time": "2023-02-12T13:01:17.904Z"
   },
   {
    "duration": 8,
    "start_time": "2023-02-12T13:01:17.947Z"
   },
   {
    "duration": 18,
    "start_time": "2023-02-12T13:01:17.957Z"
   },
   {
    "duration": 6,
    "start_time": "2023-02-12T13:01:17.977Z"
   },
   {
    "duration": 8,
    "start_time": "2023-02-12T13:01:17.985Z"
   },
   {
    "duration": 4,
    "start_time": "2023-02-12T13:01:17.995Z"
   },
   {
    "duration": 33,
    "start_time": "2023-02-12T13:01:18.000Z"
   },
   {
    "duration": 12,
    "start_time": "2023-02-12T13:01:18.034Z"
   },
   {
    "duration": 18,
    "start_time": "2023-02-12T13:01:18.048Z"
   },
   {
    "duration": 7,
    "start_time": "2023-02-12T13:01:18.068Z"
   },
   {
    "duration": 8,
    "start_time": "2023-02-12T13:01:18.076Z"
   },
   {
    "duration": 7,
    "start_time": "2023-02-12T13:01:18.085Z"
   },
   {
    "duration": 7,
    "start_time": "2023-02-12T13:01:18.093Z"
   },
   {
    "duration": 28,
    "start_time": "2023-02-12T13:01:18.101Z"
   },
   {
    "duration": 14,
    "start_time": "2023-02-12T13:01:18.131Z"
   },
   {
    "duration": 49,
    "start_time": "2023-02-12T13:01:18.147Z"
   },
   {
    "duration": 27,
    "start_time": "2023-02-12T13:01:18.198Z"
   },
   {
    "duration": 12,
    "start_time": "2023-02-12T13:01:18.226Z"
   },
   {
    "duration": 7,
    "start_time": "2023-02-12T13:01:18.239Z"
   },
   {
    "duration": 26,
    "start_time": "2023-02-12T13:01:18.248Z"
   },
   {
    "duration": 30,
    "start_time": "2023-02-12T13:11:41.516Z"
   },
   {
    "duration": 33,
    "start_time": "2023-02-12T13:12:16.390Z"
   },
   {
    "duration": 4,
    "start_time": "2023-02-12T13:25:44.105Z"
   },
   {
    "duration": 4,
    "start_time": "2023-02-12T13:25:51.379Z"
   },
   {
    "duration": 1366,
    "start_time": "2023-02-12T13:34:11.106Z"
   },
   {
    "duration": 1387,
    "start_time": "2023-02-12T13:34:18.192Z"
   },
   {
    "duration": 47,
    "start_time": "2023-02-12T13:36:59.763Z"
   },
   {
    "duration": 99,
    "start_time": "2023-02-12T13:40:12.125Z"
   },
   {
    "duration": 42,
    "start_time": "2023-02-12T13:40:25.052Z"
   },
   {
    "duration": 473,
    "start_time": "2023-02-12T13:41:52.093Z"
   },
   {
    "duration": 6,
    "start_time": "2023-02-12T13:44:27.281Z"
   },
   {
    "duration": 36,
    "start_time": "2023-02-12T17:05:47.941Z"
   },
   {
    "duration": 18,
    "start_time": "2023-02-12T17:09:57.695Z"
   },
   {
    "duration": 4,
    "start_time": "2023-02-12T17:10:06.503Z"
   },
   {
    "duration": 18,
    "start_time": "2023-02-12T17:10:06.990Z"
   },
   {
    "duration": 5,
    "start_time": "2023-02-12T17:16:13.420Z"
   },
   {
    "duration": 12,
    "start_time": "2023-02-12T17:16:21.630Z"
   },
   {
    "duration": 18,
    "start_time": "2023-02-12T17:16:30.277Z"
   },
   {
    "duration": 4,
    "start_time": "2023-02-12T17:16:40.269Z"
   },
   {
    "duration": 12,
    "start_time": "2023-02-12T17:16:40.973Z"
   },
   {
    "duration": 26,
    "start_time": "2023-02-12T17:16:53.185Z"
   },
   {
    "duration": 3,
    "start_time": "2023-02-12T17:23:31.628Z"
   },
   {
    "duration": 11,
    "start_time": "2023-02-12T17:23:32.452Z"
   },
   {
    "duration": 25,
    "start_time": "2023-02-12T17:23:33.498Z"
   },
   {
    "duration": 5,
    "start_time": "2023-02-12T17:29:12.228Z"
   },
   {
    "duration": 6,
    "start_time": "2023-02-12T17:29:44.587Z"
   },
   {
    "duration": 18,
    "start_time": "2023-02-12T17:46:04.701Z"
   },
   {
    "duration": 8,
    "start_time": "2023-02-12T17:48:05.010Z"
   },
   {
    "duration": 10,
    "start_time": "2023-02-12T17:48:13.046Z"
   },
   {
    "duration": 10,
    "start_time": "2023-02-12T17:48:21.212Z"
   },
   {
    "duration": 12,
    "start_time": "2023-02-12T17:48:31.718Z"
   },
   {
    "duration": 42,
    "start_time": "2023-02-12T17:51:04.543Z"
   },
   {
    "duration": 44,
    "start_time": "2023-02-12T17:51:19.734Z"
   },
   {
    "duration": 48,
    "start_time": "2023-02-12T17:52:06.523Z"
   },
   {
    "duration": 48,
    "start_time": "2023-02-12T17:52:52.260Z"
   },
   {
    "duration": 8,
    "start_time": "2023-02-12T17:57:33.737Z"
   },
   {
    "duration": 14,
    "start_time": "2023-02-12T17:57:44.193Z"
   },
   {
    "duration": 16,
    "start_time": "2023-02-12T18:00:10.490Z"
   },
   {
    "duration": 48,
    "start_time": "2023-02-12T18:06:31.828Z"
   },
   {
    "duration": 46,
    "start_time": "2023-02-12T18:06:42.675Z"
   },
   {
    "duration": 43,
    "start_time": "2023-02-12T18:06:56.173Z"
   },
   {
    "duration": 186,
    "start_time": "2023-02-12T18:07:05.500Z"
   },
   {
    "duration": 43,
    "start_time": "2023-02-12T18:09:23.170Z"
   },
   {
    "duration": 47,
    "start_time": "2023-02-12T18:09:56.923Z"
   },
   {
    "duration": 199,
    "start_time": "2023-02-12T18:10:06.156Z"
   },
   {
    "duration": 9,
    "start_time": "2023-02-12T18:14:01.561Z"
   },
   {
    "duration": 17,
    "start_time": "2023-02-12T18:14:19.102Z"
   },
   {
    "duration": 46,
    "start_time": "2023-02-12T18:15:45.764Z"
   },
   {
    "duration": 46,
    "start_time": "2023-02-12T18:15:53.116Z"
   },
   {
    "duration": 43,
    "start_time": "2023-02-12T18:16:06.136Z"
   },
   {
    "duration": 17,
    "start_time": "2023-02-12T18:16:23.696Z"
   },
   {
    "duration": 49,
    "start_time": "2023-02-12T18:25:06.434Z"
   },
   {
    "duration": 499,
    "start_time": "2023-02-12T18:25:27.857Z"
   },
   {
    "duration": 184,
    "start_time": "2023-02-12T18:27:28.157Z"
   },
   {
    "duration": 42,
    "start_time": "2023-02-12T18:29:04.041Z"
   },
   {
    "duration": 12,
    "start_time": "2023-02-12T18:30:55.068Z"
   },
   {
    "duration": 9,
    "start_time": "2023-02-12T18:31:40.818Z"
   },
   {
    "duration": 45,
    "start_time": "2023-02-12T18:31:49.733Z"
   },
   {
    "duration": 29,
    "start_time": "2023-02-12T18:32:01.421Z"
   },
   {
    "duration": 223,
    "start_time": "2023-02-12T18:32:15.285Z"
   },
   {
    "duration": 194,
    "start_time": "2023-02-12T18:32:22.626Z"
   },
   {
    "duration": 6,
    "start_time": "2023-02-12T18:35:22.471Z"
   },
   {
    "duration": 28,
    "start_time": "2023-02-12T18:35:45.721Z"
   },
   {
    "duration": 43,
    "start_time": "2023-02-12T18:36:06.098Z"
   },
   {
    "duration": 15,
    "start_time": "2023-02-12T18:39:09.579Z"
   },
   {
    "duration": 25,
    "start_time": "2023-02-12T18:39:17.428Z"
   },
   {
    "duration": 646,
    "start_time": "2023-02-12T18:41:08.802Z"
   },
   {
    "duration": 11,
    "start_time": "2023-02-12T18:45:32.840Z"
   },
   {
    "duration": 17,
    "start_time": "2023-02-12T18:46:13.745Z"
   },
   {
    "duration": 394,
    "start_time": "2023-02-12T18:46:22.275Z"
   },
   {
    "duration": 380,
    "start_time": "2023-02-12T18:46:39.524Z"
   },
   {
    "duration": 776,
    "start_time": "2023-02-12T18:47:55.541Z"
   },
   {
    "duration": 776,
    "start_time": "2023-02-12T18:48:15.124Z"
   },
   {
    "duration": 778,
    "start_time": "2023-02-12T18:48:28.892Z"
   },
   {
    "duration": 15,
    "start_time": "2023-02-12T18:49:42.723Z"
   },
   {
    "duration": 241,
    "start_time": "2023-02-12T18:49:43.508Z"
   },
   {
    "duration": 172,
    "start_time": "2023-02-12T18:50:39.229Z"
   },
   {
    "duration": 838,
    "start_time": "2023-02-12T18:59:29.844Z"
   },
   {
    "duration": 253,
    "start_time": "2023-02-12T19:01:07.542Z"
   },
   {
    "duration": 6,
    "start_time": "2023-02-12T19:02:16.313Z"
   },
   {
    "duration": 3,
    "start_time": "2023-02-12T19:03:25.586Z"
   },
   {
    "duration": 105,
    "start_time": "2023-02-12T19:03:25.591Z"
   },
   {
    "duration": 48,
    "start_time": "2023-02-12T19:03:25.699Z"
   },
   {
    "duration": 20,
    "start_time": "2023-02-12T19:03:25.750Z"
   },
   {
    "duration": 28,
    "start_time": "2023-02-12T19:03:25.772Z"
   },
   {
    "duration": 9,
    "start_time": "2023-02-12T19:03:25.802Z"
   },
   {
    "duration": 33,
    "start_time": "2023-02-12T19:03:25.813Z"
   },
   {
    "duration": 5,
    "start_time": "2023-02-12T19:03:25.848Z"
   },
   {
    "duration": 7,
    "start_time": "2023-02-12T19:03:25.855Z"
   },
   {
    "duration": 15,
    "start_time": "2023-02-12T19:03:25.865Z"
   },
   {
    "duration": 16,
    "start_time": "2023-02-12T19:03:25.882Z"
   },
   {
    "duration": 48,
    "start_time": "2023-02-12T19:03:25.900Z"
   },
   {
    "duration": 13,
    "start_time": "2023-02-12T19:03:25.950Z"
   },
   {
    "duration": 28,
    "start_time": "2023-02-12T19:03:25.965Z"
   },
   {
    "duration": 19,
    "start_time": "2023-02-12T19:03:25.995Z"
   },
   {
    "duration": 24,
    "start_time": "2023-02-12T19:03:26.015Z"
   },
   {
    "duration": 17,
    "start_time": "2023-02-12T19:03:26.041Z"
   },
   {
    "duration": 19,
    "start_time": "2023-02-12T19:03:26.060Z"
   },
   {
    "duration": 14,
    "start_time": "2023-02-12T19:03:26.080Z"
   },
   {
    "duration": 23,
    "start_time": "2023-02-12T19:03:26.096Z"
   },
   {
    "duration": 15,
    "start_time": "2023-02-12T19:03:26.121Z"
   },
   {
    "duration": 5,
    "start_time": "2023-02-12T19:03:26.144Z"
   },
   {
    "duration": 7,
    "start_time": "2023-02-12T19:03:26.151Z"
   },
   {
    "duration": 9,
    "start_time": "2023-02-12T19:03:26.160Z"
   },
   {
    "duration": 7,
    "start_time": "2023-02-12T19:03:26.170Z"
   },
   {
    "duration": 21,
    "start_time": "2023-02-12T19:03:26.178Z"
   },
   {
    "duration": 34,
    "start_time": "2023-02-12T19:03:26.200Z"
   },
   {
    "duration": 38,
    "start_time": "2023-02-12T19:03:26.239Z"
   },
   {
    "duration": 12,
    "start_time": "2023-02-12T19:03:26.279Z"
   },
   {
    "duration": 10,
    "start_time": "2023-02-12T19:03:26.294Z"
   },
   {
    "duration": 57,
    "start_time": "2023-02-12T19:03:26.306Z"
   },
   {
    "duration": 7,
    "start_time": "2023-02-12T19:03:26.365Z"
   },
   {
    "duration": 60,
    "start_time": "2023-02-12T19:03:26.375Z"
   },
   {
    "duration": 65,
    "start_time": "2023-02-12T19:03:26.438Z"
   },
   {
    "duration": 35,
    "start_time": "2023-02-12T19:03:26.505Z"
   },
   {
    "duration": 17,
    "start_time": "2023-02-12T19:03:26.542Z"
   },
   {
    "duration": 17,
    "start_time": "2023-02-12T19:03:26.561Z"
   },
   {
    "duration": 20,
    "start_time": "2023-02-12T19:03:26.580Z"
   },
   {
    "duration": 13,
    "start_time": "2023-02-12T19:03:26.602Z"
   },
   {
    "duration": 180,
    "start_time": "2023-02-12T19:03:26.616Z"
   },
   {
    "duration": 4,
    "start_time": "2023-02-12T19:03:26.798Z"
   },
   {
    "duration": 3,
    "start_time": "2023-02-12T19:05:37.314Z"
   },
   {
    "duration": 106,
    "start_time": "2023-02-12T19:05:37.320Z"
   },
   {
    "duration": 35,
    "start_time": "2023-02-12T19:05:37.428Z"
   },
   {
    "duration": 19,
    "start_time": "2023-02-12T19:05:37.465Z"
   },
   {
    "duration": 16,
    "start_time": "2023-02-12T19:05:37.487Z"
   },
   {
    "duration": 8,
    "start_time": "2023-02-12T19:05:37.504Z"
   },
   {
    "duration": 19,
    "start_time": "2023-02-12T19:05:37.514Z"
   },
   {
    "duration": 18,
    "start_time": "2023-02-12T19:05:37.535Z"
   },
   {
    "duration": 22,
    "start_time": "2023-02-12T19:05:37.556Z"
   },
   {
    "duration": 18,
    "start_time": "2023-02-12T19:05:37.580Z"
   },
   {
    "duration": 22,
    "start_time": "2023-02-12T19:05:37.599Z"
   },
   {
    "duration": 33,
    "start_time": "2023-02-12T19:05:37.623Z"
   },
   {
    "duration": 14,
    "start_time": "2023-02-12T19:05:37.658Z"
   },
   {
    "duration": 22,
    "start_time": "2023-02-12T19:05:37.677Z"
   },
   {
    "duration": 26,
    "start_time": "2023-02-12T19:05:37.701Z"
   },
   {
    "duration": 11,
    "start_time": "2023-02-12T19:05:37.729Z"
   },
   {
    "duration": 8,
    "start_time": "2023-02-12T19:05:37.742Z"
   },
   {
    "duration": 13,
    "start_time": "2023-02-12T19:05:37.752Z"
   },
   {
    "duration": 18,
    "start_time": "2023-02-12T19:05:37.767Z"
   },
   {
    "duration": 40,
    "start_time": "2023-02-12T19:05:37.787Z"
   },
   {
    "duration": 7,
    "start_time": "2023-02-12T19:05:37.829Z"
   },
   {
    "duration": 9,
    "start_time": "2023-02-12T19:05:37.838Z"
   },
   {
    "duration": 9,
    "start_time": "2023-02-12T19:05:37.849Z"
   },
   {
    "duration": 5,
    "start_time": "2023-02-12T19:05:37.860Z"
   },
   {
    "duration": 17,
    "start_time": "2023-02-12T19:05:37.866Z"
   },
   {
    "duration": 60,
    "start_time": "2023-02-12T19:05:37.884Z"
   },
   {
    "duration": 38,
    "start_time": "2023-02-12T19:05:37.947Z"
   },
   {
    "duration": 17,
    "start_time": "2023-02-12T19:05:37.987Z"
   },
   {
    "duration": 10,
    "start_time": "2023-02-12T19:05:38.027Z"
   },
   {
    "duration": 30,
    "start_time": "2023-02-12T19:05:38.039Z"
   },
   {
    "duration": 11,
    "start_time": "2023-02-12T19:05:38.071Z"
   },
   {
    "duration": 65,
    "start_time": "2023-02-12T19:05:38.084Z"
   },
   {
    "duration": 5,
    "start_time": "2023-02-12T19:05:38.151Z"
   },
   {
    "duration": 25,
    "start_time": "2023-02-12T19:05:38.157Z"
   },
   {
    "duration": 13,
    "start_time": "2023-02-12T19:05:38.185Z"
   },
   {
    "duration": 40,
    "start_time": "2023-02-12T19:05:38.200Z"
   },
   {
    "duration": 22,
    "start_time": "2023-02-12T19:05:38.243Z"
   },
   {
    "duration": 15,
    "start_time": "2023-02-12T19:05:38.267Z"
   },
   {
    "duration": 199,
    "start_time": "2023-02-12T19:05:38.284Z"
   },
   {
    "duration": 5,
    "start_time": "2023-02-12T19:05:38.484Z"
   },
   {
    "duration": 4,
    "start_time": "2023-02-12T19:06:41.140Z"
   },
   {
    "duration": 174,
    "start_time": "2023-02-12T19:08:41.868Z"
   },
   {
    "duration": 914,
    "start_time": "2023-02-12T19:10:38.662Z"
   },
   {
    "duration": 144,
    "start_time": "2023-02-12T19:12:24.232Z"
   },
   {
    "duration": 133,
    "start_time": "2023-02-12T19:14:06.676Z"
   },
   {
    "duration": 11,
    "start_time": "2023-02-12T19:20:05.584Z"
   },
   {
    "duration": 12,
    "start_time": "2023-02-12T19:21:24.771Z"
   },
   {
    "duration": 18,
    "start_time": "2023-02-12T19:25:14.286Z"
   },
   {
    "duration": 12,
    "start_time": "2023-02-12T19:25:56.892Z"
   },
   {
    "duration": 232,
    "start_time": "2023-02-12T19:26:25.935Z"
   },
   {
    "duration": 251,
    "start_time": "2023-02-12T19:27:15.021Z"
   },
   {
    "duration": 432,
    "start_time": "2023-02-12T19:29:08.309Z"
   },
   {
    "duration": 240,
    "start_time": "2023-02-12T19:29:33.688Z"
   },
   {
    "duration": 335,
    "start_time": "2023-02-12T19:32:02.174Z"
   },
   {
    "duration": 368,
    "start_time": "2023-02-12T19:32:26.200Z"
   },
   {
    "duration": 262,
    "start_time": "2023-02-12T19:32:36.193Z"
   },
   {
    "duration": 39,
    "start_time": "2023-02-12T19:33:42.324Z"
   },
   {
    "duration": 267,
    "start_time": "2023-02-12T19:33:52.045Z"
   },
   {
    "duration": 314,
    "start_time": "2023-02-12T19:34:03.810Z"
   },
   {
    "duration": 313,
    "start_time": "2023-02-12T19:34:12.385Z"
   },
   {
    "duration": 389,
    "start_time": "2023-02-12T19:34:32.514Z"
   },
   {
    "duration": 3,
    "start_time": "2023-02-12T19:35:45.699Z"
   },
   {
    "duration": 288,
    "start_time": "2023-02-12T19:36:01.112Z"
   },
   {
    "duration": 341,
    "start_time": "2023-02-12T19:36:06.644Z"
   },
   {
    "duration": 804,
    "start_time": "2023-02-13T07:03:46.101Z"
   },
   {
    "duration": 292,
    "start_time": "2023-02-13T07:03:46.907Z"
   },
   {
    "duration": 54,
    "start_time": "2023-02-13T07:03:47.201Z"
   },
   {
    "duration": 15,
    "start_time": "2023-02-13T07:03:47.257Z"
   },
   {
    "duration": 12,
    "start_time": "2023-02-13T07:03:47.273Z"
   },
   {
    "duration": 8,
    "start_time": "2023-02-13T07:03:47.287Z"
   },
   {
    "duration": 23,
    "start_time": "2023-02-13T07:03:47.296Z"
   },
   {
    "duration": 4,
    "start_time": "2023-02-13T07:03:47.320Z"
   },
   {
    "duration": 7,
    "start_time": "2023-02-13T07:03:47.326Z"
   },
   {
    "duration": 13,
    "start_time": "2023-02-13T07:03:47.336Z"
   },
   {
    "duration": 16,
    "start_time": "2023-02-13T07:03:47.351Z"
   },
   {
    "duration": 25,
    "start_time": "2023-02-13T07:03:47.368Z"
   },
   {
    "duration": 9,
    "start_time": "2023-02-13T07:03:47.394Z"
   },
   {
    "duration": 36,
    "start_time": "2023-02-13T07:03:47.405Z"
   },
   {
    "duration": 7,
    "start_time": "2023-02-13T07:03:47.443Z"
   },
   {
    "duration": 10,
    "start_time": "2023-02-13T07:03:47.452Z"
   },
   {
    "duration": 7,
    "start_time": "2023-02-13T07:03:47.463Z"
   },
   {
    "duration": 10,
    "start_time": "2023-02-13T07:03:47.471Z"
   },
   {
    "duration": 12,
    "start_time": "2023-02-13T07:03:47.483Z"
   },
   {
    "duration": 68,
    "start_time": "2023-02-13T07:03:47.496Z"
   },
   {
    "duration": 6,
    "start_time": "2023-02-13T07:03:47.565Z"
   },
   {
    "duration": 10,
    "start_time": "2023-02-13T07:03:47.573Z"
   },
   {
    "duration": 7,
    "start_time": "2023-02-13T07:03:47.584Z"
   },
   {
    "duration": 5,
    "start_time": "2023-02-13T07:03:47.592Z"
   },
   {
    "duration": 12,
    "start_time": "2023-02-13T07:03:47.598Z"
   },
   {
    "duration": 41,
    "start_time": "2023-02-13T07:03:47.611Z"
   },
   {
    "duration": 25,
    "start_time": "2023-02-13T07:03:47.653Z"
   },
   {
    "duration": 33,
    "start_time": "2023-02-13T07:03:47.682Z"
   },
   {
    "duration": 11,
    "start_time": "2023-02-13T07:03:47.717Z"
   },
   {
    "duration": 27,
    "start_time": "2023-02-13T07:03:47.729Z"
   },
   {
    "duration": 8,
    "start_time": "2023-02-13T07:03:47.758Z"
   },
   {
    "duration": 30,
    "start_time": "2023-02-13T07:03:47.768Z"
   },
   {
    "duration": 33,
    "start_time": "2023-02-13T07:03:47.799Z"
   },
   {
    "duration": 17,
    "start_time": "2023-02-13T07:03:47.834Z"
   },
   {
    "duration": 5,
    "start_time": "2023-02-13T07:03:47.853Z"
   },
   {
    "duration": 14,
    "start_time": "2023-02-13T07:03:47.859Z"
   },
   {
    "duration": 17,
    "start_time": "2023-02-13T07:03:47.874Z"
   },
   {
    "duration": 38,
    "start_time": "2023-02-13T07:03:47.893Z"
   },
   {
    "duration": 170,
    "start_time": "2023-02-13T07:03:47.933Z"
   },
   {
    "duration": 4,
    "start_time": "2023-02-13T07:03:48.105Z"
   },
   {
    "duration": 142,
    "start_time": "2023-02-13T07:03:48.110Z"
   },
   {
    "duration": 3,
    "start_time": "2023-02-13T07:03:48.254Z"
   },
   {
    "duration": 282,
    "start_time": "2023-02-13T07:03:48.258Z"
   },
   {
    "duration": 26,
    "start_time": "2023-02-13T07:17:16.137Z"
   },
   {
    "duration": 343,
    "start_time": "2023-02-13T07:17:17.568Z"
   },
   {
    "duration": 5,
    "start_time": "2023-02-13T07:17:29.959Z"
   },
   {
    "duration": 794,
    "start_time": "2023-02-13T07:17:32.335Z"
   },
   {
    "duration": 892,
    "start_time": "2023-02-13T07:18:07.906Z"
   },
   {
    "duration": 984,
    "start_time": "2023-02-13T07:18:29.502Z"
   },
   {
    "duration": 156,
    "start_time": "2023-02-13T07:18:42.613Z"
   },
   {
    "duration": 144,
    "start_time": "2023-02-13T07:19:41.698Z"
   },
   {
    "duration": 165,
    "start_time": "2023-02-13T07:19:50.113Z"
   },
   {
    "duration": 173,
    "start_time": "2023-02-13T07:23:54.342Z"
   },
   {
    "duration": 175,
    "start_time": "2023-02-13T07:24:00.720Z"
   },
   {
    "duration": 226,
    "start_time": "2023-02-13T07:27:20.153Z"
   },
   {
    "duration": 284,
    "start_time": "2023-02-13T07:31:41.425Z"
   },
   {
    "duration": 249,
    "start_time": "2023-02-13T07:35:34.264Z"
   },
   {
    "duration": 8,
    "start_time": "2023-02-13T07:56:12.223Z"
   },
   {
    "duration": 5,
    "start_time": "2023-02-13T08:02:47.845Z"
   },
   {
    "duration": 38,
    "start_time": "2023-02-13T08:02:56.925Z"
   },
   {
    "duration": 11,
    "start_time": "2023-02-13T08:40:47.736Z"
   },
   {
    "duration": 534,
    "start_time": "2023-02-13T08:43:35.383Z"
   },
   {
    "duration": 534,
    "start_time": "2023-02-13T08:44:58.098Z"
   },
   {
    "duration": 633,
    "start_time": "2023-02-13T08:45:47.271Z"
   },
   {
    "duration": 573,
    "start_time": "2023-02-13T08:46:24.870Z"
   },
   {
    "duration": 27,
    "start_time": "2023-02-13T09:03:10.192Z"
   },
   {
    "duration": 103,
    "start_time": "2023-02-13T09:04:07.924Z"
   },
   {
    "duration": 10,
    "start_time": "2023-02-13T09:07:09.965Z"
   },
   {
    "duration": 5,
    "start_time": "2023-02-13T09:10:37.219Z"
   },
   {
    "duration": 4,
    "start_time": "2023-02-13T09:10:46.531Z"
   },
   {
    "duration": 6,
    "start_time": "2023-02-13T09:11:01.594Z"
   },
   {
    "duration": 11,
    "start_time": "2023-02-13T09:11:23.200Z"
   },
   {
    "duration": 9,
    "start_time": "2023-02-13T09:11:30.993Z"
   },
   {
    "duration": 6,
    "start_time": "2023-02-13T09:11:46.696Z"
   },
   {
    "duration": 5,
    "start_time": "2023-02-13T09:12:13.926Z"
   },
   {
    "duration": 4,
    "start_time": "2023-02-13T09:12:23.422Z"
   },
   {
    "duration": 39,
    "start_time": "2023-02-13T09:13:37.435Z"
   },
   {
    "duration": 3,
    "start_time": "2023-02-13T09:18:42.956Z"
   },
   {
    "duration": 88,
    "start_time": "2023-02-13T09:18:42.961Z"
   },
   {
    "duration": 33,
    "start_time": "2023-02-13T09:18:43.051Z"
   },
   {
    "duration": 14,
    "start_time": "2023-02-13T09:18:43.085Z"
   },
   {
    "duration": 10,
    "start_time": "2023-02-13T09:18:43.101Z"
   },
   {
    "duration": 3,
    "start_time": "2023-02-13T09:18:43.113Z"
   },
   {
    "duration": 28,
    "start_time": "2023-02-13T09:18:43.118Z"
   },
   {
    "duration": 6,
    "start_time": "2023-02-13T09:18:43.148Z"
   },
   {
    "duration": 9,
    "start_time": "2023-02-13T09:18:43.155Z"
   },
   {
    "duration": 14,
    "start_time": "2023-02-13T09:18:43.166Z"
   },
   {
    "duration": 15,
    "start_time": "2023-02-13T09:18:43.182Z"
   },
   {
    "duration": 38,
    "start_time": "2023-02-13T09:18:43.199Z"
   },
   {
    "duration": 10,
    "start_time": "2023-02-13T09:18:43.239Z"
   },
   {
    "duration": 22,
    "start_time": "2023-02-13T09:18:43.251Z"
   },
   {
    "duration": 9,
    "start_time": "2023-02-13T09:18:43.275Z"
   },
   {
    "duration": 13,
    "start_time": "2023-02-13T09:18:43.286Z"
   },
   {
    "duration": 5,
    "start_time": "2023-02-13T09:18:43.300Z"
   },
   {
    "duration": 20,
    "start_time": "2023-02-13T09:18:43.307Z"
   },
   {
    "duration": 12,
    "start_time": "2023-02-13T09:18:43.329Z"
   },
   {
    "duration": 16,
    "start_time": "2023-02-13T09:18:43.342Z"
   },
   {
    "duration": 7,
    "start_time": "2023-02-13T09:18:43.360Z"
   },
   {
    "duration": 7,
    "start_time": "2023-02-13T09:18:43.368Z"
   },
   {
    "duration": 6,
    "start_time": "2023-02-13T09:18:43.377Z"
   },
   {
    "duration": 10,
    "start_time": "2023-02-13T09:18:43.384Z"
   },
   {
    "duration": 32,
    "start_time": "2023-02-13T09:18:43.396Z"
   },
   {
    "duration": 25,
    "start_time": "2023-02-13T09:18:43.430Z"
   },
   {
    "duration": 29,
    "start_time": "2023-02-13T09:18:43.456Z"
   },
   {
    "duration": 15,
    "start_time": "2023-02-13T09:18:43.486Z"
   },
   {
    "duration": 8,
    "start_time": "2023-02-13T09:18:43.526Z"
   },
   {
    "duration": 30,
    "start_time": "2023-02-13T09:18:43.536Z"
   },
   {
    "duration": 9,
    "start_time": "2023-02-13T09:18:43.568Z"
   },
   {
    "duration": 62,
    "start_time": "2023-02-13T09:18:43.579Z"
   },
   {
    "duration": 7,
    "start_time": "2023-02-13T09:18:43.643Z"
   },
   {
    "duration": 31,
    "start_time": "2023-02-13T09:18:43.651Z"
   },
   {
    "duration": 20,
    "start_time": "2023-02-13T09:18:43.684Z"
   },
   {
    "duration": 30,
    "start_time": "2023-02-13T09:18:43.706Z"
   },
   {
    "duration": 18,
    "start_time": "2023-02-13T09:18:43.738Z"
   },
   {
    "duration": 26,
    "start_time": "2023-02-13T09:18:43.758Z"
   },
   {
    "duration": 170,
    "start_time": "2023-02-13T09:18:43.786Z"
   },
   {
    "duration": 4,
    "start_time": "2023-02-13T09:18:43.957Z"
   },
   {
    "duration": 156,
    "start_time": "2023-02-13T09:18:43.963Z"
   },
   {
    "duration": 172,
    "start_time": "2023-02-13T09:18:44.120Z"
   },
   {
    "duration": 272,
    "start_time": "2023-02-13T09:18:44.294Z"
   },
   {
    "duration": 720,
    "start_time": "2023-02-13T09:18:44.568Z"
   },
   {
    "duration": 0,
    "start_time": "2023-02-13T09:18:45.289Z"
   },
   {
    "duration": 684,
    "start_time": "2023-02-13T09:25:40.548Z"
   },
   {
    "duration": 8,
    "start_time": "2023-02-13T09:26:06.337Z"
   },
   {
    "duration": 3,
    "start_time": "2023-02-13T09:26:13.967Z"
   },
   {
    "duration": 88,
    "start_time": "2023-02-13T09:26:13.972Z"
   },
   {
    "duration": 37,
    "start_time": "2023-02-13T09:26:14.062Z"
   },
   {
    "duration": 14,
    "start_time": "2023-02-13T09:26:14.101Z"
   },
   {
    "duration": 10,
    "start_time": "2023-02-13T09:26:14.117Z"
   },
   {
    "duration": 6,
    "start_time": "2023-02-13T09:26:14.129Z"
   },
   {
    "duration": 31,
    "start_time": "2023-02-13T09:26:14.136Z"
   },
   {
    "duration": 18,
    "start_time": "2023-02-13T09:26:14.168Z"
   },
   {
    "duration": 18,
    "start_time": "2023-02-13T09:26:14.187Z"
   },
   {
    "duration": 15,
    "start_time": "2023-02-13T09:26:14.207Z"
   },
   {
    "duration": 17,
    "start_time": "2023-02-13T09:26:14.226Z"
   },
   {
    "duration": 25,
    "start_time": "2023-02-13T09:26:14.245Z"
   },
   {
    "duration": 8,
    "start_time": "2023-02-13T09:26:14.272Z"
   },
   {
    "duration": 16,
    "start_time": "2023-02-13T09:26:14.281Z"
   },
   {
    "duration": 29,
    "start_time": "2023-02-13T09:26:14.299Z"
   },
   {
    "duration": 6,
    "start_time": "2023-02-13T09:26:14.330Z"
   },
   {
    "duration": 6,
    "start_time": "2023-02-13T09:26:14.338Z"
   },
   {
    "duration": 7,
    "start_time": "2023-02-13T09:26:14.346Z"
   },
   {
    "duration": 18,
    "start_time": "2023-02-13T09:26:14.354Z"
   },
   {
    "duration": 35,
    "start_time": "2023-02-13T09:26:14.374Z"
   },
   {
    "duration": 7,
    "start_time": "2023-02-13T09:26:14.411Z"
   },
   {
    "duration": 11,
    "start_time": "2023-02-13T09:26:14.419Z"
   },
   {
    "duration": 4,
    "start_time": "2023-02-13T09:26:14.431Z"
   },
   {
    "duration": 14,
    "start_time": "2023-02-13T09:26:14.436Z"
   },
   {
    "duration": 15,
    "start_time": "2023-02-13T09:26:14.452Z"
   },
   {
    "duration": 20,
    "start_time": "2023-02-13T09:26:14.468Z"
   },
   {
    "duration": 49,
    "start_time": "2023-02-13T09:26:14.489Z"
   },
   {
    "duration": 27,
    "start_time": "2023-02-13T09:26:14.539Z"
   },
   {
    "duration": 11,
    "start_time": "2023-02-13T09:26:14.569Z"
   },
   {
    "duration": 8,
    "start_time": "2023-02-13T09:26:14.582Z"
   },
   {
    "duration": 40,
    "start_time": "2023-02-13T09:26:14.591Z"
   },
   {
    "duration": 0,
    "start_time": "2023-02-13T09:26:14.633Z"
   },
   {
    "duration": 0,
    "start_time": "2023-02-13T09:26:14.634Z"
   },
   {
    "duration": 0,
    "start_time": "2023-02-13T09:26:14.636Z"
   },
   {
    "duration": 0,
    "start_time": "2023-02-13T09:26:14.637Z"
   },
   {
    "duration": 0,
    "start_time": "2023-02-13T09:26:14.639Z"
   },
   {
    "duration": 0,
    "start_time": "2023-02-13T09:26:14.640Z"
   },
   {
    "duration": 0,
    "start_time": "2023-02-13T09:26:14.641Z"
   },
   {
    "duration": 0,
    "start_time": "2023-02-13T09:26:14.643Z"
   },
   {
    "duration": 0,
    "start_time": "2023-02-13T09:26:14.644Z"
   },
   {
    "duration": 0,
    "start_time": "2023-02-13T09:26:14.645Z"
   },
   {
    "duration": 0,
    "start_time": "2023-02-13T09:26:14.646Z"
   },
   {
    "duration": 0,
    "start_time": "2023-02-13T09:26:14.648Z"
   },
   {
    "duration": 0,
    "start_time": "2023-02-13T09:26:14.649Z"
   },
   {
    "duration": 0,
    "start_time": "2023-02-13T09:26:14.650Z"
   },
   {
    "duration": 0,
    "start_time": "2023-02-13T09:26:14.652Z"
   },
   {
    "duration": 2,
    "start_time": "2023-02-13T09:27:52.172Z"
   },
   {
    "duration": 109,
    "start_time": "2023-02-13T09:27:52.176Z"
   },
   {
    "duration": 34,
    "start_time": "2023-02-13T09:27:52.288Z"
   },
   {
    "duration": 14,
    "start_time": "2023-02-13T09:27:52.324Z"
   },
   {
    "duration": 10,
    "start_time": "2023-02-13T09:27:52.340Z"
   },
   {
    "duration": 13,
    "start_time": "2023-02-13T09:27:52.351Z"
   },
   {
    "duration": 20,
    "start_time": "2023-02-13T09:27:52.366Z"
   },
   {
    "duration": 6,
    "start_time": "2023-02-13T09:27:52.387Z"
   },
   {
    "duration": 7,
    "start_time": "2023-02-13T09:27:52.394Z"
   },
   {
    "duration": 32,
    "start_time": "2023-02-13T09:27:52.403Z"
   },
   {
    "duration": 16,
    "start_time": "2023-02-13T09:27:52.437Z"
   },
   {
    "duration": 25,
    "start_time": "2023-02-13T09:27:52.455Z"
   },
   {
    "duration": 12,
    "start_time": "2023-02-13T09:27:52.482Z"
   },
   {
    "duration": 38,
    "start_time": "2023-02-13T09:27:52.496Z"
   },
   {
    "duration": 13,
    "start_time": "2023-02-13T09:27:52.536Z"
   },
   {
    "duration": 9,
    "start_time": "2023-02-13T09:27:52.550Z"
   },
   {
    "duration": 7,
    "start_time": "2023-02-13T09:27:52.560Z"
   },
   {
    "duration": 8,
    "start_time": "2023-02-13T09:27:52.568Z"
   },
   {
    "duration": 10,
    "start_time": "2023-02-13T09:27:52.578Z"
   },
   {
    "duration": 47,
    "start_time": "2023-02-13T09:27:52.589Z"
   },
   {
    "duration": 9,
    "start_time": "2023-02-13T09:27:52.638Z"
   },
   {
    "duration": 8,
    "start_time": "2023-02-13T09:27:52.649Z"
   },
   {
    "duration": 8,
    "start_time": "2023-02-13T09:27:52.659Z"
   },
   {
    "duration": 8,
    "start_time": "2023-02-13T09:27:52.669Z"
   },
   {
    "duration": 13,
    "start_time": "2023-02-13T09:27:52.679Z"
   },
   {
    "duration": 50,
    "start_time": "2023-02-13T09:27:52.693Z"
   },
   {
    "duration": 25,
    "start_time": "2023-02-13T09:27:52.745Z"
   },
   {
    "duration": 12,
    "start_time": "2023-02-13T09:27:52.771Z"
   },
   {
    "duration": 11,
    "start_time": "2023-02-13T09:27:52.786Z"
   },
   {
    "duration": 50,
    "start_time": "2023-02-13T09:27:52.798Z"
   },
   {
    "duration": 6,
    "start_time": "2023-02-13T09:27:52.850Z"
   },
   {
    "duration": 32,
    "start_time": "2023-02-13T09:27:52.858Z"
   },
   {
    "duration": 4,
    "start_time": "2023-02-13T09:27:52.892Z"
   },
   {
    "duration": 39,
    "start_time": "2023-02-13T09:27:52.897Z"
   },
   {
    "duration": 7,
    "start_time": "2023-02-13T09:27:52.937Z"
   },
   {
    "duration": 14,
    "start_time": "2023-02-13T09:27:52.946Z"
   },
   {
    "duration": 18,
    "start_time": "2023-02-13T09:27:52.962Z"
   },
   {
    "duration": 54,
    "start_time": "2023-02-13T09:27:52.982Z"
   },
   {
    "duration": 175,
    "start_time": "2023-02-13T09:27:53.037Z"
   },
   {
    "duration": 4,
    "start_time": "2023-02-13T09:27:53.214Z"
   },
   {
    "duration": 145,
    "start_time": "2023-02-13T09:27:53.219Z"
   },
   {
    "duration": 172,
    "start_time": "2023-02-13T09:27:53.365Z"
   },
   {
    "duration": 269,
    "start_time": "2023-02-13T09:27:53.539Z"
   },
   {
    "duration": 44,
    "start_time": "2023-02-13T09:27:53.810Z"
   },
   {
    "duration": 715,
    "start_time": "2023-02-13T09:27:53.856Z"
   },
   {
    "duration": 8,
    "start_time": "2023-02-13T10:43:15.824Z"
   },
   {
    "duration": 6,
    "start_time": "2023-02-13T10:43:46.267Z"
   },
   {
    "duration": 26,
    "start_time": "2023-02-13T10:44:09.778Z"
   },
   {
    "duration": 26,
    "start_time": "2023-02-13T10:45:16.220Z"
   },
   {
    "duration": 12,
    "start_time": "2023-02-13T10:48:29.751Z"
   },
   {
    "duration": 4,
    "start_time": "2023-02-13T10:49:41.772Z"
   },
   {
    "duration": 8,
    "start_time": "2023-02-13T10:56:00.732Z"
   },
   {
    "duration": 6,
    "start_time": "2023-02-13T11:07:23.350Z"
   },
   {
    "duration": 6,
    "start_time": "2023-02-13T11:08:12.763Z"
   },
   {
    "duration": 15,
    "start_time": "2023-02-13T11:09:46.383Z"
   },
   {
    "duration": 766,
    "start_time": "2023-02-13T11:12:43.576Z"
   },
   {
    "duration": 29,
    "start_time": "2023-02-13T11:19:22.029Z"
   },
   {
    "duration": 12,
    "start_time": "2023-02-13T11:19:37.885Z"
   },
   {
    "duration": 12,
    "start_time": "2023-02-13T11:21:07.951Z"
   },
   {
    "duration": 5,
    "start_time": "2023-02-13T11:21:26.689Z"
   },
   {
    "duration": 47,
    "start_time": "2023-02-13T11:22:58.788Z"
   },
   {
    "duration": 47,
    "start_time": "2023-02-13T11:23:52.425Z"
   },
   {
    "duration": 12,
    "start_time": "2023-02-13T11:24:07.377Z"
   },
   {
    "duration": 5,
    "start_time": "2023-02-13T11:31:06.854Z"
   },
   {
    "duration": 8,
    "start_time": "2023-02-13T11:31:32.036Z"
   },
   {
    "duration": 5,
    "start_time": "2023-02-13T11:31:45.396Z"
   },
   {
    "duration": 5,
    "start_time": "2023-02-13T11:32:33.938Z"
   },
   {
    "duration": 6,
    "start_time": "2023-02-13T11:32:41.161Z"
   },
   {
    "duration": 781,
    "start_time": "2023-02-13T11:43:49.587Z"
   },
   {
    "duration": 8,
    "start_time": "2023-02-13T11:47:12.289Z"
   },
   {
    "duration": 4,
    "start_time": "2023-02-13T11:49:08.997Z"
   },
   {
    "duration": 24,
    "start_time": "2023-02-13T11:51:31.357Z"
   },
   {
    "duration": 29,
    "start_time": "2023-02-13T11:52:03.227Z"
   },
   {
    "duration": 13,
    "start_time": "2023-02-13T11:52:35.321Z"
   },
   {
    "duration": 7,
    "start_time": "2023-02-13T11:56:54.599Z"
   },
   {
    "duration": 24,
    "start_time": "2023-02-13T11:57:19.752Z"
   },
   {
    "duration": 26,
    "start_time": "2023-02-13T11:57:34.526Z"
   },
   {
    "duration": 12,
    "start_time": "2023-02-13T11:58:42.507Z"
   },
   {
    "duration": 6,
    "start_time": "2023-02-13T12:04:54.772Z"
   },
   {
    "duration": 19,
    "start_time": "2023-02-13T12:12:14.863Z"
   },
   {
    "duration": 27,
    "start_time": "2023-02-13T12:12:23.952Z"
   },
   {
    "duration": 12,
    "start_time": "2023-02-13T12:12:32.958Z"
   },
   {
    "duration": 4,
    "start_time": "2023-02-13T12:12:37.685Z"
   },
   {
    "duration": 4,
    "start_time": "2023-02-13T12:13:48.220Z"
   },
   {
    "duration": 20,
    "start_time": "2023-02-13T12:13:58.658Z"
   },
   {
    "duration": 4,
    "start_time": "2023-02-13T12:14:10.723Z"
   },
   {
    "duration": 4,
    "start_time": "2023-02-13T12:15:44.798Z"
   },
   {
    "duration": 5,
    "start_time": "2023-02-13T12:20:07.394Z"
   },
   {
    "duration": 23,
    "start_time": "2023-02-13T12:20:17.649Z"
   },
   {
    "duration": 30,
    "start_time": "2023-02-13T12:21:29.190Z"
   },
   {
    "duration": 14,
    "start_time": "2023-02-13T12:21:53.911Z"
   },
   {
    "duration": 5,
    "start_time": "2023-02-13T12:22:32.011Z"
   },
   {
    "duration": 244,
    "start_time": "2023-02-13T12:23:28.306Z"
   },
   {
    "duration": 239,
    "start_time": "2023-02-13T12:23:33.321Z"
   },
   {
    "duration": 356,
    "start_time": "2023-02-13T12:27:50.742Z"
   },
   {
    "duration": 244,
    "start_time": "2023-02-13T12:28:09.253Z"
   },
   {
    "duration": 206,
    "start_time": "2023-02-13T12:30:38.166Z"
   },
   {
    "duration": 253,
    "start_time": "2023-02-13T12:30:50.575Z"
   },
   {
    "duration": 192,
    "start_time": "2023-02-13T12:30:55.782Z"
   },
   {
    "duration": 53,
    "start_time": "2023-02-13T12:32:45.441Z"
   },
   {
    "duration": 315,
    "start_time": "2023-02-13T12:35:23.002Z"
   },
   {
    "duration": 273,
    "start_time": "2023-02-13T12:35:31.242Z"
   },
   {
    "duration": 4,
    "start_time": "2023-02-13T13:18:09.651Z"
   },
   {
    "duration": 99,
    "start_time": "2023-02-13T13:18:09.657Z"
   },
   {
    "duration": 33,
    "start_time": "2023-02-13T13:18:09.758Z"
   },
   {
    "duration": 16,
    "start_time": "2023-02-13T13:18:09.792Z"
   },
   {
    "duration": 11,
    "start_time": "2023-02-13T13:18:09.810Z"
   },
   {
    "duration": 8,
    "start_time": "2023-02-13T13:18:09.823Z"
   },
   {
    "duration": 19,
    "start_time": "2023-02-13T13:18:09.832Z"
   },
   {
    "duration": 6,
    "start_time": "2023-02-13T13:18:09.853Z"
   },
   {
    "duration": 7,
    "start_time": "2023-02-13T13:18:09.861Z"
   },
   {
    "duration": 17,
    "start_time": "2023-02-13T13:18:09.870Z"
   },
   {
    "duration": 15,
    "start_time": "2023-02-13T13:18:09.889Z"
   },
   {
    "duration": 25,
    "start_time": "2023-02-13T13:18:09.927Z"
   },
   {
    "duration": 13,
    "start_time": "2023-02-13T13:18:09.954Z"
   },
   {
    "duration": 16,
    "start_time": "2023-02-13T13:18:09.969Z"
   },
   {
    "duration": 11,
    "start_time": "2023-02-13T13:18:09.987Z"
   },
   {
    "duration": 49,
    "start_time": "2023-02-13T13:18:09.999Z"
   },
   {
    "duration": 85,
    "start_time": "2023-02-13T13:18:10.050Z"
   },
   {
    "duration": 14,
    "start_time": "2023-02-13T13:18:10.136Z"
   },
   {
    "duration": 15,
    "start_time": "2023-02-13T13:18:10.152Z"
   },
   {
    "duration": 17,
    "start_time": "2023-02-13T13:18:10.169Z"
   },
   {
    "duration": 7,
    "start_time": "2023-02-13T13:18:10.188Z"
   },
   {
    "duration": 6,
    "start_time": "2023-02-13T13:18:10.196Z"
   },
   {
    "duration": 10,
    "start_time": "2023-02-13T13:18:10.204Z"
   },
   {
    "duration": 13,
    "start_time": "2023-02-13T13:18:10.215Z"
   },
   {
    "duration": 11,
    "start_time": "2023-02-13T13:18:10.229Z"
   },
   {
    "duration": 30,
    "start_time": "2023-02-13T13:18:10.241Z"
   },
   {
    "duration": 30,
    "start_time": "2023-02-13T13:18:10.272Z"
   },
   {
    "duration": 38,
    "start_time": "2023-02-13T13:18:10.303Z"
   },
   {
    "duration": 8,
    "start_time": "2023-02-13T13:18:10.345Z"
   },
   {
    "duration": 48,
    "start_time": "2023-02-13T13:18:10.356Z"
   },
   {
    "duration": 27,
    "start_time": "2023-02-13T13:18:10.406Z"
   },
   {
    "duration": 40,
    "start_time": "2023-02-13T13:18:10.436Z"
   },
   {
    "duration": 5,
    "start_time": "2023-02-13T13:18:10.479Z"
   },
   {
    "duration": 27,
    "start_time": "2023-02-13T13:18:10.486Z"
   },
   {
    "duration": 23,
    "start_time": "2023-02-13T13:18:10.528Z"
   },
   {
    "duration": 18,
    "start_time": "2023-02-13T13:18:10.553Z"
   },
   {
    "duration": 23,
    "start_time": "2023-02-13T13:18:10.574Z"
   },
   {
    "duration": 29,
    "start_time": "2023-02-13T13:18:10.599Z"
   },
   {
    "duration": 171,
    "start_time": "2023-02-13T13:18:10.630Z"
   },
   {
    "duration": 5,
    "start_time": "2023-02-13T13:18:10.804Z"
   },
   {
    "duration": 173,
    "start_time": "2023-02-13T13:18:10.811Z"
   },
   {
    "duration": 257,
    "start_time": "2023-02-13T13:18:10.986Z"
   },
   {
    "duration": 261,
    "start_time": "2023-02-13T13:18:11.245Z"
   },
   {
    "duration": 5,
    "start_time": "2023-02-13T13:18:11.508Z"
   },
   {
    "duration": 6,
    "start_time": "2023-02-13T13:18:11.527Z"
   },
   {
    "duration": 6,
    "start_time": "2023-02-13T13:18:11.534Z"
   },
   {
    "duration": 9,
    "start_time": "2023-02-13T13:18:11.542Z"
   },
   {
    "duration": 260,
    "start_time": "2023-02-13T13:18:11.553Z"
   },
   {
    "duration": 43,
    "start_time": "2023-02-13T13:18:11.816Z"
   },
   {
    "duration": 0,
    "start_time": "2023-02-13T13:18:11.860Z"
   },
   {
    "duration": 0,
    "start_time": "2023-02-13T13:18:11.862Z"
   },
   {
    "duration": 0,
    "start_time": "2023-02-13T13:18:11.863Z"
   },
   {
    "duration": 198,
    "start_time": "2023-02-13T13:24:51.802Z"
   },
   {
    "duration": 201,
    "start_time": "2023-02-13T13:25:03.297Z"
   },
   {
    "duration": 94,
    "start_time": "2023-02-13T13:25:07.305Z"
   },
   {
    "duration": 278,
    "start_time": "2023-02-13T13:25:19.145Z"
   },
   {
    "duration": 656,
    "start_time": "2023-02-13T16:14:47.620Z"
   },
   {
    "duration": 105,
    "start_time": "2023-02-13T16:14:48.278Z"
   },
   {
    "duration": 44,
    "start_time": "2023-02-13T16:14:48.384Z"
   },
   {
    "duration": 16,
    "start_time": "2023-02-13T16:14:48.430Z"
   },
   {
    "duration": 19,
    "start_time": "2023-02-13T16:14:48.447Z"
   },
   {
    "duration": 17,
    "start_time": "2023-02-13T16:14:48.468Z"
   },
   {
    "duration": 48,
    "start_time": "2023-02-13T16:14:48.486Z"
   },
   {
    "duration": 5,
    "start_time": "2023-02-13T16:14:48.536Z"
   },
   {
    "duration": 23,
    "start_time": "2023-02-13T16:14:48.542Z"
   },
   {
    "duration": 27,
    "start_time": "2023-02-13T16:14:48.568Z"
   },
   {
    "duration": 36,
    "start_time": "2023-02-13T16:14:48.596Z"
   },
   {
    "duration": 34,
    "start_time": "2023-02-13T16:14:48.634Z"
   },
   {
    "duration": 16,
    "start_time": "2023-02-13T16:14:48.670Z"
   },
   {
    "duration": 44,
    "start_time": "2023-02-13T16:14:48.688Z"
   },
   {
    "duration": 17,
    "start_time": "2023-02-13T16:14:48.734Z"
   },
   {
    "duration": 21,
    "start_time": "2023-02-13T16:14:48.752Z"
   },
   {
    "duration": 47,
    "start_time": "2023-02-13T16:14:48.775Z"
   },
   {
    "duration": 30,
    "start_time": "2023-02-13T16:14:48.824Z"
   },
   {
    "duration": 33,
    "start_time": "2023-02-13T16:14:48.856Z"
   },
   {
    "duration": 75,
    "start_time": "2023-02-13T16:14:48.890Z"
   },
   {
    "duration": 7,
    "start_time": "2023-02-13T16:14:48.966Z"
   },
   {
    "duration": 26,
    "start_time": "2023-02-13T16:14:48.974Z"
   },
   {
    "duration": 38,
    "start_time": "2023-02-13T16:14:49.002Z"
   },
   {
    "duration": 31,
    "start_time": "2023-02-13T16:14:49.042Z"
   },
   {
    "duration": 24,
    "start_time": "2023-02-13T16:14:49.075Z"
   },
   {
    "duration": 61,
    "start_time": "2023-02-13T16:14:49.100Z"
   },
   {
    "duration": 25,
    "start_time": "2023-02-13T16:14:49.163Z"
   },
   {
    "duration": 20,
    "start_time": "2023-02-13T16:14:49.192Z"
   },
   {
    "duration": 18,
    "start_time": "2023-02-13T16:14:49.214Z"
   },
   {
    "duration": 40,
    "start_time": "2023-02-13T16:14:49.233Z"
   },
   {
    "duration": 19,
    "start_time": "2023-02-13T16:14:49.275Z"
   },
   {
    "duration": 55,
    "start_time": "2023-02-13T16:14:49.295Z"
   },
   {
    "duration": 29,
    "start_time": "2023-02-13T16:14:49.352Z"
   },
   {
    "duration": 27,
    "start_time": "2023-02-13T16:14:49.383Z"
   },
   {
    "duration": 24,
    "start_time": "2023-02-13T16:14:49.412Z"
   },
   {
    "duration": 32,
    "start_time": "2023-02-13T16:14:49.437Z"
   },
   {
    "duration": 21,
    "start_time": "2023-02-13T16:14:49.470Z"
   },
   {
    "duration": 62,
    "start_time": "2023-02-13T16:14:49.492Z"
   },
   {
    "duration": 172,
    "start_time": "2023-02-13T16:14:49.555Z"
   },
   {
    "duration": 4,
    "start_time": "2023-02-13T16:14:49.728Z"
   },
   {
    "duration": 147,
    "start_time": "2023-02-13T16:14:49.733Z"
   },
   {
    "duration": 169,
    "start_time": "2023-02-13T16:14:49.882Z"
   },
   {
    "duration": 326,
    "start_time": "2023-02-13T16:14:50.052Z"
   },
   {
    "duration": 4,
    "start_time": "2023-02-13T16:14:50.380Z"
   },
   {
    "duration": 28,
    "start_time": "2023-02-13T16:14:50.385Z"
   },
   {
    "duration": 13,
    "start_time": "2023-02-13T16:14:50.414Z"
   },
   {
    "duration": 8,
    "start_time": "2023-02-13T16:14:50.429Z"
   },
   {
    "duration": 227,
    "start_time": "2023-02-13T16:14:50.439Z"
   },
   {
    "duration": 211,
    "start_time": "2023-02-13T16:14:50.668Z"
   },
   {
    "duration": 312,
    "start_time": "2023-02-13T16:14:50.880Z"
   },
   {
    "duration": 44,
    "start_time": "2023-02-14T12:16:38.770Z"
   },
   {
    "duration": 816,
    "start_time": "2023-02-14T12:16:43.290Z"
   },
   {
    "duration": 213,
    "start_time": "2023-02-14T12:16:44.108Z"
   },
   {
    "duration": 90,
    "start_time": "2023-02-14T12:16:44.322Z"
   },
   {
    "duration": 17,
    "start_time": "2023-02-14T12:16:44.414Z"
   },
   {
    "duration": 11,
    "start_time": "2023-02-14T12:16:44.433Z"
   },
   {
    "duration": 7,
    "start_time": "2023-02-14T12:16:44.446Z"
   },
   {
    "duration": 23,
    "start_time": "2023-02-14T12:16:44.454Z"
   },
   {
    "duration": 5,
    "start_time": "2023-02-14T12:16:44.478Z"
   },
   {
    "duration": 8,
    "start_time": "2023-02-14T12:16:44.485Z"
   },
   {
    "duration": 14,
    "start_time": "2023-02-14T12:16:44.496Z"
   },
   {
    "duration": 15,
    "start_time": "2023-02-14T12:16:44.511Z"
   },
   {
    "duration": 16,
    "start_time": "2023-02-14T12:16:44.527Z"
   },
   {
    "duration": 36,
    "start_time": "2023-02-14T12:16:44.545Z"
   },
   {
    "duration": 16,
    "start_time": "2023-02-14T12:16:44.583Z"
   },
   {
    "duration": 7,
    "start_time": "2023-02-14T12:16:44.601Z"
   },
   {
    "duration": 8,
    "start_time": "2023-02-14T12:16:44.609Z"
   },
   {
    "duration": 7,
    "start_time": "2023-02-14T12:16:44.619Z"
   },
   {
    "duration": 6,
    "start_time": "2023-02-14T12:16:44.628Z"
   },
   {
    "duration": 11,
    "start_time": "2023-02-14T12:16:44.635Z"
   },
   {
    "duration": 84,
    "start_time": "2023-02-14T12:16:44.647Z"
   },
   {
    "duration": 7,
    "start_time": "2023-02-14T12:16:44.733Z"
   },
   {
    "duration": 5,
    "start_time": "2023-02-14T12:16:44.742Z"
   },
   {
    "duration": 6,
    "start_time": "2023-02-14T12:16:44.748Z"
   },
   {
    "duration": 4,
    "start_time": "2023-02-14T12:16:44.781Z"
   },
   {
    "duration": 13,
    "start_time": "2023-02-14T12:16:44.787Z"
   },
   {
    "duration": 25,
    "start_time": "2023-02-14T12:16:44.801Z"
   },
   {
    "duration": 25,
    "start_time": "2023-02-14T12:16:44.828Z"
   },
   {
    "duration": 48,
    "start_time": "2023-02-14T12:16:44.856Z"
   },
   {
    "duration": 7,
    "start_time": "2023-02-14T12:16:44.906Z"
   },
   {
    "duration": 28,
    "start_time": "2023-02-14T12:16:44.915Z"
   },
   {
    "duration": 7,
    "start_time": "2023-02-14T12:16:44.945Z"
   },
   {
    "duration": 42,
    "start_time": "2023-02-14T12:16:44.953Z"
   },
   {
    "duration": 4,
    "start_time": "2023-02-14T12:16:44.997Z"
   },
   {
    "duration": 43,
    "start_time": "2023-02-14T12:16:45.002Z"
   },
   {
    "duration": 5,
    "start_time": "2023-02-14T12:16:45.047Z"
   },
   {
    "duration": 15,
    "start_time": "2023-02-14T12:16:45.053Z"
   },
   {
    "duration": 24,
    "start_time": "2023-02-14T12:16:45.070Z"
   },
   {
    "duration": 30,
    "start_time": "2023-02-14T12:16:45.096Z"
   },
   {
    "duration": 171,
    "start_time": "2023-02-14T12:16:45.128Z"
   },
   {
    "duration": 4,
    "start_time": "2023-02-14T12:16:45.300Z"
   },
   {
    "duration": 140,
    "start_time": "2023-02-14T12:16:45.306Z"
   },
   {
    "duration": 178,
    "start_time": "2023-02-14T12:16:45.448Z"
   },
   {
    "duration": 300,
    "start_time": "2023-02-14T12:16:45.628Z"
   },
   {
    "duration": 4,
    "start_time": "2023-02-14T12:16:45.930Z"
   },
   {
    "duration": 12,
    "start_time": "2023-02-14T12:16:45.935Z"
   },
   {
    "duration": 13,
    "start_time": "2023-02-14T12:16:45.949Z"
   },
   {
    "duration": 8,
    "start_time": "2023-02-14T12:16:45.964Z"
   },
   {
    "duration": 257,
    "start_time": "2023-02-14T12:16:45.973Z"
   },
   {
    "duration": 236,
    "start_time": "2023-02-14T12:16:46.231Z"
   },
   {
    "duration": 317,
    "start_time": "2023-02-14T12:16:46.469Z"
   },
   {
    "duration": 11,
    "start_time": "2023-02-14T12:26:03.529Z"
   },
   {
    "duration": 26,
    "start_time": "2023-02-14T12:26:09.361Z"
   },
   {
    "duration": 98,
    "start_time": "2023-02-14T12:26:44.872Z"
   },
   {
    "duration": 22,
    "start_time": "2023-02-14T12:28:36.899Z"
   },
   {
    "duration": 152,
    "start_time": "2023-02-14T12:32:40.336Z"
   },
   {
    "duration": 5,
    "start_time": "2023-02-14T12:33:02.783Z"
   },
   {
    "duration": 5,
    "start_time": "2023-02-14T12:33:44.365Z"
   },
   {
    "duration": 6,
    "start_time": "2023-02-14T12:33:47.261Z"
   },
   {
    "duration": 10,
    "start_time": "2023-02-14T12:38:58.775Z"
   },
   {
    "duration": 3,
    "start_time": "2023-02-14T12:39:16.814Z"
   },
   {
    "duration": 86,
    "start_time": "2023-02-14T12:39:16.820Z"
   },
   {
    "duration": 39,
    "start_time": "2023-02-14T12:39:16.908Z"
   },
   {
    "duration": 14,
    "start_time": "2023-02-14T12:39:16.949Z"
   },
   {
    "duration": 11,
    "start_time": "2023-02-14T12:39:16.965Z"
   },
   {
    "duration": 5,
    "start_time": "2023-02-14T12:39:16.978Z"
   },
   {
    "duration": 19,
    "start_time": "2023-02-14T12:39:16.985Z"
   },
   {
    "duration": 6,
    "start_time": "2023-02-14T12:39:17.005Z"
   },
   {
    "duration": 8,
    "start_time": "2023-02-14T12:39:17.012Z"
   },
   {
    "duration": 16,
    "start_time": "2023-02-14T12:39:17.022Z"
   },
   {
    "duration": 42,
    "start_time": "2023-02-14T12:39:17.040Z"
   },
   {
    "duration": 15,
    "start_time": "2023-02-14T12:39:17.084Z"
   },
   {
    "duration": 10,
    "start_time": "2023-02-14T12:39:17.100Z"
   },
   {
    "duration": 16,
    "start_time": "2023-02-14T12:39:17.112Z"
   },
   {
    "duration": 6,
    "start_time": "2023-02-14T12:39:17.129Z"
   },
   {
    "duration": 10,
    "start_time": "2023-02-14T12:39:17.136Z"
   },
   {
    "duration": 36,
    "start_time": "2023-02-14T12:39:17.147Z"
   },
   {
    "duration": 6,
    "start_time": "2023-02-14T12:39:17.185Z"
   },
   {
    "duration": 12,
    "start_time": "2023-02-14T12:39:17.193Z"
   },
   {
    "duration": 26,
    "start_time": "2023-02-14T12:39:17.207Z"
   },
   {
    "duration": 9,
    "start_time": "2023-02-14T12:39:17.234Z"
   },
   {
    "duration": 9,
    "start_time": "2023-02-14T12:39:17.245Z"
   },
   {
    "duration": 9,
    "start_time": "2023-02-14T12:39:17.256Z"
   },
   {
    "duration": 16,
    "start_time": "2023-02-14T12:39:17.267Z"
   },
   {
    "duration": 20,
    "start_time": "2023-02-14T12:39:17.284Z"
   },
   {
    "duration": 35,
    "start_time": "2023-02-14T12:39:17.305Z"
   },
   {
    "duration": 26,
    "start_time": "2023-02-14T12:39:17.341Z"
   },
   {
    "duration": 22,
    "start_time": "2023-02-14T12:39:17.369Z"
   },
   {
    "duration": 11,
    "start_time": "2023-02-14T12:39:17.394Z"
   },
   {
    "duration": 30,
    "start_time": "2023-02-14T12:39:17.407Z"
   },
   {
    "duration": 10,
    "start_time": "2023-02-14T12:39:17.439Z"
   },
   {
    "duration": 45,
    "start_time": "2023-02-14T12:39:17.451Z"
   },
   {
    "duration": 4,
    "start_time": "2023-02-14T12:39:17.497Z"
   },
   {
    "duration": 23,
    "start_time": "2023-02-14T12:39:17.502Z"
   },
   {
    "duration": 10,
    "start_time": "2023-02-14T12:39:17.527Z"
   },
   {
    "duration": 18,
    "start_time": "2023-02-14T12:39:17.539Z"
   },
   {
    "duration": 29,
    "start_time": "2023-02-14T12:39:17.559Z"
   },
   {
    "duration": 31,
    "start_time": "2023-02-14T12:39:17.590Z"
   },
   {
    "duration": 173,
    "start_time": "2023-02-14T12:39:17.623Z"
   },
   {
    "duration": 4,
    "start_time": "2023-02-14T12:39:17.798Z"
   },
   {
    "duration": 167,
    "start_time": "2023-02-14T12:39:17.804Z"
   },
   {
    "duration": 182,
    "start_time": "2023-02-14T12:39:17.972Z"
   },
   {
    "duration": 255,
    "start_time": "2023-02-14T12:39:18.156Z"
   },
   {
    "duration": 5,
    "start_time": "2023-02-14T12:39:18.412Z"
   },
   {
    "duration": 24,
    "start_time": "2023-02-14T12:39:18.418Z"
   },
   {
    "duration": 31,
    "start_time": "2023-02-14T12:39:18.444Z"
   },
   {
    "duration": 32,
    "start_time": "2023-02-14T12:39:18.477Z"
   },
   {
    "duration": 252,
    "start_time": "2023-02-14T12:39:18.511Z"
   },
   {
    "duration": 293,
    "start_time": "2023-02-14T12:39:18.765Z"
   },
   {
    "duration": 297,
    "start_time": "2023-02-14T12:39:19.060Z"
   },
   {
    "duration": 15,
    "start_time": "2023-02-14T12:49:23.851Z"
   },
   {
    "duration": 13,
    "start_time": "2023-02-14T12:49:26.459Z"
   },
   {
    "duration": 13,
    "start_time": "2023-02-14T12:49:32.419Z"
   },
   {
    "duration": 3,
    "start_time": "2023-02-14T12:49:47.928Z"
   },
   {
    "duration": 100,
    "start_time": "2023-02-14T12:49:47.935Z"
   },
   {
    "duration": 38,
    "start_time": "2023-02-14T12:49:48.037Z"
   },
   {
    "duration": 18,
    "start_time": "2023-02-14T12:49:48.077Z"
   },
   {
    "duration": 13,
    "start_time": "2023-02-14T12:49:48.097Z"
   },
   {
    "duration": 6,
    "start_time": "2023-02-14T12:49:48.112Z"
   },
   {
    "duration": 23,
    "start_time": "2023-02-14T12:49:48.120Z"
   },
   {
    "duration": 36,
    "start_time": "2023-02-14T12:49:48.145Z"
   },
   {
    "duration": 6,
    "start_time": "2023-02-14T12:49:48.183Z"
   },
   {
    "duration": 17,
    "start_time": "2023-02-14T12:49:48.190Z"
   },
   {
    "duration": 16,
    "start_time": "2023-02-14T12:49:48.210Z"
   },
   {
    "duration": 17,
    "start_time": "2023-02-14T12:49:48.227Z"
   },
   {
    "duration": 39,
    "start_time": "2023-02-14T12:49:48.246Z"
   },
   {
    "duration": 17,
    "start_time": "2023-02-14T12:49:48.288Z"
   },
   {
    "duration": 12,
    "start_time": "2023-02-14T12:49:48.306Z"
   },
   {
    "duration": 8,
    "start_time": "2023-02-14T12:49:48.319Z"
   },
   {
    "duration": 7,
    "start_time": "2023-02-14T12:49:48.329Z"
   },
   {
    "duration": 7,
    "start_time": "2023-02-14T12:49:48.338Z"
   },
   {
    "duration": 37,
    "start_time": "2023-02-14T12:49:48.347Z"
   },
   {
    "duration": 29,
    "start_time": "2023-02-14T12:49:48.386Z"
   },
   {
    "duration": 7,
    "start_time": "2023-02-14T12:49:48.417Z"
   },
   {
    "duration": 22,
    "start_time": "2023-02-14T12:49:48.425Z"
   },
   {
    "duration": 11,
    "start_time": "2023-02-14T12:49:48.448Z"
   },
   {
    "duration": 26,
    "start_time": "2023-02-14T12:49:48.460Z"
   },
   {
    "duration": 17,
    "start_time": "2023-02-14T12:49:48.488Z"
   },
   {
    "duration": 27,
    "start_time": "2023-02-14T12:49:48.507Z"
   },
   {
    "duration": 28,
    "start_time": "2023-02-14T12:49:48.538Z"
   },
   {
    "duration": 21,
    "start_time": "2023-02-14T12:49:48.582Z"
   },
   {
    "duration": 16,
    "start_time": "2023-02-14T12:49:48.606Z"
   },
   {
    "duration": 70,
    "start_time": "2023-02-14T12:49:48.624Z"
   },
   {
    "duration": 10,
    "start_time": "2023-02-14T12:49:48.697Z"
   },
   {
    "duration": 44,
    "start_time": "2023-02-14T12:49:48.710Z"
   },
   {
    "duration": 4,
    "start_time": "2023-02-14T12:49:48.781Z"
   },
   {
    "duration": 21,
    "start_time": "2023-02-14T12:49:48.787Z"
   },
   {
    "duration": 7,
    "start_time": "2023-02-14T12:49:48.809Z"
   },
   {
    "duration": 16,
    "start_time": "2023-02-14T12:49:48.818Z"
   },
   {
    "duration": 20,
    "start_time": "2023-02-14T12:49:48.836Z"
   },
   {
    "duration": 52,
    "start_time": "2023-02-14T12:49:48.858Z"
   },
   {
    "duration": 191,
    "start_time": "2023-02-14T12:49:48.912Z"
   },
   {
    "duration": 5,
    "start_time": "2023-02-14T12:49:49.106Z"
   },
   {
    "duration": 165,
    "start_time": "2023-02-14T12:49:49.113Z"
   },
   {
    "duration": 191,
    "start_time": "2023-02-14T12:49:49.279Z"
   },
   {
    "duration": 291,
    "start_time": "2023-02-14T12:49:49.472Z"
   },
   {
    "duration": 5,
    "start_time": "2023-02-14T12:49:49.764Z"
   },
   {
    "duration": 14,
    "start_time": "2023-02-14T12:49:49.771Z"
   },
   {
    "duration": 8,
    "start_time": "2023-02-14T12:49:49.787Z"
   },
   {
    "duration": 15,
    "start_time": "2023-02-14T12:49:49.797Z"
   },
   {
    "duration": 265,
    "start_time": "2023-02-14T12:49:49.813Z"
   },
   {
    "duration": 221,
    "start_time": "2023-02-14T12:49:50.079Z"
   },
   {
    "duration": 306,
    "start_time": "2023-02-14T12:49:50.302Z"
   },
   {
    "duration": 7,
    "start_time": "2023-02-14T12:59:25.751Z"
   },
   {
    "duration": 53,
    "start_time": "2023-02-14T13:01:22.633Z"
   },
   {
    "duration": 35,
    "start_time": "2023-02-14T13:02:35.919Z"
   },
   {
    "duration": 21,
    "start_time": "2023-02-14T13:09:54.562Z"
   },
   {
    "duration": 21,
    "start_time": "2023-02-14T13:12:13.004Z"
   },
   {
    "duration": 4,
    "start_time": "2023-02-14T13:21:02.277Z"
   },
   {
    "duration": 81,
    "start_time": "2023-02-14T13:21:42.073Z"
   },
   {
    "duration": 69,
    "start_time": "2023-02-14T13:21:53.889Z"
   },
   {
    "duration": 4,
    "start_time": "2023-02-14T13:23:24.292Z"
   },
   {
    "duration": 39,
    "start_time": "2023-02-14T13:23:45.828Z"
   },
   {
    "duration": 5,
    "start_time": "2023-02-14T13:23:51.738Z"
   },
   {
    "duration": 249,
    "start_time": "2023-02-14T13:27:40.625Z"
   },
   {
    "duration": 3,
    "start_time": "2023-02-14T13:45:03.495Z"
   },
   {
    "duration": 96,
    "start_time": "2023-02-14T13:45:03.500Z"
   },
   {
    "duration": 37,
    "start_time": "2023-02-14T13:45:03.598Z"
   },
   {
    "duration": 14,
    "start_time": "2023-02-14T13:45:03.637Z"
   },
   {
    "duration": 13,
    "start_time": "2023-02-14T13:45:03.653Z"
   },
   {
    "duration": 8,
    "start_time": "2023-02-14T13:45:03.668Z"
   },
   {
    "duration": 23,
    "start_time": "2023-02-14T13:45:03.678Z"
   },
   {
    "duration": 4,
    "start_time": "2023-02-14T13:45:03.702Z"
   },
   {
    "duration": 11,
    "start_time": "2023-02-14T13:45:03.708Z"
   },
   {
    "duration": 17,
    "start_time": "2023-02-14T13:45:03.720Z"
   },
   {
    "duration": 28,
    "start_time": "2023-02-14T13:45:03.741Z"
   },
   {
    "duration": 17,
    "start_time": "2023-02-14T13:45:03.771Z"
   },
   {
    "duration": 22,
    "start_time": "2023-02-14T13:45:03.789Z"
   },
   {
    "duration": 38,
    "start_time": "2023-02-14T13:45:03.812Z"
   },
   {
    "duration": 24,
    "start_time": "2023-02-14T13:45:03.852Z"
   },
   {
    "duration": 14,
    "start_time": "2023-02-14T13:45:03.878Z"
   },
   {
    "duration": 13,
    "start_time": "2023-02-14T13:45:03.894Z"
   },
   {
    "duration": 12,
    "start_time": "2023-02-14T13:45:03.908Z"
   },
   {
    "duration": 30,
    "start_time": "2023-02-14T13:45:03.921Z"
   },
   {
    "duration": 26,
    "start_time": "2023-02-14T13:45:03.952Z"
   },
   {
    "duration": 17,
    "start_time": "2023-02-14T13:45:03.980Z"
   },
   {
    "duration": 20,
    "start_time": "2023-02-14T13:45:03.999Z"
   },
   {
    "duration": 12,
    "start_time": "2023-02-14T13:45:04.020Z"
   },
   {
    "duration": 8,
    "start_time": "2023-02-14T13:45:04.033Z"
   },
   {
    "duration": 20,
    "start_time": "2023-02-14T13:45:04.042Z"
   },
   {
    "duration": 30,
    "start_time": "2023-02-14T13:45:04.063Z"
   },
   {
    "duration": 26,
    "start_time": "2023-02-14T13:45:04.094Z"
   },
   {
    "duration": 12,
    "start_time": "2023-02-14T13:45:04.121Z"
   },
   {
    "duration": 9,
    "start_time": "2023-02-14T13:45:04.136Z"
   },
   {
    "duration": 51,
    "start_time": "2023-02-14T13:45:04.147Z"
   },
   {
    "duration": 7,
    "start_time": "2023-02-14T13:45:04.200Z"
   },
   {
    "duration": 30,
    "start_time": "2023-02-14T13:45:04.209Z"
   },
   {
    "duration": 5,
    "start_time": "2023-02-14T13:45:04.240Z"
   },
   {
    "duration": 53,
    "start_time": "2023-02-14T13:45:04.246Z"
   },
   {
    "duration": 9,
    "start_time": "2023-02-14T13:45:04.301Z"
   },
   {
    "duration": 15,
    "start_time": "2023-02-14T13:45:04.312Z"
   },
   {
    "duration": 20,
    "start_time": "2023-02-14T13:45:04.329Z"
   },
   {
    "duration": 33,
    "start_time": "2023-02-14T13:45:04.351Z"
   },
   {
    "duration": 167,
    "start_time": "2023-02-14T13:45:04.386Z"
   },
   {
    "duration": 5,
    "start_time": "2023-02-14T13:45:04.554Z"
   },
   {
    "duration": 152,
    "start_time": "2023-02-14T13:45:04.562Z"
   },
   {
    "duration": 179,
    "start_time": "2023-02-14T13:45:04.715Z"
   },
   {
    "duration": 285,
    "start_time": "2023-02-14T13:45:04.896Z"
   },
   {
    "duration": 5,
    "start_time": "2023-02-14T13:45:05.183Z"
   },
   {
    "duration": 8,
    "start_time": "2023-02-14T13:45:05.190Z"
   },
   {
    "duration": 11,
    "start_time": "2023-02-14T13:45:05.200Z"
   },
   {
    "duration": 8,
    "start_time": "2023-02-14T13:45:05.213Z"
   },
   {
    "duration": 264,
    "start_time": "2023-02-14T13:45:05.223Z"
   },
   {
    "duration": 218,
    "start_time": "2023-02-14T13:45:05.489Z"
   },
   {
    "duration": 295,
    "start_time": "2023-02-14T13:45:05.709Z"
   },
   {
    "duration": 4,
    "start_time": "2023-02-14T13:47:23.416Z"
   },
   {
    "duration": 2,
    "start_time": "2023-02-14T13:49:58.984Z"
   },
   {
    "duration": 93,
    "start_time": "2023-02-14T13:49:58.989Z"
   },
   {
    "duration": 37,
    "start_time": "2023-02-14T13:49:59.084Z"
   },
   {
    "duration": 17,
    "start_time": "2023-02-14T13:49:59.123Z"
   },
   {
    "duration": 12,
    "start_time": "2023-02-14T13:49:59.142Z"
   },
   {
    "duration": 184,
    "start_time": "2023-02-14T13:49:59.155Z"
   },
   {
    "duration": 24,
    "start_time": "2023-02-14T13:49:59.341Z"
   },
   {
    "duration": 5,
    "start_time": "2023-02-14T13:49:59.366Z"
   },
   {
    "duration": 19,
    "start_time": "2023-02-14T13:49:59.373Z"
   },
   {
    "duration": 29,
    "start_time": "2023-02-14T13:49:59.394Z"
   },
   {
    "duration": 22,
    "start_time": "2023-02-14T13:49:59.427Z"
   },
   {
    "duration": 22,
    "start_time": "2023-02-14T13:49:59.451Z"
   },
   {
    "duration": 10,
    "start_time": "2023-02-14T13:49:59.475Z"
   },
   {
    "duration": 16,
    "start_time": "2023-02-14T13:49:59.487Z"
   },
   {
    "duration": 10,
    "start_time": "2023-02-14T13:49:59.504Z"
   },
   {
    "duration": 11,
    "start_time": "2023-02-14T13:49:59.516Z"
   },
   {
    "duration": 11,
    "start_time": "2023-02-14T13:49:59.529Z"
   },
   {
    "duration": 7,
    "start_time": "2023-02-14T13:49:59.542Z"
   },
   {
    "duration": 37,
    "start_time": "2023-02-14T13:49:59.551Z"
   },
   {
    "duration": 21,
    "start_time": "2023-02-14T13:49:59.590Z"
   },
   {
    "duration": 7,
    "start_time": "2023-02-14T13:49:59.614Z"
   },
   {
    "duration": 5,
    "start_time": "2023-02-14T13:49:59.623Z"
   },
   {
    "duration": 7,
    "start_time": "2023-02-14T13:49:59.630Z"
   },
   {
    "duration": 8,
    "start_time": "2023-02-14T13:49:59.639Z"
   },
   {
    "duration": 33,
    "start_time": "2023-02-14T13:49:59.649Z"
   },
   {
    "duration": 27,
    "start_time": "2023-02-14T13:49:59.684Z"
   },
   {
    "duration": 26,
    "start_time": "2023-02-14T13:49:59.713Z"
   },
   {
    "duration": 12,
    "start_time": "2023-02-14T13:49:59.741Z"
   },
   {
    "duration": 8,
    "start_time": "2023-02-14T13:49:59.781Z"
   },
   {
    "duration": 28,
    "start_time": "2023-02-14T13:49:59.791Z"
   },
   {
    "duration": 7,
    "start_time": "2023-02-14T13:49:59.820Z"
   },
   {
    "duration": 63,
    "start_time": "2023-02-14T13:49:59.828Z"
   },
   {
    "duration": 15,
    "start_time": "2023-02-14T13:49:59.892Z"
   },
   {
    "duration": 18,
    "start_time": "2023-02-14T13:49:59.908Z"
   },
   {
    "duration": 11,
    "start_time": "2023-02-14T13:49:59.928Z"
   },
   {
    "duration": 14,
    "start_time": "2023-02-14T13:49:59.940Z"
   },
   {
    "duration": 30,
    "start_time": "2023-02-14T13:49:59.956Z"
   },
   {
    "duration": 58,
    "start_time": "2023-02-14T13:49:59.988Z"
   },
   {
    "duration": 166,
    "start_time": "2023-02-14T13:50:00.048Z"
   },
   {
    "duration": 4,
    "start_time": "2023-02-14T13:50:00.216Z"
   },
   {
    "duration": 161,
    "start_time": "2023-02-14T13:50:00.222Z"
   },
   {
    "duration": 283,
    "start_time": "2023-02-14T13:50:00.385Z"
   },
   {
    "duration": 288,
    "start_time": "2023-02-14T13:50:00.670Z"
   },
   {
    "duration": 5,
    "start_time": "2023-02-14T13:50:00.960Z"
   },
   {
    "duration": 18,
    "start_time": "2023-02-14T13:50:00.967Z"
   },
   {
    "duration": 64,
    "start_time": "2023-02-14T13:50:00.987Z"
   },
   {
    "duration": 27,
    "start_time": "2023-02-14T13:50:01.052Z"
   },
   {
    "duration": 292,
    "start_time": "2023-02-14T13:50:01.081Z"
   },
   {
    "duration": 227,
    "start_time": "2023-02-14T13:50:01.375Z"
   },
   {
    "duration": 298,
    "start_time": "2023-02-14T13:50:01.604Z"
   },
   {
    "duration": 687,
    "start_time": "2023-02-14T14:07:11.320Z"
   },
   {
    "duration": 83,
    "start_time": "2023-02-14T14:07:12.009Z"
   },
   {
    "duration": 30,
    "start_time": "2023-02-14T14:07:12.094Z"
   },
   {
    "duration": 16,
    "start_time": "2023-02-14T14:07:12.125Z"
   },
   {
    "duration": 11,
    "start_time": "2023-02-14T14:07:12.143Z"
   },
   {
    "duration": 5,
    "start_time": "2023-02-14T14:07:12.156Z"
   },
   {
    "duration": 20,
    "start_time": "2023-02-14T14:07:12.163Z"
   },
   {
    "duration": 4,
    "start_time": "2023-02-14T14:07:12.185Z"
   },
   {
    "duration": 7,
    "start_time": "2023-02-14T14:07:12.190Z"
   },
   {
    "duration": 13,
    "start_time": "2023-02-14T14:07:12.198Z"
   },
   {
    "duration": 40,
    "start_time": "2023-02-14T14:07:12.213Z"
   },
   {
    "duration": 16,
    "start_time": "2023-02-14T14:07:12.255Z"
   },
   {
    "duration": 10,
    "start_time": "2023-02-14T14:07:12.273Z"
   },
   {
    "duration": 17,
    "start_time": "2023-02-14T14:07:12.286Z"
   },
   {
    "duration": 9,
    "start_time": "2023-02-14T14:07:12.305Z"
   },
   {
    "duration": 38,
    "start_time": "2023-02-14T14:07:12.315Z"
   },
   {
    "duration": 7,
    "start_time": "2023-02-14T14:07:12.355Z"
   },
   {
    "duration": 6,
    "start_time": "2023-02-14T14:07:12.364Z"
   },
   {
    "duration": 17,
    "start_time": "2023-02-14T14:07:12.372Z"
   },
   {
    "duration": 75,
    "start_time": "2023-02-14T14:07:12.391Z"
   },
   {
    "duration": 7,
    "start_time": "2023-02-14T14:07:12.468Z"
   },
   {
    "duration": 17,
    "start_time": "2023-02-14T14:07:12.477Z"
   },
   {
    "duration": 4,
    "start_time": "2023-02-14T14:07:12.496Z"
   },
   {
    "duration": 9,
    "start_time": "2023-02-14T14:07:12.501Z"
   },
   {
    "duration": 14,
    "start_time": "2023-02-14T14:07:12.511Z"
   },
   {
    "duration": 40,
    "start_time": "2023-02-14T14:07:12.527Z"
   },
   {
    "duration": 26,
    "start_time": "2023-02-14T14:07:12.569Z"
   },
   {
    "duration": 12,
    "start_time": "2023-02-14T14:07:12.597Z"
   },
   {
    "duration": 7,
    "start_time": "2023-02-14T14:07:12.611Z"
   },
   {
    "duration": 54,
    "start_time": "2023-02-14T14:07:12.620Z"
   },
   {
    "duration": 6,
    "start_time": "2023-02-14T14:07:12.675Z"
   },
   {
    "duration": 27,
    "start_time": "2023-02-14T14:07:12.682Z"
   },
   {
    "duration": 4,
    "start_time": "2023-02-14T14:07:12.711Z"
   },
   {
    "duration": 47,
    "start_time": "2023-02-14T14:07:12.716Z"
   },
   {
    "duration": 4,
    "start_time": "2023-02-14T14:07:12.765Z"
   },
   {
    "duration": 18,
    "start_time": "2023-02-14T14:07:12.771Z"
   },
   {
    "duration": 20,
    "start_time": "2023-02-14T14:07:12.791Z"
   },
   {
    "duration": 44,
    "start_time": "2023-02-14T14:07:12.813Z"
   },
   {
    "duration": 176,
    "start_time": "2023-02-14T14:07:12.859Z"
   },
   {
    "duration": 4,
    "start_time": "2023-02-14T14:07:13.037Z"
   },
   {
    "duration": 143,
    "start_time": "2023-02-14T14:07:13.055Z"
   },
   {
    "duration": 168,
    "start_time": "2023-02-14T14:07:13.199Z"
   },
   {
    "duration": 343,
    "start_time": "2023-02-14T14:07:13.369Z"
   },
   {
    "duration": 4,
    "start_time": "2023-02-14T14:07:13.714Z"
   },
   {
    "duration": 7,
    "start_time": "2023-02-14T14:07:13.720Z"
   },
   {
    "duration": 43,
    "start_time": "2023-02-14T14:07:13.728Z"
   },
   {
    "duration": 9,
    "start_time": "2023-02-14T14:07:13.774Z"
   },
   {
    "duration": 238,
    "start_time": "2023-02-14T14:07:13.785Z"
   },
   {
    "duration": 365,
    "start_time": "2023-02-14T14:07:14.025Z"
   },
   {
    "duration": 686,
    "start_time": "2023-02-14T14:07:14.391Z"
   },
   {
    "duration": 74,
    "start_time": "2023-02-14T14:34:32.902Z"
   },
   {
    "duration": 280,
    "start_time": "2023-02-14T14:35:14.405Z"
   },
   {
    "duration": 38,
    "start_time": "2023-02-14T14:35:31.242Z"
   },
   {
    "duration": 2,
    "start_time": "2023-02-14T14:35:44.436Z"
   },
   {
    "duration": 87,
    "start_time": "2023-02-14T14:35:44.442Z"
   },
   {
    "duration": 37,
    "start_time": "2023-02-14T14:35:44.531Z"
   },
   {
    "duration": 21,
    "start_time": "2023-02-14T14:35:44.570Z"
   },
   {
    "duration": 15,
    "start_time": "2023-02-14T14:35:44.597Z"
   },
   {
    "duration": 12,
    "start_time": "2023-02-14T14:35:44.614Z"
   },
   {
    "duration": 24,
    "start_time": "2023-02-14T14:35:44.628Z"
   },
   {
    "duration": 8,
    "start_time": "2023-02-14T14:35:44.654Z"
   },
   {
    "duration": 8,
    "start_time": "2023-02-14T14:35:44.664Z"
   },
   {
    "duration": 24,
    "start_time": "2023-02-14T14:35:44.674Z"
   },
   {
    "duration": 16,
    "start_time": "2023-02-14T14:35:44.701Z"
   },
   {
    "duration": 15,
    "start_time": "2023-02-14T14:35:44.719Z"
   },
   {
    "duration": 9,
    "start_time": "2023-02-14T14:35:44.736Z"
   },
   {
    "duration": 50,
    "start_time": "2023-02-14T14:35:44.746Z"
   },
   {
    "duration": 17,
    "start_time": "2023-02-14T14:35:44.800Z"
   },
   {
    "duration": 14,
    "start_time": "2023-02-14T14:35:44.819Z"
   },
   {
    "duration": 10,
    "start_time": "2023-02-14T14:35:44.835Z"
   },
   {
    "duration": 7,
    "start_time": "2023-02-14T14:35:44.847Z"
   },
   {
    "duration": 12,
    "start_time": "2023-02-14T14:35:44.856Z"
   },
   {
    "duration": 20,
    "start_time": "2023-02-14T14:35:44.888Z"
   },
   {
    "duration": 6,
    "start_time": "2023-02-14T14:35:44.911Z"
   },
   {
    "duration": 11,
    "start_time": "2023-02-14T14:35:44.919Z"
   },
   {
    "duration": 7,
    "start_time": "2023-02-14T14:35:44.932Z"
   },
   {
    "duration": 7,
    "start_time": "2023-02-14T14:35:44.940Z"
   },
   {
    "duration": 13,
    "start_time": "2023-02-14T14:35:44.948Z"
   },
   {
    "duration": 48,
    "start_time": "2023-02-14T14:35:44.962Z"
   },
   {
    "duration": 42,
    "start_time": "2023-02-14T14:35:45.012Z"
   },
   {
    "duration": 14,
    "start_time": "2023-02-14T14:35:45.056Z"
   },
   {
    "duration": 21,
    "start_time": "2023-02-14T14:35:45.074Z"
   },
   {
    "duration": 38,
    "start_time": "2023-02-14T14:35:45.098Z"
   },
   {
    "duration": 29,
    "start_time": "2023-02-14T14:35:45.137Z"
   },
   {
    "duration": 57,
    "start_time": "2023-02-14T14:35:45.168Z"
   },
   {
    "duration": 4,
    "start_time": "2023-02-14T14:35:45.227Z"
   },
   {
    "duration": 40,
    "start_time": "2023-02-14T14:35:45.232Z"
   },
   {
    "duration": 53,
    "start_time": "2023-02-14T14:35:45.274Z"
   },
   {
    "duration": 30,
    "start_time": "2023-02-14T14:35:45.329Z"
   },
   {
    "duration": 32,
    "start_time": "2023-02-14T14:35:45.361Z"
   },
   {
    "duration": 50,
    "start_time": "2023-02-14T14:35:45.395Z"
   },
   {
    "duration": 173,
    "start_time": "2023-02-14T14:35:45.447Z"
   },
   {
    "duration": 4,
    "start_time": "2023-02-14T14:35:45.622Z"
   },
   {
    "duration": 170,
    "start_time": "2023-02-14T14:35:45.628Z"
   },
   {
    "duration": 194,
    "start_time": "2023-02-14T14:35:45.800Z"
   },
   {
    "duration": 300,
    "start_time": "2023-02-14T14:35:45.996Z"
   },
   {
    "duration": 4,
    "start_time": "2023-02-14T14:35:46.298Z"
   },
   {
    "duration": 8,
    "start_time": "2023-02-14T14:35:46.304Z"
   },
   {
    "duration": 10,
    "start_time": "2023-02-14T14:35:46.314Z"
   },
   {
    "duration": 13,
    "start_time": "2023-02-14T14:35:46.326Z"
   },
   {
    "duration": 287,
    "start_time": "2023-02-14T14:35:46.341Z"
   },
   {
    "duration": 363,
    "start_time": "2023-02-14T14:35:46.630Z"
   },
   {
    "duration": 305,
    "start_time": "2023-02-14T14:35:46.995Z"
   }
  ],
  "colab": {
   "name": "DA+. Сборный проект 1. Шаблон (1).ipynb",
   "provenance": []
  },
  "kernelspec": {
   "display_name": "Python 3 (ipykernel)",
   "language": "python",
   "name": "python3"
  },
  "language_info": {
   "codemirror_mode": {
    "name": "ipython",
    "version": 3
   },
   "file_extension": ".py",
   "mimetype": "text/x-python",
   "name": "python",
   "nbconvert_exporter": "python",
   "pygments_lexer": "ipython3",
   "version": "3.9.5"
  },
  "toc": {
   "base_numbering": 1,
   "nav_menu": {},
   "number_sections": true,
   "sideBar": true,
   "skip_h1_title": true,
   "title_cell": "Table of Contents",
   "title_sidebar": "Contents",
   "toc_cell": false,
   "toc_position": {
    "height": "calc(100% - 180px)",
    "left": "10px",
    "top": "150px",
    "width": "375.382px"
   },
   "toc_section_display": true,
   "toc_window_display": true
  }
 },
 "nbformat": 4,
 "nbformat_minor": 1
}
